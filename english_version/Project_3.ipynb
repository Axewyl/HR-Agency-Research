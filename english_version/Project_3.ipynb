{
  "cells": [
    {
      "attachments": {},
      "cell_type": "markdown",
      "metadata": {
        "id": "yMG_XPwziMUN"
      },
      "source": [
        "# <center> Research of HR agency data using statistical tests in the context of EDA."
      ]
    },
    {
      "attachments": {},
      "cell_type": "markdown",
      "metadata": {
        "id": "EMd2vwh8ihnl"
      },
      "source": [
        "## Problem statement\n",
        "\n",
        "*HR*-the agency studies trends in the labor market in *IT*. The company wants to conduct a study based on data on salaries in the field of *Data Science* for 2020-2022 and get some conclusions.\n",
        "\n",
        "*HR*-The agency wants to answer the following questions regarding salary data in the field of *Data Science*.\n",
        "\n",
        "**Basic research:**\n",
        "\n",
        "* Question-1. Is there an increase in salaries of *Data Scientist* specialists for each year?\n",
        "* Question-2. How do the salaries of *Data Scientist* and *Data Engineer* compare in 2022?\n",
        "* Question-3. How do the salaries of *Data Scientist* and *Data Engineer* specialists in companies of various sizes compare?\n",
        "* Question-4. Is there a connection between the presence of positions *Data Scientist* and *Data Engineer* and the size of the company?\n",
        "\n",
        "**Additional research:**\n",
        "\n",
        "* Question - 5. Is there a dependence of the salary level of a specialist *Data Scientist* depending on work experience (position held)?\n",
        "* Question - 6. Is there a dependence of wages on the type of remoteness of work?\n",
        "\n",
        "\n",
        "Each question must be answered with a significance level of $\\alpha=0.05$.\n",
        "\n",
        "Data on salaries of Data Scientist with indication of characteristics will help us to answer these questions."
      ]
    },
    {
      "attachments": {},
      "cell_type": "markdown",
      "metadata": {
        "id": "xqjB2nBnNNkc"
      },
      "source": [
        "### Description of columns.\n",
        "<br>\n",
        "<table>\n",
        "<tbody>\n",
        "<tr style=\"background-color: #88cdb2; vertical-align: middle; text-transform: uppercase; color: #062425; font-weight: bold;\">\n",
        "<td>Column name</td>\n",
        "<td>Description</td>\n",
        "</tr>\n",
        "<tr>\n",
        "<td style=\"width: 25%;\"><span class=\"code-blue\">work_year</span></td>\n",
        "<td style=\"width: 75%;\">The year in which the salary was paid.</td>\n",
        "</tr>\n",
        "<tr>\n",
        "<td><span class=\"code-blue\">experience_level</span></td>\n",
        "<td>Work experience in this position for a year with the following possible values:\n",
        "<ul style=\"list-style-type: square;\">\n",
        "<ul style=\"list-style-type: square;\">\n",
        "<li><em>EN — Entry-level/Junior;</em></li>\n",
        "<li><em>MI — Mid-level/Intermediate;</em></li>\n",
        "<li><em>SE — Senior-level/Expert;</em></li>\n",
        "<li><em>EX — Executive-level/Director.</em></li>\n",
        "</ul>\n",
        "</ul>\n",
        "</td>\n",
        "</tr>\n",
        "<tr>\n",
        "<td><span class=\"code-blue\">employment_type</span></td>\n",
        "<td>Type of employment for this role:\n",
        "<ul style=\"list-style-type: square;\">\n",
        "<ul style=\"list-style-type: square;\">\n",
        "<li><em>PT</em> — part-time;</li>\n",
        "<li><em>FT</em> — full-time;</li>\n",
        "<li><em>CT</em> — the contract;</li>\n",
        "<li><em>FL</em> — freelance.</li>\n",
        "</ul>\n",
        "</ul>\n",
        "</td>\n",
        "</tr>\n",
        "<tr>\n",
        "<td><span class=\"code-blue\">job_title</span></td>\n",
        "<td>The role in which the applicant worked for a year.</td>\n",
        "</tr>\n",
        "<tr>\n",
        "<td><span class=\"code-blue\">salary</span></td>\n",
        "<td>The total gross amount of wages paid.</td>\n",
        "</tr>\n",
        "<tr>\n",
        "<td><span class=\"code-blue\">salary_currency</span></td>\n",
        "<td>The currency of the salary paid in the form of a currency code. <em>ISO</em> 4217.</td>\n",
        "</tr>\n",
        "<tr>\n",
        "<td><span class=\"code-blue\">salary_in_usd</span></td>\n",
        "<td>Salary in US dollars (the exchange rate divided by the average value of the US dollar for the corresponding year through <em>fxdata.foorilla.com</em>).</td>\n",
        "</tr>\n",
        "<tr>\n",
        "<td><span class=\"code-blue\">employee_residence</span></td>\n",
        "<td>The main country of residence of the employee during the working year in the form of a country code. <em>ISO</em> 3166.</td>\n",
        "</tr>\n",
        "<tr>\n",
        "<td><span class=\"code-blue\">remote_ratio</span></td>\n",
        "<td>The total amount of work performed remotely. Possible values:\n",
        "<ul style=\"list-style-type: square;\">\n",
        "<ul style=\"list-style-type: square;\">\n",
        "<li>0 — there is no remote work (менее 20 %);</li>\n",
        "<li>50 — partially remote work;</li>\n",
        "<li>100 — completely remote work (более 80 %).</li>\n",
        "</ul>\n",
        "</ul>\n",
        "</td>\n",
        "</tr>\n",
        "<tr>\n",
        "<td><span class=\"code-blue\">company_location</span></td>\n",
        "<td>Country of the main office of the employer or a branch under the contract in the form of a country code <em>ISO</em> 3166.</td>\n",
        "</tr>\n",
        "<tr>\n",
        "<td><span class=\"code-blue\">company_size</span></td>\n",
        "<td>Average number of people who worked for the company during the year:\n",
        "<ul style=\"list-style-type: square;\">\n",
        "<ul style=\"list-style-type: square;\">\n",
        "<li><em>S</em> — less than 50 employees (small company);</li>\n",
        "<li><em>M</em> — from 50 to 250 employees (average company);</li>\n",
        "<li><em>L</em> — more than 250 employees (large company).</li>\n",
        "</ul>\n",
        "</ul>\n",
        "</td>\n",
        "</tr>\n",
        "</tbody>\n",
        "</table>\n",
        "\n",
        "Original dataset: [“Data Science Job Salaries” (kaggle.com)](https://www.kaggle.com/datasets/ruchi798/data-science-job-salaries)"
      ]
    },
    {
      "attachments": {},
      "cell_type": "markdown",
      "metadata": {
        "id": "_XMyOg3cgcN1"
      },
      "source": [
        "# I. Data loading and processing"
      ]
    },
    {
      "attachments": {},
      "cell_type": "markdown",
      "metadata": {},
      "source": [
        "### Loading data"
      ]
    },
    {
      "cell_type": "code",
      "execution_count": 256,
      "metadata": {
        "id": "2JjaPf35gyCK"
      },
      "outputs": [],
      "source": [
        "# downloading the necessary libraries\n",
        "import pandas as pd\n",
        "import numpy as np\n",
        "\n",
        "from scipy import stats\n",
        "import statsmodels.api as sm\n",
        "from statsmodels import stats as sms\n",
        "\n",
        "import matplotlib.pyplot as plt\n",
        "import seaborn as sns\n",
        "\n",
        "import wget\n",
        "# we make visual adjustment of graphs\n",
        "sns.set_theme(\"notebook\")\n",
        "sns.set_palette(\"Set2\")"
      ]
    },
    {
      "attachments": {},
      "cell_type": "markdown",
      "metadata": {
        "id": "OxICgu53sO5Q"
      },
      "source": [
        "The data was copied to Google Drive, they are available at [ссылке](https://drive.google.com/file/d/1b_NEk_nrBLhYxBo-DI-TVLRsTIOYvk-r/view)."
      ]
    },
    {
      "cell_type": "code",
      "execution_count": 257,
      "metadata": {
        "colab": {
          "base_uri": "https://localhost:8080/"
        },
        "id": "-Op6Oy7hf5ZM",
        "outputId": "9ea91bf5-b019-43e3-aaf4-94408a78c63f"
      },
      "outputs": [],
      "source": [
        "# Loading the dataset.\n",
        "df_salaries = pd.read_csv('data/ds_salaries.csv')"
      ]
    },
    {
      "cell_type": "code",
      "execution_count": 258,
      "metadata": {},
      "outputs": [
        {
          "data": {
            "text/html": [
              "<div>\n",
              "<style scoped>\n",
              "    .dataframe tbody tr th:only-of-type {\n",
              "        vertical-align: middle;\n",
              "    }\n",
              "\n",
              "    .dataframe tbody tr th {\n",
              "        vertical-align: top;\n",
              "    }\n",
              "\n",
              "    .dataframe thead th {\n",
              "        text-align: right;\n",
              "    }\n",
              "</style>\n",
              "<table border=\"1\" class=\"dataframe\">\n",
              "  <thead>\n",
              "    <tr style=\"text-align: right;\">\n",
              "      <th></th>\n",
              "      <th>work_year</th>\n",
              "      <th>experience_level</th>\n",
              "      <th>employment_type</th>\n",
              "      <th>job_title</th>\n",
              "      <th>salary</th>\n",
              "      <th>salary_currency</th>\n",
              "      <th>salary_in_usd</th>\n",
              "      <th>employee_residence</th>\n",
              "      <th>remote_ratio</th>\n",
              "      <th>company_location</th>\n",
              "      <th>company_size</th>\n",
              "    </tr>\n",
              "  </thead>\n",
              "  <tbody>\n",
              "    <tr>\n",
              "      <th>0</th>\n",
              "      <td>2020</td>\n",
              "      <td>MI</td>\n",
              "      <td>FT</td>\n",
              "      <td>Data Scientist</td>\n",
              "      <td>70000</td>\n",
              "      <td>EUR</td>\n",
              "      <td>79833</td>\n",
              "      <td>DE</td>\n",
              "      <td>0</td>\n",
              "      <td>DE</td>\n",
              "      <td>L</td>\n",
              "    </tr>\n",
              "    <tr>\n",
              "      <th>1</th>\n",
              "      <td>2020</td>\n",
              "      <td>SE</td>\n",
              "      <td>FT</td>\n",
              "      <td>Machine Learning Scientist</td>\n",
              "      <td>260000</td>\n",
              "      <td>USD</td>\n",
              "      <td>260000</td>\n",
              "      <td>JP</td>\n",
              "      <td>0</td>\n",
              "      <td>JP</td>\n",
              "      <td>S</td>\n",
              "    </tr>\n",
              "    <tr>\n",
              "      <th>2</th>\n",
              "      <td>2020</td>\n",
              "      <td>SE</td>\n",
              "      <td>FT</td>\n",
              "      <td>Big Data Engineer</td>\n",
              "      <td>85000</td>\n",
              "      <td>GBP</td>\n",
              "      <td>109024</td>\n",
              "      <td>GB</td>\n",
              "      <td>50</td>\n",
              "      <td>GB</td>\n",
              "      <td>M</td>\n",
              "    </tr>\n",
              "  </tbody>\n",
              "</table>\n",
              "</div>"
            ],
            "text/plain": [
              "   work_year experience_level employment_type                   job_title  \\\n",
              "0       2020               MI              FT              Data Scientist   \n",
              "1       2020               SE              FT  Machine Learning Scientist   \n",
              "2       2020               SE              FT           Big Data Engineer   \n",
              "\n",
              "   salary salary_currency  salary_in_usd employee_residence  remote_ratio  \\\n",
              "0   70000             EUR          79833                 DE             0   \n",
              "1  260000             USD         260000                 JP             0   \n",
              "2   85000             GBP         109024                 GB            50   \n",
              "\n",
              "  company_location company_size  \n",
              "0               DE            L  \n",
              "1               JP            S  \n",
              "2               GB            M  "
            ]
          },
          "execution_count": 258,
          "metadata": {},
          "output_type": "execute_result"
        }
      ],
      "source": [
        "# Delete the unnecessary column \"Unnamed: 0\".\n",
        "df_salaries.drop('Unnamed: 0', axis=1, inplace=True)\n",
        "\n",
        "df_salaries.head(3)"
      ]
    },
    {
      "cell_type": "code",
      "execution_count": 259,
      "metadata": {
        "colab": {
          "base_uri": "https://localhost:8080/"
        },
        "id": "uLEEV6aLomOU",
        "outputId": "23314b21-aa3f-4537-94cb-be776d9427ae"
      },
      "outputs": [
        {
          "name": "stdout",
          "output_type": "stream",
          "text": [
            "Significance level \"alpha\" = 0.05\n"
          ]
        }
      ],
      "source": [
        "# setting the significance level\n",
        "alpha = 0.05\n",
        "print('Significance level \"alpha\" = {:.2f}'.format(alpha))"
      ]
    },
    {
      "attachments": {},
      "cell_type": "markdown",
      "metadata": {
        "id": "c9QRWWOVfV13"
      },
      "source": [
        "###  Descriptive data analysis"
      ]
    },
    {
      "cell_type": "code",
      "execution_count": 260,
      "metadata": {
        "colab": {
          "base_uri": "https://localhost:8080/"
        },
        "id": "zkiOmlAy2XQU",
        "outputId": "88adbac3-0fd7-460c-a368-c40baff97200"
      },
      "outputs": [
        {
          "name": "stdout",
          "output_type": "stream",
          "text": [
            "<class 'pandas.core.frame.DataFrame'>\n",
            "RangeIndex: 607 entries, 0 to 606\n",
            "Data columns (total 11 columns):\n",
            " #   Column              Non-Null Count  Dtype \n",
            "---  ------              --------------  ----- \n",
            " 0   work_year           607 non-null    int64 \n",
            " 1   experience_level    607 non-null    object\n",
            " 2   employment_type     607 non-null    object\n",
            " 3   job_title           607 non-null    object\n",
            " 4   salary              607 non-null    int64 \n",
            " 5   salary_currency     607 non-null    object\n",
            " 6   salary_in_usd       607 non-null    int64 \n",
            " 7   employee_residence  607 non-null    object\n",
            " 8   remote_ratio        607 non-null    int64 \n",
            " 9   company_location    607 non-null    object\n",
            " 10  company_size        607 non-null    object\n",
            "dtypes: int64(4), object(7)\n",
            "memory usage: 52.3+ KB\n"
          ]
        }
      ],
      "source": [
        "df_salaries.info()"
      ]
    },
    {
      "attachments": {},
      "cell_type": "markdown",
      "metadata": {
        "id": "2DSvnZuul7Za"
      },
      "source": [
        "There are 607 records in the dataset, without missing values."
      ]
    },
    {
      "attachments": {},
      "cell_type": "markdown",
      "metadata": {},
      "source": [
        "### Omissions and duplicates, clearing.\n"
      ]
    },
    {
      "attachments": {},
      "cell_type": "markdown",
      "metadata": {
        "id": "Xug87trzl7Za"
      },
      "source": [
        "Let's check the data for complete duplicates:"
      ]
    },
    {
      "cell_type": "code",
      "execution_count": 261,
      "metadata": {
        "colab": {
          "base_uri": "https://localhost:8080/"
        },
        "id": "As_X7I6jl7Za",
        "outputId": "3d3795b3-ab7c-4cc6-ab3d-23a4796a7b5c"
      },
      "outputs": [
        {
          "name": "stdout",
          "output_type": "stream",
          "text": [
            "Number of duplicates: 42\n",
            "Table size after removing duplicates 565\n"
          ]
        }
      ],
      "source": [
        "print('Number of duplicates: {}'\n",
        "      .format(df_salaries[df_salaries.duplicated()].shape[0])\n",
        "      )\n",
        "\n",
        "# Removing duplicates:\n",
        "df_salaries = df_salaries.drop_duplicates()\n",
        "print('Table size after removing duplicates {}'\n",
        "      .format(df_salaries.shape[0])\n",
        "      )"
      ]
    },
    {
      "attachments": {},
      "cell_type": "markdown",
      "metadata": {},
      "source": [
        "### Uninformative signs."
      ]
    },
    {
      "attachments": {},
      "cell_type": "markdown",
      "metadata": {},
      "source": [
        "Consider the salary data from the table *df_salaries*."
      ]
    },
    {
      "cell_type": "code",
      "execution_count": 262,
      "metadata": {},
      "outputs": [
        {
          "data": {
            "text/html": [
              "<div>\n",
              "<style scoped>\n",
              "    .dataframe tbody tr th:only-of-type {\n",
              "        vertical-align: middle;\n",
              "    }\n",
              "\n",
              "    .dataframe tbody tr th {\n",
              "        vertical-align: top;\n",
              "    }\n",
              "\n",
              "    .dataframe thead th {\n",
              "        text-align: right;\n",
              "    }\n",
              "</style>\n",
              "<table border=\"1\" class=\"dataframe\">\n",
              "  <thead>\n",
              "    <tr style=\"text-align: right;\">\n",
              "      <th></th>\n",
              "      <th>salary</th>\n",
              "      <th>salary_currency</th>\n",
              "      <th>salary_in_usd</th>\n",
              "      <th>work_year</th>\n",
              "    </tr>\n",
              "  </thead>\n",
              "  <tbody>\n",
              "    <tr>\n",
              "      <th>0</th>\n",
              "      <td>70000</td>\n",
              "      <td>EUR</td>\n",
              "      <td>79833</td>\n",
              "      <td>2020</td>\n",
              "    </tr>\n",
              "    <tr>\n",
              "      <th>1</th>\n",
              "      <td>260000</td>\n",
              "      <td>USD</td>\n",
              "      <td>260000</td>\n",
              "      <td>2020</td>\n",
              "    </tr>\n",
              "    <tr>\n",
              "      <th>2</th>\n",
              "      <td>85000</td>\n",
              "      <td>GBP</td>\n",
              "      <td>109024</td>\n",
              "      <td>2020</td>\n",
              "    </tr>\n",
              "    <tr>\n",
              "      <th>3</th>\n",
              "      <td>20000</td>\n",
              "      <td>USD</td>\n",
              "      <td>20000</td>\n",
              "      <td>2020</td>\n",
              "    </tr>\n",
              "    <tr>\n",
              "      <th>4</th>\n",
              "      <td>150000</td>\n",
              "      <td>USD</td>\n",
              "      <td>150000</td>\n",
              "      <td>2020</td>\n",
              "    </tr>\n",
              "  </tbody>\n",
              "</table>\n",
              "</div>"
            ],
            "text/plain": [
              "   salary salary_currency  salary_in_usd  work_year\n",
              "0   70000             EUR          79833       2020\n",
              "1  260000             USD         260000       2020\n",
              "2   85000             GBP         109024       2020\n",
              "3   20000             USD          20000       2020\n",
              "4  150000             USD         150000       2020"
            ]
          },
          "execution_count": 262,
          "metadata": {},
          "output_type": "execute_result"
        }
      ],
      "source": [
        "df_salaries[['salary', 'salary_currency',\n",
        "             'salary_in_usd', 'work_year']].head(5)"
      ]
    },
    {
      "attachments": {},
      "cell_type": "markdown",
      "metadata": {},
      "source": [
        "We don't need the *salary* and *salary_currency* columns in the table, because there is a *salary_in_usd* column that shows the salary level in dollars for the year.\n",
        "\n",
        "Create a new column **monthly_salary**, it will show the employee's salary level per month. The extra columns *salary* and *salary_currency*, *salary_in_usd* will be deleted."
      ]
    },
    {
      "cell_type": "code",
      "execution_count": 263,
      "metadata": {},
      "outputs": [],
      "source": [
        "# Создаём новый столбец monthly_salary.\n",
        "df_salaries['monthly_salary'] = df_salaries['salary_in_usd']/12\n",
        "\n",
        "# Приводим столбец к типу данных int.\n",
        "df_salaries['monthly_salary'] = df_salaries['monthly_salary'].astype('int64')\n",
        "\n",
        "# Удаляем столбцы salary и salary_currency, salary_in_usd.\n",
        "df_salaries.drop(['salary', 'salary_currency',\n",
        "                 'salary_in_usd'], axis=1, inplace=True)"
      ]
    },
    {
      "attachments": {},
      "cell_type": "markdown",
      "metadata": {},
      "source": [
        "### Types of features.\n",
        "\n",
        "Classify the signs into numeric and discrete."
      ]
    },
    {
      "cell_type": "code",
      "execution_count": 264,
      "metadata": {},
      "outputs": [
        {
          "data": {
            "text/html": [
              "<div>\n",
              "<style scoped>\n",
              "    .dataframe tbody tr th:only-of-type {\n",
              "        vertical-align: middle;\n",
              "    }\n",
              "\n",
              "    .dataframe tbody tr th {\n",
              "        vertical-align: top;\n",
              "    }\n",
              "\n",
              "    .dataframe thead th {\n",
              "        text-align: right;\n",
              "    }\n",
              "</style>\n",
              "<table border=\"1\" class=\"dataframe\">\n",
              "  <thead>\n",
              "    <tr style=\"text-align: right;\">\n",
              "      <th></th>\n",
              "      <th>work_year</th>\n",
              "      <th>remote_ratio</th>\n",
              "      <th>monthly_salary</th>\n",
              "    </tr>\n",
              "  </thead>\n",
              "  <tbody>\n",
              "    <tr>\n",
              "      <th>count</th>\n",
              "      <td>565.000000</td>\n",
              "      <td>565.000000</td>\n",
              "      <td>565.000000</td>\n",
              "    </tr>\n",
              "    <tr>\n",
              "      <th>mean</th>\n",
              "      <td>2021.364602</td>\n",
              "      <td>69.911504</td>\n",
              "      <td>9217.153982</td>\n",
              "    </tr>\n",
              "    <tr>\n",
              "      <th>std</th>\n",
              "      <td>0.698138</td>\n",
              "      <td>40.900666</td>\n",
              "      <td>6023.448732</td>\n",
              "    </tr>\n",
              "    <tr>\n",
              "      <th>min</th>\n",
              "      <td>2020.000000</td>\n",
              "      <td>0.000000</td>\n",
              "      <td>238.000000</td>\n",
              "    </tr>\n",
              "    <tr>\n",
              "      <th>25%</th>\n",
              "      <td>2021.000000</td>\n",
              "      <td>50.000000</td>\n",
              "      <td>5063.000000</td>\n",
              "    </tr>\n",
              "    <tr>\n",
              "      <th>50%</th>\n",
              "      <td>2021.000000</td>\n",
              "      <td>100.000000</td>\n",
              "      <td>8333.000000</td>\n",
              "    </tr>\n",
              "    <tr>\n",
              "      <th>75%</th>\n",
              "      <td>2022.000000</td>\n",
              "      <td>100.000000</td>\n",
              "      <td>12500.000000</td>\n",
              "    </tr>\n",
              "    <tr>\n",
              "      <th>max</th>\n",
              "      <td>2022.000000</td>\n",
              "      <td>100.000000</td>\n",
              "      <td>50000.000000</td>\n",
              "    </tr>\n",
              "  </tbody>\n",
              "</table>\n",
              "</div>"
            ],
            "text/plain": [
              "         work_year  remote_ratio  monthly_salary\n",
              "count   565.000000    565.000000      565.000000\n",
              "mean   2021.364602     69.911504     9217.153982\n",
              "std       0.698138     40.900666     6023.448732\n",
              "min    2020.000000      0.000000      238.000000\n",
              "25%    2021.000000     50.000000     5063.000000\n",
              "50%    2021.000000    100.000000     8333.000000\n",
              "75%    2022.000000    100.000000    12500.000000\n",
              "max    2022.000000    100.000000    50000.000000"
            ]
          },
          "execution_count": 264,
          "metadata": {},
          "output_type": "execute_result"
        }
      ],
      "source": [
        "df_salaries.describe()"
      ]
    },
    {
      "cell_type": "code",
      "execution_count": 265,
      "metadata": {},
      "outputs": [
        {
          "data": {
            "text/html": [
              "<div>\n",
              "<style scoped>\n",
              "    .dataframe tbody tr th:only-of-type {\n",
              "        vertical-align: middle;\n",
              "    }\n",
              "\n",
              "    .dataframe tbody tr th {\n",
              "        vertical-align: top;\n",
              "    }\n",
              "\n",
              "    .dataframe thead th {\n",
              "        text-align: right;\n",
              "    }\n",
              "</style>\n",
              "<table border=\"1\" class=\"dataframe\">\n",
              "  <thead>\n",
              "    <tr style=\"text-align: right;\">\n",
              "      <th></th>\n",
              "      <th>experience_level</th>\n",
              "      <th>employment_type</th>\n",
              "      <th>job_title</th>\n",
              "      <th>employee_residence</th>\n",
              "      <th>company_location</th>\n",
              "      <th>company_size</th>\n",
              "    </tr>\n",
              "  </thead>\n",
              "  <tbody>\n",
              "    <tr>\n",
              "      <th>count</th>\n",
              "      <td>565</td>\n",
              "      <td>565</td>\n",
              "      <td>565</td>\n",
              "      <td>565</td>\n",
              "      <td>565</td>\n",
              "      <td>565</td>\n",
              "    </tr>\n",
              "    <tr>\n",
              "      <th>unique</th>\n",
              "      <td>4</td>\n",
              "      <td>4</td>\n",
              "      <td>50</td>\n",
              "      <td>57</td>\n",
              "      <td>50</td>\n",
              "      <td>3</td>\n",
              "    </tr>\n",
              "    <tr>\n",
              "      <th>top</th>\n",
              "      <td>SE</td>\n",
              "      <td>FT</td>\n",
              "      <td>Data Scientist</td>\n",
              "      <td>US</td>\n",
              "      <td>US</td>\n",
              "      <td>M</td>\n",
              "    </tr>\n",
              "    <tr>\n",
              "      <th>freq</th>\n",
              "      <td>243</td>\n",
              "      <td>546</td>\n",
              "      <td>130</td>\n",
              "      <td>295</td>\n",
              "      <td>318</td>\n",
              "      <td>290</td>\n",
              "    </tr>\n",
              "  </tbody>\n",
              "</table>\n",
              "</div>"
            ],
            "text/plain": [
              "       experience_level employment_type       job_title employee_residence  \\\n",
              "count               565             565             565                565   \n",
              "unique                4               4              50                 57   \n",
              "top                  SE              FT  Data Scientist                 US   \n",
              "freq                243             546             130                295   \n",
              "\n",
              "       company_location company_size  \n",
              "count               565          565  \n",
              "unique               50            3  \n",
              "top                  US            M  \n",
              "freq                318          290  "
            ]
          },
          "execution_count": 265,
          "metadata": {},
          "output_type": "execute_result"
        }
      ],
      "source": [
        "df_salaries.describe(include='object')"
      ]
    },
    {
      "attachments": {},
      "cell_type": "markdown",
      "metadata": {},
      "source": [
        "Numerical features include *work_ua*, *remote_ratio*, *monthly_salary*. The rest are categorical."
      ]
    },
    {
      "attachments": {},
      "cell_type": "markdown",
      "metadata": {},
      "source": [
        "### Basic statistical characteristics\n",
        "\n",
        "The two tables above show the general statistical characteristics of the features:\n",
        "* **Numerical features** are characterized by an average value, quantiles, minimum and maximum values.\n",
        "* **Categorical features** show how many unique values the string is *unique*, what is the most popular value *top*, as well as how often it occurs *freq*."
      ]
    },
    {
      "attachments": {},
      "cell_type": "markdown",
      "metadata": {},
      "source": [
        "### Data Conversion"
      ]
    },
    {
      "attachments": {},
      "cell_type": "markdown",
      "metadata": {},
      "source": [
        "1. Conversion of the *job_title* attribute.\n",
        "\n",
        "It can be seen from the table above that the *job_title* attribute has 50 different job titles, let's look at them."
      ]
    },
    {
      "cell_type": "code",
      "execution_count": 266,
      "metadata": {},
      "outputs": [
        {
          "data": {
            "text/html": [
              "<div>\n",
              "<style scoped>\n",
              "    .dataframe tbody tr th:only-of-type {\n",
              "        vertical-align: middle;\n",
              "    }\n",
              "\n",
              "    .dataframe tbody tr th {\n",
              "        vertical-align: top;\n",
              "    }\n",
              "\n",
              "    .dataframe thead th {\n",
              "        text-align: right;\n",
              "    }\n",
              "</style>\n",
              "<table border=\"1\" class=\"dataframe\">\n",
              "  <thead>\n",
              "    <tr style=\"text-align: right;\">\n",
              "      <th></th>\n",
              "      <th>Count</th>\n",
              "    </tr>\n",
              "    <tr>\n",
              "      <th>job_title</th>\n",
              "      <th></th>\n",
              "    </tr>\n",
              "  </thead>\n",
              "  <tbody>\n",
              "    <tr>\n",
              "      <th>Data Scientist</th>\n",
              "      <td>130</td>\n",
              "    </tr>\n",
              "    <tr>\n",
              "      <th>Data Engineer</th>\n",
              "      <td>121</td>\n",
              "    </tr>\n",
              "    <tr>\n",
              "      <th>Data Analyst</th>\n",
              "      <td>82</td>\n",
              "    </tr>\n",
              "    <tr>\n",
              "      <th>Machine Learning Engineer</th>\n",
              "      <td>39</td>\n",
              "    </tr>\n",
              "    <tr>\n",
              "      <th>Research Scientist</th>\n",
              "      <td>16</td>\n",
              "    </tr>\n",
              "    <tr>\n",
              "      <th>Data Science Manager</th>\n",
              "      <td>12</td>\n",
              "    </tr>\n",
              "    <tr>\n",
              "      <th>Data Architect</th>\n",
              "      <td>11</td>\n",
              "    </tr>\n",
              "    <tr>\n",
              "      <th>Big Data Engineer</th>\n",
              "      <td>8</td>\n",
              "    </tr>\n",
              "    <tr>\n",
              "      <th>Machine Learning Scientist</th>\n",
              "      <td>8</td>\n",
              "    </tr>\n",
              "    <tr>\n",
              "      <th>Director of Data Science</th>\n",
              "      <td>7</td>\n",
              "    </tr>\n",
              "    <tr>\n",
              "      <th>Data Analytics Manager</th>\n",
              "      <td>7</td>\n",
              "    </tr>\n",
              "    <tr>\n",
              "      <th>AI Scientist</th>\n",
              "      <td>7</td>\n",
              "    </tr>\n",
              "    <tr>\n",
              "      <th>Principal Data Scientist</th>\n",
              "      <td>7</td>\n",
              "    </tr>\n",
              "    <tr>\n",
              "      <th>Data Science Consultant</th>\n",
              "      <td>7</td>\n",
              "    </tr>\n",
              "    <tr>\n",
              "      <th>Lead Data Engineer</th>\n",
              "      <td>6</td>\n",
              "    </tr>\n",
              "  </tbody>\n",
              "</table>\n",
              "</div>"
            ],
            "text/plain": [
              "                            Count\n",
              "job_title                        \n",
              "Data Scientist                130\n",
              "Data Engineer                 121\n",
              "Data Analyst                   82\n",
              "Machine Learning Engineer      39\n",
              "Research Scientist             16\n",
              "Data Science Manager           12\n",
              "Data Architect                 11\n",
              "Big Data Engineer               8\n",
              "Machine Learning Scientist      8\n",
              "Director of Data Science        7\n",
              "Data Analytics Manager          7\n",
              "AI Scientist                    7\n",
              "Principal Data Scientist        7\n",
              "Data Science Consultant         7\n",
              "Lead Data Engineer              6"
            ]
          },
          "execution_count": 266,
          "metadata": {},
          "output_type": "execute_result"
        }
      ],
      "source": [
        "df_salaries[['job_title']].value_counts().head(15).to_frame(name='Count')"
      ]
    },
    {
      "attachments": {},
      "cell_type": "markdown",
      "metadata": {},
      "source": [
        "The top 15 types of jobs are *Data Scientist*, *Data Engineer*, *Data Analyst*, etc. makes up the bulk. Rename the other names of professions as *other*."
      ]
    },
    {
      "cell_type": "code",
      "execution_count": 267,
      "metadata": {},
      "outputs": [],
      "source": [
        "# Преобразование признака 'job_title'.\n",
        "# Создадим список топ-15 профессий\n",
        "data = df_salaries[['job_title']].value_counts().head(15)\n",
        "data = list(data.index)\n",
        "top_15_prof = []\n",
        "for i in range(len(data)):\n",
        "    top_15_prof.append(str(*data[i]))\n",
        "\n",
        "# Переименуем остальные в 'other' не входящие в Top-15 профессий.\n",
        "df_salaries['job_title'] = df_salaries['job_title'].apply(\n",
        "    lambda x: x if x in top_15_prof else 'other')"
      ]
    },
    {
      "attachments": {},
      "cell_type": "markdown",
      "metadata": {},
      "source": [
        "2. Conversion of the attribute *employee_residence* and *company_location*.\n",
        "\n",
        "*employee_residence* there are 57 different names, and *company_location* 50 we will reduce them to 9, the rest we will call *other*.\n",
        "\n",
        "Converting the *employee_residence attribute*:"
      ]
    },
    {
      "cell_type": "code",
      "execution_count": 268,
      "metadata": {},
      "outputs": [],
      "source": [
        "# Conversion of the 'employee_residence' attribute.\n",
        "# Let's create a list of the top 9 countries of residence.\n",
        "data = df_salaries[['employee_residence']].value_counts().head(9)\n",
        "data = list(data.index)\n",
        "top_9_er = []\n",
        "for i in range(len(data)):\n",
        "    top_9_er.append(str(*data[i]))\n",
        "# print(top_9_er)\n",
        "\n",
        "# Rename the rest to 'other' not included in the Top-9 countries of residence.\n",
        "df_salaries['employee_residence'] = df_salaries['employee_residence'].apply(\n",
        "    lambda x: x if x in top_9_er else 'other')"
      ]
    },
    {
      "attachments": {},
      "cell_type": "markdown",
      "metadata": {},
      "source": [
        "Converting the *company_location attribute*:"
      ]
    },
    {
      "cell_type": "code",
      "execution_count": 269,
      "metadata": {},
      "outputs": [],
      "source": [
        "# Conversion of the 'company_location' attribute.\n",
        "# Let's create a list of the top 9 countries of the company's main office.\n",
        "data = df_salaries[['company_location']].value_counts().head(9)\n",
        "data = list(data.index)\n",
        "top_9_cl = []\n",
        "for i in range(len(data)):\n",
        "    top_9_cl.append(str(*data[i]))\n",
        "\n",
        "# Rename the rest to 'other' not included in the Top-9 countries of residence.\n",
        "df_salaries['company_location'] = df_salaries['company_location'].apply(\n",
        "    lambda x: x if x in top_9_cl else 'other')"
      ]
    },
    {
      "cell_type": "code",
      "execution_count": 270,
      "metadata": {},
      "outputs": [
        {
          "data": {
            "text/html": [
              "<div>\n",
              "<style scoped>\n",
              "    .dataframe tbody tr th:only-of-type {\n",
              "        vertical-align: middle;\n",
              "    }\n",
              "\n",
              "    .dataframe tbody tr th {\n",
              "        vertical-align: top;\n",
              "    }\n",
              "\n",
              "    .dataframe thead th {\n",
              "        text-align: right;\n",
              "    }\n",
              "</style>\n",
              "<table border=\"1\" class=\"dataframe\">\n",
              "  <thead>\n",
              "    <tr style=\"text-align: right;\">\n",
              "      <th></th>\n",
              "      <th>experience_level</th>\n",
              "      <th>employment_type</th>\n",
              "      <th>job_title</th>\n",
              "      <th>employee_residence</th>\n",
              "      <th>company_location</th>\n",
              "      <th>company_size</th>\n",
              "    </tr>\n",
              "  </thead>\n",
              "  <tbody>\n",
              "    <tr>\n",
              "      <th>count</th>\n",
              "      <td>565</td>\n",
              "      <td>565</td>\n",
              "      <td>565</td>\n",
              "      <td>565</td>\n",
              "      <td>565</td>\n",
              "      <td>565</td>\n",
              "    </tr>\n",
              "    <tr>\n",
              "      <th>unique</th>\n",
              "      <td>4</td>\n",
              "      <td>4</td>\n",
              "      <td>16</td>\n",
              "      <td>10</td>\n",
              "      <td>10</td>\n",
              "      <td>3</td>\n",
              "    </tr>\n",
              "    <tr>\n",
              "      <th>top</th>\n",
              "      <td>SE</td>\n",
              "      <td>FT</td>\n",
              "      <td>Data Scientist</td>\n",
              "      <td>US</td>\n",
              "      <td>US</td>\n",
              "      <td>M</td>\n",
              "    </tr>\n",
              "    <tr>\n",
              "      <th>freq</th>\n",
              "      <td>243</td>\n",
              "      <td>546</td>\n",
              "      <td>130</td>\n",
              "      <td>295</td>\n",
              "      <td>318</td>\n",
              "      <td>290</td>\n",
              "    </tr>\n",
              "  </tbody>\n",
              "</table>\n",
              "</div>"
            ],
            "text/plain": [
              "       experience_level employment_type       job_title employee_residence  \\\n",
              "count               565             565             565                565   \n",
              "unique                4               4              16                 10   \n",
              "top                  SE              FT  Data Scientist                 US   \n",
              "freq                243             546             130                295   \n",
              "\n",
              "       company_location company_size  \n",
              "count               565          565  \n",
              "unique               10            3  \n",
              "top                  US            M  \n",
              "freq                318          290  "
            ]
          },
          "execution_count": 270,
          "metadata": {},
          "output_type": "execute_result"
        }
      ],
      "source": [
        "df_salaries.describe(include='object')"
      ]
    },
    {
      "attachments": {},
      "cell_type": "markdown",
      "metadata": {},
      "source": [
        "## II. Intelligence Data Analysis"
      ]
    },
    {
      "attachments": {},
      "cell_type": "markdown",
      "metadata": {},
      "source": [
        "### II.1 Visual data analysis"
      ]
    },
    {
      "attachments": {},
      "cell_type": "markdown",
      "metadata": {},
      "source": [
        "#### Basic data analysis for each feature"
      ]
    },
    {
      "attachments": {},
      "cell_type": "markdown",
      "metadata": {
        "id": "6uAbyderTaNx"
      },
      "source": [
        "General level of **Salary** Data Scientist"
      ]
    },
    {
      "cell_type": "code",
      "execution_count": 271,
      "metadata": {},
      "outputs": [
        {
          "data": {
            "text/html": [
              "<div>\n",
              "<style scoped>\n",
              "    .dataframe tbody tr th:only-of-type {\n",
              "        vertical-align: middle;\n",
              "    }\n",
              "\n",
              "    .dataframe tbody tr th {\n",
              "        vertical-align: top;\n",
              "    }\n",
              "\n",
              "    .dataframe thead th {\n",
              "        text-align: right;\n",
              "    }\n",
              "</style>\n",
              "<table border=\"1\" class=\"dataframe\">\n",
              "  <thead>\n",
              "    <tr style=\"text-align: right;\">\n",
              "      <th></th>\n",
              "      <th>The amount of Data Scientist's salary per month</th>\n",
              "    </tr>\n",
              "  </thead>\n",
              "  <tbody>\n",
              "    <tr>\n",
              "      <th>count</th>\n",
              "      <td>565.00</td>\n",
              "    </tr>\n",
              "    <tr>\n",
              "      <th>mean</th>\n",
              "      <td>9217.15</td>\n",
              "    </tr>\n",
              "    <tr>\n",
              "      <th>std</th>\n",
              "      <td>6023.45</td>\n",
              "    </tr>\n",
              "    <tr>\n",
              "      <th>min</th>\n",
              "      <td>238.00</td>\n",
              "    </tr>\n",
              "    <tr>\n",
              "      <th>25%</th>\n",
              "      <td>5063.00</td>\n",
              "    </tr>\n",
              "    <tr>\n",
              "      <th>50%</th>\n",
              "      <td>8333.00</td>\n",
              "    </tr>\n",
              "    <tr>\n",
              "      <th>75%</th>\n",
              "      <td>12500.00</td>\n",
              "    </tr>\n",
              "    <tr>\n",
              "      <th>max</th>\n",
              "      <td>50000.00</td>\n",
              "    </tr>\n",
              "  </tbody>\n",
              "</table>\n",
              "</div>"
            ],
            "text/plain": [
              "       The amount of Data Scientist's salary per month\n",
              "count                                           565.00\n",
              "mean                                           9217.15\n",
              "std                                            6023.45\n",
              "min                                             238.00\n",
              "25%                                            5063.00\n",
              "50%                                            8333.00\n",
              "75%                                           12500.00\n",
              "max                                           50000.00"
            ]
          },
          "execution_count": 271,
          "metadata": {},
          "output_type": "execute_result"
        }
      ],
      "source": [
        "salary_agg = df_salaries['monthly_salary'].describe().round(2).to_frame()\n",
        "salary_agg.columns = [\"The amount of Data Scientist's salary per month\"]\n",
        "salary_agg"
      ]
    },
    {
      "attachments": {},
      "cell_type": "markdown",
      "metadata": {},
      "source": [
        "Let's build a graph for data visualization."
      ]
    },
    {
      "cell_type": "code",
      "execution_count": 272,
      "metadata": {
        "colab": {
          "base_uri": "https://localhost:8080/",
          "height": 496
        },
        "id": "KX6k6B2NWJ8t",
        "outputId": "523d571d-679e-4926-fe74-dc130c6a1b53"
      },
      "outputs": [
        {
          "data": {
            "image/png": "[encoded data removed]",
            "text/plain": [
              "<Figure size 1000x800 with 2 Axes>"
            ]
          },
          "metadata": {},
          "output_type": "display_data"
        }
      ],
      "source": [
        "fig, axes = plt.subplots(2, 1, figsize=(10, 8))\n",
        "\n",
        "sns.histplot(df_salaries['monthly_salary'], kde=True, ax=axes[0])\n",
        "axes[0].set(xlabel='Salary level', ylabel='Frecuency')\n",
        "axes[0].set_title('General salary level of Data Sientist', size=18)\n",
        "axes[0].axvline(df_salaries['monthly_salary'].mean(), color='red',\n",
        "                linestyle='--', linewidth=0.8)\n",
        "\n",
        "sns.boxplot(df_salaries['monthly_salary'], ax=axes[1], orient='h',\n",
        "            medianprops={\"color\": \"red\", \"linestyle\": '--'})\n",
        "axes[1].set(xlabel='Salary amount', ylabel='in total')\n",
        "\n",
        "plt.show()"
      ]
    },
    {
      "attachments": {},
      "cell_type": "markdown",
      "metadata": {},
      "source": [
        "The graph shows that the average salary level varies from 0 to 24,000 dollars per month. The graph has the form of a normal distribution with right-sided asymmetry. The interquartile salary range between the 25th and 75th quantile ranges from $7,500 to $12,000. \n",
        "\n",
        "On the first graph, the red line shows the average value, on the second the median value. They are different from each other, which indicates some deviation from the normal distribution, this will be checked further on tests."
      ]
    },
    {
      "cell_type": "markdown",
      "metadata": {},
      "source": [
        "**What factors affect wages**❓"
      ]
    },
    {
      "attachments": {},
      "cell_type": "markdown",
      "metadata": {},
      "source": [
        "1. A common feature is **work_year**."
      ]
    },
    {
      "cell_type": "code",
      "execution_count": 273,
      "metadata": {},
      "outputs": [
        {
          "data": {
            "text/html": [
              "<div>\n",
              "<style scoped>\n",
              "    .dataframe tbody tr th:only-of-type {\n",
              "        vertical-align: middle;\n",
              "    }\n",
              "\n",
              "    .dataframe tbody tr th {\n",
              "        vertical-align: top;\n",
              "    }\n",
              "\n",
              "    .dataframe thead th {\n",
              "        text-align: right;\n",
              "    }\n",
              "</style>\n",
              "<table border=\"1\" class=\"dataframe\">\n",
              "  <thead>\n",
              "    <tr style=\"text-align: right;\">\n",
              "      <th></th>\n",
              "      <th>Number of professions</th>\n",
              "    </tr>\n",
              "  </thead>\n",
              "  <tbody>\n",
              "    <tr>\n",
              "      <th>2022</th>\n",
              "      <td>278</td>\n",
              "    </tr>\n",
              "    <tr>\n",
              "      <th>2021</th>\n",
              "      <td>215</td>\n",
              "    </tr>\n",
              "    <tr>\n",
              "      <th>2020</th>\n",
              "      <td>72</td>\n",
              "    </tr>\n",
              "  </tbody>\n",
              "</table>\n",
              "</div>"
            ],
            "text/plain": [
              "      Number of professions\n",
              "2022                    278\n",
              "2021                    215\n",
              "2020                     72"
            ]
          },
          "execution_count": 273,
          "metadata": {},
          "output_type": "execute_result"
        }
      ],
      "source": [
        "# Creating a year-by-year table with the number of professions in our DataFrame.\n",
        "data = df_salaries['work_year'].value_counts().to_frame()\n",
        "data.columns = ['Number of professions']\n",
        "data"
      ]
    },
    {
      "cell_type": "code",
      "execution_count": 274,
      "metadata": {},
      "outputs": [
        {
          "data": {
            "image/png": "[encoded data removed]",
            "text/plain": [
              "<Figure size 640x480 with 1 Axes>"
            ]
          },
          "metadata": {},
          "output_type": "display_data"
        }
      ],
      "source": [
        "ax = sns.barplot(y=data['Number of professions'], x=data.index)\n",
        "ax.set(xlabel='Year', ylabel='Frequency')\n",
        "ax.set_title('Number of professions by year of work.', size=15)\n",
        "plt.show()"
      ]
    },
    {
      "attachments": {},
      "cell_type": "markdown",
      "metadata": {
        "id": "cFABAmBjTkCo"
      },
      "source": [
        "Построим график ежегодного рост зарплат у специалистов Data Scientist и узнаем если зависмость уровня зарплаты от года работы."
      ]
    },
    {
      "cell_type": "code",
      "execution_count": 275,
      "metadata": {
        "colab": {
          "base_uri": "https://localhost:8080/",
          "height": 480
        },
        "id": "a06HKS1bwzsS",
        "outputId": "e4aa3e1a-71d3-4df3-8857-3f9f4342fa18"
      },
      "outputs": [
        {
          "data": {
            "image/png": "[encoded data removed]",
            "text/plain": [
              "<Figure size 640x480 with 1 Axes>"
            ]
          },
          "metadata": {},
          "output_type": "display_data"
        }
      ],
      "source": [
        "# Let's build box diagrams by year.\n",
        "ax = sns.boxplot(df_salaries,  x='monthly_salary', y='work_year', orient='h',\n",
        "                 medianprops={\"color\": \"red\", \"linestyle\": '--'})\n",
        "ax.set(xlabel='The amount of remuneration', ylabel='year')\n",
        "plt.title('The amount of remuneration depending on the year.', size=15)\n",
        "plt.show()"
      ]
    },
    {
      "cell_type": "code",
      "execution_count": 276,
      "metadata": {},
      "outputs": [
        {
          "name": "stdout",
          "output_type": "stream",
          "text": [
            "The amount of salary depending on the year of work.\n"
          ]
        },
        {
          "data": {
            "text/html": [
              "<div>\n",
              "<style scoped>\n",
              "    .dataframe tbody tr th:only-of-type {\n",
              "        vertical-align: middle;\n",
              "    }\n",
              "\n",
              "    .dataframe tbody tr th {\n",
              "        vertical-align: top;\n",
              "    }\n",
              "\n",
              "    .dataframe thead th {\n",
              "        text-align: right;\n",
              "    }\n",
              "</style>\n",
              "<table border=\"1\" class=\"dataframe\">\n",
              "  <thead>\n",
              "    <tr style=\"text-align: right;\">\n",
              "      <th></th>\n",
              "      <th>count</th>\n",
              "      <th>mean</th>\n",
              "      <th>std</th>\n",
              "      <th>min</th>\n",
              "      <th>25%</th>\n",
              "      <th>50%</th>\n",
              "      <th>75%</th>\n",
              "      <th>max</th>\n",
              "    </tr>\n",
              "    <tr>\n",
              "      <th>work_year</th>\n",
              "      <th></th>\n",
              "      <th></th>\n",
              "      <th></th>\n",
              "      <th></th>\n",
              "      <th></th>\n",
              "      <th></th>\n",
              "      <th></th>\n",
              "      <th></th>\n",
              "    </tr>\n",
              "  </thead>\n",
              "  <tbody>\n",
              "    <tr>\n",
              "      <th>2020</th>\n",
              "      <td>72.0</td>\n",
              "      <td>7984.0</td>\n",
              "      <td>6903.0</td>\n",
              "      <td>475.0</td>\n",
              "      <td>3810.0</td>\n",
              "      <td>6295.0</td>\n",
              "      <td>9627.0</td>\n",
              "      <td>37500.0</td>\n",
              "    </tr>\n",
              "    <tr>\n",
              "      <th>2021</th>\n",
              "      <td>215.0</td>\n",
              "      <td>8285.0</td>\n",
              "      <td>6692.0</td>\n",
              "      <td>238.0</td>\n",
              "      <td>4166.0</td>\n",
              "      <td>6877.0</td>\n",
              "      <td>11250.0</td>\n",
              "      <td>50000.0</td>\n",
              "    </tr>\n",
              "    <tr>\n",
              "      <th>2022</th>\n",
              "      <td>278.0</td>\n",
              "      <td>10257.0</td>\n",
              "      <td>4991.0</td>\n",
              "      <td>833.0</td>\n",
              "      <td>6565.0</td>\n",
              "      <td>10000.0</td>\n",
              "      <td>13333.0</td>\n",
              "      <td>33750.0</td>\n",
              "    </tr>\n",
              "  </tbody>\n",
              "</table>\n",
              "</div>"
            ],
            "text/plain": [
              "           count     mean     std    min     25%      50%      75%      max\n",
              "work_year                                                                  \n",
              "2020        72.0   7984.0  6903.0  475.0  3810.0   6295.0   9627.0  37500.0\n",
              "2021       215.0   8285.0  6692.0  238.0  4166.0   6877.0  11250.0  50000.0\n",
              "2022       278.0  10257.0  4991.0  833.0  6565.0  10000.0  13333.0  33750.0"
            ]
          },
          "execution_count": 276,
          "metadata": {},
          "output_type": "execute_result"
        }
      ],
      "source": [
        "# Salary table depending on the year of work.\n",
        "table = df_salaries.groupby('work_year')[\n",
        "    'monthly_salary'].describe().round()\n",
        "print('The amount of salary depending on the year of work.')\n",
        "table"
      ]
    },
    {
      "attachments": {},
      "cell_type": "markdown",
      "metadata": {
        "id": "QnoG6XTK_fOH"
      },
      "source": [
        "**Conclusion:**\n",
        "* the average salary increases from year to year;\n",
        "* the level of *std* standard deviation decreases, which means that the salary value has a more stable and stable position;\n",
        "* *work_year* affects the salary level of a Data Scientist specialist. \n",
        "\n",
        "In order to check whether these differences are statistically significant, we will conduct statistical testing in the next section."
      ]
    },
    {
      "attachments": {},
      "cell_type": "markdown",
      "metadata": {},
      "source": [
        "2. General feature **remote_ratio** (percentage of remote work).\n",
        "Possible values:\n",
        "    - 0 — no remote work (less than 20%);\n",
        "    - 50 — partially remote work;\n",
        "    - 100 — completely remote work (more than 80%)."
      ]
    },
    {
      "cell_type": "code",
      "execution_count": 277,
      "metadata": {},
      "outputs": [
        {
          "data": {
            "text/html": [
              "<div>\n",
              "<style scoped>\n",
              "    .dataframe tbody tr th:only-of-type {\n",
              "        vertical-align: middle;\n",
              "    }\n",
              "\n",
              "    .dataframe tbody tr th {\n",
              "        vertical-align: top;\n",
              "    }\n",
              "\n",
              "    .dataframe thead th {\n",
              "        text-align: right;\n",
              "    }\n",
              "</style>\n",
              "<table border=\"1\" class=\"dataframe\">\n",
              "  <thead>\n",
              "    <tr style=\"text-align: right;\">\n",
              "      <th></th>\n",
              "      <th>frequency</th>\n",
              "      <th>доля в %</th>\n",
              "    </tr>\n",
              "  </thead>\n",
              "  <tbody>\n",
              "    <tr>\n",
              "      <th>0</th>\n",
              "      <td>121</td>\n",
              "      <td>21.0</td>\n",
              "    </tr>\n",
              "    <tr>\n",
              "      <th>50</th>\n",
              "      <td>98</td>\n",
              "      <td>17.0</td>\n",
              "    </tr>\n",
              "    <tr>\n",
              "      <th>100</th>\n",
              "      <td>346</td>\n",
              "      <td>61.0</td>\n",
              "    </tr>\n",
              "  </tbody>\n",
              "</table>\n",
              "</div>"
            ],
            "text/plain": [
              "     frequency  доля в %\n",
              "0          121      21.0\n",
              "50          98      17.0\n",
              "100        346      61.0"
            ]
          },
          "execution_count": 277,
          "metadata": {},
          "output_type": "execute_result"
        }
      ],
      "source": [
        "# Let's build a Data Frame of the remote work attribute.\n",
        "data = df_salaries['remote_ratio'].value_counts().to_frame()\n",
        "data.sort_index(inplace=True)\n",
        "data.columns = ['frequency']\n",
        "data['share in %'] = round((data['frequency']/data['frequency'].sum())*100)\n",
        "data"
      ]
    },
    {
      "attachments": {},
      "cell_type": "markdown",
      "metadata": {},
      "source": [
        "Let's build circular and box-shaped graphs. The first graph will reflect what share remote work takes, and the second how the salary level changes depending on the level of remote work."
      ]
    },
    {
      "cell_type": "code",
      "execution_count": 278,
      "metadata": {},
      "outputs": [
        {
          "data": {
            "image/png": "[encoded data removed]",
            "text/plain": [
              "<Figure size 1300x300 with 2 Axes>"
            ]
          },
          "metadata": {},
          "output_type": "display_data"
        }
      ],
      "source": [
        "fig, axes = plt.subplots(1, 2, figsize=(13, 3))\n",
        "\n",
        "sns.barplot(x=data['frequency'], y=data.index, orient='h', ax=axes[0])\n",
        "axes[0].set_title('The general meaning of the remote work attribute.', size=13)\n",
        "axes[0].set(xlabel='Number of', ylabel='% remote work')\n",
        "\n",
        "sns.boxplot(df_salaries,  x='monthly_salary',\n",
        "            y='remote_ratio', orient='h', ax=axes[1])\n",
        "axes[1].set(xlabel='The amount of remuneration')\n",
        "axes[1].set_title('The dependence of salary on the % of remote work.', size=13)\n",
        "\n",
        "plt.show()"
      ]
    },
    {
      "cell_type": "code",
      "execution_count": 279,
      "metadata": {},
      "outputs": [
        {
          "name": "stdout",
          "output_type": "stream",
          "text": [
            "The amount of salary depends on the distance of work.\n"
          ]
        },
        {
          "data": {
            "text/html": [
              "<div>\n",
              "<style scoped>\n",
              "    .dataframe tbody tr th:only-of-type {\n",
              "        vertical-align: middle;\n",
              "    }\n",
              "\n",
              "    .dataframe tbody tr th {\n",
              "        vertical-align: top;\n",
              "    }\n",
              "\n",
              "    .dataframe thead th {\n",
              "        text-align: right;\n",
              "    }\n",
              "</style>\n",
              "<table border=\"1\" class=\"dataframe\">\n",
              "  <thead>\n",
              "    <tr style=\"text-align: right;\">\n",
              "      <th></th>\n",
              "      <th>count</th>\n",
              "      <th>mean</th>\n",
              "      <th>std</th>\n",
              "      <th>min</th>\n",
              "      <th>25%</th>\n",
              "      <th>50%</th>\n",
              "      <th>75%</th>\n",
              "      <th>max</th>\n",
              "    </tr>\n",
              "    <tr>\n",
              "      <th>remote_ratio</th>\n",
              "      <th></th>\n",
              "      <th></th>\n",
              "      <th></th>\n",
              "      <th></th>\n",
              "      <th></th>\n",
              "      <th></th>\n",
              "      <th></th>\n",
              "      <th></th>\n",
              "    </tr>\n",
              "  </thead>\n",
              "  <tbody>\n",
              "    <tr>\n",
              "      <th>0</th>\n",
              "      <td>121.0</td>\n",
              "      <td>8815.0</td>\n",
              "      <td>5699.0</td>\n",
              "      <td>238.0</td>\n",
              "      <td>5166.0</td>\n",
              "      <td>8179.0</td>\n",
              "      <td>11333.0</td>\n",
              "      <td>37500.0</td>\n",
              "    </tr>\n",
              "    <tr>\n",
              "      <th>50</th>\n",
              "      <td>98.0</td>\n",
              "      <td>6726.0</td>\n",
              "      <td>4803.0</td>\n",
              "      <td>450.0</td>\n",
              "      <td>4166.0</td>\n",
              "      <td>5667.0</td>\n",
              "      <td>8327.0</td>\n",
              "      <td>35250.0</td>\n",
              "    </tr>\n",
              "    <tr>\n",
              "      <th>100</th>\n",
              "      <td>346.0</td>\n",
              "      <td>10063.0</td>\n",
              "      <td>6244.0</td>\n",
              "      <td>333.0</td>\n",
              "      <td>5833.0</td>\n",
              "      <td>9226.0</td>\n",
              "      <td>13312.0</td>\n",
              "      <td>50000.0</td>\n",
              "    </tr>\n",
              "  </tbody>\n",
              "</table>\n",
              "</div>"
            ],
            "text/plain": [
              "              count     mean     std    min     25%     50%      75%      max\n",
              "remote_ratio                                                                 \n",
              "0             121.0   8815.0  5699.0  238.0  5166.0  8179.0  11333.0  37500.0\n",
              "50             98.0   6726.0  4803.0  450.0  4166.0  5667.0   8327.0  35250.0\n",
              "100           346.0  10063.0  6244.0  333.0  5833.0  9226.0  13312.0  50000.0"
            ]
          },
          "execution_count": 279,
          "metadata": {},
          "output_type": "execute_result"
        }
      ],
      "source": [
        "# Table of wages depending on the distance of work.\n",
        "table = df_salaries.groupby('remote_ratio')[\n",
        "    'monthly_salary'].describe().round()\n",
        "print('The amount of salary depends on the distance of work.')\n",
        "table"
      ]
    },
    {
      "attachments": {},
      "cell_type": "markdown",
      "metadata": {},
      "source": [
        "**Conclusion:**\n",
        "- work with a distance level of 100% takes 1st place and a share of 61% of the total number of Data Scientist professions;\n",
        "- PO (salary) with the level of remote work of 100%, higher than others; \n",
        "- how does the *remote_ratio* attribute affect the salary level of a Data Scientist specialist.\n",
        "\n",
        "In order to check whether these differences are statistically significant, we will conduct statistical testing in an additional study."
      ]
    },
    {
      "attachments": {},
      "cell_type": "markdown",
      "metadata": {},
      "source": [
        "3. The general feature **experience_level** (level of experience) does it affect the salary level."
      ]
    },
    {
      "cell_type": "code",
      "execution_count": 280,
      "metadata": {},
      "outputs": [
        {
          "data": {
            "text/html": [
              "<div>\n",
              "<style scoped>\n",
              "    .dataframe tbody tr th:only-of-type {\n",
              "        vertical-align: middle;\n",
              "    }\n",
              "\n",
              "    .dataframe tbody tr th {\n",
              "        vertical-align: top;\n",
              "    }\n",
              "\n",
              "    .dataframe thead th {\n",
              "        text-align: right;\n",
              "    }\n",
              "</style>\n",
              "<table border=\"1\" class=\"dataframe\">\n",
              "  <thead>\n",
              "    <tr style=\"text-align: right;\">\n",
              "      <th></th>\n",
              "      <th>experience_level</th>\n",
              "    </tr>\n",
              "  </thead>\n",
              "  <tbody>\n",
              "    <tr>\n",
              "      <th>SE</th>\n",
              "      <td>243</td>\n",
              "    </tr>\n",
              "    <tr>\n",
              "      <th>MI</th>\n",
              "      <td>208</td>\n",
              "    </tr>\n",
              "    <tr>\n",
              "      <th>EN</th>\n",
              "      <td>88</td>\n",
              "    </tr>\n",
              "    <tr>\n",
              "      <th>EX</th>\n",
              "      <td>26</td>\n",
              "    </tr>\n",
              "  </tbody>\n",
              "</table>\n",
              "</div>"
            ],
            "text/plain": [
              "    experience_level\n",
              "SE               243\n",
              "MI               208\n",
              "EN                88\n",
              "EX                26"
            ]
          },
          "execution_count": 280,
          "metadata": {},
          "output_type": "execute_result"
        }
      ],
      "source": [
        "data = df_salaries['experience_level'].value_counts().to_frame()\n",
        "data"
      ]
    },
    {
      "cell_type": "code",
      "execution_count": 281,
      "metadata": {},
      "outputs": [
        {
          "data": {
            "image/png": "[encoded data removed]",
            "text/plain": [
              "<Figure size 1100x300 with 2 Axes>"
            ]
          },
          "metadata": {},
          "output_type": "display_data"
        }
      ],
      "source": [
        "fig, axes = plt.subplots(1, 2, figsize=(11, 3))\n",
        "\n",
        "sns.barplot(x=data['experience_level'], y=data.index, ax=axes[0],\n",
        "            order=['EX', 'SE', 'MI', 'EN'])\n",
        "axes[0].set_title('Total number of specialists.', size=10)\n",
        "axes[0].set(xlabel='Total specialists', ylabel='Work experience level')\n",
        "\n",
        "sns.boxplot(df_salaries,  x='monthly_salary', y='experience_level',\n",
        "            orient='h', ax=axes[1], order=['EX', 'SE', 'MI', 'EN'])\n",
        "axes[1].set(xlabel='The amount of remuneration', ylabel=None)\n",
        "axes[1].set_title('Salary dependence on the level of experience.', size=10)\n",
        "\n",
        "plt.show()"
      ]
    },
    {
      "cell_type": "code",
      "execution_count": 282,
      "metadata": {},
      "outputs": [
        {
          "name": "stdout",
          "output_type": "stream",
          "text": [
            "The amount of salary depending on work experience.\n"
          ]
        },
        {
          "data": {
            "text/html": [
              "<div>\n",
              "<style scoped>\n",
              "    .dataframe tbody tr th:only-of-type {\n",
              "        vertical-align: middle;\n",
              "    }\n",
              "\n",
              "    .dataframe tbody tr th {\n",
              "        vertical-align: top;\n",
              "    }\n",
              "\n",
              "    .dataframe thead th {\n",
              "        text-align: right;\n",
              "    }\n",
              "</style>\n",
              "<table border=\"1\" class=\"dataframe\">\n",
              "  <thead>\n",
              "    <tr style=\"text-align: right;\">\n",
              "      <th></th>\n",
              "      <th>count</th>\n",
              "      <th>mean</th>\n",
              "      <th>std</th>\n",
              "      <th>min</th>\n",
              "      <th>25%</th>\n",
              "      <th>50%</th>\n",
              "      <th>75%</th>\n",
              "      <th>max</th>\n",
              "    </tr>\n",
              "    <tr>\n",
              "      <th>experience_level</th>\n",
              "      <th></th>\n",
              "      <th></th>\n",
              "      <th></th>\n",
              "      <th></th>\n",
              "      <th></th>\n",
              "      <th></th>\n",
              "      <th></th>\n",
              "      <th></th>\n",
              "    </tr>\n",
              "  </thead>\n",
              "  <tbody>\n",
              "    <tr>\n",
              "      <th>EN</th>\n",
              "      <td>88.0</td>\n",
              "      <td>5137.0</td>\n",
              "      <td>3700.0</td>\n",
              "      <td>333.0</td>\n",
              "      <td>2292.0</td>\n",
              "      <td>4708.0</td>\n",
              "      <td>7118.0</td>\n",
              "      <td>20833.0</td>\n",
              "    </tr>\n",
              "    <tr>\n",
              "      <th>EX</th>\n",
              "      <td>26.0</td>\n",
              "      <td>16616.0</td>\n",
              "      <td>9756.0</td>\n",
              "      <td>5811.0</td>\n",
              "      <td>10834.0</td>\n",
              "      <td>14286.0</td>\n",
              "      <td>19479.0</td>\n",
              "      <td>50000.0</td>\n",
              "    </tr>\n",
              "    <tr>\n",
              "      <th>MI</th>\n",
              "      <td>208.0</td>\n",
              "      <td>7316.0</td>\n",
              "      <td>5343.0</td>\n",
              "      <td>238.0</td>\n",
              "      <td>3930.0</td>\n",
              "      <td>6411.0</td>\n",
              "      <td>9339.0</td>\n",
              "      <td>37500.0</td>\n",
              "    </tr>\n",
              "    <tr>\n",
              "      <th>SE</th>\n",
              "      <td>243.0</td>\n",
              "      <td>11531.0</td>\n",
              "      <td>4996.0</td>\n",
              "      <td>1575.0</td>\n",
              "      <td>8294.0</td>\n",
              "      <td>11250.0</td>\n",
              "      <td>14323.0</td>\n",
              "      <td>34333.0</td>\n",
              "    </tr>\n",
              "  </tbody>\n",
              "</table>\n",
              "</div>"
            ],
            "text/plain": [
              "                  count     mean     std     min      25%      50%      75%  \\\n",
              "experience_level                                                              \n",
              "EN                 88.0   5137.0  3700.0   333.0   2292.0   4708.0   7118.0   \n",
              "EX                 26.0  16616.0  9756.0  5811.0  10834.0  14286.0  19479.0   \n",
              "MI                208.0   7316.0  5343.0   238.0   3930.0   6411.0   9339.0   \n",
              "SE                243.0  11531.0  4996.0  1575.0   8294.0  11250.0  14323.0   \n",
              "\n",
              "                      max  \n",
              "experience_level           \n",
              "EN                20833.0  \n",
              "EX                50000.0  \n",
              "MI                37500.0  \n",
              "SE                34333.0  "
            ]
          },
          "execution_count": 282,
          "metadata": {},
          "output_type": "execute_result"
        }
      ],
      "source": [
        "# Salary table depending on work experience.\n",
        "table = df_salaries.groupby('experience_level')[\n",
        "    'monthly_salary'].describe().round()\n",
        "print('The amount of salary depending on work experience.')\n",
        "table"
      ]
    },
    {
      "attachments": {},
      "cell_type": "markdown",
      "metadata": {},
      "source": [
        "Values on the work experience chart: \n",
        "1. EN — Entry-level/Junior;\n",
        "2. MI — Mid-level/Intermediate;\n",
        "3. SE — Senior-level/Expert;\n",
        "4. EX — Executive-level/Director.\n",
        "\n",
        "**Output:**\n",
        "\n",
        "* The largest market share is made up of *Senior-level/Expert* and *Mid-level/Intermediate* specialists, respectively.\n",
        "\n",
        "* The graph shows the level of experience has a significant impact on the level of wages. For example, the work experience of SE(Expert) and EX(Director) is estimated 1.5-3 times higher than the level of EN(Junior) and MI(Intermediate).\n",
        "\n",
        "* as a sign of *experience_level* affects the salary level of a Data Scientist specialist. \n",
        "\n",
        "In order to check whether these differences are statistically significant, we will conduct statistical testing as an additional study."
      ]
    },
    {
      "attachments": {},
      "cell_type": "markdown",
      "metadata": {},
      "source": [
        "4. The general feature **job_title** whether it affects the salary level or not."
      ]
    },
    {
      "cell_type": "code",
      "execution_count": 283,
      "metadata": {},
      "outputs": [
        {
          "data": {
            "text/html": [
              "<div>\n",
              "<style scoped>\n",
              "    .dataframe tbody tr th:only-of-type {\n",
              "        vertical-align: middle;\n",
              "    }\n",
              "\n",
              "    .dataframe tbody tr th {\n",
              "        vertical-align: top;\n",
              "    }\n",
              "\n",
              "    .dataframe thead th {\n",
              "        text-align: right;\n",
              "    }\n",
              "</style>\n",
              "<table border=\"1\" class=\"dataframe\">\n",
              "  <thead>\n",
              "    <tr style=\"text-align: right;\">\n",
              "      <th></th>\n",
              "      <th>experience_level</th>\n",
              "      <th>employment_type</th>\n",
              "      <th>job_title</th>\n",
              "      <th>employee_residence</th>\n",
              "      <th>company_location</th>\n",
              "      <th>company_size</th>\n",
              "    </tr>\n",
              "  </thead>\n",
              "  <tbody>\n",
              "    <tr>\n",
              "      <th>count</th>\n",
              "      <td>565</td>\n",
              "      <td>565</td>\n",
              "      <td>565</td>\n",
              "      <td>565</td>\n",
              "      <td>565</td>\n",
              "      <td>565</td>\n",
              "    </tr>\n",
              "    <tr>\n",
              "      <th>unique</th>\n",
              "      <td>4</td>\n",
              "      <td>4</td>\n",
              "      <td>16</td>\n",
              "      <td>10</td>\n",
              "      <td>10</td>\n",
              "      <td>3</td>\n",
              "    </tr>\n",
              "    <tr>\n",
              "      <th>top</th>\n",
              "      <td>SE</td>\n",
              "      <td>FT</td>\n",
              "      <td>Data Scientist</td>\n",
              "      <td>US</td>\n",
              "      <td>US</td>\n",
              "      <td>M</td>\n",
              "    </tr>\n",
              "    <tr>\n",
              "      <th>freq</th>\n",
              "      <td>243</td>\n",
              "      <td>546</td>\n",
              "      <td>130</td>\n",
              "      <td>295</td>\n",
              "      <td>318</td>\n",
              "      <td>290</td>\n",
              "    </tr>\n",
              "  </tbody>\n",
              "</table>\n",
              "</div>"
            ],
            "text/plain": [
              "       experience_level employment_type       job_title employee_residence  \\\n",
              "count               565             565             565                565   \n",
              "unique                4               4              16                 10   \n",
              "top                  SE              FT  Data Scientist                 US   \n",
              "freq                243             546             130                295   \n",
              "\n",
              "       company_location company_size  \n",
              "count               565          565  \n",
              "unique               10            3  \n",
              "top                  US            M  \n",
              "freq                318          290  "
            ]
          },
          "execution_count": 283,
          "metadata": {},
          "output_type": "execute_result"
        }
      ],
      "source": [
        "df_salaries.describe(include='object')"
      ]
    },
    {
      "attachments": {},
      "cell_type": "markdown",
      "metadata": {},
      "source": [
        "Let's transform our data for clarity on graphs."
      ]
    },
    {
      "cell_type": "code",
      "execution_count": 284,
      "metadata": {},
      "outputs": [
        {
          "data": {
            "text/html": [
              "<div>\n",
              "<style scoped>\n",
              "    .dataframe tbody tr th:only-of-type {\n",
              "        vertical-align: middle;\n",
              "    }\n",
              "\n",
              "    .dataframe tbody tr th {\n",
              "        vertical-align: top;\n",
              "    }\n",
              "\n",
              "    .dataframe thead th {\n",
              "        text-align: right;\n",
              "    }\n",
              "</style>\n",
              "<table border=\"1\" class=\"dataframe\">\n",
              "  <thead>\n",
              "    <tr style=\"text-align: right;\">\n",
              "      <th></th>\n",
              "      <th>count</th>\n",
              "      <th>mean_salary</th>\n",
              "    </tr>\n",
              "    <tr>\n",
              "      <th>job_title</th>\n",
              "      <th></th>\n",
              "      <th></th>\n",
              "    </tr>\n",
              "  </thead>\n",
              "  <tbody>\n",
              "    <tr>\n",
              "      <th>Data Scientist</th>\n",
              "      <td>130</td>\n",
              "      <td>8333.0</td>\n",
              "    </tr>\n",
              "    <tr>\n",
              "      <th>Data Engineer</th>\n",
              "      <td>121</td>\n",
              "      <td>8400.0</td>\n",
              "    </tr>\n",
              "    <tr>\n",
              "      <th>other</th>\n",
              "      <td>97</td>\n",
              "      <td>8166.0</td>\n",
              "    </tr>\n",
              "    <tr>\n",
              "      <th>Data Analyst</th>\n",
              "      <td>82</td>\n",
              "      <td>7500.0</td>\n",
              "    </tr>\n",
              "    <tr>\n",
              "      <th>Machine Learning Engineer</th>\n",
              "      <td>39</td>\n",
              "      <td>7285.0</td>\n",
              "    </tr>\n",
              "    <tr>\n",
              "      <th>Research Scientist</th>\n",
              "      <td>16</td>\n",
              "      <td>6355.0</td>\n",
              "    </tr>\n",
              "    <tr>\n",
              "      <th>Data Science Manager</th>\n",
              "      <td>12</td>\n",
              "      <td>12979.0</td>\n",
              "    </tr>\n",
              "    <tr>\n",
              "      <th>Data Architect</th>\n",
              "      <td>11</td>\n",
              "      <td>15000.0</td>\n",
              "    </tr>\n",
              "    <tr>\n",
              "      <th>Machine Learning Scientist</th>\n",
              "      <td>8</td>\n",
              "      <td>13042.0</td>\n",
              "    </tr>\n",
              "    <tr>\n",
              "      <th>Big Data Engineer</th>\n",
              "      <td>8</td>\n",
              "      <td>3442.0</td>\n",
              "    </tr>\n",
              "    <tr>\n",
              "      <th>Data Science Consultant</th>\n",
              "      <td>7</td>\n",
              "      <td>6402.0</td>\n",
              "    </tr>\n",
              "    <tr>\n",
              "      <th>Director of Data Science</th>\n",
              "      <td>7</td>\n",
              "      <td>14000.0</td>\n",
              "    </tr>\n",
              "    <tr>\n",
              "      <th>AI Scientist</th>\n",
              "      <td>7</td>\n",
              "      <td>3824.0</td>\n",
              "    </tr>\n",
              "    <tr>\n",
              "      <th>Principal Data Scientist</th>\n",
              "      <td>7</td>\n",
              "      <td>14480.0</td>\n",
              "    </tr>\n",
              "    <tr>\n",
              "      <th>Data Analytics Manager</th>\n",
              "      <td>7</td>\n",
              "      <td>10000.0</td>\n",
              "    </tr>\n",
              "    <tr>\n",
              "      <th>Lead Data Engineer</th>\n",
              "      <td>6</td>\n",
              "      <td>10132.0</td>\n",
              "    </tr>\n",
              "  </tbody>\n",
              "</table>\n",
              "</div>"
            ],
            "text/plain": [
              "                            count  mean_salary\n",
              "job_title                                     \n",
              "Data Scientist                130       8333.0\n",
              "Data Engineer                 121       8400.0\n",
              "other                          97       8166.0\n",
              "Data Analyst                   82       7500.0\n",
              "Machine Learning Engineer      39       7285.0\n",
              "Research Scientist             16       6355.0\n",
              "Data Science Manager           12      12979.0\n",
              "Data Architect                 11      15000.0\n",
              "Machine Learning Scientist      8      13042.0\n",
              "Big Data Engineer               8       3442.0\n",
              "Data Science Consultant         7       6402.0\n",
              "Director of Data Science        7      14000.0\n",
              "AI Scientist                    7       3824.0\n",
              "Principal Data Scientist        7      14480.0\n",
              "Data Analytics Manager          7      10000.0\n",
              "Lead Data Engineer              6      10132.0"
            ]
          },
          "execution_count": 284,
          "metadata": {},
          "output_type": "execute_result"
        }
      ],
      "source": [
        "df_1 = df_salaries['job_title'].value_counts()\n",
        "df_1.rename('count', inplace=True)\n",
        "df_1.index.name = 'job_title'\n",
        "\n",
        "# The order of professions\n",
        "prof = list(df_1.index)\n",
        "\n",
        "df_2 = df_salaries.groupby('job_title')['monthly_salary'].quantile(0.5).round()\n",
        "df_2 = df_2.rename('mean_salary')\n",
        "\n",
        "data = pd.concat([df_1, df_2], axis=1)\n",
        "data"
      ]
    },
    {
      "attachments": {},
      "cell_type": "markdown",
      "metadata": {},
      "source": [
        "The table above shows the number of specialties on the market and the average salary. \n",
        "\n",
        "Let's depict this on graphs."
      ]
    },
    {
      "cell_type": "code",
      "execution_count": 285,
      "metadata": {},
      "outputs": [
        {
          "data": {
            "image/png": "[encoded data removed]",
            "text/plain": [
              "<Figure size 1100x500 with 2 Axes>"
            ]
          },
          "metadata": {},
          "output_type": "display_data"
        }
      ],
      "source": [
        "fig, axes = plt.subplots(1, 2, figsize=(11, 5))\n",
        "\n",
        "sns.barplot(data, x=data['count'], y=data.index, ax=axes[0])\n",
        "axes[0].set_title('The general value of the position attribute.', size=10)\n",
        "axes[0].set(xlabel='Number of professions', ylabel='Post')\n",
        "\n",
        "sns.boxplot(data,  x=data['mean_salary'],\n",
        "            y=data.index, ax=axes[1])\n",
        "\n",
        "axes[1].set_title('The dependence of salary on the position held.', size=10)\n",
        "axes[1].set(xlabel='Average salary', ylabel=None)\n",
        "\n",
        "plt.show()"
      ]
    },
    {
      "cell_type": "code",
      "execution_count": 286,
      "metadata": {},
      "outputs": [
        {
          "name": "stdout",
          "output_type": "stream",
          "text": [
            "The amount of salary depending on the position held.\n"
          ]
        },
        {
          "data": {
            "text/html": [
              "<div>\n",
              "<style scoped>\n",
              "    .dataframe tbody tr th:only-of-type {\n",
              "        vertical-align: middle;\n",
              "    }\n",
              "\n",
              "    .dataframe tbody tr th {\n",
              "        vertical-align: top;\n",
              "    }\n",
              "\n",
              "    .dataframe thead th {\n",
              "        text-align: right;\n",
              "    }\n",
              "</style>\n",
              "<table border=\"1\" class=\"dataframe\">\n",
              "  <thead>\n",
              "    <tr style=\"text-align: right;\">\n",
              "      <th></th>\n",
              "      <th>count</th>\n",
              "      <th>mean</th>\n",
              "      <th>std</th>\n",
              "      <th>min</th>\n",
              "      <th>25%</th>\n",
              "      <th>50%</th>\n",
              "      <th>75%</th>\n",
              "      <th>max</th>\n",
              "    </tr>\n",
              "    <tr>\n",
              "      <th>job_title</th>\n",
              "      <th></th>\n",
              "      <th></th>\n",
              "      <th></th>\n",
              "      <th></th>\n",
              "      <th></th>\n",
              "      <th></th>\n",
              "      <th></th>\n",
              "      <th></th>\n",
              "    </tr>\n",
              "  </thead>\n",
              "  <tbody>\n",
              "    <tr>\n",
              "      <th>AI Scientist</th>\n",
              "      <td>7.0</td>\n",
              "      <td>5511.0</td>\n",
              "      <td>5846.0</td>\n",
              "      <td>1000.0</td>\n",
              "      <td>1252.0</td>\n",
              "      <td>3824.0</td>\n",
              "      <td>7292.0</td>\n",
              "      <td>16666.0</td>\n",
              "    </tr>\n",
              "    <tr>\n",
              "      <th>Big Data Engineer</th>\n",
              "      <td>8.0</td>\n",
              "      <td>4331.0</td>\n",
              "      <td>3579.0</td>\n",
              "      <td>490.0</td>\n",
              "      <td>1463.0</td>\n",
              "      <td>3442.0</td>\n",
              "      <td>6646.0</td>\n",
              "      <td>9503.0</td>\n",
              "    </tr>\n",
              "    <tr>\n",
              "      <th>Data Analyst</th>\n",
              "      <td>82.0</td>\n",
              "      <td>7507.0</td>\n",
              "      <td>3391.0</td>\n",
              "      <td>506.0</td>\n",
              "      <td>5027.0</td>\n",
              "      <td>7500.0</td>\n",
              "      <td>9676.0</td>\n",
              "      <td>16666.0</td>\n",
              "    </tr>\n",
              "    <tr>\n",
              "      <th>Data Analytics Manager</th>\n",
              "      <td>7.0</td>\n",
              "      <td>10594.0</td>\n",
              "      <td>1488.0</td>\n",
              "      <td>8783.0</td>\n",
              "      <td>9553.0</td>\n",
              "      <td>10000.0</td>\n",
              "      <td>11874.0</td>\n",
              "      <td>12521.0</td>\n",
              "    </tr>\n",
              "    <tr>\n",
              "      <th>Data Architect</th>\n",
              "      <td>11.0</td>\n",
              "      <td>14823.0</td>\n",
              "      <td>3810.0</td>\n",
              "      <td>7558.0</td>\n",
              "      <td>12408.0</td>\n",
              "      <td>15000.0</td>\n",
              "      <td>16722.0</td>\n",
              "      <td>22200.0</td>\n",
              "    </tr>\n",
              "    <tr>\n",
              "      <th>Data Engineer</th>\n",
              "      <td>121.0</td>\n",
              "      <td>9145.0</td>\n",
              "      <td>4850.0</td>\n",
              "      <td>333.0</td>\n",
              "      <td>5501.0</td>\n",
              "      <td>8400.0</td>\n",
              "      <td>12500.0</td>\n",
              "      <td>27000.0</td>\n",
              "    </tr>\n",
              "    <tr>\n",
              "      <th>Data Science Consultant</th>\n",
              "      <td>7.0</td>\n",
              "      <td>5785.0</td>\n",
              "      <td>2580.0</td>\n",
              "      <td>475.0</td>\n",
              "      <td>5565.0</td>\n",
              "      <td>6402.0</td>\n",
              "      <td>6951.0</td>\n",
              "      <td>8583.0</td>\n",
              "    </tr>\n",
              "    <tr>\n",
              "      <th>Data Science Manager</th>\n",
              "      <td>12.0</td>\n",
              "      <td>13194.0</td>\n",
              "      <td>4383.0</td>\n",
              "      <td>4507.0</td>\n",
              "      <td>11857.0</td>\n",
              "      <td>12979.0</td>\n",
              "      <td>14838.0</td>\n",
              "      <td>20083.0</td>\n",
              "    </tr>\n",
              "    <tr>\n",
              "      <th>Data Scientist</th>\n",
              "      <td>130.0</td>\n",
              "      <td>8611.0</td>\n",
              "      <td>5331.0</td>\n",
              "      <td>238.0</td>\n",
              "      <td>4194.0</td>\n",
              "      <td>8333.0</td>\n",
              "      <td>11700.0</td>\n",
              "      <td>34333.0</td>\n",
              "    </tr>\n",
              "    <tr>\n",
              "      <th>Director of Data Science</th>\n",
              "      <td>7.0</td>\n",
              "      <td>16256.0</td>\n",
              "      <td>5835.0</td>\n",
              "      <td>10835.0</td>\n",
              "      <td>12312.0</td>\n",
              "      <td>14000.0</td>\n",
              "      <td>18624.0</td>\n",
              "      <td>27083.0</td>\n",
              "    </tr>\n",
              "    <tr>\n",
              "      <th>Lead Data Engineer</th>\n",
              "      <td>6.0</td>\n",
              "      <td>11643.0</td>\n",
              "      <td>6237.0</td>\n",
              "      <td>4666.0</td>\n",
              "      <td>8909.0</td>\n",
              "      <td>10132.0</td>\n",
              "      <td>12604.0</td>\n",
              "      <td>23000.0</td>\n",
              "    </tr>\n",
              "    <tr>\n",
              "      <th>Machine Learning Engineer</th>\n",
              "      <td>39.0</td>\n",
              "      <td>8430.0</td>\n",
              "      <td>5210.0</td>\n",
              "      <td>1666.0</td>\n",
              "      <td>4098.0</td>\n",
              "      <td>7285.0</td>\n",
              "      <td>10958.0</td>\n",
              "      <td>20833.0</td>\n",
              "    </tr>\n",
              "    <tr>\n",
              "      <th>Machine Learning Scientist</th>\n",
              "      <td>8.0</td>\n",
              "      <td>13201.0</td>\n",
              "      <td>6626.0</td>\n",
              "      <td>1000.0</td>\n",
              "      <td>9840.0</td>\n",
              "      <td>13042.0</td>\n",
              "      <td>18750.0</td>\n",
              "      <td>21666.0</td>\n",
              "    </tr>\n",
              "    <tr>\n",
              "      <th>Principal Data Scientist</th>\n",
              "      <td>7.0</td>\n",
              "      <td>17937.0</td>\n",
              "      <td>7892.0</td>\n",
              "      <td>12355.0</td>\n",
              "      <td>13070.0</td>\n",
              "      <td>14480.0</td>\n",
              "      <td>18958.0</td>\n",
              "      <td>34666.0</td>\n",
              "    </tr>\n",
              "    <tr>\n",
              "      <th>Research Scientist</th>\n",
              "      <td>16.0</td>\n",
              "      <td>9085.0</td>\n",
              "      <td>8212.0</td>\n",
              "      <td>3500.0</td>\n",
              "      <td>5181.0</td>\n",
              "      <td>6355.0</td>\n",
              "      <td>8750.0</td>\n",
              "      <td>37500.0</td>\n",
              "    </tr>\n",
              "    <tr>\n",
              "      <th>other</th>\n",
              "      <td>97.0</td>\n",
              "      <td>9978.0</td>\n",
              "      <td>8470.0</td>\n",
              "      <td>450.0</td>\n",
              "      <td>4583.0</td>\n",
              "      <td>8166.0</td>\n",
              "      <td>13750.0</td>\n",
              "      <td>50000.0</td>\n",
              "    </tr>\n",
              "  </tbody>\n",
              "</table>\n",
              "</div>"
            ],
            "text/plain": [
              "                            count     mean     std      min      25%      50%  \\\n",
              "job_title                                                                       \n",
              "AI Scientist                  7.0   5511.0  5846.0   1000.0   1252.0   3824.0   \n",
              "Big Data Engineer             8.0   4331.0  3579.0    490.0   1463.0   3442.0   \n",
              "Data Analyst                 82.0   7507.0  3391.0    506.0   5027.0   7500.0   \n",
              "Data Analytics Manager        7.0  10594.0  1488.0   8783.0   9553.0  10000.0   \n",
              "Data Architect               11.0  14823.0  3810.0   7558.0  12408.0  15000.0   \n",
              "Data Engineer               121.0   9145.0  4850.0    333.0   5501.0   8400.0   \n",
              "Data Science Consultant       7.0   5785.0  2580.0    475.0   5565.0   6402.0   \n",
              "Data Science Manager         12.0  13194.0  4383.0   4507.0  11857.0  12979.0   \n",
              "Data Scientist              130.0   8611.0  5331.0    238.0   4194.0   8333.0   \n",
              "Director of Data Science      7.0  16256.0  5835.0  10835.0  12312.0  14000.0   \n",
              "Lead Data Engineer            6.0  11643.0  6237.0   4666.0   8909.0  10132.0   \n",
              "Machine Learning Engineer    39.0   8430.0  5210.0   1666.0   4098.0   7285.0   \n",
              "Machine Learning Scientist    8.0  13201.0  6626.0   1000.0   9840.0  13042.0   \n",
              "Principal Data Scientist      7.0  17937.0  7892.0  12355.0  13070.0  14480.0   \n",
              "Research Scientist           16.0   9085.0  8212.0   3500.0   5181.0   6355.0   \n",
              "other                        97.0   9978.0  8470.0    450.0   4583.0   8166.0   \n",
              "\n",
              "                                75%      max  \n",
              "job_title                                     \n",
              "AI Scientist                 7292.0  16666.0  \n",
              "Big Data Engineer            6646.0   9503.0  \n",
              "Data Analyst                 9676.0  16666.0  \n",
              "Data Analytics Manager      11874.0  12521.0  \n",
              "Data Architect              16722.0  22200.0  \n",
              "Data Engineer               12500.0  27000.0  \n",
              "Data Science Consultant      6951.0   8583.0  \n",
              "Data Science Manager        14838.0  20083.0  \n",
              "Data Scientist              11700.0  34333.0  \n",
              "Director of Data Science    18624.0  27083.0  \n",
              "Lead Data Engineer          12604.0  23000.0  \n",
              "Machine Learning Engineer   10958.0  20833.0  \n",
              "Machine Learning Scientist  18750.0  21666.0  \n",
              "Principal Data Scientist    18958.0  34666.0  \n",
              "Research Scientist           8750.0  37500.0  \n",
              "other                       13750.0  50000.0  "
            ]
          },
          "execution_count": 286,
          "metadata": {},
          "output_type": "execute_result"
        }
      ],
      "source": [
        "# Salary table depending on the position held.\n",
        "table = df_salaries.groupby('job_title')[\n",
        "    'monthly_salary'].describe().round()\n",
        "print('The amount of salary depending on the position held.')\n",
        "table"
      ]
    },
    {
      "attachments": {},
      "cell_type": "markdown",
      "metadata": {},
      "source": [
        "**Output:**\n",
        "\n",
        "* the most common professions *Data Science*, *Data Engineer*, *Data Analyst* receive salaries in the region of 8000 dollars;\n",
        "* highest average salary of 13,000 y *DataArchitect*,\n",
        "* smallest 3800 y *Big Data Engineer*;\n",
        "* *job_title* affects the salary level.\n",
        "\n",
        "In order to check whether these differences are statistically significant, we will conduct statistical testing in the next section.\n"
      ]
    },
    {
      "attachments": {},
      "cell_type": "markdown",
      "metadata": {},
      "source": [
        "5. The general feature **company_size** (the size of the company) whether it affects the salary level or not.\n",
        "\n",
        "* *S* - less than 50 employees (small company);\n",
        "* *M* - from 50 to 250 employees (medium company);\n",
        "* *L* - more than 250 employees (large company)\n",
        "\n",
        "Let's look at the data of the *company_size* attribute."
      ]
    },
    {
      "cell_type": "code",
      "execution_count": 287,
      "metadata": {},
      "outputs": [
        {
          "data": {
            "text/html": [
              "<div>\n",
              "<style scoped>\n",
              "    .dataframe tbody tr th:only-of-type {\n",
              "        vertical-align: middle;\n",
              "    }\n",
              "\n",
              "    .dataframe tbody tr th {\n",
              "        vertical-align: top;\n",
              "    }\n",
              "\n",
              "    .dataframe thead th {\n",
              "        text-align: right;\n",
              "    }\n",
              "</style>\n",
              "<table border=\"1\" class=\"dataframe\">\n",
              "  <thead>\n",
              "    <tr style=\"text-align: right;\">\n",
              "      <th></th>\n",
              "      <th>company_size</th>\n",
              "    </tr>\n",
              "  </thead>\n",
              "  <tbody>\n",
              "    <tr>\n",
              "      <th>count</th>\n",
              "      <td>565</td>\n",
              "    </tr>\n",
              "    <tr>\n",
              "      <th>unique</th>\n",
              "      <td>3</td>\n",
              "    </tr>\n",
              "    <tr>\n",
              "      <th>top</th>\n",
              "      <td>M</td>\n",
              "    </tr>\n",
              "    <tr>\n",
              "      <th>freq</th>\n",
              "      <td>290</td>\n",
              "    </tr>\n",
              "  </tbody>\n",
              "</table>\n",
              "</div>"
            ],
            "text/plain": [
              "       company_size\n",
              "count           565\n",
              "unique            3\n",
              "top               M\n",
              "freq            290"
            ]
          },
          "execution_count": 287,
          "metadata": {},
          "output_type": "execute_result"
        }
      ],
      "source": [
        "df_salaries['company_size'].describe(include='object').to_frame()"
      ]
    },
    {
      "attachments": {},
      "cell_type": "markdown",
      "metadata": {},
      "source": [
        "The total number of companies is 565, the most common M - medium companies with the number of employees from 50 to 250 people."
      ]
    },
    {
      "cell_type": "code",
      "execution_count": 288,
      "metadata": {},
      "outputs": [
        {
          "data": {
            "text/html": [
              "<div>\n",
              "<style scoped>\n",
              "    .dataframe tbody tr th:only-of-type {\n",
              "        vertical-align: middle;\n",
              "    }\n",
              "\n",
              "    .dataframe tbody tr th {\n",
              "        vertical-align: top;\n",
              "    }\n",
              "\n",
              "    .dataframe thead th {\n",
              "        text-align: right;\n",
              "    }\n",
              "</style>\n",
              "<table border=\"1\" class=\"dataframe\">\n",
              "  <thead>\n",
              "    <tr style=\"text-align: right;\">\n",
              "      <th></th>\n",
              "      <th>company_size</th>\n",
              "    </tr>\n",
              "  </thead>\n",
              "  <tbody>\n",
              "    <tr>\n",
              "      <th>M</th>\n",
              "      <td>290</td>\n",
              "    </tr>\n",
              "    <tr>\n",
              "      <th>L</th>\n",
              "      <td>193</td>\n",
              "    </tr>\n",
              "    <tr>\n",
              "      <th>S</th>\n",
              "      <td>82</td>\n",
              "    </tr>\n",
              "  </tbody>\n",
              "</table>\n",
              "</div>"
            ],
            "text/plain": [
              "   company_size\n",
              "M           290\n",
              "L           193\n",
              "S            82"
            ]
          },
          "execution_count": 288,
          "metadata": {},
          "output_type": "execute_result"
        }
      ],
      "source": [
        "data = df_salaries['company_size'].value_counts().to_frame()\n",
        "data"
      ]
    },
    {
      "attachments": {},
      "cell_type": "markdown",
      "metadata": {},
      "source": [
        "Let's show the data on the graph."
      ]
    },
    {
      "cell_type": "code",
      "execution_count": 289,
      "metadata": {},
      "outputs": [
        {
          "data": {
            "image/png": "[encoded data removed]",
            "text/plain": [
              "<Figure size 1100x300 with 2 Axes>"
            ]
          },
          "metadata": {},
          "output_type": "display_data"
        }
      ],
      "source": [
        "fig, axes = plt.subplots(1, 2, figsize=(11, 3))\n",
        "\n",
        "sns.barplot(y=data.index, x=data['company_size'],\n",
        "            orient='h', ax=axes[0])\n",
        "axes[0].set_title('Total value company size.', size=14)\n",
        "axes[0].set(xlabel='The amount of remuneration', ylabel='count')\n",
        "\n",
        "sns.boxplot(df_salaries.sort_values('company_size', ascending=True),  x='monthly_salary',\n",
        "            y='company_size', orient='h', ax=axes[1],\n",
        "            order=['M', 'L', 'S'])\n",
        "axes[1].set(xlabel='The amount of remuneration', ylabel='company size')\n",
        "axes[1].set_title('Salary dependence on the size of the company.', size=14)\n",
        "\n",
        "plt.show()"
      ]
    },
    {
      "cell_type": "code",
      "execution_count": 290,
      "metadata": {},
      "outputs": [
        {
          "name": "stdout",
          "output_type": "stream",
          "text": [
            "The amount of salary depends on the size of the company.\n"
          ]
        },
        {
          "data": {
            "text/html": [
              "<div>\n",
              "<style scoped>\n",
              "    .dataframe tbody tr th:only-of-type {\n",
              "        vertical-align: middle;\n",
              "    }\n",
              "\n",
              "    .dataframe tbody tr th {\n",
              "        vertical-align: top;\n",
              "    }\n",
              "\n",
              "    .dataframe thead th {\n",
              "        text-align: right;\n",
              "    }\n",
              "</style>\n",
              "<table border=\"1\" class=\"dataframe\">\n",
              "  <thead>\n",
              "    <tr style=\"text-align: right;\">\n",
              "      <th></th>\n",
              "      <th>count</th>\n",
              "      <th>mean</th>\n",
              "      <th>std</th>\n",
              "      <th>min</th>\n",
              "      <th>25%</th>\n",
              "      <th>50%</th>\n",
              "      <th>75%</th>\n",
              "      <th>max</th>\n",
              "    </tr>\n",
              "    <tr>\n",
              "      <th>company_size</th>\n",
              "      <th></th>\n",
              "      <th></th>\n",
              "      <th></th>\n",
              "      <th></th>\n",
              "      <th></th>\n",
              "      <th></th>\n",
              "      <th></th>\n",
              "      <th></th>\n",
              "    </tr>\n",
              "  </thead>\n",
              "  <tbody>\n",
              "    <tr>\n",
              "      <th>L</th>\n",
              "      <td>193.0</td>\n",
              "      <td>9851.0</td>\n",
              "      <td>7230.0</td>\n",
              "      <td>490.0</td>\n",
              "      <td>5000.0</td>\n",
              "      <td>8333.0</td>\n",
              "      <td>12805.0</td>\n",
              "      <td>50000.0</td>\n",
              "    </tr>\n",
              "    <tr>\n",
              "      <th>M</th>\n",
              "      <td>290.0</td>\n",
              "      <td>9567.0</td>\n",
              "      <td>5065.0</td>\n",
              "      <td>333.0</td>\n",
              "      <td>5902.0</td>\n",
              "      <td>9136.0</td>\n",
              "      <td>12517.0</td>\n",
              "      <td>37500.0</td>\n",
              "    </tr>\n",
              "    <tr>\n",
              "      <th>S</th>\n",
              "      <td>82.0</td>\n",
              "      <td>6489.0</td>\n",
              "      <td>5318.0</td>\n",
              "      <td>238.0</td>\n",
              "      <td>3484.0</td>\n",
              "      <td>5458.0</td>\n",
              "      <td>8333.0</td>\n",
              "      <td>34666.0</td>\n",
              "    </tr>\n",
              "  </tbody>\n",
              "</table>\n",
              "</div>"
            ],
            "text/plain": [
              "              count    mean     std    min     25%     50%      75%      max\n",
              "company_size                                                                \n",
              "L             193.0  9851.0  7230.0  490.0  5000.0  8333.0  12805.0  50000.0\n",
              "M             290.0  9567.0  5065.0  333.0  5902.0  9136.0  12517.0  37500.0\n",
              "S              82.0  6489.0  5318.0  238.0  3484.0  5458.0   8333.0  34666.0"
            ]
          },
          "execution_count": 290,
          "metadata": {},
          "output_type": "execute_result"
        }
      ],
      "source": [
        "# Salary table depending on the size of the company.\n",
        "table = df_salaries.groupby('company_size')[\n",
        "    'monthly_salary'].describe().round()\n",
        "print('The amount of salary depends on the size of the company.')\n",
        "table"
      ]
    },
    {
      "attachments": {},
      "cell_type": "markdown",
      "metadata": {},
      "source": [
        "**Output:**\n",
        "\n",
        "* The graphs show that small companies have a lower salary range than medium and large ones. Perhaps because they cannot afford to have a large staff of specialists due to the volume of work, as well as the ability to bear costs.\n",
        "\n",
        "* The size of the company is weak, but it affects the salary of employees, especially the differences in small companies are clearly visible. \n",
        "\n",
        "In order to check whether these differences are statistically significant, we will conduct statistical testing in the next section."
      ]
    },
    {
      "attachments": {},
      "cell_type": "markdown",
      "metadata": {},
      "source": [
        "6. The general feature **company_location** (the location of the main office of the company) whether it affects the salary level or not.\n",
        "\n",
        "Let's look at the data of the *company_location* attribute."
      ]
    },
    {
      "cell_type": "code",
      "execution_count": 291,
      "metadata": {},
      "outputs": [
        {
          "data": {
            "text/html": [
              "<div>\n",
              "<style scoped>\n",
              "    .dataframe tbody tr th:only-of-type {\n",
              "        vertical-align: middle;\n",
              "    }\n",
              "\n",
              "    .dataframe tbody tr th {\n",
              "        vertical-align: top;\n",
              "    }\n",
              "\n",
              "    .dataframe thead th {\n",
              "        text-align: right;\n",
              "    }\n",
              "</style>\n",
              "<table border=\"1\" class=\"dataframe\">\n",
              "  <thead>\n",
              "    <tr style=\"text-align: right;\">\n",
              "      <th></th>\n",
              "      <th>company_location</th>\n",
              "    </tr>\n",
              "  </thead>\n",
              "  <tbody>\n",
              "    <tr>\n",
              "      <th>count</th>\n",
              "      <td>565</td>\n",
              "    </tr>\n",
              "    <tr>\n",
              "      <th>unique</th>\n",
              "      <td>10</td>\n",
              "    </tr>\n",
              "    <tr>\n",
              "      <th>top</th>\n",
              "      <td>US</td>\n",
              "    </tr>\n",
              "    <tr>\n",
              "      <th>freq</th>\n",
              "      <td>318</td>\n",
              "    </tr>\n",
              "  </tbody>\n",
              "</table>\n",
              "</div>"
            ],
            "text/plain": [
              "       company_location\n",
              "count               565\n",
              "unique               10\n",
              "top                  US\n",
              "freq                318"
            ]
          },
          "execution_count": 291,
          "metadata": {},
          "output_type": "execute_result"
        }
      ],
      "source": [
        "df_salaries['company_location'].describe(include='object').to_frame()"
      ]
    },
    {
      "attachments": {},
      "cell_type": "markdown",
      "metadata": {},
      "source": [
        "Most of the companies are located in the US. There are 10 unique values in total."
      ]
    },
    {
      "cell_type": "code",
      "execution_count": 292,
      "metadata": {},
      "outputs": [
        {
          "data": {
            "text/html": [
              "<div>\n",
              "<style scoped>\n",
              "    .dataframe tbody tr th:only-of-type {\n",
              "        vertical-align: middle;\n",
              "    }\n",
              "\n",
              "    .dataframe tbody tr th {\n",
              "        vertical-align: top;\n",
              "    }\n",
              "\n",
              "    .dataframe thead th {\n",
              "        text-align: right;\n",
              "    }\n",
              "</style>\n",
              "<table border=\"1\" class=\"dataframe\">\n",
              "  <thead>\n",
              "    <tr style=\"text-align: right;\">\n",
              "      <th></th>\n",
              "      <th>company_location</th>\n",
              "    </tr>\n",
              "  </thead>\n",
              "  <tbody>\n",
              "    <tr>\n",
              "      <th>US</th>\n",
              "      <td>318</td>\n",
              "    </tr>\n",
              "    <tr>\n",
              "      <th>other</th>\n",
              "      <td>77</td>\n",
              "    </tr>\n",
              "    <tr>\n",
              "      <th>GB</th>\n",
              "      <td>46</td>\n",
              "    </tr>\n",
              "    <tr>\n",
              "      <th>CA</th>\n",
              "      <td>28</td>\n",
              "    </tr>\n",
              "    <tr>\n",
              "      <th>DE</th>\n",
              "      <td>27</td>\n",
              "    </tr>\n",
              "    <tr>\n",
              "      <th>IN</th>\n",
              "      <td>24</td>\n",
              "    </tr>\n",
              "    <tr>\n",
              "      <th>FR</th>\n",
              "      <td>15</td>\n",
              "    </tr>\n",
              "    <tr>\n",
              "      <th>ES</th>\n",
              "      <td>14</td>\n",
              "    </tr>\n",
              "    <tr>\n",
              "      <th>GR</th>\n",
              "      <td>10</td>\n",
              "    </tr>\n",
              "    <tr>\n",
              "      <th>JP</th>\n",
              "      <td>6</td>\n",
              "    </tr>\n",
              "  </tbody>\n",
              "</table>\n",
              "</div>"
            ],
            "text/plain": [
              "       company_location\n",
              "US                  318\n",
              "other                77\n",
              "GB                   46\n",
              "CA                   28\n",
              "DE                   27\n",
              "IN                   24\n",
              "FR                   15\n",
              "ES                   14\n",
              "GR                   10\n",
              "JP                    6"
            ]
          },
          "execution_count": 292,
          "metadata": {},
          "output_type": "execute_result"
        }
      ],
      "source": [
        "data = df_salaries['company_location'].value_counts().to_frame()\n",
        "# List of countries of companies\n",
        "locations = list(data.index)\n",
        "data"
      ]
    },
    {
      "attachments": {},
      "cell_type": "markdown",
      "metadata": {},
      "source": [
        "Companies with the name *other* have 1-2 companies, we have combined for ease of visualization.\n",
        "\n",
        "Let's build graphs."
      ]
    },
    {
      "cell_type": "code",
      "execution_count": 293,
      "metadata": {},
      "outputs": [
        {
          "data": {
            "image/png": "[encoded data removed]",
            "text/plain": [
              "<Figure size 1100x300 with 2 Axes>"
            ]
          },
          "metadata": {},
          "output_type": "display_data"
        }
      ],
      "source": [
        "fig, axes = plt.subplots(1, 2, figsize=(11, 3))\n",
        "\n",
        "sns.barplot(y=data.index, x=data['company_location'],\n",
        "            orient='h', ax=axes[0])\n",
        "axes[0].set_title('The general value is the location of the company.', size=14)\n",
        "axes[0].set(xlabel='Index', ylabel='size')\n",
        "\n",
        "sns.boxplot(df_salaries.sort_values('company_location', ascending=True),\n",
        "            x='monthly_salary', y='company_location', orient='h', ax=axes[1],\n",
        "            order=locations)\n",
        "axes[1].set(xlabel='The amount of remuneration', ylabel='company size')\n",
        "axes[1].set_title('The dependence of salary on the location of the company.', size=14)\n",
        "\n",
        "plt.show()"
      ]
    },
    {
      "cell_type": "code",
      "execution_count": 294,
      "metadata": {},
      "outputs": [
        {
          "name": "stdout",
          "output_type": "stream",
          "text": [
            "The amount of salary depends on the size of the company.\n"
          ]
        },
        {
          "data": {
            "text/html": [
              "<div>\n",
              "<style scoped>\n",
              "    .dataframe tbody tr th:only-of-type {\n",
              "        vertical-align: middle;\n",
              "    }\n",
              "\n",
              "    .dataframe tbody tr th {\n",
              "        vertical-align: top;\n",
              "    }\n",
              "\n",
              "    .dataframe thead th {\n",
              "        text-align: right;\n",
              "    }\n",
              "</style>\n",
              "<table border=\"1\" class=\"dataframe\">\n",
              "  <thead>\n",
              "    <tr style=\"text-align: right;\">\n",
              "      <th></th>\n",
              "      <th>count</th>\n",
              "      <th>mean</th>\n",
              "      <th>std</th>\n",
              "      <th>min</th>\n",
              "      <th>25%</th>\n",
              "      <th>50%</th>\n",
              "      <th>75%</th>\n",
              "      <th>max</th>\n",
              "    </tr>\n",
              "    <tr>\n",
              "      <th>company_location</th>\n",
              "      <th></th>\n",
              "      <th></th>\n",
              "      <th></th>\n",
              "      <th></th>\n",
              "      <th></th>\n",
              "      <th></th>\n",
              "      <th></th>\n",
              "      <th></th>\n",
              "    </tr>\n",
              "  </thead>\n",
              "  <tbody>\n",
              "    <tr>\n",
              "      <th>CA</th>\n",
              "      <td>28.0</td>\n",
              "      <td>8343.0</td>\n",
              "      <td>3923.0</td>\n",
              "      <td>4333.0</td>\n",
              "      <td>5876.0</td>\n",
              "      <td>6824.0</td>\n",
              "      <td>9780.0</td>\n",
              "      <td>18750.0</td>\n",
              "    </tr>\n",
              "    <tr>\n",
              "      <th>DE</th>\n",
              "      <td>27.0</td>\n",
              "      <td>6796.0</td>\n",
              "      <td>3325.0</td>\n",
              "      <td>1330.0</td>\n",
              "      <td>4888.0</td>\n",
              "      <td>6402.0</td>\n",
              "      <td>7474.0</td>\n",
              "      <td>14480.0</td>\n",
              "    </tr>\n",
              "    <tr>\n",
              "      <th>ES</th>\n",
              "      <td>14.0</td>\n",
              "      <td>4421.0</td>\n",
              "      <td>1758.0</td>\n",
              "      <td>862.0</td>\n",
              "      <td>3339.0</td>\n",
              "      <td>4030.0</td>\n",
              "      <td>5732.0</td>\n",
              "      <td>7327.0</td>\n",
              "    </tr>\n",
              "    <tr>\n",
              "      <th>FR</th>\n",
              "      <td>15.0</td>\n",
              "      <td>5330.0</td>\n",
              "      <td>2390.0</td>\n",
              "      <td>3053.0</td>\n",
              "      <td>4016.0</td>\n",
              "      <td>4728.0</td>\n",
              "      <td>5761.0</td>\n",
              "      <td>12666.0</td>\n",
              "    </tr>\n",
              "    <tr>\n",
              "      <th>GB</th>\n",
              "      <td>46.0</td>\n",
              "      <td>6804.0</td>\n",
              "      <td>2487.0</td>\n",
              "      <td>3108.0</td>\n",
              "      <td>4743.0</td>\n",
              "      <td>6543.0</td>\n",
              "      <td>8693.0</td>\n",
              "      <td>15269.0</td>\n",
              "    </tr>\n",
              "    <tr>\n",
              "      <th>GR</th>\n",
              "      <td>10.0</td>\n",
              "      <td>4335.0</td>\n",
              "      <td>1696.0</td>\n",
              "      <td>1666.0</td>\n",
              "      <td>3428.0</td>\n",
              "      <td>4056.0</td>\n",
              "      <td>5266.0</td>\n",
              "      <td>7327.0</td>\n",
              "    </tr>\n",
              "    <tr>\n",
              "      <th>IN</th>\n",
              "      <td>24.0</td>\n",
              "      <td>2381.0</td>\n",
              "      <td>1891.0</td>\n",
              "      <td>450.0</td>\n",
              "      <td>1394.0</td>\n",
              "      <td>1844.0</td>\n",
              "      <td>2680.0</td>\n",
              "      <td>7888.0</td>\n",
              "    </tr>\n",
              "    <tr>\n",
              "      <th>JP</th>\n",
              "      <td>6.0</td>\n",
              "      <td>9510.0</td>\n",
              "      <td>6965.0</td>\n",
              "      <td>3474.0</td>\n",
              "      <td>5523.0</td>\n",
              "      <td>6306.0</td>\n",
              "      <td>12112.0</td>\n",
              "      <td>21666.0</td>\n",
              "    </tr>\n",
              "    <tr>\n",
              "      <th>US</th>\n",
              "      <td>318.0</td>\n",
              "      <td>12024.0</td>\n",
              "      <td>6044.0</td>\n",
              "      <td>473.0</td>\n",
              "      <td>8333.0</td>\n",
              "      <td>11250.0</td>\n",
              "      <td>14416.0</td>\n",
              "      <td>50000.0</td>\n",
              "    </tr>\n",
              "    <tr>\n",
              "      <th>other</th>\n",
              "      <td>77.0</td>\n",
              "      <td>4604.0</td>\n",
              "      <td>3500.0</td>\n",
              "      <td>238.0</td>\n",
              "      <td>1820.0</td>\n",
              "      <td>3824.0</td>\n",
              "      <td>6895.0</td>\n",
              "      <td>19166.0</td>\n",
              "    </tr>\n",
              "  </tbody>\n",
              "</table>\n",
              "</div>"
            ],
            "text/plain": [
              "                  count     mean     std     min     25%      50%      75%  \\\n",
              "company_location                                                             \n",
              "CA                 28.0   8343.0  3923.0  4333.0  5876.0   6824.0   9780.0   \n",
              "DE                 27.0   6796.0  3325.0  1330.0  4888.0   6402.0   7474.0   \n",
              "ES                 14.0   4421.0  1758.0   862.0  3339.0   4030.0   5732.0   \n",
              "FR                 15.0   5330.0  2390.0  3053.0  4016.0   4728.0   5761.0   \n",
              "GB                 46.0   6804.0  2487.0  3108.0  4743.0   6543.0   8693.0   \n",
              "GR                 10.0   4335.0  1696.0  1666.0  3428.0   4056.0   5266.0   \n",
              "IN                 24.0   2381.0  1891.0   450.0  1394.0   1844.0   2680.0   \n",
              "JP                  6.0   9510.0  6965.0  3474.0  5523.0   6306.0  12112.0   \n",
              "US                318.0  12024.0  6044.0   473.0  8333.0  11250.0  14416.0   \n",
              "other              77.0   4604.0  3500.0   238.0  1820.0   3824.0   6895.0   \n",
              "\n",
              "                      max  \n",
              "company_location           \n",
              "CA                18750.0  \n",
              "DE                14480.0  \n",
              "ES                 7327.0  \n",
              "FR                12666.0  \n",
              "GB                15269.0  \n",
              "GR                 7327.0  \n",
              "IN                 7888.0  \n",
              "JP                21666.0  \n",
              "US                50000.0  \n",
              "other             19166.0  "
            ]
          },
          "execution_count": 294,
          "metadata": {},
          "output_type": "execute_result"
        }
      ],
      "source": [
        "# Salary table by location of the company.\n",
        "table = df_salaries.groupby('company_location')[\n",
        "    'monthly_salary'].describe().round()\n",
        "print('The amount of salary depends on the size of the company.')\n",
        "table"
      ]
    },
    {
      "attachments": {},
      "cell_type": "markdown",
      "metadata": {},
      "source": [
        "**Output:**\n",
        "\n",
        "* The location of the company affects the salary level of employees. \n",
        "\n",
        "In order to check whether these differences are statistically significant, we will conduct statistical testing in the next section."
      ]
    },
    {
      "attachments": {},
      "cell_type": "markdown",
      "metadata": {},
      "source": [
        "### We will give graphic answers to the questions posed.\n",
        "\n",
        "1. Is there an increase in salaries of *Data Scientist* specialists for each year?\n",
        "2. How do the salaries of *Data Scientist* and *Data Engineer* compare in 2022?\n",
        "3. How do the salaries of *Data Scientist* and *Data Engineer* specialists in companies of various sizes compare?\n",
        "4. Is there a connection between the presence of positions *Data Scientist* and *Data Engineer* and the size of the company?"
      ]
    },
    {
      "attachments": {},
      "cell_type": "markdown",
      "metadata": {},
      "source": [
        "### Question 1. Is there an increase in salaries of *Data Scientist* specialists for each year?"
      ]
    },
    {
      "cell_type": "code",
      "execution_count": 295,
      "metadata": {},
      "outputs": [
        {
          "data": {
            "image/png": "[encoded data removed]",
            "text/plain": [
              "<Figure size 640x480 with 1 Axes>"
            ]
          },
          "metadata": {},
          "output_type": "display_data"
        }
      ],
      "source": [
        "# Filter out only the values for Data Scientist.\n",
        "ds = df_salaries[df_salaries['job_title'] == 'Data Scientist']\n",
        "\n",
        "# Let's build box diagrams by year.\n",
        "ax = sns.boxplot(ds,  x='monthly_salary', y='work_year', orient='h',\n",
        "                 medianprops={\"color\": \"red\", \"linestyle\": '--'})\n",
        "ax.set(xlabel='The amount of remuneration', ylabel='Год')\n",
        "plt.title('The amount of remuneration depending on the year.', size=15)\n",
        "plt.show()"
      ]
    },
    {
      "cell_type": "code",
      "execution_count": 296,
      "metadata": {},
      "outputs": [
        {
          "data": {
            "text/html": [
              "<div>\n",
              "<style scoped>\n",
              "    .dataframe tbody tr th:only-of-type {\n",
              "        vertical-align: middle;\n",
              "    }\n",
              "\n",
              "    .dataframe tbody tr th {\n",
              "        vertical-align: top;\n",
              "    }\n",
              "\n",
              "    .dataframe thead th {\n",
              "        text-align: right;\n",
              "    }\n",
              "</style>\n",
              "<table border=\"1\" class=\"dataframe\">\n",
              "  <thead>\n",
              "    <tr style=\"text-align: right;\">\n",
              "      <th></th>\n",
              "      <th>count</th>\n",
              "      <th>mean</th>\n",
              "      <th>std</th>\n",
              "      <th>min</th>\n",
              "      <th>25%</th>\n",
              "      <th>50%</th>\n",
              "      <th>75%</th>\n",
              "      <th>max</th>\n",
              "    </tr>\n",
              "    <tr>\n",
              "      <th>work_year</th>\n",
              "      <th></th>\n",
              "      <th></th>\n",
              "      <th></th>\n",
              "      <th></th>\n",
              "      <th></th>\n",
              "      <th></th>\n",
              "      <th></th>\n",
              "      <th></th>\n",
              "    </tr>\n",
              "  </thead>\n",
              "  <tbody>\n",
              "    <tr>\n",
              "      <th>2020</th>\n",
              "      <td>21.0</td>\n",
              "      <td>7164.0</td>\n",
              "      <td>6786.0</td>\n",
              "      <td>1805.0</td>\n",
              "      <td>3516.0</td>\n",
              "      <td>5227.0</td>\n",
              "      <td>8750.0</td>\n",
              "      <td>34333.0</td>\n",
              "    </tr>\n",
              "    <tr>\n",
              "      <th>2021</th>\n",
              "      <td>44.0</td>\n",
              "      <td>5851.0</td>\n",
              "      <td>3820.0</td>\n",
              "      <td>238.0</td>\n",
              "      <td>2732.0</td>\n",
              "      <td>5602.0</td>\n",
              "      <td>8410.0</td>\n",
              "      <td>13750.0</td>\n",
              "    </tr>\n",
              "    <tr>\n",
              "      <th>2022</th>\n",
              "      <td>65.0</td>\n",
              "      <td>10947.0</td>\n",
              "      <td>4649.0</td>\n",
              "      <td>1536.0</td>\n",
              "      <td>7962.0</td>\n",
              "      <td>11250.0</td>\n",
              "      <td>14166.0</td>\n",
              "      <td>21666.0</td>\n",
              "    </tr>\n",
              "  </tbody>\n",
              "</table>\n",
              "</div>"
            ],
            "text/plain": [
              "           count     mean     std     min     25%      50%      75%      max\n",
              "work_year                                                                   \n",
              "2020        21.0   7164.0  6786.0  1805.0  3516.0   5227.0   8750.0  34333.0\n",
              "2021        44.0   5851.0  3820.0   238.0  2732.0   5602.0   8410.0  13750.0\n",
              "2022        65.0  10947.0  4649.0  1536.0  7962.0  11250.0  14166.0  21666.0"
            ]
          },
          "execution_count": 296,
          "metadata": {},
          "output_type": "execute_result"
        }
      ],
      "source": [
        "ds.groupby('work_year')['monthly_salary'].describe().round()"
      ]
    },
    {
      "attachments": {},
      "cell_type": "markdown",
      "metadata": {},
      "source": [
        "**Output:** the salary growth of a Data Scientist specialist is observed only from 2021 to 2022. In order to check whether these differences are statistically significant, we will conduct statistical testing in the next section."
      ]
    },
    {
      "attachments": {},
      "cell_type": "markdown",
      "metadata": {},
      "source": [
        "### Question 2. How do the salaries of *Data Scientist* and *Data Engineer* compare in 2022?"
      ]
    },
    {
      "cell_type": "code",
      "execution_count": 297,
      "metadata": {},
      "outputs": [
        {
          "data": {
            "text/html": [
              "<div>\n",
              "<style scoped>\n",
              "    .dataframe tbody tr th:only-of-type {\n",
              "        vertical-align: middle;\n",
              "    }\n",
              "\n",
              "    .dataframe tbody tr th {\n",
              "        vertical-align: top;\n",
              "    }\n",
              "\n",
              "    .dataframe thead th {\n",
              "        text-align: right;\n",
              "    }\n",
              "</style>\n",
              "<table border=\"1\" class=\"dataframe\">\n",
              "  <thead>\n",
              "    <tr style=\"text-align: right;\">\n",
              "      <th></th>\n",
              "      <th>monthly_salary</th>\n",
              "      <th>work_year</th>\n",
              "      <th>job_title</th>\n",
              "    </tr>\n",
              "  </thead>\n",
              "  <tbody>\n",
              "    <tr>\n",
              "      <th>289</th>\n",
              "      <td>11250</td>\n",
              "      <td>2022</td>\n",
              "      <td>Data Engineer</td>\n",
              "    </tr>\n",
              "    <tr>\n",
              "      <th>292</th>\n",
              "      <td>10833</td>\n",
              "      <td>2022</td>\n",
              "      <td>Data Scientist</td>\n",
              "    </tr>\n",
              "    <tr>\n",
              "      <th>293</th>\n",
              "      <td>7500</td>\n",
              "      <td>2022</td>\n",
              "      <td>Data Scientist</td>\n",
              "    </tr>\n",
              "    <tr>\n",
              "      <th>294</th>\n",
              "      <td>14166</td>\n",
              "      <td>2022</td>\n",
              "      <td>Data Engineer</td>\n",
              "    </tr>\n",
              "    <tr>\n",
              "      <th>295</th>\n",
              "      <td>12500</td>\n",
              "      <td>2022</td>\n",
              "      <td>Data Engineer</td>\n",
              "    </tr>\n",
              "    <tr>\n",
              "      <th>...</th>\n",
              "      <td>...</td>\n",
              "      <td>...</td>\n",
              "      <td>...</td>\n",
              "    </tr>\n",
              "    <tr>\n",
              "      <th>593</th>\n",
              "      <td>12500</td>\n",
              "      <td>2022</td>\n",
              "      <td>Data Scientist</td>\n",
              "    </tr>\n",
              "    <tr>\n",
              "      <th>598</th>\n",
              "      <td>13333</td>\n",
              "      <td>2022</td>\n",
              "      <td>Data Scientist</td>\n",
              "    </tr>\n",
              "    <tr>\n",
              "      <th>599</th>\n",
              "      <td>10833</td>\n",
              "      <td>2022</td>\n",
              "      <td>Data Scientist</td>\n",
              "    </tr>\n",
              "    <tr>\n",
              "      <th>602</th>\n",
              "      <td>12833</td>\n",
              "      <td>2022</td>\n",
              "      <td>Data Engineer</td>\n",
              "    </tr>\n",
              "    <tr>\n",
              "      <th>603</th>\n",
              "      <td>10500</td>\n",
              "      <td>2022</td>\n",
              "      <td>Data Engineer</td>\n",
              "    </tr>\n",
              "  </tbody>\n",
              "</table>\n",
              "<p>144 rows × 3 columns</p>\n",
              "</div>"
            ],
            "text/plain": [
              "     monthly_salary  work_year       job_title\n",
              "289           11250       2022   Data Engineer\n",
              "292           10833       2022  Data Scientist\n",
              "293            7500       2022  Data Scientist\n",
              "294           14166       2022   Data Engineer\n",
              "295           12500       2022   Data Engineer\n",
              "..              ...        ...             ...\n",
              "593           12500       2022  Data Scientist\n",
              "598           13333       2022  Data Scientist\n",
              "599           10833       2022  Data Scientist\n",
              "602           12833       2022   Data Engineer\n",
              "603           10500       2022   Data Engineer\n",
              "\n",
              "[144 rows x 3 columns]"
            ]
          },
          "execution_count": 297,
          "metadata": {},
          "output_type": "execute_result"
        }
      ],
      "source": [
        "# Filter out the necessary data\n",
        "de_ds_22 = df_salaries.loc[(df_salaries['work_year'] == 2022), [\n",
        "    'monthly_salary', 'work_year', 'job_title']]\n",
        "\n",
        "de_ds_22 = de_ds_22.loc[(de_ds_22['job_title'] == 'Data Engineer') |\n",
        "                        (de_ds_22['job_title'] == 'Data Scientist')]\n",
        "\n",
        "de_ds_22"
      ]
    },
    {
      "cell_type": "code",
      "execution_count": 298,
      "metadata": {},
      "outputs": [
        {
          "data": {
            "image/png": "[encoded data removed]",
            "text/plain": [
              "<Figure size 640x480 with 1 Axes>"
            ]
          },
          "metadata": {},
          "output_type": "display_data"
        }
      ],
      "source": [
        "#  Let's build a graph\n",
        "boxplot = sns.boxplot(\n",
        "    de_ds_22, x=de_ds_22['monthly_salary'], y=de_ds_22['job_title'])\n",
        "plt.title('Salaries of Data Scientist and Data Engineer in 2022.')\n",
        "plt.show()"
      ]
    },
    {
      "cell_type": "code",
      "execution_count": 299,
      "metadata": {},
      "outputs": [
        {
          "name": "stdout",
          "output_type": "stream",
          "text": [
            "Зарплаты Data Scientist и Data Engineer в 2022 году.\n"
          ]
        },
        {
          "data": {
            "text/html": [
              "<div>\n",
              "<style scoped>\n",
              "    .dataframe tbody tr th:only-of-type {\n",
              "        vertical-align: middle;\n",
              "    }\n",
              "\n",
              "    .dataframe tbody tr th {\n",
              "        vertical-align: top;\n",
              "    }\n",
              "\n",
              "    .dataframe thead th {\n",
              "        text-align: right;\n",
              "    }\n",
              "</style>\n",
              "<table border=\"1\" class=\"dataframe\">\n",
              "  <thead>\n",
              "    <tr style=\"text-align: right;\">\n",
              "      <th></th>\n",
              "      <th>count</th>\n",
              "      <th>mean</th>\n",
              "      <th>std</th>\n",
              "      <th>min</th>\n",
              "      <th>25%</th>\n",
              "      <th>50%</th>\n",
              "      <th>75%</th>\n",
              "      <th>max</th>\n",
              "    </tr>\n",
              "    <tr>\n",
              "      <th>job_title</th>\n",
              "      <th></th>\n",
              "      <th></th>\n",
              "      <th></th>\n",
              "      <th></th>\n",
              "      <th></th>\n",
              "      <th></th>\n",
              "      <th></th>\n",
              "      <th></th>\n",
              "    </tr>\n",
              "  </thead>\n",
              "  <tbody>\n",
              "    <tr>\n",
              "      <th>Data Engineer</th>\n",
              "      <td>79.0</td>\n",
              "      <td>10387.0</td>\n",
              "      <td>4821.0</td>\n",
              "      <td>2083.0</td>\n",
              "      <td>6543.0</td>\n",
              "      <td>9583.0</td>\n",
              "      <td>13336.0</td>\n",
              "      <td>27000.0</td>\n",
              "    </tr>\n",
              "    <tr>\n",
              "      <th>Data Scientist</th>\n",
              "      <td>65.0</td>\n",
              "      <td>10947.0</td>\n",
              "      <td>4649.0</td>\n",
              "      <td>1536.0</td>\n",
              "      <td>7962.0</td>\n",
              "      <td>11250.0</td>\n",
              "      <td>14166.0</td>\n",
              "      <td>21666.0</td>\n",
              "    </tr>\n",
              "  </tbody>\n",
              "</table>\n",
              "</div>"
            ],
            "text/plain": [
              "                count     mean     std     min     25%      50%      75%  \\\n",
              "job_title                                                                  \n",
              "Data Engineer    79.0  10387.0  4821.0  2083.0  6543.0   9583.0  13336.0   \n",
              "Data Scientist   65.0  10947.0  4649.0  1536.0  7962.0  11250.0  14166.0   \n",
              "\n",
              "                    max  \n",
              "job_title                \n",
              "Data Engineer   27000.0  \n",
              "Data Scientist  21666.0  "
            ]
          },
          "execution_count": 299,
          "metadata": {},
          "output_type": "execute_result"
        }
      ],
      "source": [
        "print('Зарплаты Data Scientist и Data Engineer в 2022 году.')\n",
        "de_ds_22.groupby('job_title')['monthly_salary'].describe().round()"
      ]
    },
    {
      "attachments": {},
      "cell_type": "markdown",
      "metadata": {},
      "source": [
        "**Output:** salaries of *Data Scientist* in 2022, more than that of *Data Engineer*.  In order to check whether these differences are statistically significant, we will conduct statistical testing in the next section."
      ]
    },
    {
      "attachments": {},
      "cell_type": "markdown",
      "metadata": {},
      "source": [
        "### Question 3. How do the salaries of *Data Scientist* and *Data Engineer* specialists in companies of various sizes compare?"
      ]
    },
    {
      "cell_type": "code",
      "execution_count": 300,
      "metadata": {},
      "outputs": [
        {
          "data": {
            "text/html": [
              "<div>\n",
              "<style scoped>\n",
              "    .dataframe tbody tr th:only-of-type {\n",
              "        vertical-align: middle;\n",
              "    }\n",
              "\n",
              "    .dataframe tbody tr th {\n",
              "        vertical-align: top;\n",
              "    }\n",
              "\n",
              "    .dataframe thead th {\n",
              "        text-align: right;\n",
              "    }\n",
              "</style>\n",
              "<table border=\"1\" class=\"dataframe\">\n",
              "  <thead>\n",
              "    <tr style=\"text-align: right;\">\n",
              "      <th></th>\n",
              "      <th>monthly_salary</th>\n",
              "      <th>company_size</th>\n",
              "      <th>job_title</th>\n",
              "      <th>work_year</th>\n",
              "    </tr>\n",
              "  </thead>\n",
              "  <tbody>\n",
              "    <tr>\n",
              "      <th>0</th>\n",
              "      <td>6652</td>\n",
              "      <td>L</td>\n",
              "      <td>Data Scientist</td>\n",
              "      <td>2020</td>\n",
              "    </tr>\n",
              "    <tr>\n",
              "      <th>7</th>\n",
              "      <td>2977</td>\n",
              "      <td>L</td>\n",
              "      <td>Data Scientist</td>\n",
              "      <td>2020</td>\n",
              "    </tr>\n",
              "    <tr>\n",
              "      <th>10</th>\n",
              "      <td>4276</td>\n",
              "      <td>S</td>\n",
              "      <td>Data Scientist</td>\n",
              "      <td>2020</td>\n",
              "    </tr>\n",
              "    <tr>\n",
              "      <th>11</th>\n",
              "      <td>3373</td>\n",
              "      <td>L</td>\n",
              "      <td>Data Scientist</td>\n",
              "      <td>2020</td>\n",
              "    </tr>\n",
              "    <tr>\n",
              "      <th>12</th>\n",
              "      <td>3326</td>\n",
              "      <td>M</td>\n",
              "      <td>Data Scientist</td>\n",
              "      <td>2020</td>\n",
              "    </tr>\n",
              "    <tr>\n",
              "      <th>...</th>\n",
              "      <td>...</td>\n",
              "      <td>...</td>\n",
              "      <td>...</td>\n",
              "      <td>...</td>\n",
              "    </tr>\n",
              "    <tr>\n",
              "      <th>593</th>\n",
              "      <td>12500</td>\n",
              "      <td>M</td>\n",
              "      <td>Data Scientist</td>\n",
              "      <td>2022</td>\n",
              "    </tr>\n",
              "    <tr>\n",
              "      <th>598</th>\n",
              "      <td>13333</td>\n",
              "      <td>M</td>\n",
              "      <td>Data Scientist</td>\n",
              "      <td>2022</td>\n",
              "    </tr>\n",
              "    <tr>\n",
              "      <th>599</th>\n",
              "      <td>10833</td>\n",
              "      <td>M</td>\n",
              "      <td>Data Scientist</td>\n",
              "      <td>2022</td>\n",
              "    </tr>\n",
              "    <tr>\n",
              "      <th>602</th>\n",
              "      <td>12833</td>\n",
              "      <td>M</td>\n",
              "      <td>Data Engineer</td>\n",
              "      <td>2022</td>\n",
              "    </tr>\n",
              "    <tr>\n",
              "      <th>603</th>\n",
              "      <td>10500</td>\n",
              "      <td>M</td>\n",
              "      <td>Data Engineer</td>\n",
              "      <td>2022</td>\n",
              "    </tr>\n",
              "  </tbody>\n",
              "</table>\n",
              "<p>251 rows × 4 columns</p>\n",
              "</div>"
            ],
            "text/plain": [
              "     monthly_salary company_size       job_title  work_year\n",
              "0              6652            L  Data Scientist       2020\n",
              "7              2977            L  Data Scientist       2020\n",
              "10             4276            S  Data Scientist       2020\n",
              "11             3373            L  Data Scientist       2020\n",
              "12             3326            M  Data Scientist       2020\n",
              "..              ...          ...             ...        ...\n",
              "593           12500            M  Data Scientist       2022\n",
              "598           13333            M  Data Scientist       2022\n",
              "599           10833            M  Data Scientist       2022\n",
              "602           12833            M   Data Engineer       2022\n",
              "603           10500            M   Data Engineer       2022\n",
              "\n",
              "[251 rows x 4 columns]"
            ]
          },
          "execution_count": 300,
          "metadata": {},
          "output_type": "execute_result"
        }
      ],
      "source": [
        "# Filter out the necessary data\n",
        "de_ds_comp_size = df_salaries.loc[(df_salaries['job_title'] == 'Data Engineer') | (\n",
        "    df_salaries['job_title'] == 'Data Scientist'), ['monthly_salary', 'company_size', 'job_title', 'work_year']]\n",
        "\n",
        "de_ds_comp_size"
      ]
    },
    {
      "cell_type": "code",
      "execution_count": 301,
      "metadata": {},
      "outputs": [
        {
          "data": {
            "image/png": "[encoded data removed]",
            "text/plain": [
              "<Figure size 640x480 with 1 Axes>"
            ]
          },
          "metadata": {},
          "output_type": "display_data"
        }
      ],
      "source": [
        "#  Let's build a graph\n",
        "boxtplot = sns.boxplot(de_ds_comp_size, x=de_ds_comp_size['monthly_salary'],\n",
        "                       y=de_ds_comp_size['company_size'], hue='job_title',\n",
        "                       order=['L', 'M', 'S'])\n",
        "plt.title('Salaries of Data Scientist and Data Engineer depend on the size of the company.')\n",
        "plt.show()"
      ]
    },
    {
      "cell_type": "code",
      "execution_count": 302,
      "metadata": {},
      "outputs": [
        {
          "name": "stdout",
          "output_type": "stream",
          "text": [
            "Salaries of Data Scientist and Data Engineer depend on the size of the company.\n"
          ]
        },
        {
          "data": {
            "text/html": [
              "<div>\n",
              "<style scoped>\n",
              "    .dataframe tbody tr th:only-of-type {\n",
              "        vertical-align: middle;\n",
              "    }\n",
              "\n",
              "    .dataframe tbody tr th {\n",
              "        vertical-align: top;\n",
              "    }\n",
              "\n",
              "    .dataframe thead th {\n",
              "        text-align: right;\n",
              "    }\n",
              "</style>\n",
              "<table border=\"1\" class=\"dataframe\">\n",
              "  <thead>\n",
              "    <tr style=\"text-align: right;\">\n",
              "      <th></th>\n",
              "      <th></th>\n",
              "      <th>count</th>\n",
              "      <th>mean</th>\n",
              "      <th>std</th>\n",
              "      <th>min</th>\n",
              "      <th>25%</th>\n",
              "      <th>50%</th>\n",
              "      <th>75%</th>\n",
              "      <th>max</th>\n",
              "    </tr>\n",
              "    <tr>\n",
              "      <th>company_size</th>\n",
              "      <th>job_title</th>\n",
              "      <th></th>\n",
              "      <th></th>\n",
              "      <th></th>\n",
              "      <th></th>\n",
              "      <th></th>\n",
              "      <th></th>\n",
              "      <th></th>\n",
              "      <th></th>\n",
              "    </tr>\n",
              "  </thead>\n",
              "  <tbody>\n",
              "    <tr>\n",
              "      <th rowspan=\"2\" valign=\"top\">L</th>\n",
              "      <th>Data Engineer</th>\n",
              "      <td>34.0</td>\n",
              "      <td>8073.0</td>\n",
              "      <td>4334.0</td>\n",
              "      <td>1666.0</td>\n",
              "      <td>4887.0</td>\n",
              "      <td>7762.0</td>\n",
              "      <td>9414.0</td>\n",
              "      <td>17425.0</td>\n",
              "    </tr>\n",
              "    <tr>\n",
              "      <th>Data Scientist</th>\n",
              "      <td>43.0</td>\n",
              "      <td>8562.0</td>\n",
              "      <td>6105.0</td>\n",
              "      <td>1116.0</td>\n",
              "      <td>3770.0</td>\n",
              "      <td>7561.0</td>\n",
              "      <td>11250.0</td>\n",
              "      <td>34333.0</td>\n",
              "    </tr>\n",
              "    <tr>\n",
              "      <th rowspan=\"2\" valign=\"top\">M</th>\n",
              "      <th>Data Engineer</th>\n",
              "      <td>81.0</td>\n",
              "      <td>9864.0</td>\n",
              "      <td>5019.0</td>\n",
              "      <td>333.0</td>\n",
              "      <td>6411.0</td>\n",
              "      <td>9208.0</td>\n",
              "      <td>13050.0</td>\n",
              "      <td>27000.0</td>\n",
              "    </tr>\n",
              "    <tr>\n",
              "      <th>Data Scientist</th>\n",
              "      <td>66.0</td>\n",
              "      <td>10006.0</td>\n",
              "      <td>4696.0</td>\n",
              "      <td>333.0</td>\n",
              "      <td>6666.0</td>\n",
              "      <td>9960.0</td>\n",
              "      <td>13125.0</td>\n",
              "      <td>21666.0</td>\n",
              "    </tr>\n",
              "    <tr>\n",
              "      <th rowspan=\"2\" valign=\"top\">S</th>\n",
              "      <th>Data Engineer</th>\n",
              "      <td>6.0</td>\n",
              "      <td>5528.0</td>\n",
              "      <td>2405.0</td>\n",
              "      <td>2792.0</td>\n",
              "      <td>3960.0</td>\n",
              "      <td>5458.0</td>\n",
              "      <td>6177.0</td>\n",
              "      <td>9583.0</td>\n",
              "    </tr>\n",
              "    <tr>\n",
              "      <th>Data Scientist</th>\n",
              "      <td>21.0</td>\n",
              "      <td>4327.0</td>\n",
              "      <td>2768.0</td>\n",
              "      <td>238.0</td>\n",
              "      <td>1805.0</td>\n",
              "      <td>4105.0</td>\n",
              "      <td>6875.0</td>\n",
              "      <td>8750.0</td>\n",
              "    </tr>\n",
              "  </tbody>\n",
              "</table>\n",
              "</div>"
            ],
            "text/plain": [
              "                             count     mean     std     min     25%     50%  \\\n",
              "company_size job_title                                                        \n",
              "L            Data Engineer    34.0   8073.0  4334.0  1666.0  4887.0  7762.0   \n",
              "             Data Scientist   43.0   8562.0  6105.0  1116.0  3770.0  7561.0   \n",
              "M            Data Engineer    81.0   9864.0  5019.0   333.0  6411.0  9208.0   \n",
              "             Data Scientist   66.0  10006.0  4696.0   333.0  6666.0  9960.0   \n",
              "S            Data Engineer     6.0   5528.0  2405.0  2792.0  3960.0  5458.0   \n",
              "             Data Scientist   21.0   4327.0  2768.0   238.0  1805.0  4105.0   \n",
              "\n",
              "                                 75%      max  \n",
              "company_size job_title                         \n",
              "L            Data Engineer    9414.0  17425.0  \n",
              "             Data Scientist  11250.0  34333.0  \n",
              "M            Data Engineer   13050.0  27000.0  \n",
              "             Data Scientist  13125.0  21666.0  \n",
              "S            Data Engineer    6177.0   9583.0  \n",
              "             Data Scientist   6875.0   8750.0  "
            ]
          },
          "execution_count": 302,
          "metadata": {},
          "output_type": "execute_result"
        }
      ],
      "source": [
        "print('Salaries of Data Scientist and Data Engineer depend on the size of the company.')\n",
        "de_ds_comp_size.groupby(['company_size', 'job_title'])[\n",
        "    'monthly_salary'].describe().round()"
      ]
    },
    {
      "attachments": {},
      "cell_type": "markdown",
      "metadata": {},
      "source": [
        "**Output:**\n",
        "- salaries of *Data Scientist* and *Data Engineer* vary depending on the size of the company. The average salary in companies of the size of *M* is higher than in others, and the salary of specialists in companies of different sizes is approximately the same.  In order to check whether these differences are statistically significant, we will conduct statistical testing in the next section."
      ]
    },
    {
      "attachments": {},
      "cell_type": "markdown",
      "metadata": {},
      "source": [
        "### 4. Is there a connection between the presence of positions *Data Scientist* and *Data Engineer* and the size of the company?\n",
        "\n",
        "Let's find the correlation coefficient and plot the graphs."
      ]
    },
    {
      "cell_type": "code",
      "execution_count": 303,
      "metadata": {},
      "outputs": [
        {
          "data": {
            "image/png": "[encoded data removed]",
            "text/plain": [
              "<Figure size 640x480 with 1 Axes>"
            ]
          },
          "metadata": {},
          "output_type": "display_data"
        }
      ],
      "source": [
        "ax = sns.countplot(de_ds_comp_size, x=de_ds_comp_size['company_size'],\n",
        "                   hue='job_title', order=['S', 'M', 'L'])\n",
        "plt.title('The relationship between the availability of Data Scientist and Data Engineer positions and the size of the company.')\n",
        "# To display values on a graph.\n",
        "for rect in ax.patches:\n",
        "    ax.text(rect.get_x()+rect.get_width()/2, rect.get_height()+0.75,\n",
        "            rect.get_height(), horizontalalignment='center', fontsize=11)\n",
        "\n",
        "plt.show()"
      ]
    },
    {
      "cell_type": "code",
      "execution_count": 304,
      "metadata": {},
      "outputs": [
        {
          "data": {
            "text/html": [
              "<div>\n",
              "<style scoped>\n",
              "    .dataframe tbody tr th:only-of-type {\n",
              "        vertical-align: middle;\n",
              "    }\n",
              "\n",
              "    .dataframe tbody tr th {\n",
              "        vertical-align: top;\n",
              "    }\n",
              "\n",
              "    .dataframe thead th {\n",
              "        text-align: right;\n",
              "    }\n",
              "</style>\n",
              "<table border=\"1\" class=\"dataframe\">\n",
              "  <thead>\n",
              "    <tr style=\"text-align: right;\">\n",
              "      <th>job_title</th>\n",
              "      <th>Data Engineer</th>\n",
              "      <th>Data Scientist</th>\n",
              "      <th>DE/DS соотношение</th>\n",
              "    </tr>\n",
              "    <tr>\n",
              "      <th>company_size</th>\n",
              "      <th></th>\n",
              "      <th></th>\n",
              "      <th></th>\n",
              "    </tr>\n",
              "  </thead>\n",
              "  <tbody>\n",
              "    <tr>\n",
              "      <th>L</th>\n",
              "      <td>34</td>\n",
              "      <td>43</td>\n",
              "      <td>0.79</td>\n",
              "    </tr>\n",
              "    <tr>\n",
              "      <th>M</th>\n",
              "      <td>81</td>\n",
              "      <td>66</td>\n",
              "      <td>1.23</td>\n",
              "    </tr>\n",
              "    <tr>\n",
              "      <th>S</th>\n",
              "      <td>6</td>\n",
              "      <td>21</td>\n",
              "      <td>0.29</td>\n",
              "    </tr>\n",
              "  </tbody>\n",
              "</table>\n",
              "</div>"
            ],
            "text/plain": [
              "job_title     Data Engineer  Data Scientist  DE/DS соотношение\n",
              "company_size                                                  \n",
              "L                        34              43               0.79\n",
              "M                        81              66               1.23\n",
              "S                         6              21               0.29"
            ]
          },
          "execution_count": 304,
          "metadata": {},
          "output_type": "execute_result"
        }
      ],
      "source": [
        "crosstab = pd.crosstab(\n",
        "    de_ds_comp_size['company_size'], de_ds_comp_size['job_title'])\n",
        "crosstab['DE/DS соотношение'] = round(\n",
        "    crosstab['Data Engineer']/crosstab['Data Scientist'], 2)\n",
        "crosstab"
      ]
    },
    {
      "attachments": {},
      "cell_type": "markdown",
      "metadata": {},
      "source": [
        "**Output:** \n",
        "- for large companies DE(Data Engineer) < DS(Data Scientist);\n",
        "- for medium-sized companies DE > DS;\n",
        "- for small companies DE < DS.\n",
        "\n",
        "In order to check whether these differences are statistically significant, we will conduct statistical testing in the next section."
      ]
    },
    {
      "attachments": {},
      "cell_type": "markdown",
      "metadata": {},
      "source": [
        "### II.2. Statistical data analysis."
      ]
    },
    {
      "attachments": {},
      "cell_type": "markdown",
      "metadata": {},
      "source": [
        "For statistical analysis , we will write three functions:\n",
        "\n",
        "1. Function <font color='green'><i>decision_normality()</i></font> - checks the data for normality and makes a conclusion whether the data is distributed normally or not.\n",
        "\n",
        "2. The function <font color='green'><i>decision_variance()</i></font> checks the data for equality of variances and concludes whether the variances are equal or not.\n",
        "\n",
        "3. Function <font color='green'><i>decision_hypothesis()</i></font> - checks the data on the hypothesis and concludes whether there is a relationship between the signs or not, i.e. we accept the alternative or reject it."
      ]
    },
    {
      "cell_type": "code",
      "execution_count": 305,
      "metadata": {},
      "outputs": [],
      "source": [
        "# function for deciding on normality\n",
        "def decision_normality(p):\n",
        "    print('p-value = {:.3f}'.format(p))\n",
        "    if p <= alpha:\n",
        "        print('''p-value is less than the specified significance level {:.2f}.\n",
        "The distribution is different from normal.'''.format(alpha))\n",
        "    else:\n",
        "        print('''The p-value is greater than the specified significance level {:.2f}\n",
        "The distribution is normal.'''.format(alpha))\n",
        "\n",
        "\n",
        "# a function for making decisions about the equality of variances\n",
        "def decision_variance(p):\n",
        "    print('p-value = {:.3f}'.format(p))\n",
        "    if p <= alpha:\n",
        "        print('''The variances are not the same.''')\n",
        "    else:\n",
        "        print('''The variances are the same.''')\n",
        "\n",
        "\n",
        "# function for deciding whether to reject the null hypothesis\n",
        "def decision_hypothesis(p):\n",
        "    print('p-value = {:.3f}'.format(p))\n",
        "    if p <= alpha:\n",
        "        print('''p-value is less than the specified significance level {:.2f}.\n",
        "We reject the null hypothesis in favor of an alternative one.'''\n",
        "              .format(alpha))\n",
        "    else:\n",
        "        print('''The p-value is greater than the specified significance level {:.2f}.\n",
        "We have no reason to reject the null hypothesis.'''.format(alpha))"
      ]
    },
    {
      "attachments": {},
      "cell_type": "markdown",
      "metadata": {},
      "source": [
        "We will formulate hypotheses for the questions and conduct statistical testing:"
      ]
    },
    {
      "attachments": {},
      "cell_type": "markdown",
      "metadata": {},
      "source": [
        "#### **Question 1**. Is there an annual increase in salaries for *Data Scientist* specialists?"
      ]
    },
    {
      "cell_type": "code",
      "execution_count": 306,
      "metadata": {},
      "outputs": [
        {
          "name": "stdout",
          "output_type": "stream",
          "text": [
            "Descriptive Data Scientist Salary Table by year.\n"
          ]
        },
        {
          "data": {
            "text/html": [
              "<div>\n",
              "<style scoped>\n",
              "    .dataframe tbody tr th:only-of-type {\n",
              "        vertical-align: middle;\n",
              "    }\n",
              "\n",
              "    .dataframe tbody tr th {\n",
              "        vertical-align: top;\n",
              "    }\n",
              "\n",
              "    .dataframe thead th {\n",
              "        text-align: right;\n",
              "    }\n",
              "</style>\n",
              "<table border=\"1\" class=\"dataframe\">\n",
              "  <thead>\n",
              "    <tr style=\"text-align: right;\">\n",
              "      <th></th>\n",
              "      <th>count</th>\n",
              "      <th>mean</th>\n",
              "      <th>std</th>\n",
              "      <th>min</th>\n",
              "      <th>25%</th>\n",
              "      <th>50%</th>\n",
              "      <th>75%</th>\n",
              "      <th>max</th>\n",
              "    </tr>\n",
              "    <tr>\n",
              "      <th>work_year</th>\n",
              "      <th></th>\n",
              "      <th></th>\n",
              "      <th></th>\n",
              "      <th></th>\n",
              "      <th></th>\n",
              "      <th></th>\n",
              "      <th></th>\n",
              "      <th></th>\n",
              "    </tr>\n",
              "  </thead>\n",
              "  <tbody>\n",
              "    <tr>\n",
              "      <th>2020</th>\n",
              "      <td>21.0</td>\n",
              "      <td>7164.0</td>\n",
              "      <td>6786.0</td>\n",
              "      <td>1805.0</td>\n",
              "      <td>3516.0</td>\n",
              "      <td>5227.0</td>\n",
              "      <td>8750.0</td>\n",
              "      <td>34333.0</td>\n",
              "    </tr>\n",
              "    <tr>\n",
              "      <th>2021</th>\n",
              "      <td>44.0</td>\n",
              "      <td>5851.0</td>\n",
              "      <td>3820.0</td>\n",
              "      <td>238.0</td>\n",
              "      <td>2732.0</td>\n",
              "      <td>5602.0</td>\n",
              "      <td>8410.0</td>\n",
              "      <td>13750.0</td>\n",
              "    </tr>\n",
              "    <tr>\n",
              "      <th>2022</th>\n",
              "      <td>65.0</td>\n",
              "      <td>10947.0</td>\n",
              "      <td>4649.0</td>\n",
              "      <td>1536.0</td>\n",
              "      <td>7962.0</td>\n",
              "      <td>11250.0</td>\n",
              "      <td>14166.0</td>\n",
              "      <td>21666.0</td>\n",
              "    </tr>\n",
              "  </tbody>\n",
              "</table>\n",
              "</div>"
            ],
            "text/plain": [
              "           count     mean     std     min     25%      50%      75%      max\n",
              "work_year                                                                   \n",
              "2020        21.0   7164.0  6786.0  1805.0  3516.0   5227.0   8750.0  34333.0\n",
              "2021        44.0   5851.0  3820.0   238.0  2732.0   5602.0   8410.0  13750.0\n",
              "2022        65.0  10947.0  4649.0  1536.0  7962.0  11250.0  14166.0  21666.0"
            ]
          },
          "execution_count": 306,
          "metadata": {},
          "output_type": "execute_result"
        }
      ],
      "source": [
        "# Filter out only the values for Data Scientist.\n",
        "ds = df_salaries[df_salaries['job_title'] == 'Data Scientist']\n",
        "\n",
        "ds_agg = ds.groupby('work_year')['monthly_salary'].describe().round()\n",
        "print('Descriptive Data Scientist Salary Table by year.')\n",
        "ds_agg"
      ]
    },
    {
      "attachments": {},
      "cell_type": "markdown",
      "metadata": {},
      "source": [
        "From the available data, we see that there are only 21 values in the **count** column for 2020, whereas there are 65 values for 2022. If we align the number of values by years, and fill in the missing ones with the average, then when using tests for 2 or 3 groups, we will get a non-correct conclusion on hypothysis. Therefore, we use tests for one group and compare it with the average salary value for the previous year."
      ]
    },
    {
      "attachments": {},
      "cell_type": "markdown",
      "metadata": {},
      "source": [
        "**Formulate null and alternative hypotheses**\n",
        "\n",
        "*Null hypothesis* ($H_0$): the salary in 2021 ($µ_1$) is statistically less than or equal to the average salary in 2020 = 7164 dollars.\n",
        "\n",
        "$ H_0 : μ_1 <= 7164 $\n",
        "\n",
        "*Alternative hypothesis* ($H_1$): the salary in 2021 ($µ_1$) is statistically larger than the average salary in 2021 = 7164 dollars.\n",
        "\n",
        "$ H_1 : μ_1 > 7164 $\n",
        "\n",
        "This hypothesis will be tested between the average wage in 2021 and the sample for 2022. "
      ]
    },
    {
      "attachments": {},
      "cell_type": "markdown",
      "metadata": {},
      "source": [
        "**Checking for normality**\n",
        "\n",
        "Using the Shapiro-Wilk test, we will check whether the attribute is distributed normally. Recall the hypotheses of the Shapiro-Wilk test:\n",
        "\n",
        "*Null hypothesis* ($H_0$): The data distribution is normal.\n",
        "\n",
        "*Alternative hypothesis* ($H_1$): The data distribution is different from normal."
      ]
    },
    {
      "cell_type": "code",
      "execution_count": 307,
      "metadata": {},
      "outputs": [
        {
          "name": "stdout",
          "output_type": "stream",
          "text": [
            "For 2021:\n",
            "p-value = 0.107\n",
            "The p-value is greater than the specified significance level 0.05\n",
            "The distribution is normal.\n",
            "For 2022:\n",
            "p-value = 0.676\n",
            "The p-value is greater than the specified significance level 0.05\n",
            "The distribution is normal.\n"
          ]
        }
      ],
      "source": [
        "# Let's set the level with which we will compare.\n",
        "salary_20_m = ds_agg['mean'].iloc[0]\n",
        "salary_21_m = ds_agg['mean'].iloc[1]\n",
        "\n",
        "# Let's create a sample of salaries by year for Data Scientist.\n",
        "salary_21 = ds[ds['work_year'] == 2021]['monthly_salary']\n",
        "salary_22 = ds[ds['work_year'] == 2022]['monthly_salary']\n",
        "\n",
        "# We conduct the Shapiro-Wilk test for the normality of the distribution by year.\n",
        "print('For 2021:')\n",
        "result = stats.shapiro(salary_21)\n",
        "decision_normality(result[1])\n",
        "\n",
        "print('For 2022:')\n",
        "result = stats.shapiro(salary_22)\n",
        "decision_normality(result[1])"
      ]
    },
    {
      "attachments": {},
      "cell_type": "markdown",
      "metadata": {},
      "source": [
        "**Choose a suitable statistical test**\n",
        "\n",
        "To select the desired test, use the test selection algorithm. To do this, we will answer the following questions:\n",
        "* What is the type of the \"monthly_salary\" attribute? — Quantitative.\n",
        "* How many groups are being compared? — Alone.\n",
        "* Are groups dependent? - no.\n",
        "* Is the attribute distributed according to the normal law? - yes.\n",
        "\n",
        "To test our hypothesis, we can use a *single-sample t-test* to compare distributions with a given level.\n",
        "\n",
        "**We will conduct a test**"
      ]
    },
    {
      "cell_type": "code",
      "execution_count": 308,
      "metadata": {},
      "outputs": [
        {
          "name": "stdout",
          "output_type": "stream",
          "text": [
            "2021:\n",
            "p-value = 0.986\n",
            "The p-value is greater than the specified significance level 0.05.\n",
            "We have no reason to reject the null hypothesis.\n",
            "2022:\n",
            "p-value = 0.000\n",
            "p-value is less than the specified significance level 0.05.\n",
            "We reject the null hypothesis in favor of an alternative one.\n"
          ]
        }
      ],
      "source": [
        "# we are conducting a test\n",
        "_, p = stats.ttest_1samp(salary_21, popmean=salary_20_m, alternative='greater')\n",
        "print('2021:')\n",
        "decision_hypothesis(p)\n",
        "\n",
        "_, p = stats.ttest_1samp(salary_22, popmean=salary_21_m, alternative='greater')\n",
        "print('2022:')\n",
        "decision_hypothesis(p)"
      ]
    },
    {
      "attachments": {},
      "cell_type": "markdown",
      "metadata": {},
      "source": [
        "**Conclusion on the 1st question:** \n",
        "* the salary of a Data Scientist in 2021 compared to the average in 2020 has not changed;\n",
        "* the salary of a Data Scientist in 2022 is more than the average PO in 2021;\n",
        "* there is no annual salary growth for *Data Scientist* specialists."
      ]
    },
    {
      "attachments": {},
      "cell_type": "markdown",
      "metadata": {},
      "source": [
        "#### **Question 2**. How do the salaries of *Data Scientist* and *Data Engineer* compare in 2022?"
      ]
    },
    {
      "cell_type": "code",
      "execution_count": 309,
      "metadata": {},
      "outputs": [
        {
          "name": "stdout",
          "output_type": "stream",
          "text": [
            "Wages values for 2022:\n"
          ]
        },
        {
          "data": {
            "text/html": [
              "<div>\n",
              "<style scoped>\n",
              "    .dataframe tbody tr th:only-of-type {\n",
              "        vertical-align: middle;\n",
              "    }\n",
              "\n",
              "    .dataframe tbody tr th {\n",
              "        vertical-align: top;\n",
              "    }\n",
              "\n",
              "    .dataframe thead th {\n",
              "        text-align: right;\n",
              "    }\n",
              "</style>\n",
              "<table border=\"1\" class=\"dataframe\">\n",
              "  <thead>\n",
              "    <tr style=\"text-align: right;\">\n",
              "      <th></th>\n",
              "      <th>count</th>\n",
              "      <th>mean</th>\n",
              "      <th>std</th>\n",
              "      <th>min</th>\n",
              "      <th>25%</th>\n",
              "      <th>50%</th>\n",
              "      <th>75%</th>\n",
              "      <th>max</th>\n",
              "    </tr>\n",
              "    <tr>\n",
              "      <th>job_title</th>\n",
              "      <th></th>\n",
              "      <th></th>\n",
              "      <th></th>\n",
              "      <th></th>\n",
              "      <th></th>\n",
              "      <th></th>\n",
              "      <th></th>\n",
              "      <th></th>\n",
              "    </tr>\n",
              "  </thead>\n",
              "  <tbody>\n",
              "    <tr>\n",
              "      <th>Data Engineer</th>\n",
              "      <td>79.0</td>\n",
              "      <td>10387.0</td>\n",
              "      <td>4821.0</td>\n",
              "      <td>2083.0</td>\n",
              "      <td>6543.0</td>\n",
              "      <td>9583.0</td>\n",
              "      <td>13336.0</td>\n",
              "      <td>27000.0</td>\n",
              "    </tr>\n",
              "    <tr>\n",
              "      <th>Data Scientist</th>\n",
              "      <td>65.0</td>\n",
              "      <td>10947.0</td>\n",
              "      <td>4649.0</td>\n",
              "      <td>1536.0</td>\n",
              "      <td>7962.0</td>\n",
              "      <td>11250.0</td>\n",
              "      <td>14166.0</td>\n",
              "      <td>21666.0</td>\n",
              "    </tr>\n",
              "  </tbody>\n",
              "</table>\n",
              "</div>"
            ],
            "text/plain": [
              "                count     mean     std     min     25%      50%      75%  \\\n",
              "job_title                                                                  \n",
              "Data Engineer    79.0  10387.0  4821.0  2083.0  6543.0   9583.0  13336.0   \n",
              "Data Scientist   65.0  10947.0  4649.0  1536.0  7962.0  11250.0  14166.0   \n",
              "\n",
              "                    max  \n",
              "job_title                \n",
              "Data Engineer   27000.0  \n",
              "Data Scientist  21666.0  "
            ]
          },
          "execution_count": 309,
          "metadata": {},
          "output_type": "execute_result"
        }
      ],
      "source": [
        "# Let's create a table for the Data Scientist and Data Engineer PO for 2022.\n",
        "de_ds_22 = df_salaries[((df_salaries['job_title'] == 'Data Scientist')\n",
        "                       |(df_salaries['job_title'] == 'Data Engineer'))\n",
        "                       &(df_salaries['work_year'] == 2022)]\n",
        "\n",
        "de_ds_22_agg =  de_ds_22.groupby('job_title')['monthly_salary'].describe().round()\n",
        "print('Wages values for 2022:')\n",
        "de_ds_22_agg"
      ]
    },
    {
      "attachments": {},
      "cell_type": "markdown",
      "metadata": {},
      "source": [
        "Data sampling by wages *Data Scientist* and *Data Engineer* are different. Align the data by adding an average value to them."
      ]
    },
    {
      "cell_type": "code",
      "execution_count": 310,
      "metadata": {},
      "outputs": [
        {
          "data": {
            "text/html": [
              "<div>\n",
              "<style scoped>\n",
              "    .dataframe tbody tr th:only-of-type {\n",
              "        vertical-align: middle;\n",
              "    }\n",
              "\n",
              "    .dataframe tbody tr th {\n",
              "        vertical-align: top;\n",
              "    }\n",
              "\n",
              "    .dataframe thead th {\n",
              "        text-align: right;\n",
              "    }\n",
              "</style>\n",
              "<table border=\"1\" class=\"dataframe\">\n",
              "  <thead>\n",
              "    <tr style=\"text-align: right;\">\n",
              "      <th></th>\n",
              "      <th>DE_salary</th>\n",
              "      <th>DS_salary</th>\n",
              "    </tr>\n",
              "  </thead>\n",
              "  <tbody>\n",
              "    <tr>\n",
              "      <th>0</th>\n",
              "      <td>11250</td>\n",
              "      <td>10833.0</td>\n",
              "    </tr>\n",
              "    <tr>\n",
              "      <th>1</th>\n",
              "      <td>14166</td>\n",
              "      <td>7500.0</td>\n",
              "    </tr>\n",
              "    <tr>\n",
              "      <th>2</th>\n",
              "      <td>12500</td>\n",
              "      <td>11385.0</td>\n",
              "    </tr>\n",
              "    <tr>\n",
              "      <th>3</th>\n",
              "      <td>4362</td>\n",
              "      <td>8280.0</td>\n",
              "    </tr>\n",
              "    <tr>\n",
              "      <th>4</th>\n",
              "      <td>20166</td>\n",
              "      <td>9815.0</td>\n",
              "    </tr>\n",
              "    <tr>\n",
              "      <th>...</th>\n",
              "      <td>...</td>\n",
              "      <td>...</td>\n",
              "    </tr>\n",
              "    <tr>\n",
              "      <th>74</th>\n",
              "      <td>2083</td>\n",
              "      <td>10947.0</td>\n",
              "    </tr>\n",
              "    <tr>\n",
              "      <th>75</th>\n",
              "      <td>18342</td>\n",
              "      <td>10947.0</td>\n",
              "    </tr>\n",
              "    <tr>\n",
              "      <th>76</th>\n",
              "      <td>13340</td>\n",
              "      <td>10947.0</td>\n",
              "    </tr>\n",
              "    <tr>\n",
              "      <th>77</th>\n",
              "      <td>12833</td>\n",
              "      <td>10947.0</td>\n",
              "    </tr>\n",
              "    <tr>\n",
              "      <th>78</th>\n",
              "      <td>10500</td>\n",
              "      <td>10947.0</td>\n",
              "    </tr>\n",
              "  </tbody>\n",
              "</table>\n",
              "<p>79 rows × 2 columns</p>\n",
              "</div>"
            ],
            "text/plain": [
              "    DE_salary  DS_salary\n",
              "0       11250    10833.0\n",
              "1       14166     7500.0\n",
              "2       12500    11385.0\n",
              "3        4362     8280.0\n",
              "4       20166     9815.0\n",
              "..        ...        ...\n",
              "74       2083    10947.0\n",
              "75      18342    10947.0\n",
              "76      13340    10947.0\n",
              "77      12833    10947.0\n",
              "78      10500    10947.0\n",
              "\n",
              "[79 rows x 2 columns]"
            ]
          },
          "execution_count": 310,
          "metadata": {},
          "output_type": "execute_result"
        }
      ],
      "source": [
        "a = de_ds_22[de_ds_22['job_title']=='Data Engineer']['monthly_salary']\n",
        "b = de_ds_22[de_ds_22['job_title']=='Data Scientist']['monthly_salary']\n",
        "\n",
        "a.name='DE_salary'\n",
        "b.name='DS_salary'\n",
        "\n",
        "a.reset_index(drop=True,inplace=True)\n",
        "b.reset_index(drop=True,inplace=True)\n",
        "\n",
        "concat_table = pd.concat([a,b],axis=1)\n",
        "values = {'DS_salary':concat_table['DS_salary'].mean().round()}\n",
        "concat_table=concat_table.fillna(values)\n",
        "concat_table"
      ]
    },
    {
      "attachments": {},
      "cell_type": "markdown",
      "metadata": {},
      "source": [
        "Now we have the same sample of salary data for *Data Scientist* and *Data Engineer* in 2022. \n",
        "\n",
        "**Formulate null and alternative hypotheses**\n",
        "\n",
        "*Null hypothesis* ($H_0$): The wages *Data Scientist*($μ_1$) and *Data Engineer*($μ_2$) are statistically equal to each other in 2022.\n",
        "\n",
        "$ H_0 : μ_1 = μ_2 $\n",
        "\n",
        "*Alternative hypothesis* ($H_1$): The wages *Data Scientist*($µ_1$) and *Data Engineer*($µ_2$) are statistically not equal to each other in 2022.\n",
        "\n",
        "$ H_1 : μ_1 \\neq  μ_2 $"
      ]
    },
    {
      "attachments": {},
      "cell_type": "markdown",
      "metadata": {},
      "source": [
        "**Checking for normality**\n",
        "\n",
        "Using the Shapiro-Wilk test, we will check whether the attribute is distributed normally."
      ]
    },
    {
      "cell_type": "code",
      "execution_count": 311,
      "metadata": {},
      "outputs": [
        {
          "name": "stdout",
          "output_type": "stream",
          "text": [
            "ЗП Data Engineer в 22:\n",
            "p-value = 0.007\n",
            "p-value is less than the specified significance level 0.05.\n",
            "The distribution is different from normal.\n",
            "ЗП Data Scientist в 22:\n",
            "p-value = 0.205\n",
            "The p-value is greater than the specified significance level 0.05\n",
            "The distribution is normal.\n"
          ]
        }
      ],
      "source": [
        "# We are conducting the Shapiro-Wilk test for the normality of the distribution by year.\n",
        "print('ЗП Data Engineer в 22:')\n",
        "result = stats.shapiro(concat_table['DE_salary'])\n",
        "decision_normality(result[1])\n",
        "\n",
        "print('ЗП Data Scientist в 22:')\n",
        "result = stats.shapiro(concat_table['DS_salary'])\n",
        "decision_normality(result[1])"
      ]
    },
    {
      "attachments": {},
      "cell_type": "markdown",
      "metadata": {},
      "source": [
        "**Choose a suitable statistical test**\n",
        "\n",
        "To select the desired test, use the test selection algorithm. To do this, we will answer the following questions:\n",
        "* What is the type of the \"Salary amount\" attribute? — Quantitative.\n",
        "* How many groups are being compared? — Two.\n",
        "* Are groups dependent? - no.\n",
        "* Is the attribute distributed according to the normal law? - no.\n",
        "* Are the variances equal or not? because the feature is not distributed according to the normal law, it makes no sense to compare the variances.\n",
        "\n",
        "To test our hypothesis, we can use the nonparametric Mann-Whitney U-test of the *scipy.stats.mannwhitneyu* library.\n",
        "\n",
        "**Let's conduct a test**"
      ]
    },
    {
      "cell_type": "code",
      "execution_count": 312,
      "metadata": {},
      "outputs": [
        {
          "name": "stdout",
          "output_type": "stream",
          "text": [
            "ЗП Data Scientist и Data Engineer в 2022 году:\n",
            "p-value = 0.258\n",
            "The p-value is greater than the specified significance level 0.05.\n",
            "We have no reason to reject the null hypothesis.\n"
          ]
        }
      ],
      "source": [
        "# we are conducting a test\n",
        "_, p = stats.mannwhitneyu(\n",
        "    concat_table['DE_salary'], concat_table['DS_salary'], alternative='two-sided')\n",
        "print('ЗП Data Scientist и Data Engineer в 2022 году:')\n",
        "decision_hypothesis(p)"
      ]
    },
    {
      "attachments": {},
      "cell_type": "markdown",
      "metadata": {},
      "source": [
        "**Conclusion on the 2nd question:** \n",
        "* salaries of Data Scientist and *Data Engineer* in 2022 are statistically equal."
      ]
    },
    {
      "attachments": {},
      "cell_type": "markdown",
      "metadata": {},
      "source": [
        "#### **Question 3**. How do the salaries of *Data Scientist* and *Data Engineer* specialists in companies of various sizes compare?\n",
        "\n",
        "Types of companies by size:\n",
        "* S — less than 50 employees (small company);\n",
        "* M — from 50 to 250 employees (medium company);\n",
        "* L — more than 250 employees (large company)\n",
        "\n",
        "We have previously graphically found out that the wages *Data Scientist* and *Data Engineer* differ in companies of different sizes, we will conduct a test for the statistical significance of our hypothysis."
      ]
    },
    {
      "attachments": {},
      "cell_type": "markdown",
      "metadata": {},
      "source": [
        "**Formulate null and alternative hypotheses**\n",
        "\n",
        "*Null hypothesis* ($H_0$): The wages *Data Scientist* and *Data Engineer* in companies of different sizes are statistically equal to each other, where $μ_1$ is S (small company), $μ_2$ is M (medium company) and $μ_3$ is L (large company)\n",
        "\n",
        "$ H_0 : μ_1 = μ_2 = μ_3 $\n",
        "\n",
        "*Alternative hypothesis* ($H_1$): JV *Data Scientist* and *Data Engineer* in companies of different sizes are statistically not equal to each other.\n",
        "\n",
        "$ H_1 : μ_1 \\neq  μ_2 \\neq  μ_3 $"
      ]
    },
    {
      "cell_type": "code",
      "execution_count": 313,
      "metadata": {},
      "outputs": [
        {
          "name": "stdout",
          "output_type": "stream",
          "text": [
            "Total values of the wages Data Scientist and Data Engineer:\n"
          ]
        },
        {
          "data": {
            "text/plain": [
              "M    147\n",
              "L     77\n",
              "S     27\n",
              "Name: company_size, dtype: int64"
            ]
          },
          "execution_count": 313,
          "metadata": {},
          "output_type": "execute_result"
        }
      ],
      "source": [
        "print('Total values of the wages Data Scientist and Data Engineer:')\n",
        "de_ds_comp_size['company_size'].value_counts()"
      ]
    },
    {
      "cell_type": "code",
      "execution_count": 314,
      "metadata": {},
      "outputs": [
        {
          "name": "stdout",
          "output_type": "stream",
          "text": [
            "The number of Data Scientist wages values depending on the size of the company:\n",
            "M    66\n",
            "L    43\n",
            "S    21\n",
            "Name: company_size, dtype: int64\n",
            "\n",
            "The number of Data Engineer wages values depends on the size of the company:\n",
            "M    81\n",
            "L    34\n",
            "S     6\n",
            "Name: company_size, dtype: int64\n"
          ]
        }
      ],
      "source": [
        "ds = de_ds_comp_size[de_ds_comp_size['job_title'] == 'Data Scientist']\n",
        "\n",
        "print(f'''The number of Data Scientist wages values depending on the size of the company:\n",
        "{ds['company_size'].value_counts()}\\n''')\n",
        "\n",
        "de = de_ds_comp_size[de_ds_comp_size['job_title'] == 'Data Engineer']\n",
        "\n",
        "print(f'''The number of Data Engineer wages values depends on the size of the company:\n",
        "{de['company_size'].value_counts()}''')"
      ]
    },
    {
      "cell_type": "markdown",
      "metadata": {},
      "source": [
        "Since the variations of the PO in *Data Engineer* in small companies *S* are numerically small, we will ignore it by conducting statistical analysis and will consider the ratio only for companies with the size *M* and *L*.\n",
        "\n",
        "Fill in the missing data and bring it to the total maximum value for the sample. For Data Scientist max_ds = 66, for Data Engineer max_de = 81.  Let's write the function **increase_sample** *sample increment via interpolation* and apply it."
      ]
    },
    {
      "cell_type": "code",
      "execution_count": 315,
      "metadata": {},
      "outputs": [],
      "source": [
        "def increase_sample(data, n, vis=False):\n",
        "    \"\"\"Increasing the sample through interpolation.\n",
        "\n",
        "    Args:\n",
        "        data (_list_): initial list of values\n",
        "        n (_int_): the number of values to come to\n",
        "        vis (_bool_): visualizations, no default\n",
        "    Returns:\n",
        "        _array_: _enlarged list of valuesй_\n",
        "    \"\"\"\n",
        "    # scale by the size of the desired number of observations\n",
        "    x = list(range(n))\n",
        "\n",
        "    # scale by the size of the available number of observations\n",
        "    xp = np.linspace(0, n-1, num=len(data))\n",
        "\n",
        "    # data and method\n",
        "    fp = data\n",
        "    data_interp = np.interp(x, xp, fp)\n",
        "\n",
        "    # visualization\n",
        "    if vis:\n",
        "        plt.scatter(x, data_interp)  # new points on the chart\n",
        "        plt.scatter(xp, data)        # old points on the graph\n",
        "        \n",
        "    return data_interp"
      ]
    },
    {
      "cell_type": "code",
      "execution_count": 316,
      "metadata": {},
      "outputs": [
        {
          "name": "stdout",
          "output_type": "stream",
          "text": [
            "For clarity, how to change the sample for the Data Scientist wages\n",
            "with the size of the company L. The orange dots of the value are \"up to\", the green \"ones are incremental\".\n"
          ]
        },
        {
          "data": {
            "image/png": "[encoded data removed]",
            "text/plain": [
              "<Figure size 640x480 with 1 Axes>"
            ]
          },
          "metadata": {},
          "output_type": "display_data"
        }
      ],
      "source": [
        "# For Data Scientist\n",
        "\n",
        "# Variation of PO values depending on the size of companies.\n",
        "ds_M = list(ds['monthly_salary'][ds['company_size'] == 'M'])\n",
        "ds_L = list(ds['monthly_salary'][ds['company_size'] == 'L'])\n",
        "ds_S = list(ds['monthly_salary'][ds['company_size'] == 'S'])\n",
        "\n",
        "de_M = list(de['monthly_salary'][de['company_size'] == 'M'])\n",
        "de_L = list(de['monthly_salary'][de['company_size'] == 'L'])\n",
        "\n",
        "# desired number of observations\n",
        "max_ds = 66\n",
        "max_de = 81\n",
        "\n",
        "print(f'''For clarity, how to change the sample for the Data Scientist wages\n",
        "with the size of the company L. The orange dots of the value are \"up to\", the green \"ones are incremental\".''')\n",
        "inc_ds_L = increase_sample(ds_L, max_ds, vis=True).astype(int)\n",
        "inc_ds_S = increase_sample(ds_S, max_ds).astype(int)\n",
        "inc_de_L = increase_sample(de_L, max_de).astype(int)"
      ]
    },
    {
      "cell_type": "markdown",
      "metadata": {},
      "source": [
        "**Checking for normality**\n",
        "\n",
        "Using the Shapiro-Wilk test, we will check whether the attribute is distributed normally."
      ]
    },
    {
      "cell_type": "code",
      "execution_count": 317,
      "metadata": {},
      "outputs": [
        {
          "name": "stdout",
          "output_type": "stream",
          "text": [
            "For the Data Scientist wages:\n",
            "M:\n",
            "p-value = 0.896\n",
            "The p-value is greater than the specified significance level 0.05\n",
            "The distribution is normal.\n",
            "L:\n",
            "p-value = 0.000\n",
            "p-value is less than the specified significance level 0.05.\n",
            "The distribution is different from normal.\n",
            "S:\n",
            "p-value = 0.047\n",
            "p-value is less than the specified significance level 0.05.\n",
            "The distribution is different from normal.\n",
            "\n",
            "For the Data Engineer wages:\n",
            "M:\n",
            "p-value = 0.085\n",
            "The p-value is greater than the specified significance level 0.05\n",
            "The distribution is normal.\n",
            "L:\n",
            "p-value = 0.016\n",
            "p-value is less than the specified significance level 0.05.\n",
            "The distribution is different from normal.\n"
          ]
        }
      ],
      "source": [
        "# We perform the Shapiro-Wilk test for the normality of the distribution.\n",
        "print('For the Data Scientist wages:')\n",
        "print('M:')\n",
        "result = stats.shapiro(ds_M)\n",
        "decision_normality(result[1])\n",
        "print('L:')\n",
        "result = stats.shapiro(inc_ds_L)\n",
        "decision_normality(result[1])\n",
        "print('S:')\n",
        "result = stats.shapiro(inc_ds_S)\n",
        "decision_normality(result[1])\n",
        "\n",
        "\n",
        "print('\\nFor the Data Engineer wages:')\n",
        "print('M:')\n",
        "result = stats.shapiro(de_M)\n",
        "decision_normality(result[1])\n",
        "print('L:')\n",
        "result = stats.shapiro(inc_de_L)\n",
        "decision_normality(result[1])"
      ]
    },
    {
      "cell_type": "markdown",
      "metadata": {},
      "source": [
        "**Choose a suitable statistical test**\n",
        "\n",
        "To select the desired test, use the test selection algorithm. To do this, we will answer the following questions.\n",
        "\n",
        "*Data Scientist*:\n",
        "* What is the type of the \"monthly_salary\" attribute? — Quantitative.\n",
        "* How many groups are being compared? — Three.\n",
        "* Are groups dependent? - no.\n",
        "* Is the attribute distributed according to the normal law? - no. \n",
        "\n",
        "To test our hypothesis, we can use the Kruskal Wallis criterion.\n",
        "\n",
        "*Data Engineer*:\n",
        "* What is the type of the \"monthly_salary\" attribute? — Quantitative.\n",
        "* How many groups are being compared? — Two.\n",
        "* Are groups dependent? - no.\n",
        "* Is the attribute distributed according to the normal law? - no. \n",
        "\n",
        "To test our hypothesis, we can use the Mann-Whitney U-test.\n",
        "\n",
        "**We will conduct a test**"
      ]
    },
    {
      "cell_type": "code",
      "execution_count": 318,
      "metadata": {},
      "outputs": [
        {
          "name": "stdout",
          "output_type": "stream",
          "text": [
            "Data Scientist in companies with size M and S:\n",
            "p-value = 0.000\n",
            "p-value is less than the specified significance level 0.05.\n",
            "We reject the null hypothesis in favor of an alternative one.\n",
            "\n",
            "Data Engineer in companies with size M and L:\n",
            "p-value = 0.030\n",
            "p-value is less than the specified significance level 0.05.\n",
            "We reject the null hypothesis in favor of an alternative one.\n"
          ]
        }
      ],
      "source": [
        "# we are conducting a test\n",
        "_, p = stats.kruskal(inc_ds_L, ds_M, inc_ds_S)\n",
        "print('Data Scientist in companies with size M and S:')\n",
        "decision_hypothesis(p)\n",
        "\n",
        "_, p = stats.mannwhitneyu(de_M, inc_de_L, alternative='two-sided')\n",
        "print('\\nData Engineer in companies with size M and L:')\n",
        "decision_hypothesis(p)"
      ]
    },
    {
      "cell_type": "markdown",
      "metadata": {},
      "source": [
        "**Conclusion on the 3rd question:**\n",
        "* The size of the company affects the salary of *Data Scientist* and *Data Engineer*."
      ]
    },
    {
      "cell_type": "markdown",
      "metadata": {},
      "source": [
        "#### **Question 4**. Is there a connection between the presence of positions *Data Scientist* and *Data Engineer* and the size of the company?"
      ]
    },
    {
      "cell_type": "code",
      "execution_count": 319,
      "metadata": {},
      "outputs": [
        {
          "data": {
            "text/html": [
              "<div>\n",
              "<style scoped>\n",
              "    .dataframe tbody tr th:only-of-type {\n",
              "        vertical-align: middle;\n",
              "    }\n",
              "\n",
              "    .dataframe tbody tr th {\n",
              "        vertical-align: top;\n",
              "    }\n",
              "\n",
              "    .dataframe thead th {\n",
              "        text-align: right;\n",
              "    }\n",
              "</style>\n",
              "<table border=\"1\" class=\"dataframe\">\n",
              "  <thead>\n",
              "    <tr style=\"text-align: right;\">\n",
              "      <th></th>\n",
              "      <th>monthly_salary</th>\n",
              "      <th>company_size</th>\n",
              "      <th>job_title</th>\n",
              "      <th>work_year</th>\n",
              "    </tr>\n",
              "  </thead>\n",
              "  <tbody>\n",
              "    <tr>\n",
              "      <th>0</th>\n",
              "      <td>6652</td>\n",
              "      <td>L</td>\n",
              "      <td>Data Scientist</td>\n",
              "      <td>2020</td>\n",
              "    </tr>\n",
              "    <tr>\n",
              "      <th>7</th>\n",
              "      <td>2977</td>\n",
              "      <td>L</td>\n",
              "      <td>Data Scientist</td>\n",
              "      <td>2020</td>\n",
              "    </tr>\n",
              "    <tr>\n",
              "      <th>10</th>\n",
              "      <td>4276</td>\n",
              "      <td>S</td>\n",
              "      <td>Data Scientist</td>\n",
              "      <td>2020</td>\n",
              "    </tr>\n",
              "    <tr>\n",
              "      <th>11</th>\n",
              "      <td>3373</td>\n",
              "      <td>L</td>\n",
              "      <td>Data Scientist</td>\n",
              "      <td>2020</td>\n",
              "    </tr>\n",
              "    <tr>\n",
              "      <th>12</th>\n",
              "      <td>3326</td>\n",
              "      <td>M</td>\n",
              "      <td>Data Scientist</td>\n",
              "      <td>2020</td>\n",
              "    </tr>\n",
              "    <tr>\n",
              "      <th>...</th>\n",
              "      <td>...</td>\n",
              "      <td>...</td>\n",
              "      <td>...</td>\n",
              "      <td>...</td>\n",
              "    </tr>\n",
              "    <tr>\n",
              "      <th>593</th>\n",
              "      <td>12500</td>\n",
              "      <td>M</td>\n",
              "      <td>Data Scientist</td>\n",
              "      <td>2022</td>\n",
              "    </tr>\n",
              "    <tr>\n",
              "      <th>598</th>\n",
              "      <td>13333</td>\n",
              "      <td>M</td>\n",
              "      <td>Data Scientist</td>\n",
              "      <td>2022</td>\n",
              "    </tr>\n",
              "    <tr>\n",
              "      <th>599</th>\n",
              "      <td>10833</td>\n",
              "      <td>M</td>\n",
              "      <td>Data Scientist</td>\n",
              "      <td>2022</td>\n",
              "    </tr>\n",
              "    <tr>\n",
              "      <th>602</th>\n",
              "      <td>12833</td>\n",
              "      <td>M</td>\n",
              "      <td>Data Engineer</td>\n",
              "      <td>2022</td>\n",
              "    </tr>\n",
              "    <tr>\n",
              "      <th>603</th>\n",
              "      <td>10500</td>\n",
              "      <td>M</td>\n",
              "      <td>Data Engineer</td>\n",
              "      <td>2022</td>\n",
              "    </tr>\n",
              "  </tbody>\n",
              "</table>\n",
              "<p>251 rows × 4 columns</p>\n",
              "</div>"
            ],
            "text/plain": [
              "     monthly_salary company_size       job_title  work_year\n",
              "0              6652            L  Data Scientist       2020\n",
              "7              2977            L  Data Scientist       2020\n",
              "10             4276            S  Data Scientist       2020\n",
              "11             3373            L  Data Scientist       2020\n",
              "12             3326            M  Data Scientist       2020\n",
              "..              ...          ...             ...        ...\n",
              "593           12500            M  Data Scientist       2022\n",
              "598           13333            M  Data Scientist       2022\n",
              "599           10833            M  Data Scientist       2022\n",
              "602           12833            M   Data Engineer       2022\n",
              "603           10500            M   Data Engineer       2022\n",
              "\n",
              "[251 rows x 4 columns]"
            ]
          },
          "execution_count": 319,
          "metadata": {},
          "output_type": "execute_result"
        }
      ],
      "source": [
        "de_ds_comp_size"
      ]
    },
    {
      "cell_type": "markdown",
      "metadata": {},
      "source": [
        "We deduce the presence of positions depending on the size of the company."
      ]
    },
    {
      "cell_type": "code",
      "execution_count": 320,
      "metadata": {},
      "outputs": [
        {
          "data": {
            "text/html": [
              "<div>\n",
              "<style scoped>\n",
              "    .dataframe tbody tr th:only-of-type {\n",
              "        vertical-align: middle;\n",
              "    }\n",
              "\n",
              "    .dataframe tbody tr th {\n",
              "        vertical-align: top;\n",
              "    }\n",
              "\n",
              "    .dataframe thead th {\n",
              "        text-align: right;\n",
              "    }\n",
              "</style>\n",
              "<table border=\"1\" class=\"dataframe\">\n",
              "  <thead>\n",
              "    <tr style=\"text-align: right;\">\n",
              "      <th></th>\n",
              "      <th></th>\n",
              "      <th>company_size</th>\n",
              "    </tr>\n",
              "    <tr>\n",
              "      <th>job_title</th>\n",
              "      <th>company_size</th>\n",
              "      <th></th>\n",
              "    </tr>\n",
              "  </thead>\n",
              "  <tbody>\n",
              "    <tr>\n",
              "      <th rowspan=\"3\" valign=\"top\">Data Engineer</th>\n",
              "      <th>M</th>\n",
              "      <td>81</td>\n",
              "    </tr>\n",
              "    <tr>\n",
              "      <th>L</th>\n",
              "      <td>34</td>\n",
              "    </tr>\n",
              "    <tr>\n",
              "      <th>S</th>\n",
              "      <td>6</td>\n",
              "    </tr>\n",
              "    <tr>\n",
              "      <th rowspan=\"3\" valign=\"top\">Data Scientist</th>\n",
              "      <th>M</th>\n",
              "      <td>66</td>\n",
              "    </tr>\n",
              "    <tr>\n",
              "      <th>L</th>\n",
              "      <td>43</td>\n",
              "    </tr>\n",
              "    <tr>\n",
              "      <th>S</th>\n",
              "      <td>21</td>\n",
              "    </tr>\n",
              "  </tbody>\n",
              "</table>\n",
              "</div>"
            ],
            "text/plain": [
              "                             company_size\n",
              "job_title      company_size              \n",
              "Data Engineer  M                       81\n",
              "               L                       34\n",
              "               S                        6\n",
              "Data Scientist M                       66\n",
              "               L                       43\n",
              "               S                       21"
            ]
          },
          "execution_count": 320,
          "metadata": {},
          "output_type": "execute_result"
        }
      ],
      "source": [
        "a = de_ds_comp_size.groupby(by='job_title')[\n",
        "    'company_size'].value_counts().to_frame()\n",
        "a"
      ]
    },
    {
      "cell_type": "markdown",
      "metadata": {},
      "source": [
        "**Conclusion on the 4th question**:\n",
        "* We cannot conduct a statistical analysis between the availability of positions *Data Scientist* and *Data Engineer* and the size of the company, there is not enough data for this. We have information for 3 years, we can break down and build a table of how the ratio of specialties has changed in companies of different sizes, but this will not be enough to make any statistically sound conclusion."
      ]
    },
    {
      "cell_type": "markdown",
      "metadata": {},
      "source": [
        "#### **Additional research:**\n",
        "**Question 5.** Is there a dependence of the salary level of a specialist *Data Scientist* depending on work experience (position held)? "
      ]
    },
    {
      "cell_type": "markdown",
      "metadata": {},
      "source": [
        "Values *experience levels*: \n",
        "1. EN — Entry-level/Junior (начальный);\n",
        "2. MI — Mid-level/Intermediate (средний);\n",
        "3. SE — Senior-level/Expert (эксперт);\n",
        "4. EX — Executive-level/Director (директор).\n",
        "\n",
        "Previously, graphically, we found out that the wages *Data Scientist*, depending on the experience of working with each level above, we will conduct a test for the statistical significance of our hypothysis."
      ]
    },
    {
      "cell_type": "markdown",
      "metadata": {},
      "source": [
        "**Formulate null and alternative hypotheses**\n",
        "\n",
        "*Null hypothesis* ($H_0$): wages *Data Scientist* does not differ depending on the level of work experience, where $μ_1$ is EN (Entry-level), $μ_2$ is MI (Mid-level) and $μ_3$ is SE (Senior-level), $μ_4$ - EX (Executive-level).\n",
        "\n",
        "$ H_0 : μ_1 = μ_2 = μ_3 $\n",
        "\n",
        "*Alternative hypothesis* ($H_1$): wages *Data Scientist*, depending on the level of work experience, are statistically not equal to each other, i.e. each next level is higher than the other.\n",
        "\n",
        "$ H_1 : μ_1 <  μ_2 < μ_3 < μ_4 $"
      ]
    },
    {
      "cell_type": "markdown",
      "metadata": {},
      "source": [
        "We will make the necessary selection, where:\n",
        "\n",
        "- *en* - list of wages values, for entry level;\n",
        "- *mi* - list of wages values, for the average level;\n",
        "- *se* - a list of wages values, for the expert level.\n",
        "- *ex* - list of wages values, for the director level."
      ]
    },
    {
      "cell_type": "code",
      "execution_count": 321,
      "metadata": {},
      "outputs": [],
      "source": [
        "# We will make the necessary selection.\n",
        "en = list(df_salaries[df_salaries['experience_level']\n",
        "          == 'EN'].loc[:, 'monthly_salary'])\n",
        "mi = list(df_salaries[df_salaries['experience_level']\n",
        "          == 'MI'].loc[:, 'monthly_salary'])\n",
        "se = list(df_salaries[df_salaries['experience_level']\n",
        "          == 'SE'].loc[:, 'monthly_salary'])\n",
        "ex = list(df_salaries[df_salaries['experience_level']\n",
        "          == 'EX'].loc[:, 'monthly_salary'])"
      ]
    },
    {
      "cell_type": "markdown",
      "metadata": {},
      "source": [
        "Consider a grouped table by level of work experience."
      ]
    },
    {
      "cell_type": "code",
      "execution_count": 322,
      "metadata": {},
      "outputs": [
        {
          "data": {
            "text/html": [
              "<div>\n",
              "<style scoped>\n",
              "    .dataframe tbody tr th:only-of-type {\n",
              "        vertical-align: middle;\n",
              "    }\n",
              "\n",
              "    .dataframe tbody tr th {\n",
              "        vertical-align: top;\n",
              "    }\n",
              "\n",
              "    .dataframe thead th {\n",
              "        text-align: right;\n",
              "    }\n",
              "</style>\n",
              "<table border=\"1\" class=\"dataframe\">\n",
              "  <thead>\n",
              "    <tr style=\"text-align: right;\">\n",
              "      <th></th>\n",
              "      <th>count</th>\n",
              "      <th>mean</th>\n",
              "      <th>std</th>\n",
              "      <th>min</th>\n",
              "      <th>25%</th>\n",
              "      <th>50%</th>\n",
              "      <th>75%</th>\n",
              "      <th>max</th>\n",
              "    </tr>\n",
              "    <tr>\n",
              "      <th>experience_level</th>\n",
              "      <th></th>\n",
              "      <th></th>\n",
              "      <th></th>\n",
              "      <th></th>\n",
              "      <th></th>\n",
              "      <th></th>\n",
              "      <th></th>\n",
              "      <th></th>\n",
              "    </tr>\n",
              "  </thead>\n",
              "  <tbody>\n",
              "    <tr>\n",
              "      <th>EN</th>\n",
              "      <td>88</td>\n",
              "      <td>5136</td>\n",
              "      <td>3699</td>\n",
              "      <td>333</td>\n",
              "      <td>2291</td>\n",
              "      <td>4708</td>\n",
              "      <td>7118</td>\n",
              "      <td>20833</td>\n",
              "    </tr>\n",
              "    <tr>\n",
              "      <th>EX</th>\n",
              "      <td>26</td>\n",
              "      <td>16615</td>\n",
              "      <td>9756</td>\n",
              "      <td>5811</td>\n",
              "      <td>10833</td>\n",
              "      <td>14286</td>\n",
              "      <td>19478</td>\n",
              "      <td>50000</td>\n",
              "    </tr>\n",
              "    <tr>\n",
              "      <th>MI</th>\n",
              "      <td>208</td>\n",
              "      <td>7315</td>\n",
              "      <td>5343</td>\n",
              "      <td>238</td>\n",
              "      <td>3930</td>\n",
              "      <td>6411</td>\n",
              "      <td>9339</td>\n",
              "      <td>37500</td>\n",
              "    </tr>\n",
              "    <tr>\n",
              "      <th>SE</th>\n",
              "      <td>243</td>\n",
              "      <td>11530</td>\n",
              "      <td>4996</td>\n",
              "      <td>1575</td>\n",
              "      <td>8294</td>\n",
              "      <td>11250</td>\n",
              "      <td>14323</td>\n",
              "      <td>34333</td>\n",
              "    </tr>\n",
              "  </tbody>\n",
              "</table>\n",
              "</div>"
            ],
            "text/plain": [
              "                  count   mean   std   min    25%    50%    75%    max\n",
              "experience_level                                                      \n",
              "EN                   88   5136  3699   333   2291   4708   7118  20833\n",
              "EX                   26  16615  9756  5811  10833  14286  19478  50000\n",
              "MI                  208   7315  5343   238   3930   6411   9339  37500\n",
              "SE                  243  11530  4996  1575   8294  11250  14323  34333"
            ]
          },
          "execution_count": 322,
          "metadata": {},
          "output_type": "execute_result"
        }
      ],
      "source": [
        "table = df_salaries.groupby('experience_level')[\n",
        "    'monthly_salary'].describe().astype('int')\n",
        "table"
      ]
    },
    {
      "cell_type": "markdown",
      "metadata": {},
      "source": [
        "In the table above, the **count** column shows the number of professions of all levels, they are different from each other. The *SE* group has the largest value in the *count* column. Let's use the **increase_sample**  *function to increase the sample through interpolation* and align the value to max = 243."
      ]
    },
    {
      "cell_type": "code",
      "execution_count": 323,
      "metadata": {},
      "outputs": [
        {
          "name": "stdout",
          "output_type": "stream",
          "text": [
            "now EN = 243\n",
            "now MI = 243\n",
            "now EX = 243\n"
          ]
        }
      ],
      "source": [
        "# n - required number of examples\n",
        "n = 243\n",
        "en_inc = increase_sample(en, n)\n",
        "print(f'now EN = {len(en_inc)}')\n",
        "mi_inc = increase_sample(mi, n)\n",
        "print(f'now MI = {len(mi_inc)}')\n",
        "ex_inc = increase_sample(ex, n)\n",
        "print(f'now EX = {len(ex_inc)}')"
      ]
    },
    {
      "cell_type": "markdown",
      "metadata": {},
      "source": [
        "Now the sample size for each level of experience is the same as for the largest *SE* of them."
      ]
    },
    {
      "cell_type": "markdown",
      "metadata": {},
      "source": [
        "**Checking for normality**\n",
        "\n",
        "Using the Shapiro-Wilk test, we will check whether the attribute is distributed normally."
      ]
    },
    {
      "cell_type": "code",
      "execution_count": 324,
      "metadata": {},
      "outputs": [
        {
          "name": "stdout",
          "output_type": "stream",
          "text": [
            "EN:\n",
            "p-value = 0.000\n",
            "p-value is less than the specified significance level 0.05.\n",
            "The distribution is different from normal.\n",
            "MI:\n",
            "p-value = 0.000\n",
            "p-value is less than the specified significance level 0.05.\n",
            "The distribution is different from normal.\n",
            "SE:\n",
            "p-value = 0.000\n",
            "p-value is less than the specified significance level 0.05.\n",
            "The distribution is different from normal.\n",
            "EX:\n",
            "p-value = 0.000\n",
            "p-value is less than the specified significance level 0.05.\n",
            "The distribution is different from normal.\n"
          ]
        }
      ],
      "source": [
        "# We perform the Shapiro-Wilk test for the normality of the distribution.\n",
        "print('EN:')\n",
        "result = stats.shapiro(en_inc)\n",
        "decision_normality(result[1])\n",
        "\n",
        "print('MI:')\n",
        "result = stats.shapiro(mi_inc)\n",
        "decision_normality(result[1])\n",
        "\n",
        "print('SE:')\n",
        "result = stats.shapiro(se)\n",
        "decision_normality(result[1])\n",
        "\n",
        "print('EX:')\n",
        "result = stats.shapiro(ex_inc)\n",
        "decision_normality(result[1])"
      ]
    },
    {
      "cell_type": "markdown",
      "metadata": {},
      "source": [
        "**Choose a suitable statistical test**\n",
        "\n",
        "For all levels of *experience_level* the values are the same:\n",
        "* What is the type of the \"monthly_salary\" attribute? — Quantitative.\n",
        "* How many groups are being compared? — Two.\n",
        "* Are groups dependent? - no.\n",
        "* Is the attribute distributed according to the normal law? - no. \n",
        "\n",
        "To test our hypothesis, we can use the Mann-Whitney U-test.\n",
        "\n",
        "**We will conduct a test**"
      ]
    },
    {
      "cell_type": "code",
      "execution_count": 325,
      "metadata": {},
      "outputs": [
        {
          "name": "stdout",
          "output_type": "stream",
          "text": [
            "\n",
            " Let's compare the level with the experience of EN and MI:\n",
            "p-value = 0.000\n",
            "p-value is less than the specified significance level 0.05.\n",
            "We reject the null hypothesis in favor of an alternative one.\n",
            "\n",
            " Let's compare the level with the experience of MI и EX:\n",
            "p-value = 0.000\n",
            "p-value is less than the specified significance level 0.05.\n",
            "We reject the null hypothesis in favor of an alternative one.\n",
            "\n",
            " Let's compare the level with the experience of SE and EX:\n",
            "p-value = 0.000\n",
            "p-value is less than the specified significance level 0.05.\n",
            "We reject the null hypothesis in favor of an alternative one.\n"
          ]
        }
      ],
      "source": [
        "# Let's compare EN(initial) with MI (average) level.\n",
        "_, p = stats.mannwhitneyu(en_inc, mi_inc, alternative='less')\n",
        "print(\"\\n Let's compare the level with the experience of EN and MI:\")\n",
        "decision_hypothesis(p)\n",
        "\n",
        "# Сравним MI(средний) с SE('экспертным') уровнем.\n",
        "_, p = stats.mannwhitneyu(mi_inc, se, alternative='less')\n",
        "print(\"\\n Let's compare the level with the experience of MI и EX:\")\n",
        "decision_hypothesis(p)\n",
        "\n",
        "# Сравним SE('экспертный') с EX('директор') уровнем.\n",
        "_, p = stats.mannwhitneyu(se, ex_inc, alternative='less')\n",
        "print(\"\\n Let's compare the level with the experience of SE and EX:\")\n",
        "decision_hypothesis(p)"
      ]
    },
    {
      "cell_type": "markdown",
      "metadata": {},
      "source": [
        "**Conclusion on the 5th question**:\n",
        "* The *experience_level* attribute affects the Data Scientist PO. Each and subsequent level of work experience is greater than the other, starting EN from the initial and ending with the director EX, this is confirmed both graphically and statistically."
      ]
    },
    {
      "cell_type": "markdown",
      "metadata": {},
      "source": [
        "**Question 6.** Is there a dependence of wages on the type of remoteness of work?\n",
        "\n",
        "Values of remoteness types:\n",
        "\n",
        "- 0 — no remote work (less than 20%);\n",
        "- 50 — partially remote work;\n",
        "- 100 — completely remote work (more than 80%).\n",
        "\n",
        "Previously, graphically, we found out that the wages *Data Scientist*, depending on the experience of working with each level above, we will conduct a test for the statistical significance of our hypothysis."
      ]
    },
    {
      "cell_type": "markdown",
      "metadata": {},
      "source": [
        "**Formulate null and alternative hypotheses**\n",
        "\n",
        "*Null hypothesis* ($H_0$): The wages *Data Scientist* does not differ depending on the type of remoteness, where $µ_1$ is $0$ (there is no remote work), $μ_2$ is $50$ (partially remote) and $μ_3$ is $100$ (completely remote).\n",
        "\n",
        "$ H_0 : μ_1 = μ_2 = μ_3 $\n",
        "\n",
        "*Alternative hypothesis* ($H_1$): The wages *Data Scientist*, depending on the type of work distance, are statistically not equal to each other.\n",
        "\n",
        "$ H_1 : μ_1 \\neq  μ_2 \\neq μ_3 $"
      ]
    },
    {
      "cell_type": "markdown",
      "metadata": {},
      "source": [
        "We will make the necessary selection, where:\n",
        "\n",
        "- *rr_0* - list of wages values where there is no remote work;\n",
        "- *rr_50* - list of wages values where the remote work is partially;\n",
        "- *rr_100* - list of wages values where the work is completely remote."
      ]
    },
    {
      "cell_type": "code",
      "execution_count": 326,
      "metadata": {},
      "outputs": [],
      "source": [
        "# We will make the necessary selection.\n",
        "rr_0 = list(df_salaries[df_salaries['remote_ratio']\n",
        "            == 0].loc[:, 'monthly_salary'])\n",
        "rr_50 = list(df_salaries[df_salaries['remote_ratio']\n",
        "            == 50].loc[:, 'monthly_salary'])\n",
        "rr_100 = list(df_salaries[df_salaries['remote_ratio']\n",
        "            == 100].loc[:, 'monthly_salary'])"
      ]
    },
    {
      "cell_type": "code",
      "execution_count": 327,
      "metadata": {},
      "outputs": [
        {
          "data": {
            "text/html": [
              "<div>\n",
              "<style scoped>\n",
              "    .dataframe tbody tr th:only-of-type {\n",
              "        vertical-align: middle;\n",
              "    }\n",
              "\n",
              "    .dataframe tbody tr th {\n",
              "        vertical-align: top;\n",
              "    }\n",
              "\n",
              "    .dataframe thead th {\n",
              "        text-align: right;\n",
              "    }\n",
              "</style>\n",
              "<table border=\"1\" class=\"dataframe\">\n",
              "  <thead>\n",
              "    <tr style=\"text-align: right;\">\n",
              "      <th></th>\n",
              "      <th>count</th>\n",
              "      <th>mean</th>\n",
              "      <th>std</th>\n",
              "      <th>min</th>\n",
              "      <th>25%</th>\n",
              "      <th>50%</th>\n",
              "      <th>75%</th>\n",
              "      <th>max</th>\n",
              "    </tr>\n",
              "    <tr>\n",
              "      <th>remote_ratio</th>\n",
              "      <th></th>\n",
              "      <th></th>\n",
              "      <th></th>\n",
              "      <th></th>\n",
              "      <th></th>\n",
              "      <th></th>\n",
              "      <th></th>\n",
              "      <th></th>\n",
              "    </tr>\n",
              "  </thead>\n",
              "  <tbody>\n",
              "    <tr>\n",
              "      <th>0</th>\n",
              "      <td>121</td>\n",
              "      <td>8815</td>\n",
              "      <td>5699</td>\n",
              "      <td>238</td>\n",
              "      <td>5166</td>\n",
              "      <td>8179</td>\n",
              "      <td>11333</td>\n",
              "      <td>37500</td>\n",
              "    </tr>\n",
              "    <tr>\n",
              "      <th>50</th>\n",
              "      <td>98</td>\n",
              "      <td>6726</td>\n",
              "      <td>4803</td>\n",
              "      <td>450</td>\n",
              "      <td>4166</td>\n",
              "      <td>5667</td>\n",
              "      <td>8326</td>\n",
              "      <td>35250</td>\n",
              "    </tr>\n",
              "    <tr>\n",
              "      <th>100</th>\n",
              "      <td>346</td>\n",
              "      <td>10063</td>\n",
              "      <td>6244</td>\n",
              "      <td>333</td>\n",
              "      <td>5833</td>\n",
              "      <td>9225</td>\n",
              "      <td>13312</td>\n",
              "      <td>50000</td>\n",
              "    </tr>\n",
              "  </tbody>\n",
              "</table>\n",
              "</div>"
            ],
            "text/plain": [
              "              count   mean   std  min   25%   50%    75%    max\n",
              "remote_ratio                                                   \n",
              "0               121   8815  5699  238  5166  8179  11333  37500\n",
              "50               98   6726  4803  450  4166  5667   8326  35250\n",
              "100             346  10063  6244  333  5833  9225  13312  50000"
            ]
          },
          "execution_count": 327,
          "metadata": {},
          "output_type": "execute_result"
        }
      ],
      "source": [
        "table = df_salaries.groupby('remote_ratio')[\n",
        "    'monthly_salary'].describe().astype('int')\n",
        "table"
      ]
    },
    {
      "cell_type": "markdown",
      "metadata": {},
      "source": [
        "In the table above, the **count** column shows the number of professions of all levels by type of remoteness. They are different from each other. Let's use the **increase_sample** *function to increase the sample through interpolation* and align the value to the total value of the maximum value of 346."
      ]
    },
    {
      "cell_type": "code",
      "execution_count": 328,
      "metadata": {},
      "outputs": [
        {
          "name": "stdout",
          "output_type": "stream",
          "text": [
            "now remote_ratio_0 = 346\n",
            "now remote_ratio_50 = 346\n"
          ]
        }
      ],
      "source": [
        "# n - required number of examples\n",
        "n = 346\n",
        "rr_0_inc = increase_sample(rr_0, n)\n",
        "print(f'now remote_ratio_0 = {len(rr_0_inc)}')\n",
        "rr_50_inc = increase_sample(rr_50, n)\n",
        "print(f'now remote_ratio_50 = {len(rr_50_inc)}')"
      ]
    },
    {
      "cell_type": "markdown",
      "metadata": {},
      "source": [
        "Now the sample size for each level of experience is the same as for the largest SE of them."
      ]
    },
    {
      "cell_type": "markdown",
      "metadata": {},
      "source": [
        "**Checking for normality**\n",
        "\n",
        "Using the Shapiro-Wilk test, we will check whether the attribute is distributed normally."
      ]
    },
    {
      "cell_type": "code",
      "execution_count": 329,
      "metadata": {},
      "outputs": [
        {
          "name": "stdout",
          "output_type": "stream",
          "text": [
            "remote_ratio_0:\n",
            "p-value = 0.000\n",
            "p-value is less than the specified significance level 0.05.\n",
            "The distribution is different from normal.\n",
            "remote_ratio_50:\n",
            "p-value = 0.000\n",
            "p-value is less than the specified significance level 0.05.\n",
            "The distribution is different from normal.\n",
            "remote_ratio_100:\n",
            "p-value = 0.000\n",
            "p-value is less than the specified significance level 0.05.\n",
            "The distribution is different from normal.\n"
          ]
        }
      ],
      "source": [
        "# We perform the Shapiro-Wilk test for the normality of the distribution.\n",
        "print('remote_ratio_0:')\n",
        "result = stats.shapiro(rr_0_inc)\n",
        "decision_normality(result[1])\n",
        "print('remote_ratio_50:')\n",
        "result = stats.shapiro(rr_50_inc)\n",
        "decision_normality(result[1])\n",
        "print('remote_ratio_100:')\n",
        "result = stats.shapiro(rr_100)\n",
        "decision_normality(result[1])"
      ]
    },
    {
      "cell_type": "markdown",
      "metadata": {},
      "source": [
        "**Choose a suitable statistical test**\n",
        "\n",
        "For all levels *remote_ratio* values are the same:\n",
        "* What is the type of the \"monthly_salary\" attribute? — Quantitative.\n",
        "* How many groups are being compared? — Three.\n",
        "* Are groups dependent? - no.\n",
        "* Is the attribute distributed according to the normal law? - no. \n",
        "\n",
        "To test our hypothesis, we can use the Mann-Whitney U-test.\n",
        "\n",
        "**We will conduct a test**"
      ]
    },
    {
      "cell_type": "code",
      "execution_count": 330,
      "metadata": {},
      "outputs": [
        {
          "name": "stdout",
          "output_type": "stream",
          "text": [
            "Data Scientist wages in companies with different types of remoteness:\n",
            "p-value = 0.000\n",
            "p-value is less than the specified significance level 0.05.\n",
            "We reject the null hypothesis in favor of an alternative one.\n"
          ]
        }
      ],
      "source": [
        "# we are conducting a test\n",
        "_, p = stats.kruskal(rr_0_inc, rr_50_inc, rr_100)\n",
        "print('Data Scientist wages in companies with different types of remoteness:')\n",
        "decision_hypothesis(p)"
      ]
    },
    {
      "cell_type": "markdown",
      "metadata": {},
      "source": [
        "**Conclusion on the 6th question**:\n",
        "* The *remote_ratio* attribute affects the Data Scientist wages, this is confirmed both graphically and statistically."
      ]
    },
    {
      "cell_type": "markdown",
      "metadata": {},
      "source": [
        "## Final results of the study\n",
        "\n",
        "**Basic research:**\n",
        "\n",
        "* There is no annual salary growth for *Data Scientist* specialists.\n",
        "* The salaries of Data Scientist and *Data Engineer* in 2022 are statistically equal.\n",
        "* The size of the company affects the salary of *Data Scientist* and *Data Engineer*.\n",
        "* There is not enough data to establish a connection between the presence of positions *Data Scientist* and *Data Engineer* and the size of the company.\n",
        "\n",
        "**Additional research:**\n",
        "\n",
        "* The *experience_level* attribute affects the wages *Data Scientist*.\n",
        "* The *remote_ratio* attribute affects the wages *Data Scientist*, this is confirmed both graphically and statistically."
      ]
    }
  ],
  "metadata": {
    "colab": {
      "provenance": []
    },
    "kernelspec": {
      "display_name": "Python 3.10.8 ('base')",
      "language": "python",
      "name": "python3"
    },
    "language_info": {
      "codemirror_mode": {
        "name": "ipython",
        "version": 3
      },
      "file_extension": ".py",
      "mimetype": "text/x-python",
      "name": "python",
      "nbconvert_exporter": "python",
      "pygments_lexer": "ipython3",
      "version": "3.9.10"
    },
    "vscode": {
      "interpreter": {
        "hash": "86c56a74836ad344b00594bf6f38fa6a676a207ceefe20d101fbc465800ccb8d"
      }
    }
  },
  "nbformat": 4,
  "nbformat_minor": 0
}
