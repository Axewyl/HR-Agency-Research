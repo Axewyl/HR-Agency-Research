{
  "cells": [
    {
      "attachments": {},
      "cell_type": "markdown",
      "metadata": {
        "id": "yMG_XPwziMUN"
      },
      "source": [
        "# <center> Исследование данных HR-агенства c помощью статистические тестов в контексте EDA."
      ]
    },
    {
      "attachments": {},
      "cell_type": "markdown",
      "metadata": {
        "id": "EMd2vwh8ihnl"
      },
      "source": [
        "## Постановка задачи\n",
        "\n",
        "*HR*-агентство изучает тренды на рынке труда в *IT*. Компания хочет провести исследование на основе данных о зарплатах в сфере *Data Science* за 2020–2022 годы и получить некоторые выводы.\n",
        "\n",
        "*HR*-агентство хочет ответить на следующие вопросы, касающиеся данных о зарплатах в сфере *Data Science*. \n",
        "\n",
        "**Основное исследование:**\n",
        "\n",
        "* Вопрос-1. Наблюдается ли рост зарплат у специалистов *Data Scientist* за каждый год?\n",
        "* Вопрос-2. Как соотносятся зарплаты *Data Scientist* и *Data Engineer* в 2022 году?\n",
        "* Вопрос-3. Как соотносятся зарплаты специалистов *Data Scientist* и *Data Engineer* в компаниях различных размеров?\n",
        "* Вопрос-4. Есть ли связь между наличием должностей *Data Scientist* и *Data Engineer* и размером компании?\n",
        "\n",
        "**Дополнительное исследование:**\n",
        "\n",
        "* Вопрос - 5. Есть ли зависимось уровня заработной платы специалиста *Data Scientist* в  зависимости от опыта работ (занимаемой должности)? \n",
        "* Вопрос - 6. Есть ли зависимость заработой платы от типа удалённости работы?\n",
        "\n",
        "\n",
        "На каждый вопрос необходимо ответить с уровнем значимости $\\alpha=0.05$.\n",
        "\n",
        "Ответить на эти вопросы нам помогут данные о заработных платах Data Scientist с указанием характеристик."
      ]
    },
    {
      "attachments": {},
      "cell_type": "markdown",
      "metadata": {
        "id": "xqjB2nBnNNkc"
      },
      "source": [
        "### Описание столбцов.\n",
        "<br>\n",
        "<table>\n",
        "<tbody>\n",
        "<tr style=\"background-color: #88cdb2; vertical-align: middle; text-transform: uppercase; color: #062425; font-weight: bold;\">\n",
        "<td>Наименование столбца</td>\n",
        "<td>Описание</td>\n",
        "</tr>\n",
        "<tr>\n",
        "<td style=\"width: 25%;\"><span class=\"code-blue\">work_year</span></td>\n",
        "<td style=\"width: 75%;\">Год, в котором была выплачена зарплата.</td>\n",
        "</tr>\n",
        "<tr>\n",
        "<td><span class=\"code-blue\">experience_level</span></td>\n",
        "<td>Опыт работы на этой должности в течение года со следующими возможными значениями:\n",
        "<ul style=\"list-style-type: square;\">\n",
        "<ul style=\"list-style-type: square;\">\n",
        "<li><em>EN — Entry-level/Junior;</em></li>\n",
        "<li><em>MI — Mid-level/Intermediate;</em></li>\n",
        "<li><em>SE — Senior-level/Expert;</em></li>\n",
        "<li><em>EX — Executive-level/Director.</em></li>\n",
        "</ul>\n",
        "</ul>\n",
        "</td>\n",
        "</tr>\n",
        "<tr>\n",
        "<td><span class=\"code-blue\">employment_type</span></td>\n",
        "<td>Тип трудоустройства для этой роли:\n",
        "<ul style=\"list-style-type: square;\">\n",
        "<ul style=\"list-style-type: square;\">\n",
        "<li><em>PT</em> — неполный рабочий день;</li>\n",
        "<li><em>FT</em> — полный рабочий день;</li>\n",
        "<li><em>CT</em> — контракт;</li>\n",
        "<li><em>FL</em> — фриланс.</li>\n",
        "</ul>\n",
        "</ul>\n",
        "</td>\n",
        "</tr>\n",
        "<tr>\n",
        "<td><span class=\"code-blue\">job_title</span></td>\n",
        "<td>Роль, в которой соискатель работал в течение года.</td>\n",
        "</tr>\n",
        "<tr>\n",
        "<td><span class=\"code-blue\">salary</span></td>\n",
        "<td>Общая выплаченная валовая сумма заработной платы.</td>\n",
        "</tr>\n",
        "<tr>\n",
        "<td><span class=\"code-blue\">salary_currency</span></td>\n",
        "<td>Валюта выплачиваемой заработной платы в виде кода валюты <em>ISO</em> 4217.</td>\n",
        "</tr>\n",
        "<tr>\n",
        "<td><span class=\"code-blue\">salary_in_usd</span></td>\n",
        "<td>Зарплата в долларах США (валютный курс, делённый на среднее значение курса доллара США за соответствующий год через <em>fxdata.foorilla.com</em>).</td>\n",
        "</tr>\n",
        "<tr>\n",
        "<td><span class=\"code-blue\">employee_residence</span></td>\n",
        "<td>Основная страна проживания сотрудника в течение рабочего года в виде кода страны <em>ISO</em> 3166.</td>\n",
        "</tr>\n",
        "<tr>\n",
        "<td><span class=\"code-blue\">remote_ratio</span></td>\n",
        "<td>Общий объём работы, выполняемой удалённо. Возможные значения:\n",
        "<ul style=\"list-style-type: square;\">\n",
        "<ul style=\"list-style-type: square;\">\n",
        "<li>0 — удалённой работы нет (менее 20 %);</li>\n",
        "<li>50 — частично удалённая работа;</li>\n",
        "<li>100 — полностью удалённая работа (более 80 %).</li>\n",
        "</ul>\n",
        "</ul>\n",
        "</td>\n",
        "</tr>\n",
        "<tr>\n",
        "<td><span class=\"code-blue\">company_location</span></td>\n",
        "<td>Страна главного офиса работодателя или филиала по контракту в виде кода страны <em>ISO</em> 3166.</td>\n",
        "</tr>\n",
        "<tr>\n",
        "<td><span class=\"code-blue\">company_size</span></td>\n",
        "<td>Среднее количество людей, работавших в компании в течение года:\n",
        "<ul style=\"list-style-type: square;\">\n",
        "<ul style=\"list-style-type: square;\">\n",
        "<li><em>S</em> — менее 50 сотрудников (небольшая компания);</li>\n",
        "<li><em>M</em> — от 50 до 250 сотрудников (средняя компания);</li>\n",
        "<li><em>L</em> — более 250 сотрудников (крупная компания).</li>\n",
        "</ul>\n",
        "</ul>\n",
        "</td>\n",
        "</tr>\n",
        "</tbody>\n",
        "</table>\n",
        "\n",
        "Оригинальный датасет: [“Data Science Job Salaries” (kaggle.com)](https://www.kaggle.com/datasets/ruchi798/data-science-job-salaries)"
      ]
    },
    {
      "attachments": {},
      "cell_type": "markdown",
      "metadata": {
        "id": "_XMyOg3cgcN1"
      },
      "source": [
        "# I. Загрузка и обработка данных"
      ]
    },
    {
      "attachments": {},
      "cell_type": "markdown",
      "metadata": {},
      "source": [
        "### Загрузка данных"
      ]
    },
    {
      "cell_type": "code",
      "execution_count": 1,
      "metadata": {
        "id": "2JjaPf35gyCK"
      },
      "outputs": [],
      "source": [
        "# загружаем необходимые библиотеки\n",
        "import pandas as pd\n",
        "import numpy as np\n",
        "\n",
        "from scipy import stats\n",
        "import statsmodels.api as sm\n",
        "from statsmodels import stats as sms\n",
        "\n",
        "import matplotlib.pyplot as plt\n",
        "import seaborn as sns\n",
        "\n",
        "import wget\n",
        "# делаем визуальную настройку графиков\n",
        "sns.set_theme(\"notebook\")\n",
        "sns.set_palette(\"Set2\")"
      ]
    },
    {
      "attachments": {},
      "cell_type": "markdown",
      "metadata": {
        "id": "OxICgu53sO5Q"
      },
      "source": [
        "Данные были скопированы в Google Drive, они доступны по [ссылке](https://drive.google.com/file/d/1b_NEk_nrBLhYxBo-DI-TVLRsTIOYvk-r/view)."
      ]
    },
    {
      "cell_type": "code",
      "execution_count": 2,
      "metadata": {
        "colab": {
          "base_uri": "https://localhost:8080/"
        },
        "id": "-Op6Oy7hf5ZM",
        "outputId": "9ea91bf5-b019-43e3-aaf4-94408a78c63f"
      },
      "outputs": [],
      "source": [
        "# Загружаем датасет.\n",
        "df_salaries = pd.read_csv('data/ds_salaries.csv')"
      ]
    },
    {
      "cell_type": "code",
      "execution_count": 3,
      "metadata": {},
      "outputs": [
        {
          "data": {
            "text/html": [
              "<div>\n",
              "<style scoped>\n",
              "    .dataframe tbody tr th:only-of-type {\n",
              "        vertical-align: middle;\n",
              "    }\n",
              "\n",
              "    .dataframe tbody tr th {\n",
              "        vertical-align: top;\n",
              "    }\n",
              "\n",
              "    .dataframe thead th {\n",
              "        text-align: right;\n",
              "    }\n",
              "</style>\n",
              "<table border=\"1\" class=\"dataframe\">\n",
              "  <thead>\n",
              "    <tr style=\"text-align: right;\">\n",
              "      <th></th>\n",
              "      <th>work_year</th>\n",
              "      <th>experience_level</th>\n",
              "      <th>employment_type</th>\n",
              "      <th>job_title</th>\n",
              "      <th>salary</th>\n",
              "      <th>salary_currency</th>\n",
              "      <th>salary_in_usd</th>\n",
              "      <th>employee_residence</th>\n",
              "      <th>remote_ratio</th>\n",
              "      <th>company_location</th>\n",
              "      <th>company_size</th>\n",
              "    </tr>\n",
              "  </thead>\n",
              "  <tbody>\n",
              "    <tr>\n",
              "      <th>0</th>\n",
              "      <td>2020</td>\n",
              "      <td>MI</td>\n",
              "      <td>FT</td>\n",
              "      <td>Data Scientist</td>\n",
              "      <td>70000</td>\n",
              "      <td>EUR</td>\n",
              "      <td>79833</td>\n",
              "      <td>DE</td>\n",
              "      <td>0</td>\n",
              "      <td>DE</td>\n",
              "      <td>L</td>\n",
              "    </tr>\n",
              "    <tr>\n",
              "      <th>1</th>\n",
              "      <td>2020</td>\n",
              "      <td>SE</td>\n",
              "      <td>FT</td>\n",
              "      <td>Machine Learning Scientist</td>\n",
              "      <td>260000</td>\n",
              "      <td>USD</td>\n",
              "      <td>260000</td>\n",
              "      <td>JP</td>\n",
              "      <td>0</td>\n",
              "      <td>JP</td>\n",
              "      <td>S</td>\n",
              "    </tr>\n",
              "    <tr>\n",
              "      <th>2</th>\n",
              "      <td>2020</td>\n",
              "      <td>SE</td>\n",
              "      <td>FT</td>\n",
              "      <td>Big Data Engineer</td>\n",
              "      <td>85000</td>\n",
              "      <td>GBP</td>\n",
              "      <td>109024</td>\n",
              "      <td>GB</td>\n",
              "      <td>50</td>\n",
              "      <td>GB</td>\n",
              "      <td>M</td>\n",
              "    </tr>\n",
              "  </tbody>\n",
              "</table>\n",
              "</div>"
            ],
            "text/plain": [
              "   work_year experience_level employment_type                   job_title  \\\n",
              "0       2020               MI              FT              Data Scientist   \n",
              "1       2020               SE              FT  Machine Learning Scientist   \n",
              "2       2020               SE              FT           Big Data Engineer   \n",
              "\n",
              "   salary salary_currency  salary_in_usd employee_residence  remote_ratio  \\\n",
              "0   70000             EUR          79833                 DE             0   \n",
              "1  260000             USD         260000                 JP             0   \n",
              "2   85000             GBP         109024                 GB            50   \n",
              "\n",
              "  company_location company_size  \n",
              "0               DE            L  \n",
              "1               JP            S  \n",
              "2               GB            M  "
            ]
          },
          "execution_count": 3,
          "metadata": {},
          "output_type": "execute_result"
        }
      ],
      "source": [
        "# Удалим не нужный столбец \"Unnamed: 0\".\n",
        "df_salaries.drop('Unnamed: 0', axis=1, inplace=True)\n",
        "\n",
        "df_salaries.head(3)"
      ]
    },
    {
      "cell_type": "code",
      "execution_count": 4,
      "metadata": {
        "colab": {
          "base_uri": "https://localhost:8080/"
        },
        "id": "uLEEV6aLomOU",
        "outputId": "23314b21-aa3f-4537-94cb-be776d9427ae"
      },
      "outputs": [
        {
          "name": "stdout",
          "output_type": "stream",
          "text": [
            "Уровень значимости alpha = 0.05\n"
          ]
        }
      ],
      "source": [
        "# задаём уровень значимости\n",
        "alpha = 0.05\n",
        "print(\"Уровень значимости alpha = {:.2f}\".format(alpha))"
      ]
    },
    {
      "attachments": {},
      "cell_type": "markdown",
      "metadata": {
        "id": "c9QRWWOVfV13"
      },
      "source": [
        "###  Описательный анализ данных"
      ]
    },
    {
      "cell_type": "code",
      "execution_count": 5,
      "metadata": {
        "colab": {
          "base_uri": "https://localhost:8080/"
        },
        "id": "zkiOmlAy2XQU",
        "outputId": "88adbac3-0fd7-460c-a368-c40baff97200"
      },
      "outputs": [
        {
          "name": "stdout",
          "output_type": "stream",
          "text": [
            "<class 'pandas.core.frame.DataFrame'>\n",
            "RangeIndex: 607 entries, 0 to 606\n",
            "Data columns (total 11 columns):\n",
            " #   Column              Non-Null Count  Dtype \n",
            "---  ------              --------------  ----- \n",
            " 0   work_year           607 non-null    int64 \n",
            " 1   experience_level    607 non-null    object\n",
            " 2   employment_type     607 non-null    object\n",
            " 3   job_title           607 non-null    object\n",
            " 4   salary              607 non-null    int64 \n",
            " 5   salary_currency     607 non-null    object\n",
            " 6   salary_in_usd       607 non-null    int64 \n",
            " 7   employee_residence  607 non-null    object\n",
            " 8   remote_ratio        607 non-null    int64 \n",
            " 9   company_location    607 non-null    object\n",
            " 10  company_size        607 non-null    object\n",
            "dtypes: int64(4), object(7)\n",
            "memory usage: 52.3+ KB\n"
          ]
        }
      ],
      "source": [
        "df_salaries.info()"
      ]
    },
    {
      "attachments": {},
      "cell_type": "markdown",
      "metadata": {
        "id": "2DSvnZuul7Za"
      },
      "source": [
        "В датасете 607 записей, без пропущенных значений. "
      ]
    },
    {
      "attachments": {},
      "cell_type": "markdown",
      "metadata": {},
      "source": [
        "### Пропуски и дубликаты, очистка.\n"
      ]
    },
    {
      "attachments": {},
      "cell_type": "markdown",
      "metadata": {
        "id": "Xug87trzl7Za"
      },
      "source": [
        "Проверим данные на наличие полных дубликатов:"
      ]
    },
    {
      "cell_type": "code",
      "execution_count": 6,
      "metadata": {
        "colab": {
          "base_uri": "https://localhost:8080/"
        },
        "id": "As_X7I6jl7Za",
        "outputId": "3d3795b3-ab7c-4cc6-ab3d-23a4796a7b5c"
      },
      "outputs": [
        {
          "name": "stdout",
          "output_type": "stream",
          "text": [
            "Количество дубликатов: 42\n",
            "Размер таблицы после удаления дубликатов: 565\n"
          ]
        }
      ],
      "source": [
        "print('Количество дубликатов: {}'\n",
        "      .format(df_salaries[df_salaries.duplicated()].shape[0])\n",
        "      )\n",
        "\n",
        "# Удаляем дубликаты:\n",
        "df_salaries = df_salaries.drop_duplicates()\n",
        "print('Размер таблицы после удаления дубликатов: {}'\n",
        "      .format(df_salaries.shape[0])\n",
        "      )"
      ]
    },
    {
      "attachments": {},
      "cell_type": "markdown",
      "metadata": {},
      "source": [
        "### Неинформативные признаки."
      ]
    },
    {
      "attachments": {},
      "cell_type": "markdown",
      "metadata": {},
      "source": [
        "Рассмотрим данные по зарплате из таблицы *df_salaries*."
      ]
    },
    {
      "cell_type": "code",
      "execution_count": 7,
      "metadata": {},
      "outputs": [
        {
          "data": {
            "text/html": [
              "<div>\n",
              "<style scoped>\n",
              "    .dataframe tbody tr th:only-of-type {\n",
              "        vertical-align: middle;\n",
              "    }\n",
              "\n",
              "    .dataframe tbody tr th {\n",
              "        vertical-align: top;\n",
              "    }\n",
              "\n",
              "    .dataframe thead th {\n",
              "        text-align: right;\n",
              "    }\n",
              "</style>\n",
              "<table border=\"1\" class=\"dataframe\">\n",
              "  <thead>\n",
              "    <tr style=\"text-align: right;\">\n",
              "      <th></th>\n",
              "      <th>salary</th>\n",
              "      <th>salary_currency</th>\n",
              "      <th>salary_in_usd</th>\n",
              "      <th>work_year</th>\n",
              "    </tr>\n",
              "  </thead>\n",
              "  <tbody>\n",
              "    <tr>\n",
              "      <th>0</th>\n",
              "      <td>70000</td>\n",
              "      <td>EUR</td>\n",
              "      <td>79833</td>\n",
              "      <td>2020</td>\n",
              "    </tr>\n",
              "    <tr>\n",
              "      <th>1</th>\n",
              "      <td>260000</td>\n",
              "      <td>USD</td>\n",
              "      <td>260000</td>\n",
              "      <td>2020</td>\n",
              "    </tr>\n",
              "    <tr>\n",
              "      <th>2</th>\n",
              "      <td>85000</td>\n",
              "      <td>GBP</td>\n",
              "      <td>109024</td>\n",
              "      <td>2020</td>\n",
              "    </tr>\n",
              "    <tr>\n",
              "      <th>3</th>\n",
              "      <td>20000</td>\n",
              "      <td>USD</td>\n",
              "      <td>20000</td>\n",
              "      <td>2020</td>\n",
              "    </tr>\n",
              "    <tr>\n",
              "      <th>4</th>\n",
              "      <td>150000</td>\n",
              "      <td>USD</td>\n",
              "      <td>150000</td>\n",
              "      <td>2020</td>\n",
              "    </tr>\n",
              "  </tbody>\n",
              "</table>\n",
              "</div>"
            ],
            "text/plain": [
              "   salary salary_currency  salary_in_usd  work_year\n",
              "0   70000             EUR          79833       2020\n",
              "1  260000             USD         260000       2020\n",
              "2   85000             GBP         109024       2020\n",
              "3   20000             USD          20000       2020\n",
              "4  150000             USD         150000       2020"
            ]
          },
          "execution_count": 7,
          "metadata": {},
          "output_type": "execute_result"
        }
      ],
      "source": [
        "df_salaries[['salary', 'salary_currency',\n",
        "             'salary_in_usd', 'work_year']].head(5)"
      ]
    },
    {
      "attachments": {},
      "cell_type": "markdown",
      "metadata": {},
      "source": [
        "В таблице столбец *salary* и *salary_currency* нам не нужны, т.к. есть столбец *salary_in_usd* он показывает уровень заработной платы в долларах за год. \n",
        "\n",
        "Создадим новый столбец **monthly_salary**, он будет показывать уровень зарплаты сотрудника в месяц. Лишние столбцы *salary* и *salary_currency*, *salary_in_usd* удалим"
      ]
    },
    {
      "cell_type": "code",
      "execution_count": 8,
      "metadata": {},
      "outputs": [],
      "source": [
        "# Создаём новый столбец monthly_salary.\n",
        "df_salaries['monthly_salary'] = df_salaries['salary_in_usd']/12\n",
        "\n",
        "# Приводим столбец к типу данных int.\n",
        "df_salaries['monthly_salary'] = df_salaries['monthly_salary'].astype('int64')\n",
        "\n",
        "# Удаляем столбцы salary и salary_currency, salary_in_usd.\n",
        "df_salaries.drop(['salary', 'salary_currency',\n",
        "                 'salary_in_usd'], axis=1, inplace=True)"
      ]
    },
    {
      "attachments": {},
      "cell_type": "markdown",
      "metadata": {},
      "source": [
        "### Типы признаков.\n",
        "\n",
        "Классифицируем признаки на числовые и дискретные."
      ]
    },
    {
      "cell_type": "code",
      "execution_count": 9,
      "metadata": {},
      "outputs": [
        {
          "data": {
            "text/html": [
              "<div>\n",
              "<style scoped>\n",
              "    .dataframe tbody tr th:only-of-type {\n",
              "        vertical-align: middle;\n",
              "    }\n",
              "\n",
              "    .dataframe tbody tr th {\n",
              "        vertical-align: top;\n",
              "    }\n",
              "\n",
              "    .dataframe thead th {\n",
              "        text-align: right;\n",
              "    }\n",
              "</style>\n",
              "<table border=\"1\" class=\"dataframe\">\n",
              "  <thead>\n",
              "    <tr style=\"text-align: right;\">\n",
              "      <th></th>\n",
              "      <th>work_year</th>\n",
              "      <th>remote_ratio</th>\n",
              "      <th>monthly_salary</th>\n",
              "    </tr>\n",
              "  </thead>\n",
              "  <tbody>\n",
              "    <tr>\n",
              "      <th>count</th>\n",
              "      <td>565.000000</td>\n",
              "      <td>565.000000</td>\n",
              "      <td>565.000000</td>\n",
              "    </tr>\n",
              "    <tr>\n",
              "      <th>mean</th>\n",
              "      <td>2021.364602</td>\n",
              "      <td>69.911504</td>\n",
              "      <td>9217.153982</td>\n",
              "    </tr>\n",
              "    <tr>\n",
              "      <th>std</th>\n",
              "      <td>0.698138</td>\n",
              "      <td>40.900666</td>\n",
              "      <td>6023.448732</td>\n",
              "    </tr>\n",
              "    <tr>\n",
              "      <th>min</th>\n",
              "      <td>2020.000000</td>\n",
              "      <td>0.000000</td>\n",
              "      <td>238.000000</td>\n",
              "    </tr>\n",
              "    <tr>\n",
              "      <th>25%</th>\n",
              "      <td>2021.000000</td>\n",
              "      <td>50.000000</td>\n",
              "      <td>5063.000000</td>\n",
              "    </tr>\n",
              "    <tr>\n",
              "      <th>50%</th>\n",
              "      <td>2021.000000</td>\n",
              "      <td>100.000000</td>\n",
              "      <td>8333.000000</td>\n",
              "    </tr>\n",
              "    <tr>\n",
              "      <th>75%</th>\n",
              "      <td>2022.000000</td>\n",
              "      <td>100.000000</td>\n",
              "      <td>12500.000000</td>\n",
              "    </tr>\n",
              "    <tr>\n",
              "      <th>max</th>\n",
              "      <td>2022.000000</td>\n",
              "      <td>100.000000</td>\n",
              "      <td>50000.000000</td>\n",
              "    </tr>\n",
              "  </tbody>\n",
              "</table>\n",
              "</div>"
            ],
            "text/plain": [
              "         work_year  remote_ratio  monthly_salary\n",
              "count   565.000000    565.000000      565.000000\n",
              "mean   2021.364602     69.911504     9217.153982\n",
              "std       0.698138     40.900666     6023.448732\n",
              "min    2020.000000      0.000000      238.000000\n",
              "25%    2021.000000     50.000000     5063.000000\n",
              "50%    2021.000000    100.000000     8333.000000\n",
              "75%    2022.000000    100.000000    12500.000000\n",
              "max    2022.000000    100.000000    50000.000000"
            ]
          },
          "execution_count": 9,
          "metadata": {},
          "output_type": "execute_result"
        }
      ],
      "source": [
        "df_salaries.describe()"
      ]
    },
    {
      "cell_type": "code",
      "execution_count": 10,
      "metadata": {},
      "outputs": [
        {
          "data": {
            "text/html": [
              "<div>\n",
              "<style scoped>\n",
              "    .dataframe tbody tr th:only-of-type {\n",
              "        vertical-align: middle;\n",
              "    }\n",
              "\n",
              "    .dataframe tbody tr th {\n",
              "        vertical-align: top;\n",
              "    }\n",
              "\n",
              "    .dataframe thead th {\n",
              "        text-align: right;\n",
              "    }\n",
              "</style>\n",
              "<table border=\"1\" class=\"dataframe\">\n",
              "  <thead>\n",
              "    <tr style=\"text-align: right;\">\n",
              "      <th></th>\n",
              "      <th>experience_level</th>\n",
              "      <th>employment_type</th>\n",
              "      <th>job_title</th>\n",
              "      <th>employee_residence</th>\n",
              "      <th>company_location</th>\n",
              "      <th>company_size</th>\n",
              "    </tr>\n",
              "  </thead>\n",
              "  <tbody>\n",
              "    <tr>\n",
              "      <th>count</th>\n",
              "      <td>565</td>\n",
              "      <td>565</td>\n",
              "      <td>565</td>\n",
              "      <td>565</td>\n",
              "      <td>565</td>\n",
              "      <td>565</td>\n",
              "    </tr>\n",
              "    <tr>\n",
              "      <th>unique</th>\n",
              "      <td>4</td>\n",
              "      <td>4</td>\n",
              "      <td>50</td>\n",
              "      <td>57</td>\n",
              "      <td>50</td>\n",
              "      <td>3</td>\n",
              "    </tr>\n",
              "    <tr>\n",
              "      <th>top</th>\n",
              "      <td>SE</td>\n",
              "      <td>FT</td>\n",
              "      <td>Data Scientist</td>\n",
              "      <td>US</td>\n",
              "      <td>US</td>\n",
              "      <td>M</td>\n",
              "    </tr>\n",
              "    <tr>\n",
              "      <th>freq</th>\n",
              "      <td>243</td>\n",
              "      <td>546</td>\n",
              "      <td>130</td>\n",
              "      <td>295</td>\n",
              "      <td>318</td>\n",
              "      <td>290</td>\n",
              "    </tr>\n",
              "  </tbody>\n",
              "</table>\n",
              "</div>"
            ],
            "text/plain": [
              "       experience_level employment_type       job_title employee_residence  \\\n",
              "count               565             565             565                565   \n",
              "unique                4               4              50                 57   \n",
              "top                  SE              FT  Data Scientist                 US   \n",
              "freq                243             546             130                295   \n",
              "\n",
              "       company_location company_size  \n",
              "count               565          565  \n",
              "unique               50            3  \n",
              "top                  US            M  \n",
              "freq                318          290  "
            ]
          },
          "execution_count": 10,
          "metadata": {},
          "output_type": "execute_result"
        }
      ],
      "source": [
        "df_salaries.describe(include='object')"
      ]
    },
    {
      "attachments": {},
      "cell_type": "markdown",
      "metadata": {},
      "source": [
        "К числовым признакам можно отнести *work_year*, *remote_ratio*, *monthly_salary*. Остальные относятся к категориальным."
      ]
    },
    {
      "attachments": {},
      "cell_type": "markdown",
      "metadata": {},
      "source": [
        "### Основные статистические характеристики\n",
        "\n",
        "В двух таблицах выше приведены общие статестические характеристики признаков:\n",
        "* **Числовые признаки** характерезуются средним значением, квантилями, минимальным и максимальным значением.\n",
        "* **Категориальные признаки** показывают сколько уникальных значений строка *unique*, какое самое популярное значение *top*, а так же как часто оно встречается *freq*. "
      ]
    },
    {
      "attachments": {},
      "cell_type": "markdown",
      "metadata": {},
      "source": [
        "### Преобразование данных"
      ]
    },
    {
      "attachments": {},
      "cell_type": "markdown",
      "metadata": {},
      "source": [
        "\n",
        "1. Преобразование признак *job_title*.\n",
        "\n",
        "Из таблици выше видно, что у признака *job_title* 50 различных наименований должностей, рассмотрим их. "
      ]
    },
    {
      "cell_type": "code",
      "execution_count": 11,
      "metadata": {},
      "outputs": [
        {
          "data": {
            "text/html": [
              "<div>\n",
              "<style scoped>\n",
              "    .dataframe tbody tr th:only-of-type {\n",
              "        vertical-align: middle;\n",
              "    }\n",
              "\n",
              "    .dataframe tbody tr th {\n",
              "        vertical-align: top;\n",
              "    }\n",
              "\n",
              "    .dataframe thead th {\n",
              "        text-align: right;\n",
              "    }\n",
              "</style>\n",
              "<table border=\"1\" class=\"dataframe\">\n",
              "  <thead>\n",
              "    <tr style=\"text-align: right;\">\n",
              "      <th></th>\n",
              "      <th>Count</th>\n",
              "    </tr>\n",
              "    <tr>\n",
              "      <th>job_title</th>\n",
              "      <th></th>\n",
              "    </tr>\n",
              "  </thead>\n",
              "  <tbody>\n",
              "    <tr>\n",
              "      <th>Data Scientist</th>\n",
              "      <td>130</td>\n",
              "    </tr>\n",
              "    <tr>\n",
              "      <th>Data Engineer</th>\n",
              "      <td>121</td>\n",
              "    </tr>\n",
              "    <tr>\n",
              "      <th>Data Analyst</th>\n",
              "      <td>82</td>\n",
              "    </tr>\n",
              "    <tr>\n",
              "      <th>Machine Learning Engineer</th>\n",
              "      <td>39</td>\n",
              "    </tr>\n",
              "    <tr>\n",
              "      <th>Research Scientist</th>\n",
              "      <td>16</td>\n",
              "    </tr>\n",
              "    <tr>\n",
              "      <th>Data Science Manager</th>\n",
              "      <td>12</td>\n",
              "    </tr>\n",
              "    <tr>\n",
              "      <th>Data Architect</th>\n",
              "      <td>11</td>\n",
              "    </tr>\n",
              "    <tr>\n",
              "      <th>Big Data Engineer</th>\n",
              "      <td>8</td>\n",
              "    </tr>\n",
              "    <tr>\n",
              "      <th>Machine Learning Scientist</th>\n",
              "      <td>8</td>\n",
              "    </tr>\n",
              "    <tr>\n",
              "      <th>Director of Data Science</th>\n",
              "      <td>7</td>\n",
              "    </tr>\n",
              "    <tr>\n",
              "      <th>Data Analytics Manager</th>\n",
              "      <td>7</td>\n",
              "    </tr>\n",
              "    <tr>\n",
              "      <th>AI Scientist</th>\n",
              "      <td>7</td>\n",
              "    </tr>\n",
              "    <tr>\n",
              "      <th>Principal Data Scientist</th>\n",
              "      <td>7</td>\n",
              "    </tr>\n",
              "    <tr>\n",
              "      <th>Data Science Consultant</th>\n",
              "      <td>7</td>\n",
              "    </tr>\n",
              "    <tr>\n",
              "      <th>Lead Data Engineer</th>\n",
              "      <td>6</td>\n",
              "    </tr>\n",
              "  </tbody>\n",
              "</table>\n",
              "</div>"
            ],
            "text/plain": [
              "                            Count\n",
              "job_title                        \n",
              "Data Scientist                130\n",
              "Data Engineer                 121\n",
              "Data Analyst                   82\n",
              "Machine Learning Engineer      39\n",
              "Research Scientist             16\n",
              "Data Science Manager           12\n",
              "Data Architect                 11\n",
              "Big Data Engineer               8\n",
              "Machine Learning Scientist      8\n",
              "Director of Data Science        7\n",
              "Data Analytics Manager          7\n",
              "AI Scientist                    7\n",
              "Principal Data Scientist        7\n",
              "Data Science Consultant         7\n",
              "Lead Data Engineer              6"
            ]
          },
          "execution_count": 11,
          "metadata": {},
          "output_type": "execute_result"
        }
      ],
      "source": [
        "df_salaries[['job_title']].value_counts().head(15).to_frame(name='Count')"
      ]
    },
    {
      "attachments": {},
      "cell_type": "markdown",
      "metadata": {},
      "source": [
        "Топ-15 типов работ это *Data Scientist*, *Data Engineer*, *Data Analyst* и т.д. составляет основную массу. Переменуем остальные наименования профессий как *other*."
      ]
    },
    {
      "cell_type": "code",
      "execution_count": 12,
      "metadata": {},
      "outputs": [],
      "source": [
        "# Преобразование признака 'job_title'.\n",
        "# Создадим список топ-15 профессий\n",
        "data = df_salaries[['job_title']].value_counts().head(15)\n",
        "data = list(data.index)\n",
        "top_15_prof = []\n",
        "for i in range(len(data)):\n",
        "    top_15_prof.append(str(*data[i]))\n",
        "\n",
        "# Переименуем остальные в 'other' не входящие в Top-15 профессий.\n",
        "df_salaries['job_title'] = df_salaries['job_title'].apply(\n",
        "    lambda x: x if x in top_15_prof else 'other')"
      ]
    },
    {
      "attachments": {},
      "cell_type": "markdown",
      "metadata": {},
      "source": [
        "2. Преобразование признака *employee_residence* и *company_location*.\n",
        "\n",
        "*employee_residence* есть 57 различных наименований, а *company_location* 50 сократим их до 9 остальные назовём *other*.\n",
        "\n",
        "Преобразуем признак *employee_residence*:"
      ]
    },
    {
      "cell_type": "code",
      "execution_count": 13,
      "metadata": {},
      "outputs": [],
      "source": [
        "# Преобразование признака 'employee_residence'.\n",
        "# Создадим список топ-9 стран проживания.\n",
        "data = df_salaries[['employee_residence']].value_counts().head(9)\n",
        "data = list(data.index)\n",
        "top_9_er = []\n",
        "for i in range(len(data)):\n",
        "    top_9_er.append(str(*data[i]))\n",
        "# print(top_9_er)\n",
        "\n",
        "# Переименуем остальные в 'other' не входящие в Top-9 стран проживания.\n",
        "df_salaries['employee_residence'] = df_salaries['employee_residence'].apply(\n",
        "    lambda x: x if x in top_9_er else 'other')"
      ]
    },
    {
      "attachments": {},
      "cell_type": "markdown",
      "metadata": {},
      "source": [
        "Преобразуем признак *company_location*:"
      ]
    },
    {
      "cell_type": "code",
      "execution_count": 14,
      "metadata": {},
      "outputs": [],
      "source": [
        "# Преобразование признака 'company_location'.\n",
        "# Создадим список топ-9 стран главного офиса компании.\n",
        "data = df_salaries[['company_location']].value_counts().head(9)\n",
        "data = list(data.index)\n",
        "top_9_cl = []\n",
        "for i in range(len(data)):\n",
        "    top_9_cl.append(str(*data[i]))\n",
        "\n",
        "# Переименуем остальные в 'other' не входящие в Top-9 стран проживания.\n",
        "df_salaries['company_location'] = df_salaries['company_location'].apply(\n",
        "    lambda x: x if x in top_9_cl else 'other')"
      ]
    },
    {
      "cell_type": "code",
      "execution_count": 15,
      "metadata": {},
      "outputs": [
        {
          "data": {
            "text/html": [
              "<div>\n",
              "<style scoped>\n",
              "    .dataframe tbody tr th:only-of-type {\n",
              "        vertical-align: middle;\n",
              "    }\n",
              "\n",
              "    .dataframe tbody tr th {\n",
              "        vertical-align: top;\n",
              "    }\n",
              "\n",
              "    .dataframe thead th {\n",
              "        text-align: right;\n",
              "    }\n",
              "</style>\n",
              "<table border=\"1\" class=\"dataframe\">\n",
              "  <thead>\n",
              "    <tr style=\"text-align: right;\">\n",
              "      <th></th>\n",
              "      <th>experience_level</th>\n",
              "      <th>employment_type</th>\n",
              "      <th>job_title</th>\n",
              "      <th>employee_residence</th>\n",
              "      <th>company_location</th>\n",
              "      <th>company_size</th>\n",
              "    </tr>\n",
              "  </thead>\n",
              "  <tbody>\n",
              "    <tr>\n",
              "      <th>count</th>\n",
              "      <td>565</td>\n",
              "      <td>565</td>\n",
              "      <td>565</td>\n",
              "      <td>565</td>\n",
              "      <td>565</td>\n",
              "      <td>565</td>\n",
              "    </tr>\n",
              "    <tr>\n",
              "      <th>unique</th>\n",
              "      <td>4</td>\n",
              "      <td>4</td>\n",
              "      <td>16</td>\n",
              "      <td>10</td>\n",
              "      <td>10</td>\n",
              "      <td>3</td>\n",
              "    </tr>\n",
              "    <tr>\n",
              "      <th>top</th>\n",
              "      <td>SE</td>\n",
              "      <td>FT</td>\n",
              "      <td>Data Scientist</td>\n",
              "      <td>US</td>\n",
              "      <td>US</td>\n",
              "      <td>M</td>\n",
              "    </tr>\n",
              "    <tr>\n",
              "      <th>freq</th>\n",
              "      <td>243</td>\n",
              "      <td>546</td>\n",
              "      <td>130</td>\n",
              "      <td>295</td>\n",
              "      <td>318</td>\n",
              "      <td>290</td>\n",
              "    </tr>\n",
              "  </tbody>\n",
              "</table>\n",
              "</div>"
            ],
            "text/plain": [
              "       experience_level employment_type       job_title employee_residence  \\\n",
              "count               565             565             565                565   \n",
              "unique                4               4              16                 10   \n",
              "top                  SE              FT  Data Scientist                 US   \n",
              "freq                243             546             130                295   \n",
              "\n",
              "       company_location company_size  \n",
              "count               565          565  \n",
              "unique               10            3  \n",
              "top                  US            M  \n",
              "freq                318          290  "
            ]
          },
          "execution_count": 15,
          "metadata": {},
          "output_type": "execute_result"
        }
      ],
      "source": [
        "df_salaries.describe(include='object')"
      ]
    },
    {
      "attachments": {},
      "cell_type": "markdown",
      "metadata": {},
      "source": [
        "## II Разведовательный анализ данных"
      ]
    },
    {
      "attachments": {},
      "cell_type": "markdown",
      "metadata": {},
      "source": [
        "### II.1 Визуальный анализ данных"
      ]
    },
    {
      "attachments": {},
      "cell_type": "markdown",
      "metadata": {},
      "source": [
        "#### Базовый анализ данных для каждого признака"
      ]
    },
    {
      "attachments": {},
      "cell_type": "markdown",
      "metadata": {
        "id": "6uAbyderTaNx"
      },
      "source": [
        "Общий уровень **заработной платы** Data Sientist"
      ]
    },
    {
      "cell_type": "code",
      "execution_count": 16,
      "metadata": {},
      "outputs": [
        {
          "data": {
            "text/html": [
              "<div>\n",
              "<style scoped>\n",
              "    .dataframe tbody tr th:only-of-type {\n",
              "        vertical-align: middle;\n",
              "    }\n",
              "\n",
              "    .dataframe tbody tr th {\n",
              "        vertical-align: top;\n",
              "    }\n",
              "\n",
              "    .dataframe thead th {\n",
              "        text-align: right;\n",
              "    }\n",
              "</style>\n",
              "<table border=\"1\" class=\"dataframe\">\n",
              "  <thead>\n",
              "    <tr style=\"text-align: right;\">\n",
              "      <th></th>\n",
              "      <th>Размер оплаты труда DataScientist в месяц</th>\n",
              "    </tr>\n",
              "  </thead>\n",
              "  <tbody>\n",
              "    <tr>\n",
              "      <th>count</th>\n",
              "      <td>565.00</td>\n",
              "    </tr>\n",
              "    <tr>\n",
              "      <th>mean</th>\n",
              "      <td>9217.15</td>\n",
              "    </tr>\n",
              "    <tr>\n",
              "      <th>std</th>\n",
              "      <td>6023.45</td>\n",
              "    </tr>\n",
              "    <tr>\n",
              "      <th>min</th>\n",
              "      <td>238.00</td>\n",
              "    </tr>\n",
              "    <tr>\n",
              "      <th>25%</th>\n",
              "      <td>5063.00</td>\n",
              "    </tr>\n",
              "    <tr>\n",
              "      <th>50%</th>\n",
              "      <td>8333.00</td>\n",
              "    </tr>\n",
              "    <tr>\n",
              "      <th>75%</th>\n",
              "      <td>12500.00</td>\n",
              "    </tr>\n",
              "    <tr>\n",
              "      <th>max</th>\n",
              "      <td>50000.00</td>\n",
              "    </tr>\n",
              "  </tbody>\n",
              "</table>\n",
              "</div>"
            ],
            "text/plain": [
              "       Размер оплаты труда DataScientist в месяц\n",
              "count                                     565.00\n",
              "mean                                     9217.15\n",
              "std                                      6023.45\n",
              "min                                       238.00\n",
              "25%                                      5063.00\n",
              "50%                                      8333.00\n",
              "75%                                     12500.00\n",
              "max                                     50000.00"
            ]
          },
          "execution_count": 16,
          "metadata": {},
          "output_type": "execute_result"
        }
      ],
      "source": [
        "salary_agg = df_salaries['monthly_salary'].describe().round(2).to_frame()\n",
        "salary_agg.columns = ['Размер оплаты труда DataScientist в месяц']\n",
        "salary_agg"
      ]
    },
    {
      "attachments": {},
      "cell_type": "markdown",
      "metadata": {},
      "source": [
        "Построим график для визуализации данных."
      ]
    },
    {
      "cell_type": "code",
      "execution_count": 17,
      "metadata": {
        "colab": {
          "base_uri": "https://localhost:8080/",
          "height": 496
        },
        "id": "KX6k6B2NWJ8t",
        "outputId": "523d571d-679e-4926-fe74-dc130c6a1b53"
      },
      "outputs": [
        {
          "data": {
            "image/png": "[encoded data removed]",
            "text/plain": [
              "<Figure size 1000x800 with 2 Axes>"
            ]
          },
          "metadata": {},
          "output_type": "display_data"
        }
      ],
      "source": [
        "fig, axes = plt.subplots(2, 1, figsize=(10, 8))\n",
        "\n",
        "sns.histplot(df_salaries['monthly_salary'], kde=True, ax=axes[0])\n",
        "axes[0].set(xlabel='Уровень заработной платы', ylabel='Частота')\n",
        "axes[0].set_title('Общий уровень заработной платы Data Sientist', size=18)\n",
        "axes[0].axvline(df_salaries['monthly_salary'].mean(), color='red',\n",
        "                linestyle='--', linewidth=0.8)\n",
        "\n",
        "sns.boxplot(df_salaries['monthly_salary'], ax=axes[1], orient='h',\n",
        "            medianprops={\"color\": \"red\", \"linestyle\": '--'})\n",
        "axes[1].set(xlabel='Размер заработной платы', ylabel='общий')\n",
        "# axes[1].set_title('Общий уровень заработной платы Data Sientist')\n",
        "\n",
        "plt.show()"
      ]
    },
    {
      "attachments": {},
      "cell_type": "markdown",
      "metadata": {},
      "source": [
        "На графике видно, что средний уровень зарплат варьируется 0 до 24000 долларов в месяц. График имеет вид нормального распределения с правосторонней ассиметрией. Межквартильный размах зарплаты между 25-й и 75-й квантилью находится в диапазоне от 7500  до 12000 долларов. \n",
        "\n",
        "На первом графике красной линие проведено среднее значение, на втором медианное. Они отличны друг от друга, что говорит о некотором отклонении от нормального распределения, это будет проверено в дальнейше на тестах. "
      ]
    },
    {
      "cell_type": "markdown",
      "metadata": {},
      "source": [
        "**Какие факторы влияют на заработную плату**❓"
      ]
    },
    {
      "attachments": {},
      "cell_type": "markdown",
      "metadata": {},
      "source": [
        "1. Общий признак **work_year** (год работы)."
      ]
    },
    {
      "cell_type": "code",
      "execution_count": 18,
      "metadata": {},
      "outputs": [
        {
          "data": {
            "text/html": [
              "<div>\n",
              "<style scoped>\n",
              "    .dataframe tbody tr th:only-of-type {\n",
              "        vertical-align: middle;\n",
              "    }\n",
              "\n",
              "    .dataframe tbody tr th {\n",
              "        vertical-align: top;\n",
              "    }\n",
              "\n",
              "    .dataframe thead th {\n",
              "        text-align: right;\n",
              "    }\n",
              "</style>\n",
              "<table border=\"1\" class=\"dataframe\">\n",
              "  <thead>\n",
              "    <tr style=\"text-align: right;\">\n",
              "      <th></th>\n",
              "      <th>Число профессий</th>\n",
              "    </tr>\n",
              "  </thead>\n",
              "  <tbody>\n",
              "    <tr>\n",
              "      <th>2022</th>\n",
              "      <td>278</td>\n",
              "    </tr>\n",
              "    <tr>\n",
              "      <th>2021</th>\n",
              "      <td>215</td>\n",
              "    </tr>\n",
              "    <tr>\n",
              "      <th>2020</th>\n",
              "      <td>72</td>\n",
              "    </tr>\n",
              "  </tbody>\n",
              "</table>\n",
              "</div>"
            ],
            "text/plain": [
              "      Число профессий\n",
              "2022              278\n",
              "2021              215\n",
              "2020               72"
            ]
          },
          "execution_count": 18,
          "metadata": {},
          "output_type": "execute_result"
        }
      ],
      "source": [
        "# Создаём таблицу по года с колличеством профессий в нашем DataFrame.\n",
        "data = df_salaries['work_year'].value_counts().to_frame()\n",
        "data.columns = ['Число профессий']\n",
        "data"
      ]
    },
    {
      "cell_type": "code",
      "execution_count": 19,
      "metadata": {},
      "outputs": [
        {
          "data": {
            "image/png": "[encoded data removed]",
            "text/plain": [
              "<Figure size 640x480 with 1 Axes>"
            ]
          },
          "metadata": {},
          "output_type": "display_data"
        }
      ],
      "source": [
        "ax = sns.barplot(y=data['Число профессий'], x=data.index)\n",
        "ax.set(xlabel='Год', ylabel='Частота')\n",
        "ax.set_title('Колличество профессий по году работы.', size=15)\n",
        "plt.show()"
      ]
    },
    {
      "attachments": {},
      "cell_type": "markdown",
      "metadata": {
        "id": "cFABAmBjTkCo"
      },
      "source": [
        "Построим график ежегодного рост зарплат у специалистов Data Scientist и узнаем если зависмость уровня зарплаты от года работы."
      ]
    },
    {
      "cell_type": "code",
      "execution_count": 20,
      "metadata": {
        "colab": {
          "base_uri": "https://localhost:8080/",
          "height": 480
        },
        "id": "a06HKS1bwzsS",
        "outputId": "e4aa3e1a-71d3-4df3-8857-3f9f4342fa18"
      },
      "outputs": [
        {
          "data": {
            "image/png": "[encoded data removed]",
            "text/plain": [
              "<Figure size 640x480 with 1 Axes>"
            ]
          },
          "metadata": {},
          "output_type": "display_data"
        }
      ],
      "source": [
        "# Построим коробчатые диаграммы по годам\n",
        "ax = sns.boxplot(df_salaries,  x='monthly_salary', y='work_year', orient='h',\n",
        "                 medianprops={\"color\": \"red\", \"linestyle\": '--'})\n",
        "ax.set(xlabel='Размер оплаты труда', ylabel='Год')\n",
        "plt.title('Размер оплаты труда в зависимости от года.', size=15)\n",
        "plt.show()"
      ]
    },
    {
      "cell_type": "code",
      "execution_count": 21,
      "metadata": {},
      "outputs": [
        {
          "name": "stdout",
          "output_type": "stream",
          "text": [
            "Размер заработной платы в зависимости от года работы.\n"
          ]
        },
        {
          "data": {
            "text/html": [
              "<div>\n",
              "<style scoped>\n",
              "    .dataframe tbody tr th:only-of-type {\n",
              "        vertical-align: middle;\n",
              "    }\n",
              "\n",
              "    .dataframe tbody tr th {\n",
              "        vertical-align: top;\n",
              "    }\n",
              "\n",
              "    .dataframe thead th {\n",
              "        text-align: right;\n",
              "    }\n",
              "</style>\n",
              "<table border=\"1\" class=\"dataframe\">\n",
              "  <thead>\n",
              "    <tr style=\"text-align: right;\">\n",
              "      <th></th>\n",
              "      <th>count</th>\n",
              "      <th>mean</th>\n",
              "      <th>std</th>\n",
              "      <th>min</th>\n",
              "      <th>25%</th>\n",
              "      <th>50%</th>\n",
              "      <th>75%</th>\n",
              "      <th>max</th>\n",
              "    </tr>\n",
              "    <tr>\n",
              "      <th>work_year</th>\n",
              "      <th></th>\n",
              "      <th></th>\n",
              "      <th></th>\n",
              "      <th></th>\n",
              "      <th></th>\n",
              "      <th></th>\n",
              "      <th></th>\n",
              "      <th></th>\n",
              "    </tr>\n",
              "  </thead>\n",
              "  <tbody>\n",
              "    <tr>\n",
              "      <th>2020</th>\n",
              "      <td>72.0</td>\n",
              "      <td>7984.0</td>\n",
              "      <td>6903.0</td>\n",
              "      <td>475.0</td>\n",
              "      <td>3810.0</td>\n",
              "      <td>6295.0</td>\n",
              "      <td>9627.0</td>\n",
              "      <td>37500.0</td>\n",
              "    </tr>\n",
              "    <tr>\n",
              "      <th>2021</th>\n",
              "      <td>215.0</td>\n",
              "      <td>8285.0</td>\n",
              "      <td>6692.0</td>\n",
              "      <td>238.0</td>\n",
              "      <td>4166.0</td>\n",
              "      <td>6877.0</td>\n",
              "      <td>11250.0</td>\n",
              "      <td>50000.0</td>\n",
              "    </tr>\n",
              "    <tr>\n",
              "      <th>2022</th>\n",
              "      <td>278.0</td>\n",
              "      <td>10257.0</td>\n",
              "      <td>4991.0</td>\n",
              "      <td>833.0</td>\n",
              "      <td>6565.0</td>\n",
              "      <td>10000.0</td>\n",
              "      <td>13333.0</td>\n",
              "      <td>33750.0</td>\n",
              "    </tr>\n",
              "  </tbody>\n",
              "</table>\n",
              "</div>"
            ],
            "text/plain": [
              "           count     mean     std    min     25%      50%      75%      max\n",
              "work_year                                                                  \n",
              "2020        72.0   7984.0  6903.0  475.0  3810.0   6295.0   9627.0  37500.0\n",
              "2021       215.0   8285.0  6692.0  238.0  4166.0   6877.0  11250.0  50000.0\n",
              "2022       278.0  10257.0  4991.0  833.0  6565.0  10000.0  13333.0  33750.0"
            ]
          },
          "execution_count": 21,
          "metadata": {},
          "output_type": "execute_result"
        }
      ],
      "source": [
        "# Таблица заработной платы в зависимости от года работы.\n",
        "table = df_salaries.groupby('work_year')[\n",
        "    'monthly_salary'].describe().round()\n",
        "print('Размер заработной платы в зависимости от года работы.')\n",
        "table"
      ]
    },
    {
      "attachments": {},
      "cell_type": "markdown",
      "metadata": {
        "id": "QnoG6XTK_fOH"
      },
      "source": [
        "**Вывод:**\n",
        "* средний уровень заработной платы из года в год увеличивается;\n",
        "* снижается уровень *std* среднеквадратического отклонения, что говорит, что значение зарплаты имеет более устойчивое и стабильное положение;\n",
        "* *work_year* влияет на уровень заработной платы специалиста Data Scientist. \n",
        "\n",
        "Для того чтобы проверить являются ли эти различия статестически значимы, проведём статестическое тестирование в следующем разделе."
      ]
    },
    {
      "attachments": {},
      "cell_type": "markdown",
      "metadata": {},
      "source": [
        "2. Общий признак **remote_ratio** (процет удалённой работы).\n",
        "Возможные значения:\n",
        "    - 0 — удалённой работы нет (менее 20 %);\n",
        "    - 50 — частично удалённая работа;\n",
        "    - 100 — полностью удалённая работа (более 80 %)."
      ]
    },
    {
      "cell_type": "code",
      "execution_count": 22,
      "metadata": {},
      "outputs": [
        {
          "data": {
            "text/html": [
              "<div>\n",
              "<style scoped>\n",
              "    .dataframe tbody tr th:only-of-type {\n",
              "        vertical-align: middle;\n",
              "    }\n",
              "\n",
              "    .dataframe tbody tr th {\n",
              "        vertical-align: top;\n",
              "    }\n",
              "\n",
              "    .dataframe thead th {\n",
              "        text-align: right;\n",
              "    }\n",
              "</style>\n",
              "<table border=\"1\" class=\"dataframe\">\n",
              "  <thead>\n",
              "    <tr style=\"text-align: right;\">\n",
              "      <th></th>\n",
              "      <th>frequency</th>\n",
              "      <th>доля в %</th>\n",
              "    </tr>\n",
              "  </thead>\n",
              "  <tbody>\n",
              "    <tr>\n",
              "      <th>0</th>\n",
              "      <td>121</td>\n",
              "      <td>21.0</td>\n",
              "    </tr>\n",
              "    <tr>\n",
              "      <th>50</th>\n",
              "      <td>98</td>\n",
              "      <td>17.0</td>\n",
              "    </tr>\n",
              "    <tr>\n",
              "      <th>100</th>\n",
              "      <td>346</td>\n",
              "      <td>61.0</td>\n",
              "    </tr>\n",
              "  </tbody>\n",
              "</table>\n",
              "</div>"
            ],
            "text/plain": [
              "     frequency  доля в %\n",
              "0          121      21.0\n",
              "50          98      17.0\n",
              "100        346      61.0"
            ]
          },
          "execution_count": 22,
          "metadata": {},
          "output_type": "execute_result"
        }
      ],
      "source": [
        "# Построим DataFrame признака удалённой работы.\n",
        "data = df_salaries['remote_ratio'].value_counts().to_frame()\n",
        "data.sort_index(inplace=True)\n",
        "data.columns = ['frequency']\n",
        "data['доля в %'] = round((data['frequency']/data['frequency'].sum())*100)\n",
        "data"
      ]
    },
    {
      "attachments": {},
      "cell_type": "markdown",
      "metadata": {},
      "source": [
        "Построим круговой и коробчатый графики. Первый график будет отражат какую долю занимает удалённая работа, а второй как меняется уровень зарплаты в зависимоти от уровня удалённой работы. "
      ]
    },
    {
      "cell_type": "code",
      "execution_count": 23,
      "metadata": {},
      "outputs": [
        {
          "data": {
            "image/png": "[encoded data removed]",
            "text/plain": [
              "<Figure size 1300x300 with 2 Axes>"
            ]
          },
          "metadata": {},
          "output_type": "display_data"
        }
      ],
      "source": [
        "fig, axes = plt.subplots(1, 2, figsize=(13, 3))\n",
        "\n",
        "sns.barplot(x=data['frequency'], y=data.index, orient='h', ax=axes[0])\n",
        "axes[0].set_title('Общее значение признака удалённой работы.', size=13)\n",
        "axes[0].set(xlabel='Колличество', ylabel='% удалённой работы')\n",
        "\n",
        "sns.boxplot(df_salaries,  x='monthly_salary',\n",
        "            y='remote_ratio', orient='h', ax=axes[1])\n",
        "axes[1].set(xlabel='Размер оплаты труда')\n",
        "axes[1].set_title('Зависимость зарплаты от % удалённой работы.', size=13)\n",
        "\n",
        "plt.show()"
      ]
    },
    {
      "cell_type": "code",
      "execution_count": 24,
      "metadata": {},
      "outputs": [
        {
          "name": "stdout",
          "output_type": "stream",
          "text": [
            "Размер заработной платы в зависимости от удалённости работы.\n"
          ]
        },
        {
          "data": {
            "text/html": [
              "<div>\n",
              "<style scoped>\n",
              "    .dataframe tbody tr th:only-of-type {\n",
              "        vertical-align: middle;\n",
              "    }\n",
              "\n",
              "    .dataframe tbody tr th {\n",
              "        vertical-align: top;\n",
              "    }\n",
              "\n",
              "    .dataframe thead th {\n",
              "        text-align: right;\n",
              "    }\n",
              "</style>\n",
              "<table border=\"1\" class=\"dataframe\">\n",
              "  <thead>\n",
              "    <tr style=\"text-align: right;\">\n",
              "      <th></th>\n",
              "      <th>count</th>\n",
              "      <th>mean</th>\n",
              "      <th>std</th>\n",
              "      <th>min</th>\n",
              "      <th>25%</th>\n",
              "      <th>50%</th>\n",
              "      <th>75%</th>\n",
              "      <th>max</th>\n",
              "    </tr>\n",
              "    <tr>\n",
              "      <th>remote_ratio</th>\n",
              "      <th></th>\n",
              "      <th></th>\n",
              "      <th></th>\n",
              "      <th></th>\n",
              "      <th></th>\n",
              "      <th></th>\n",
              "      <th></th>\n",
              "      <th></th>\n",
              "    </tr>\n",
              "  </thead>\n",
              "  <tbody>\n",
              "    <tr>\n",
              "      <th>0</th>\n",
              "      <td>121.0</td>\n",
              "      <td>8815.0</td>\n",
              "      <td>5699.0</td>\n",
              "      <td>238.0</td>\n",
              "      <td>5166.0</td>\n",
              "      <td>8179.0</td>\n",
              "      <td>11333.0</td>\n",
              "      <td>37500.0</td>\n",
              "    </tr>\n",
              "    <tr>\n",
              "      <th>50</th>\n",
              "      <td>98.0</td>\n",
              "      <td>6726.0</td>\n",
              "      <td>4803.0</td>\n",
              "      <td>450.0</td>\n",
              "      <td>4166.0</td>\n",
              "      <td>5667.0</td>\n",
              "      <td>8327.0</td>\n",
              "      <td>35250.0</td>\n",
              "    </tr>\n",
              "    <tr>\n",
              "      <th>100</th>\n",
              "      <td>346.0</td>\n",
              "      <td>10063.0</td>\n",
              "      <td>6244.0</td>\n",
              "      <td>333.0</td>\n",
              "      <td>5833.0</td>\n",
              "      <td>9226.0</td>\n",
              "      <td>13312.0</td>\n",
              "      <td>50000.0</td>\n",
              "    </tr>\n",
              "  </tbody>\n",
              "</table>\n",
              "</div>"
            ],
            "text/plain": [
              "              count     mean     std    min     25%     50%      75%      max\n",
              "remote_ratio                                                                 \n",
              "0             121.0   8815.0  5699.0  238.0  5166.0  8179.0  11333.0  37500.0\n",
              "50             98.0   6726.0  4803.0  450.0  4166.0  5667.0   8327.0  35250.0\n",
              "100           346.0  10063.0  6244.0  333.0  5833.0  9226.0  13312.0  50000.0"
            ]
          },
          "execution_count": 24,
          "metadata": {},
          "output_type": "execute_result"
        }
      ],
      "source": [
        "# Таблица заработной платы в зависимости от удалённости работы.\n",
        "table = df_salaries.groupby('remote_ratio')[\n",
        "    'monthly_salary'].describe().round()\n",
        "print('Размер заработной платы в зависимости от удалённости работы.')\n",
        "table"
      ]
    },
    {
      "attachments": {},
      "cell_type": "markdown",
      "metadata": {},
      "source": [
        "**Вывод:**\n",
        "- работа с уровнем удалённости в 100% занимает 1 место и долю в 61% от общего числа профессий Data Scentist;\n",
        "- ЗП(заработная плата) с уровнем удалённой работы 100%, выше чем у других; \n",
        "- как признак *remote_ratio* влияет на уровень заработной платы специалиста Data Scientist.\n",
        "\n",
        "Для того чтобы проверить являются ли эти различия статестически значимы, проведём статестическое тестирование в дополнительном исследовании."
      ]
    },
    {
      "attachments": {},
      "cell_type": "markdown",
      "metadata": {},
      "source": [
        "3. Общий признак **experience_level** (уровень опыта) влияет ли он на уровень заработной платы."
      ]
    },
    {
      "cell_type": "code",
      "execution_count": 25,
      "metadata": {},
      "outputs": [
        {
          "data": {
            "text/html": [
              "<div>\n",
              "<style scoped>\n",
              "    .dataframe tbody tr th:only-of-type {\n",
              "        vertical-align: middle;\n",
              "    }\n",
              "\n",
              "    .dataframe tbody tr th {\n",
              "        vertical-align: top;\n",
              "    }\n",
              "\n",
              "    .dataframe thead th {\n",
              "        text-align: right;\n",
              "    }\n",
              "</style>\n",
              "<table border=\"1\" class=\"dataframe\">\n",
              "  <thead>\n",
              "    <tr style=\"text-align: right;\">\n",
              "      <th></th>\n",
              "      <th>experience_level</th>\n",
              "    </tr>\n",
              "  </thead>\n",
              "  <tbody>\n",
              "    <tr>\n",
              "      <th>SE</th>\n",
              "      <td>243</td>\n",
              "    </tr>\n",
              "    <tr>\n",
              "      <th>MI</th>\n",
              "      <td>208</td>\n",
              "    </tr>\n",
              "    <tr>\n",
              "      <th>EN</th>\n",
              "      <td>88</td>\n",
              "    </tr>\n",
              "    <tr>\n",
              "      <th>EX</th>\n",
              "      <td>26</td>\n",
              "    </tr>\n",
              "  </tbody>\n",
              "</table>\n",
              "</div>"
            ],
            "text/plain": [
              "    experience_level\n",
              "SE               243\n",
              "MI               208\n",
              "EN                88\n",
              "EX                26"
            ]
          },
          "execution_count": 25,
          "metadata": {},
          "output_type": "execute_result"
        }
      ],
      "source": [
        "data = df_salaries['experience_level'].value_counts().to_frame()\n",
        "data"
      ]
    },
    {
      "cell_type": "code",
      "execution_count": 26,
      "metadata": {},
      "outputs": [
        {
          "data": {
            "image/png": "[encoded data removed]",
            "text/plain": [
              "<Figure size 1100x300 with 2 Axes>"
            ]
          },
          "metadata": {},
          "output_type": "display_data"
        }
      ],
      "source": [
        "fig, axes = plt.subplots(1, 2, figsize=(11, 3))\n",
        "\n",
        "sns.barplot(x=data['experience_level'], y=data.index, ax=axes[0],\n",
        "            order=['EX', 'SE', 'MI', 'EN'])\n",
        "axes[0].set_title('Общее число специалистов с опыта работы.', size=10)\n",
        "axes[0].set(xlabel='Опыт работы', ylabel='Опыт работы')\n",
        "\n",
        "sns.boxplot(df_salaries,  x='monthly_salary', y='experience_level',\n",
        "            orient='h', ax=axes[1], order=['EX', 'SE', 'MI', 'EN'])\n",
        "axes[1].set(xlabel='Размер оплаты труда', ylabel=None)\n",
        "axes[1].set_title('Зависимость зарплаты от уровня опыта.', size=10)\n",
        "\n",
        "plt.show()"
      ]
    },
    {
      "cell_type": "code",
      "execution_count": 27,
      "metadata": {},
      "outputs": [
        {
          "name": "stdout",
          "output_type": "stream",
          "text": [
            "Размер заработной платы в зависимости от опыта работы.\n"
          ]
        },
        {
          "data": {
            "text/html": [
              "<div>\n",
              "<style scoped>\n",
              "    .dataframe tbody tr th:only-of-type {\n",
              "        vertical-align: middle;\n",
              "    }\n",
              "\n",
              "    .dataframe tbody tr th {\n",
              "        vertical-align: top;\n",
              "    }\n",
              "\n",
              "    .dataframe thead th {\n",
              "        text-align: right;\n",
              "    }\n",
              "</style>\n",
              "<table border=\"1\" class=\"dataframe\">\n",
              "  <thead>\n",
              "    <tr style=\"text-align: right;\">\n",
              "      <th></th>\n",
              "      <th>count</th>\n",
              "      <th>mean</th>\n",
              "      <th>std</th>\n",
              "      <th>min</th>\n",
              "      <th>25%</th>\n",
              "      <th>50%</th>\n",
              "      <th>75%</th>\n",
              "      <th>max</th>\n",
              "    </tr>\n",
              "    <tr>\n",
              "      <th>experience_level</th>\n",
              "      <th></th>\n",
              "      <th></th>\n",
              "      <th></th>\n",
              "      <th></th>\n",
              "      <th></th>\n",
              "      <th></th>\n",
              "      <th></th>\n",
              "      <th></th>\n",
              "    </tr>\n",
              "  </thead>\n",
              "  <tbody>\n",
              "    <tr>\n",
              "      <th>EN</th>\n",
              "      <td>88.0</td>\n",
              "      <td>5137.0</td>\n",
              "      <td>3700.0</td>\n",
              "      <td>333.0</td>\n",
              "      <td>2292.0</td>\n",
              "      <td>4708.0</td>\n",
              "      <td>7118.0</td>\n",
              "      <td>20833.0</td>\n",
              "    </tr>\n",
              "    <tr>\n",
              "      <th>EX</th>\n",
              "      <td>26.0</td>\n",
              "      <td>16616.0</td>\n",
              "      <td>9756.0</td>\n",
              "      <td>5811.0</td>\n",
              "      <td>10834.0</td>\n",
              "      <td>14286.0</td>\n",
              "      <td>19479.0</td>\n",
              "      <td>50000.0</td>\n",
              "    </tr>\n",
              "    <tr>\n",
              "      <th>MI</th>\n",
              "      <td>208.0</td>\n",
              "      <td>7316.0</td>\n",
              "      <td>5343.0</td>\n",
              "      <td>238.0</td>\n",
              "      <td>3930.0</td>\n",
              "      <td>6411.0</td>\n",
              "      <td>9339.0</td>\n",
              "      <td>37500.0</td>\n",
              "    </tr>\n",
              "    <tr>\n",
              "      <th>SE</th>\n",
              "      <td>243.0</td>\n",
              "      <td>11531.0</td>\n",
              "      <td>4996.0</td>\n",
              "      <td>1575.0</td>\n",
              "      <td>8294.0</td>\n",
              "      <td>11250.0</td>\n",
              "      <td>14323.0</td>\n",
              "      <td>34333.0</td>\n",
              "    </tr>\n",
              "  </tbody>\n",
              "</table>\n",
              "</div>"
            ],
            "text/plain": [
              "                  count     mean     std     min      25%      50%      75%  \\\n",
              "experience_level                                                              \n",
              "EN                 88.0   5137.0  3700.0   333.0   2292.0   4708.0   7118.0   \n",
              "EX                 26.0  16616.0  9756.0  5811.0  10834.0  14286.0  19479.0   \n",
              "MI                208.0   7316.0  5343.0   238.0   3930.0   6411.0   9339.0   \n",
              "SE                243.0  11531.0  4996.0  1575.0   8294.0  11250.0  14323.0   \n",
              "\n",
              "                      max  \n",
              "experience_level           \n",
              "EN                20833.0  \n",
              "EX                50000.0  \n",
              "MI                37500.0  \n",
              "SE                34333.0  "
            ]
          },
          "execution_count": 27,
          "metadata": {},
          "output_type": "execute_result"
        }
      ],
      "source": [
        "# Таблица заработной платы в зависимости от опыта работы.\n",
        "table = df_salaries.groupby('experience_level')[\n",
        "    'monthly_salary'].describe().round()\n",
        "print('Размер заработной платы в зависимости от опыта работы.')\n",
        "table"
      ]
    },
    {
      "attachments": {},
      "cell_type": "markdown",
      "metadata": {},
      "source": [
        "Значения на графике опыта работ: \n",
        "1. EN — Entry-level/Junior;\n",
        "2. MI — Mid-level/Intermediate;\n",
        "3. SE — Senior-level/Expert;\n",
        "4. EX — Executive-level/Director.\n",
        "\n",
        "**Вывод:**\n",
        "\n",
        "* Наибольшую долю на рынке составляют специалисты  *Senior-level/Expert* и *Mid-level/Intermediate* соответсвенно.\n",
        "\n",
        "* На графика видно уровень опыт оказывает значительное влияния на уровень заработной платы. Так например опыт работы SE(Expert) и EX(Director) оценивается 1,5-3 раза выше чем уровень EN(Junior) и MI(Intermediate).\n",
        "\n",
        "* как признак *experience_level* влияет на уровень заработной платы специалиста Data Scientist. \n",
        "\n",
        "Для того чтобы проверить являются ли эти различия статестически значимы, проведём статестическое тестирование в качестве дополнительного исследования.\n"
      ]
    },
    {
      "attachments": {},
      "cell_type": "markdown",
      "metadata": {},
      "source": [
        "\n",
        "4. Общий признак **job_title** влияет ли он на уровень заработной платы или нет."
      ]
    },
    {
      "cell_type": "code",
      "execution_count": 28,
      "metadata": {},
      "outputs": [
        {
          "data": {
            "text/html": [
              "<div>\n",
              "<style scoped>\n",
              "    .dataframe tbody tr th:only-of-type {\n",
              "        vertical-align: middle;\n",
              "    }\n",
              "\n",
              "    .dataframe tbody tr th {\n",
              "        vertical-align: top;\n",
              "    }\n",
              "\n",
              "    .dataframe thead th {\n",
              "        text-align: right;\n",
              "    }\n",
              "</style>\n",
              "<table border=\"1\" class=\"dataframe\">\n",
              "  <thead>\n",
              "    <tr style=\"text-align: right;\">\n",
              "      <th></th>\n",
              "      <th>experience_level</th>\n",
              "      <th>employment_type</th>\n",
              "      <th>job_title</th>\n",
              "      <th>employee_residence</th>\n",
              "      <th>company_location</th>\n",
              "      <th>company_size</th>\n",
              "    </tr>\n",
              "  </thead>\n",
              "  <tbody>\n",
              "    <tr>\n",
              "      <th>count</th>\n",
              "      <td>565</td>\n",
              "      <td>565</td>\n",
              "      <td>565</td>\n",
              "      <td>565</td>\n",
              "      <td>565</td>\n",
              "      <td>565</td>\n",
              "    </tr>\n",
              "    <tr>\n",
              "      <th>unique</th>\n",
              "      <td>4</td>\n",
              "      <td>4</td>\n",
              "      <td>16</td>\n",
              "      <td>10</td>\n",
              "      <td>10</td>\n",
              "      <td>3</td>\n",
              "    </tr>\n",
              "    <tr>\n",
              "      <th>top</th>\n",
              "      <td>SE</td>\n",
              "      <td>FT</td>\n",
              "      <td>Data Scientist</td>\n",
              "      <td>US</td>\n",
              "      <td>US</td>\n",
              "      <td>M</td>\n",
              "    </tr>\n",
              "    <tr>\n",
              "      <th>freq</th>\n",
              "      <td>243</td>\n",
              "      <td>546</td>\n",
              "      <td>130</td>\n",
              "      <td>295</td>\n",
              "      <td>318</td>\n",
              "      <td>290</td>\n",
              "    </tr>\n",
              "  </tbody>\n",
              "</table>\n",
              "</div>"
            ],
            "text/plain": [
              "       experience_level employment_type       job_title employee_residence  \\\n",
              "count               565             565             565                565   \n",
              "unique                4               4              16                 10   \n",
              "top                  SE              FT  Data Scientist                 US   \n",
              "freq                243             546             130                295   \n",
              "\n",
              "       company_location company_size  \n",
              "count               565          565  \n",
              "unique               10            3  \n",
              "top                  US            M  \n",
              "freq                318          290  "
            ]
          },
          "execution_count": 28,
          "metadata": {},
          "output_type": "execute_result"
        }
      ],
      "source": [
        "df_salaries.describe(include='object')"
      ]
    },
    {
      "attachments": {},
      "cell_type": "markdown",
      "metadata": {},
      "source": [
        "Преобразуем наши данные для наглядности на графиках"
      ]
    },
    {
      "cell_type": "code",
      "execution_count": 29,
      "metadata": {},
      "outputs": [
        {
          "data": {
            "text/html": [
              "<div>\n",
              "<style scoped>\n",
              "    .dataframe tbody tr th:only-of-type {\n",
              "        vertical-align: middle;\n",
              "    }\n",
              "\n",
              "    .dataframe tbody tr th {\n",
              "        vertical-align: top;\n",
              "    }\n",
              "\n",
              "    .dataframe thead th {\n",
              "        text-align: right;\n",
              "    }\n",
              "</style>\n",
              "<table border=\"1\" class=\"dataframe\">\n",
              "  <thead>\n",
              "    <tr style=\"text-align: right;\">\n",
              "      <th></th>\n",
              "      <th>count</th>\n",
              "      <th>mean_salary</th>\n",
              "    </tr>\n",
              "    <tr>\n",
              "      <th>job_title</th>\n",
              "      <th></th>\n",
              "      <th></th>\n",
              "    </tr>\n",
              "  </thead>\n",
              "  <tbody>\n",
              "    <tr>\n",
              "      <th>Data Scientist</th>\n",
              "      <td>130</td>\n",
              "      <td>8333.0</td>\n",
              "    </tr>\n",
              "    <tr>\n",
              "      <th>Data Engineer</th>\n",
              "      <td>121</td>\n",
              "      <td>8400.0</td>\n",
              "    </tr>\n",
              "    <tr>\n",
              "      <th>other</th>\n",
              "      <td>97</td>\n",
              "      <td>8166.0</td>\n",
              "    </tr>\n",
              "    <tr>\n",
              "      <th>Data Analyst</th>\n",
              "      <td>82</td>\n",
              "      <td>7500.0</td>\n",
              "    </tr>\n",
              "    <tr>\n",
              "      <th>Machine Learning Engineer</th>\n",
              "      <td>39</td>\n",
              "      <td>7285.0</td>\n",
              "    </tr>\n",
              "    <tr>\n",
              "      <th>Research Scientist</th>\n",
              "      <td>16</td>\n",
              "      <td>6355.0</td>\n",
              "    </tr>\n",
              "    <tr>\n",
              "      <th>Data Science Manager</th>\n",
              "      <td>12</td>\n",
              "      <td>12979.0</td>\n",
              "    </tr>\n",
              "    <tr>\n",
              "      <th>Data Architect</th>\n",
              "      <td>11</td>\n",
              "      <td>15000.0</td>\n",
              "    </tr>\n",
              "    <tr>\n",
              "      <th>Machine Learning Scientist</th>\n",
              "      <td>8</td>\n",
              "      <td>13042.0</td>\n",
              "    </tr>\n",
              "    <tr>\n",
              "      <th>Big Data Engineer</th>\n",
              "      <td>8</td>\n",
              "      <td>3442.0</td>\n",
              "    </tr>\n",
              "    <tr>\n",
              "      <th>Data Science Consultant</th>\n",
              "      <td>7</td>\n",
              "      <td>6402.0</td>\n",
              "    </tr>\n",
              "    <tr>\n",
              "      <th>Director of Data Science</th>\n",
              "      <td>7</td>\n",
              "      <td>14000.0</td>\n",
              "    </tr>\n",
              "    <tr>\n",
              "      <th>AI Scientist</th>\n",
              "      <td>7</td>\n",
              "      <td>3824.0</td>\n",
              "    </tr>\n",
              "    <tr>\n",
              "      <th>Principal Data Scientist</th>\n",
              "      <td>7</td>\n",
              "      <td>14480.0</td>\n",
              "    </tr>\n",
              "    <tr>\n",
              "      <th>Data Analytics Manager</th>\n",
              "      <td>7</td>\n",
              "      <td>10000.0</td>\n",
              "    </tr>\n",
              "    <tr>\n",
              "      <th>Lead Data Engineer</th>\n",
              "      <td>6</td>\n",
              "      <td>10132.0</td>\n",
              "    </tr>\n",
              "  </tbody>\n",
              "</table>\n",
              "</div>"
            ],
            "text/plain": [
              "                            count  mean_salary\n",
              "job_title                                     \n",
              "Data Scientist                130       8333.0\n",
              "Data Engineer                 121       8400.0\n",
              "other                          97       8166.0\n",
              "Data Analyst                   82       7500.0\n",
              "Machine Learning Engineer      39       7285.0\n",
              "Research Scientist             16       6355.0\n",
              "Data Science Manager           12      12979.0\n",
              "Data Architect                 11      15000.0\n",
              "Machine Learning Scientist      8      13042.0\n",
              "Big Data Engineer               8       3442.0\n",
              "Data Science Consultant         7       6402.0\n",
              "Director of Data Science        7      14000.0\n",
              "AI Scientist                    7       3824.0\n",
              "Principal Data Scientist        7      14480.0\n",
              "Data Analytics Manager          7      10000.0\n",
              "Lead Data Engineer              6      10132.0"
            ]
          },
          "execution_count": 29,
          "metadata": {},
          "output_type": "execute_result"
        }
      ],
      "source": [
        "df_1 = df_salaries['job_title'].value_counts()\n",
        "df_1.rename('count', inplace=True)\n",
        "df_1.index.name = 'job_title'\n",
        "\n",
        "# Порядок профессий\n",
        "prof = list(df_1.index)\n",
        "\n",
        "df_2 = df_salaries.groupby('job_title')['monthly_salary'].quantile(0.5).round()\n",
        "df_2 = df_2.rename('mean_salary')\n",
        "\n",
        "data = pd.concat([df_1, df_2], axis=1)\n",
        "data"
      ]
    },
    {
      "attachments": {},
      "cell_type": "markdown",
      "metadata": {},
      "source": [
        "Таблице выше показывает количество специальностей на рынке и среднее значение заработной платы. \n",
        "\n",
        "Изобразим это на графиках."
      ]
    },
    {
      "cell_type": "code",
      "execution_count": 30,
      "metadata": {},
      "outputs": [
        {
          "data": {
            "image/png": "[encoded data removed]",
            "text/plain": [
              "<Figure size 1100x500 with 2 Axes>"
            ]
          },
          "metadata": {},
          "output_type": "display_data"
        }
      ],
      "source": [
        "fig, axes = plt.subplots(1, 2, figsize=(11, 5))\n",
        "\n",
        "sns.barplot(data, x=data['count'], y=data.index, ax=axes[0])\n",
        "axes[0].set_title('Общее значение признака должность.', size=10)\n",
        "axes[0].set(xlabel='Колличество профессий', ylabel='Должность')\n",
        "\n",
        "sns.boxplot(data,  x=data['mean_salary'],\n",
        "            y=data.index, ax=axes[1])\n",
        "\n",
        "axes[1].set_title('Зависимость зарплаты от занимаемой должности.', size=10)\n",
        "axes[1].set(xlabel='Средняя зарплата', ylabel=None)\n",
        "\n",
        "plt.show()"
      ]
    },
    {
      "cell_type": "code",
      "execution_count": 31,
      "metadata": {},
      "outputs": [
        {
          "name": "stdout",
          "output_type": "stream",
          "text": [
            "Размер заработной платы в зависимости от занимаемой должности.\n"
          ]
        },
        {
          "data": {
            "text/html": [
              "<div>\n",
              "<style scoped>\n",
              "    .dataframe tbody tr th:only-of-type {\n",
              "        vertical-align: middle;\n",
              "    }\n",
              "\n",
              "    .dataframe tbody tr th {\n",
              "        vertical-align: top;\n",
              "    }\n",
              "\n",
              "    .dataframe thead th {\n",
              "        text-align: right;\n",
              "    }\n",
              "</style>\n",
              "<table border=\"1\" class=\"dataframe\">\n",
              "  <thead>\n",
              "    <tr style=\"text-align: right;\">\n",
              "      <th></th>\n",
              "      <th>count</th>\n",
              "      <th>mean</th>\n",
              "      <th>std</th>\n",
              "      <th>min</th>\n",
              "      <th>25%</th>\n",
              "      <th>50%</th>\n",
              "      <th>75%</th>\n",
              "      <th>max</th>\n",
              "    </tr>\n",
              "    <tr>\n",
              "      <th>job_title</th>\n",
              "      <th></th>\n",
              "      <th></th>\n",
              "      <th></th>\n",
              "      <th></th>\n",
              "      <th></th>\n",
              "      <th></th>\n",
              "      <th></th>\n",
              "      <th></th>\n",
              "    </tr>\n",
              "  </thead>\n",
              "  <tbody>\n",
              "    <tr>\n",
              "      <th>AI Scientist</th>\n",
              "      <td>7.0</td>\n",
              "      <td>5511.0</td>\n",
              "      <td>5846.0</td>\n",
              "      <td>1000.0</td>\n",
              "      <td>1252.0</td>\n",
              "      <td>3824.0</td>\n",
              "      <td>7292.0</td>\n",
              "      <td>16666.0</td>\n",
              "    </tr>\n",
              "    <tr>\n",
              "      <th>Big Data Engineer</th>\n",
              "      <td>8.0</td>\n",
              "      <td>4331.0</td>\n",
              "      <td>3579.0</td>\n",
              "      <td>490.0</td>\n",
              "      <td>1463.0</td>\n",
              "      <td>3442.0</td>\n",
              "      <td>6646.0</td>\n",
              "      <td>9503.0</td>\n",
              "    </tr>\n",
              "    <tr>\n",
              "      <th>Data Analyst</th>\n",
              "      <td>82.0</td>\n",
              "      <td>7507.0</td>\n",
              "      <td>3391.0</td>\n",
              "      <td>506.0</td>\n",
              "      <td>5027.0</td>\n",
              "      <td>7500.0</td>\n",
              "      <td>9676.0</td>\n",
              "      <td>16666.0</td>\n",
              "    </tr>\n",
              "    <tr>\n",
              "      <th>Data Analytics Manager</th>\n",
              "      <td>7.0</td>\n",
              "      <td>10594.0</td>\n",
              "      <td>1488.0</td>\n",
              "      <td>8783.0</td>\n",
              "      <td>9553.0</td>\n",
              "      <td>10000.0</td>\n",
              "      <td>11874.0</td>\n",
              "      <td>12521.0</td>\n",
              "    </tr>\n",
              "    <tr>\n",
              "      <th>Data Architect</th>\n",
              "      <td>11.0</td>\n",
              "      <td>14823.0</td>\n",
              "      <td>3810.0</td>\n",
              "      <td>7558.0</td>\n",
              "      <td>12408.0</td>\n",
              "      <td>15000.0</td>\n",
              "      <td>16722.0</td>\n",
              "      <td>22200.0</td>\n",
              "    </tr>\n",
              "    <tr>\n",
              "      <th>Data Engineer</th>\n",
              "      <td>121.0</td>\n",
              "      <td>9145.0</td>\n",
              "      <td>4850.0</td>\n",
              "      <td>333.0</td>\n",
              "      <td>5501.0</td>\n",
              "      <td>8400.0</td>\n",
              "      <td>12500.0</td>\n",
              "      <td>27000.0</td>\n",
              "    </tr>\n",
              "    <tr>\n",
              "      <th>Data Science Consultant</th>\n",
              "      <td>7.0</td>\n",
              "      <td>5785.0</td>\n",
              "      <td>2580.0</td>\n",
              "      <td>475.0</td>\n",
              "      <td>5565.0</td>\n",
              "      <td>6402.0</td>\n",
              "      <td>6951.0</td>\n",
              "      <td>8583.0</td>\n",
              "    </tr>\n",
              "    <tr>\n",
              "      <th>Data Science Manager</th>\n",
              "      <td>12.0</td>\n",
              "      <td>13194.0</td>\n",
              "      <td>4383.0</td>\n",
              "      <td>4507.0</td>\n",
              "      <td>11857.0</td>\n",
              "      <td>12979.0</td>\n",
              "      <td>14838.0</td>\n",
              "      <td>20083.0</td>\n",
              "    </tr>\n",
              "    <tr>\n",
              "      <th>Data Scientist</th>\n",
              "      <td>130.0</td>\n",
              "      <td>8611.0</td>\n",
              "      <td>5331.0</td>\n",
              "      <td>238.0</td>\n",
              "      <td>4194.0</td>\n",
              "      <td>8333.0</td>\n",
              "      <td>11700.0</td>\n",
              "      <td>34333.0</td>\n",
              "    </tr>\n",
              "    <tr>\n",
              "      <th>Director of Data Science</th>\n",
              "      <td>7.0</td>\n",
              "      <td>16256.0</td>\n",
              "      <td>5835.0</td>\n",
              "      <td>10835.0</td>\n",
              "      <td>12312.0</td>\n",
              "      <td>14000.0</td>\n",
              "      <td>18624.0</td>\n",
              "      <td>27083.0</td>\n",
              "    </tr>\n",
              "    <tr>\n",
              "      <th>Lead Data Engineer</th>\n",
              "      <td>6.0</td>\n",
              "      <td>11643.0</td>\n",
              "      <td>6237.0</td>\n",
              "      <td>4666.0</td>\n",
              "      <td>8909.0</td>\n",
              "      <td>10132.0</td>\n",
              "      <td>12604.0</td>\n",
              "      <td>23000.0</td>\n",
              "    </tr>\n",
              "    <tr>\n",
              "      <th>Machine Learning Engineer</th>\n",
              "      <td>39.0</td>\n",
              "      <td>8430.0</td>\n",
              "      <td>5210.0</td>\n",
              "      <td>1666.0</td>\n",
              "      <td>4098.0</td>\n",
              "      <td>7285.0</td>\n",
              "      <td>10958.0</td>\n",
              "      <td>20833.0</td>\n",
              "    </tr>\n",
              "    <tr>\n",
              "      <th>Machine Learning Scientist</th>\n",
              "      <td>8.0</td>\n",
              "      <td>13201.0</td>\n",
              "      <td>6626.0</td>\n",
              "      <td>1000.0</td>\n",
              "      <td>9840.0</td>\n",
              "      <td>13042.0</td>\n",
              "      <td>18750.0</td>\n",
              "      <td>21666.0</td>\n",
              "    </tr>\n",
              "    <tr>\n",
              "      <th>Principal Data Scientist</th>\n",
              "      <td>7.0</td>\n",
              "      <td>17937.0</td>\n",
              "      <td>7892.0</td>\n",
              "      <td>12355.0</td>\n",
              "      <td>13070.0</td>\n",
              "      <td>14480.0</td>\n",
              "      <td>18958.0</td>\n",
              "      <td>34666.0</td>\n",
              "    </tr>\n",
              "    <tr>\n",
              "      <th>Research Scientist</th>\n",
              "      <td>16.0</td>\n",
              "      <td>9085.0</td>\n",
              "      <td>8212.0</td>\n",
              "      <td>3500.0</td>\n",
              "      <td>5181.0</td>\n",
              "      <td>6355.0</td>\n",
              "      <td>8750.0</td>\n",
              "      <td>37500.0</td>\n",
              "    </tr>\n",
              "    <tr>\n",
              "      <th>other</th>\n",
              "      <td>97.0</td>\n",
              "      <td>9978.0</td>\n",
              "      <td>8470.0</td>\n",
              "      <td>450.0</td>\n",
              "      <td>4583.0</td>\n",
              "      <td>8166.0</td>\n",
              "      <td>13750.0</td>\n",
              "      <td>50000.0</td>\n",
              "    </tr>\n",
              "  </tbody>\n",
              "</table>\n",
              "</div>"
            ],
            "text/plain": [
              "                            count     mean     std      min      25%      50%  \\\n",
              "job_title                                                                       \n",
              "AI Scientist                  7.0   5511.0  5846.0   1000.0   1252.0   3824.0   \n",
              "Big Data Engineer             8.0   4331.0  3579.0    490.0   1463.0   3442.0   \n",
              "Data Analyst                 82.0   7507.0  3391.0    506.0   5027.0   7500.0   \n",
              "Data Analytics Manager        7.0  10594.0  1488.0   8783.0   9553.0  10000.0   \n",
              "Data Architect               11.0  14823.0  3810.0   7558.0  12408.0  15000.0   \n",
              "Data Engineer               121.0   9145.0  4850.0    333.0   5501.0   8400.0   \n",
              "Data Science Consultant       7.0   5785.0  2580.0    475.0   5565.0   6402.0   \n",
              "Data Science Manager         12.0  13194.0  4383.0   4507.0  11857.0  12979.0   \n",
              "Data Scientist              130.0   8611.0  5331.0    238.0   4194.0   8333.0   \n",
              "Director of Data Science      7.0  16256.0  5835.0  10835.0  12312.0  14000.0   \n",
              "Lead Data Engineer            6.0  11643.0  6237.0   4666.0   8909.0  10132.0   \n",
              "Machine Learning Engineer    39.0   8430.0  5210.0   1666.0   4098.0   7285.0   \n",
              "Machine Learning Scientist    8.0  13201.0  6626.0   1000.0   9840.0  13042.0   \n",
              "Principal Data Scientist      7.0  17937.0  7892.0  12355.0  13070.0  14480.0   \n",
              "Research Scientist           16.0   9085.0  8212.0   3500.0   5181.0   6355.0   \n",
              "other                        97.0   9978.0  8470.0    450.0   4583.0   8166.0   \n",
              "\n",
              "                                75%      max  \n",
              "job_title                                     \n",
              "AI Scientist                 7292.0  16666.0  \n",
              "Big Data Engineer            6646.0   9503.0  \n",
              "Data Analyst                 9676.0  16666.0  \n",
              "Data Analytics Manager      11874.0  12521.0  \n",
              "Data Architect              16722.0  22200.0  \n",
              "Data Engineer               12500.0  27000.0  \n",
              "Data Science Consultant      6951.0   8583.0  \n",
              "Data Science Manager        14838.0  20083.0  \n",
              "Data Scientist              11700.0  34333.0  \n",
              "Director of Data Science    18624.0  27083.0  \n",
              "Lead Data Engineer          12604.0  23000.0  \n",
              "Machine Learning Engineer   10958.0  20833.0  \n",
              "Machine Learning Scientist  18750.0  21666.0  \n",
              "Principal Data Scientist    18958.0  34666.0  \n",
              "Research Scientist           8750.0  37500.0  \n",
              "other                       13750.0  50000.0  "
            ]
          },
          "execution_count": 31,
          "metadata": {},
          "output_type": "execute_result"
        }
      ],
      "source": [
        "# Таблица заработной платы в зависимости от занимаемой должности.\n",
        "table = df_salaries.groupby('job_title')[\n",
        "    'monthly_salary'].describe().round()\n",
        "print('Размер заработной платы в зависимости от занимаемой должности.')\n",
        "table"
      ]
    },
    {
      "attachments": {},
      "cell_type": "markdown",
      "metadata": {},
      "source": [
        "**Вывод:**\n",
        "\n",
        "* самые распространённые профессии *Data Science*, *Data Engineer*, *Data Analyst* получают зарплату  в районе 8000 долларов;\n",
        "* самая высокая средяя заработная плата 13000 у *DataArchitect*,\n",
        "* самая маленькая 3800 у *Big Data Engeneer*;\n",
        "* *job_title* влияет на уровень заработной платы.\n",
        "\n",
        "Для того чтобы проверить являются ли эти различия статестически значимы, проведём статестическое тестирование в следующем разделе.\n"
      ]
    },
    {
      "attachments": {},
      "cell_type": "markdown",
      "metadata": {},
      "source": [
        "5. Общий признак **company_size** (размер компании) влияет ли он на уровень заработной платы или нет.\n",
        "\n",
        "* *S* - менее 50 сотрудников (небольшая компания);\n",
        "* *M* - от 50 до 250 сотрудников (средняя компания);\n",
        "* *L* - более 250 сотрудников (крупная компания)\n",
        "\n",
        "Посмотрим данные признака *company_size*."
      ]
    },
    {
      "cell_type": "code",
      "execution_count": 32,
      "metadata": {},
      "outputs": [
        {
          "data": {
            "text/html": [
              "<div>\n",
              "<style scoped>\n",
              "    .dataframe tbody tr th:only-of-type {\n",
              "        vertical-align: middle;\n",
              "    }\n",
              "\n",
              "    .dataframe tbody tr th {\n",
              "        vertical-align: top;\n",
              "    }\n",
              "\n",
              "    .dataframe thead th {\n",
              "        text-align: right;\n",
              "    }\n",
              "</style>\n",
              "<table border=\"1\" class=\"dataframe\">\n",
              "  <thead>\n",
              "    <tr style=\"text-align: right;\">\n",
              "      <th></th>\n",
              "      <th>company_size</th>\n",
              "    </tr>\n",
              "  </thead>\n",
              "  <tbody>\n",
              "    <tr>\n",
              "      <th>count</th>\n",
              "      <td>565</td>\n",
              "    </tr>\n",
              "    <tr>\n",
              "      <th>unique</th>\n",
              "      <td>3</td>\n",
              "    </tr>\n",
              "    <tr>\n",
              "      <th>top</th>\n",
              "      <td>M</td>\n",
              "    </tr>\n",
              "    <tr>\n",
              "      <th>freq</th>\n",
              "      <td>290</td>\n",
              "    </tr>\n",
              "  </tbody>\n",
              "</table>\n",
              "</div>"
            ],
            "text/plain": [
              "       company_size\n",
              "count           565\n",
              "unique            3\n",
              "top               M\n",
              "freq            290"
            ]
          },
          "execution_count": 32,
          "metadata": {},
          "output_type": "execute_result"
        }
      ],
      "source": [
        "df_salaries['company_size'].describe(include='object').to_frame()"
      ]
    },
    {
      "attachments": {},
      "cell_type": "markdown",
      "metadata": {},
      "source": [
        "Общее число компаний 565, самые распространённые M - средние компании с числом сотрудников от 50 до 250 человек."
      ]
    },
    {
      "cell_type": "code",
      "execution_count": 33,
      "metadata": {},
      "outputs": [
        {
          "data": {
            "text/html": [
              "<div>\n",
              "<style scoped>\n",
              "    .dataframe tbody tr th:only-of-type {\n",
              "        vertical-align: middle;\n",
              "    }\n",
              "\n",
              "    .dataframe tbody tr th {\n",
              "        vertical-align: top;\n",
              "    }\n",
              "\n",
              "    .dataframe thead th {\n",
              "        text-align: right;\n",
              "    }\n",
              "</style>\n",
              "<table border=\"1\" class=\"dataframe\">\n",
              "  <thead>\n",
              "    <tr style=\"text-align: right;\">\n",
              "      <th></th>\n",
              "      <th>company_size</th>\n",
              "    </tr>\n",
              "  </thead>\n",
              "  <tbody>\n",
              "    <tr>\n",
              "      <th>M</th>\n",
              "      <td>290</td>\n",
              "    </tr>\n",
              "    <tr>\n",
              "      <th>L</th>\n",
              "      <td>193</td>\n",
              "    </tr>\n",
              "    <tr>\n",
              "      <th>S</th>\n",
              "      <td>82</td>\n",
              "    </tr>\n",
              "  </tbody>\n",
              "</table>\n",
              "</div>"
            ],
            "text/plain": [
              "   company_size\n",
              "M           290\n",
              "L           193\n",
              "S            82"
            ]
          },
          "execution_count": 33,
          "metadata": {},
          "output_type": "execute_result"
        }
      ],
      "source": [
        "data = df_salaries['company_size'].value_counts().to_frame()\n",
        "data"
      ]
    },
    {
      "attachments": {},
      "cell_type": "markdown",
      "metadata": {},
      "source": [
        "Покажем данные на графике."
      ]
    },
    {
      "cell_type": "code",
      "execution_count": 34,
      "metadata": {},
      "outputs": [
        {
          "data": {
            "image/png": "[encoded data removed]",
            "text/plain": [
              "<Figure size 1100x300 with 2 Axes>"
            ]
          },
          "metadata": {},
          "output_type": "display_data"
        }
      ],
      "source": [
        "fig, axes = plt.subplots(1, 2, figsize=(11, 3))\n",
        "\n",
        "sns.barplot(y=data.index, x=data['company_size'],\n",
        "            orient='h', ax=axes[0])\n",
        "axes[0].set_title('Общее значение размер компании.', size=14)\n",
        "axes[0].set(xlabel='Размер оплаты труда', ylabel='колличество')\n",
        "\n",
        "sns.boxplot(df_salaries.sort_values('company_size', ascending=True),  x='monthly_salary',\n",
        "            y='company_size', orient='h', ax=axes[1],\n",
        "            order=['M', 'L', 'S'])\n",
        "axes[1].set(xlabel='Размер оплаты труда', ylabel='размер компании')\n",
        "axes[1].set_title('Зависимость зарплаты от размера компании.', size=14)\n",
        "\n",
        "plt.show()"
      ]
    },
    {
      "cell_type": "code",
      "execution_count": 35,
      "metadata": {},
      "outputs": [
        {
          "name": "stdout",
          "output_type": "stream",
          "text": [
            "Размер заработной платы в зависимости от размера компании.\n"
          ]
        },
        {
          "data": {
            "text/html": [
              "<div>\n",
              "<style scoped>\n",
              "    .dataframe tbody tr th:only-of-type {\n",
              "        vertical-align: middle;\n",
              "    }\n",
              "\n",
              "    .dataframe tbody tr th {\n",
              "        vertical-align: top;\n",
              "    }\n",
              "\n",
              "    .dataframe thead th {\n",
              "        text-align: right;\n",
              "    }\n",
              "</style>\n",
              "<table border=\"1\" class=\"dataframe\">\n",
              "  <thead>\n",
              "    <tr style=\"text-align: right;\">\n",
              "      <th></th>\n",
              "      <th>count</th>\n",
              "      <th>mean</th>\n",
              "      <th>std</th>\n",
              "      <th>min</th>\n",
              "      <th>25%</th>\n",
              "      <th>50%</th>\n",
              "      <th>75%</th>\n",
              "      <th>max</th>\n",
              "    </tr>\n",
              "    <tr>\n",
              "      <th>company_size</th>\n",
              "      <th></th>\n",
              "      <th></th>\n",
              "      <th></th>\n",
              "      <th></th>\n",
              "      <th></th>\n",
              "      <th></th>\n",
              "      <th></th>\n",
              "      <th></th>\n",
              "    </tr>\n",
              "  </thead>\n",
              "  <tbody>\n",
              "    <tr>\n",
              "      <th>L</th>\n",
              "      <td>193.0</td>\n",
              "      <td>9851.0</td>\n",
              "      <td>7230.0</td>\n",
              "      <td>490.0</td>\n",
              "      <td>5000.0</td>\n",
              "      <td>8333.0</td>\n",
              "      <td>12805.0</td>\n",
              "      <td>50000.0</td>\n",
              "    </tr>\n",
              "    <tr>\n",
              "      <th>M</th>\n",
              "      <td>290.0</td>\n",
              "      <td>9567.0</td>\n",
              "      <td>5065.0</td>\n",
              "      <td>333.0</td>\n",
              "      <td>5902.0</td>\n",
              "      <td>9136.0</td>\n",
              "      <td>12517.0</td>\n",
              "      <td>37500.0</td>\n",
              "    </tr>\n",
              "    <tr>\n",
              "      <th>S</th>\n",
              "      <td>82.0</td>\n",
              "      <td>6489.0</td>\n",
              "      <td>5318.0</td>\n",
              "      <td>238.0</td>\n",
              "      <td>3484.0</td>\n",
              "      <td>5458.0</td>\n",
              "      <td>8333.0</td>\n",
              "      <td>34666.0</td>\n",
              "    </tr>\n",
              "  </tbody>\n",
              "</table>\n",
              "</div>"
            ],
            "text/plain": [
              "              count    mean     std    min     25%     50%      75%      max\n",
              "company_size                                                                \n",
              "L             193.0  9851.0  7230.0  490.0  5000.0  8333.0  12805.0  50000.0\n",
              "M             290.0  9567.0  5065.0  333.0  5902.0  9136.0  12517.0  37500.0\n",
              "S              82.0  6489.0  5318.0  238.0  3484.0  5458.0   8333.0  34666.0"
            ]
          },
          "execution_count": 35,
          "metadata": {},
          "output_type": "execute_result"
        }
      ],
      "source": [
        "# Таблица заработной платы в зависимости от размера компании.\n",
        "table = df_salaries.groupby('company_size')[\n",
        "    'monthly_salary'].describe().round()\n",
        "print('Размер заработной платы в зависимости от размера компании.')\n",
        "table"
      ]
    },
    {
      "attachments": {},
      "cell_type": "markdown",
      "metadata": {},
      "source": [
        "**Вывод:**\n",
        "\n",
        "* На графиках видно, что у маленьких компаний диапазон зарплат ниже чем, у средних и больших. Возможно потому, что они не могут позволить себе иметь большой штат специалистов в силу объёма работ, а так же возможности нести расходы.\n",
        "\n",
        "* Размер компании слабо, но влияет на зарплату сотрудников, особенно хорошо видны различия в малньких компаниях. \n",
        "\n",
        "Для того чтобы проверить являются ли эти различия статестически значимы, проведём статестическое тестирование в следующем разделе.\n"
      ]
    },
    {
      "attachments": {},
      "cell_type": "markdown",
      "metadata": {},
      "source": [
        "6. Общий признак **company_location** (расположение главного офиса компании) влияет ли он на уровень заработной платы или нет.\n",
        "\n",
        "Посмотрим данные признака *company_location*."
      ]
    },
    {
      "cell_type": "code",
      "execution_count": 36,
      "metadata": {},
      "outputs": [
        {
          "data": {
            "text/html": [
              "<div>\n",
              "<style scoped>\n",
              "    .dataframe tbody tr th:only-of-type {\n",
              "        vertical-align: middle;\n",
              "    }\n",
              "\n",
              "    .dataframe tbody tr th {\n",
              "        vertical-align: top;\n",
              "    }\n",
              "\n",
              "    .dataframe thead th {\n",
              "        text-align: right;\n",
              "    }\n",
              "</style>\n",
              "<table border=\"1\" class=\"dataframe\">\n",
              "  <thead>\n",
              "    <tr style=\"text-align: right;\">\n",
              "      <th></th>\n",
              "      <th>company_location</th>\n",
              "    </tr>\n",
              "  </thead>\n",
              "  <tbody>\n",
              "    <tr>\n",
              "      <th>count</th>\n",
              "      <td>565</td>\n",
              "    </tr>\n",
              "    <tr>\n",
              "      <th>unique</th>\n",
              "      <td>10</td>\n",
              "    </tr>\n",
              "    <tr>\n",
              "      <th>top</th>\n",
              "      <td>US</td>\n",
              "    </tr>\n",
              "    <tr>\n",
              "      <th>freq</th>\n",
              "      <td>318</td>\n",
              "    </tr>\n",
              "  </tbody>\n",
              "</table>\n",
              "</div>"
            ],
            "text/plain": [
              "       company_location\n",
              "count               565\n",
              "unique               10\n",
              "top                  US\n",
              "freq                318"
            ]
          },
          "execution_count": 36,
          "metadata": {},
          "output_type": "execute_result"
        }
      ],
      "source": [
        "df_salaries['company_location'].describe(include='object').to_frame()"
      ]
    },
    {
      "attachments": {},
      "cell_type": "markdown",
      "metadata": {},
      "source": [
        "Больше всего компаний находятся в US. Всего 10 уникальных значений. "
      ]
    },
    {
      "cell_type": "code",
      "execution_count": 37,
      "metadata": {},
      "outputs": [
        {
          "data": {
            "text/html": [
              "<div>\n",
              "<style scoped>\n",
              "    .dataframe tbody tr th:only-of-type {\n",
              "        vertical-align: middle;\n",
              "    }\n",
              "\n",
              "    .dataframe tbody tr th {\n",
              "        vertical-align: top;\n",
              "    }\n",
              "\n",
              "    .dataframe thead th {\n",
              "        text-align: right;\n",
              "    }\n",
              "</style>\n",
              "<table border=\"1\" class=\"dataframe\">\n",
              "  <thead>\n",
              "    <tr style=\"text-align: right;\">\n",
              "      <th></th>\n",
              "      <th>company_location</th>\n",
              "    </tr>\n",
              "  </thead>\n",
              "  <tbody>\n",
              "    <tr>\n",
              "      <th>US</th>\n",
              "      <td>318</td>\n",
              "    </tr>\n",
              "    <tr>\n",
              "      <th>other</th>\n",
              "      <td>77</td>\n",
              "    </tr>\n",
              "    <tr>\n",
              "      <th>GB</th>\n",
              "      <td>46</td>\n",
              "    </tr>\n",
              "    <tr>\n",
              "      <th>CA</th>\n",
              "      <td>28</td>\n",
              "    </tr>\n",
              "    <tr>\n",
              "      <th>DE</th>\n",
              "      <td>27</td>\n",
              "    </tr>\n",
              "    <tr>\n",
              "      <th>IN</th>\n",
              "      <td>24</td>\n",
              "    </tr>\n",
              "    <tr>\n",
              "      <th>FR</th>\n",
              "      <td>15</td>\n",
              "    </tr>\n",
              "    <tr>\n",
              "      <th>ES</th>\n",
              "      <td>14</td>\n",
              "    </tr>\n",
              "    <tr>\n",
              "      <th>GR</th>\n",
              "      <td>10</td>\n",
              "    </tr>\n",
              "    <tr>\n",
              "      <th>JP</th>\n",
              "      <td>6</td>\n",
              "    </tr>\n",
              "  </tbody>\n",
              "</table>\n",
              "</div>"
            ],
            "text/plain": [
              "       company_location\n",
              "US                  318\n",
              "other                77\n",
              "GB                   46\n",
              "CA                   28\n",
              "DE                   27\n",
              "IN                   24\n",
              "FR                   15\n",
              "ES                   14\n",
              "GR                   10\n",
              "JP                    6"
            ]
          },
          "execution_count": 37,
          "metadata": {},
          "output_type": "execute_result"
        }
      ],
      "source": [
        "data = df_salaries['company_location'].value_counts().to_frame()\n",
        "# Список стран компаний\n",
        "locations = list(data.index)\n",
        "data"
      ]
    },
    {
      "attachments": {},
      "cell_type": "markdown",
      "metadata": {},
      "source": [
        "Компании с именем *other* имеют 1-2 комании, мы объединили для удобства визулизации.\n",
        "\n",
        "Построим графики."
      ]
    },
    {
      "cell_type": "code",
      "execution_count": 38,
      "metadata": {},
      "outputs": [
        {
          "data": {
            "image/png": "[encoded data removed]",
            "text/plain": [
              "<Figure size 1100x300 with 2 Axes>"
            ]
          },
          "metadata": {},
          "output_type": "display_data"
        }
      ],
      "source": [
        "fig, axes = plt.subplots(1, 2, figsize=(11, 3))\n",
        "\n",
        "sns.barplot(y=data.index, x=data['company_location'],\n",
        "            orient='h', ax=axes[0])\n",
        "axes[0].set_title('Общее значение расположение компании.', size=14)\n",
        "axes[0].set(xlabel='Индекс', ylabel='численность')\n",
        "\n",
        "sns.boxplot(df_salaries.sort_values('company_location', ascending=True),\n",
        "            x='monthly_salary', y='company_location', orient='h', ax=axes[1],\n",
        "            order=locations)\n",
        "axes[1].set(xlabel='Размер оплаты труда', ylabel='размер компании')\n",
        "axes[1].set_title('Зависимость зарплаты от расположение компании.', size=14)\n",
        "\n",
        "plt.show()"
      ]
    },
    {
      "cell_type": "code",
      "execution_count": 39,
      "metadata": {},
      "outputs": [
        {
          "name": "stdout",
          "output_type": "stream",
          "text": [
            "Размер заработной платы в зависимости от размера компании.\n"
          ]
        },
        {
          "data": {
            "text/html": [
              "<div>\n",
              "<style scoped>\n",
              "    .dataframe tbody tr th:only-of-type {\n",
              "        vertical-align: middle;\n",
              "    }\n",
              "\n",
              "    .dataframe tbody tr th {\n",
              "        vertical-align: top;\n",
              "    }\n",
              "\n",
              "    .dataframe thead th {\n",
              "        text-align: right;\n",
              "    }\n",
              "</style>\n",
              "<table border=\"1\" class=\"dataframe\">\n",
              "  <thead>\n",
              "    <tr style=\"text-align: right;\">\n",
              "      <th></th>\n",
              "      <th>count</th>\n",
              "      <th>mean</th>\n",
              "      <th>std</th>\n",
              "      <th>min</th>\n",
              "      <th>25%</th>\n",
              "      <th>50%</th>\n",
              "      <th>75%</th>\n",
              "      <th>max</th>\n",
              "    </tr>\n",
              "    <tr>\n",
              "      <th>company_location</th>\n",
              "      <th></th>\n",
              "      <th></th>\n",
              "      <th></th>\n",
              "      <th></th>\n",
              "      <th></th>\n",
              "      <th></th>\n",
              "      <th></th>\n",
              "      <th></th>\n",
              "    </tr>\n",
              "  </thead>\n",
              "  <tbody>\n",
              "    <tr>\n",
              "      <th>CA</th>\n",
              "      <td>28.0</td>\n",
              "      <td>8343.0</td>\n",
              "      <td>3923.0</td>\n",
              "      <td>4333.0</td>\n",
              "      <td>5876.0</td>\n",
              "      <td>6824.0</td>\n",
              "      <td>9780.0</td>\n",
              "      <td>18750.0</td>\n",
              "    </tr>\n",
              "    <tr>\n",
              "      <th>DE</th>\n",
              "      <td>27.0</td>\n",
              "      <td>6796.0</td>\n",
              "      <td>3325.0</td>\n",
              "      <td>1330.0</td>\n",
              "      <td>4888.0</td>\n",
              "      <td>6402.0</td>\n",
              "      <td>7474.0</td>\n",
              "      <td>14480.0</td>\n",
              "    </tr>\n",
              "    <tr>\n",
              "      <th>ES</th>\n",
              "      <td>14.0</td>\n",
              "      <td>4421.0</td>\n",
              "      <td>1758.0</td>\n",
              "      <td>862.0</td>\n",
              "      <td>3339.0</td>\n",
              "      <td>4030.0</td>\n",
              "      <td>5732.0</td>\n",
              "      <td>7327.0</td>\n",
              "    </tr>\n",
              "    <tr>\n",
              "      <th>FR</th>\n",
              "      <td>15.0</td>\n",
              "      <td>5330.0</td>\n",
              "      <td>2390.0</td>\n",
              "      <td>3053.0</td>\n",
              "      <td>4016.0</td>\n",
              "      <td>4728.0</td>\n",
              "      <td>5761.0</td>\n",
              "      <td>12666.0</td>\n",
              "    </tr>\n",
              "    <tr>\n",
              "      <th>GB</th>\n",
              "      <td>46.0</td>\n",
              "      <td>6804.0</td>\n",
              "      <td>2487.0</td>\n",
              "      <td>3108.0</td>\n",
              "      <td>4743.0</td>\n",
              "      <td>6543.0</td>\n",
              "      <td>8693.0</td>\n",
              "      <td>15269.0</td>\n",
              "    </tr>\n",
              "    <tr>\n",
              "      <th>GR</th>\n",
              "      <td>10.0</td>\n",
              "      <td>4335.0</td>\n",
              "      <td>1696.0</td>\n",
              "      <td>1666.0</td>\n",
              "      <td>3428.0</td>\n",
              "      <td>4056.0</td>\n",
              "      <td>5266.0</td>\n",
              "      <td>7327.0</td>\n",
              "    </tr>\n",
              "    <tr>\n",
              "      <th>IN</th>\n",
              "      <td>24.0</td>\n",
              "      <td>2381.0</td>\n",
              "      <td>1891.0</td>\n",
              "      <td>450.0</td>\n",
              "      <td>1394.0</td>\n",
              "      <td>1844.0</td>\n",
              "      <td>2680.0</td>\n",
              "      <td>7888.0</td>\n",
              "    </tr>\n",
              "    <tr>\n",
              "      <th>JP</th>\n",
              "      <td>6.0</td>\n",
              "      <td>9510.0</td>\n",
              "      <td>6965.0</td>\n",
              "      <td>3474.0</td>\n",
              "      <td>5523.0</td>\n",
              "      <td>6306.0</td>\n",
              "      <td>12112.0</td>\n",
              "      <td>21666.0</td>\n",
              "    </tr>\n",
              "    <tr>\n",
              "      <th>US</th>\n",
              "      <td>318.0</td>\n",
              "      <td>12024.0</td>\n",
              "      <td>6044.0</td>\n",
              "      <td>473.0</td>\n",
              "      <td>8333.0</td>\n",
              "      <td>11250.0</td>\n",
              "      <td>14416.0</td>\n",
              "      <td>50000.0</td>\n",
              "    </tr>\n",
              "    <tr>\n",
              "      <th>other</th>\n",
              "      <td>77.0</td>\n",
              "      <td>4604.0</td>\n",
              "      <td>3500.0</td>\n",
              "      <td>238.0</td>\n",
              "      <td>1820.0</td>\n",
              "      <td>3824.0</td>\n",
              "      <td>6895.0</td>\n",
              "      <td>19166.0</td>\n",
              "    </tr>\n",
              "  </tbody>\n",
              "</table>\n",
              "</div>"
            ],
            "text/plain": [
              "                  count     mean     std     min     25%      50%      75%  \\\n",
              "company_location                                                             \n",
              "CA                 28.0   8343.0  3923.0  4333.0  5876.0   6824.0   9780.0   \n",
              "DE                 27.0   6796.0  3325.0  1330.0  4888.0   6402.0   7474.0   \n",
              "ES                 14.0   4421.0  1758.0   862.0  3339.0   4030.0   5732.0   \n",
              "FR                 15.0   5330.0  2390.0  3053.0  4016.0   4728.0   5761.0   \n",
              "GB                 46.0   6804.0  2487.0  3108.0  4743.0   6543.0   8693.0   \n",
              "GR                 10.0   4335.0  1696.0  1666.0  3428.0   4056.0   5266.0   \n",
              "IN                 24.0   2381.0  1891.0   450.0  1394.0   1844.0   2680.0   \n",
              "JP                  6.0   9510.0  6965.0  3474.0  5523.0   6306.0  12112.0   \n",
              "US                318.0  12024.0  6044.0   473.0  8333.0  11250.0  14416.0   \n",
              "other              77.0   4604.0  3500.0   238.0  1820.0   3824.0   6895.0   \n",
              "\n",
              "                      max  \n",
              "company_location           \n",
              "CA                18750.0  \n",
              "DE                14480.0  \n",
              "ES                 7327.0  \n",
              "FR                12666.0  \n",
              "GB                15269.0  \n",
              "GR                 7327.0  \n",
              "IN                 7888.0  \n",
              "JP                21666.0  \n",
              "US                50000.0  \n",
              "other             19166.0  "
            ]
          },
          "execution_count": 39,
          "metadata": {},
          "output_type": "execute_result"
        }
      ],
      "source": [
        "# Таблица заработной платы в разрзе места расположения компании.\n",
        "table = df_salaries.groupby('company_location')[\n",
        "    'monthly_salary'].describe().round()\n",
        "print('Размер заработной платы в зависимости от размера компании.')\n",
        "table"
      ]
    },
    {
      "attachments": {},
      "cell_type": "markdown",
      "metadata": {},
      "source": [
        "**Вывод:**\n",
        "\n",
        "* Расположения компании влияют на уровень заработной платы сотрудников. \n",
        "\n",
        "Для того чтобы проверить являются ли эти различия статестически значимы, проведём статестическое тестирование в следующем разделе."
      ]
    },
    {
      "attachments": {},
      "cell_type": "markdown",
      "metadata": {},
      "source": [
        "### Дадим графичские ответы на поставленые вопросы\n",
        "\n",
        "1. Наблюдается ли рост зарплат у специалистов *Data Scientist* за каждый год?\n",
        "2. Как соотносятся зарплаты *Data Scientist* и *Data Engineer* в 2022 году?\n",
        "3. Как соотносятся зарплаты специалистов *Data Scientist* и *Data Engineer* в компаниях различных размеров?\n",
        "4. Есть ли связь между наличием должностей *Data Scientist* и *Data Engineer* и размером компании?"
      ]
    },
    {
      "attachments": {},
      "cell_type": "markdown",
      "metadata": {},
      "source": [
        "### Вопрос 1. Наблюдается ли рост зарплат у специалистов *Data Scientist* за каждый год?"
      ]
    },
    {
      "cell_type": "code",
      "execution_count": 40,
      "metadata": {},
      "outputs": [
        {
          "data": {
            "image/png": "[encoded data removed]",
            "text/plain": [
              "<Figure size 640x480 with 1 Axes>"
            ]
          },
          "metadata": {},
          "output_type": "display_data"
        }
      ],
      "source": [
        "# Отфильтруем только значения для Data Scientist.\n",
        "ds = df_salaries[df_salaries['job_title'] == 'Data Scientist']\n",
        "\n",
        "# Построим коробчатые диаграммы по годам\n",
        "ax = sns.boxplot(ds,  x='monthly_salary', y='work_year', orient='h',\n",
        "                 medianprops={\"color\": \"red\", \"linestyle\": '--'})\n",
        "ax.set(xlabel='Размер оплаты труда', ylabel='Год')\n",
        "plt.title('Размер оплаты труда в зависимости от года.', size=15)\n",
        "plt.show()"
      ]
    },
    {
      "cell_type": "code",
      "execution_count": 41,
      "metadata": {},
      "outputs": [
        {
          "data": {
            "text/html": [
              "<div>\n",
              "<style scoped>\n",
              "    .dataframe tbody tr th:only-of-type {\n",
              "        vertical-align: middle;\n",
              "    }\n",
              "\n",
              "    .dataframe tbody tr th {\n",
              "        vertical-align: top;\n",
              "    }\n",
              "\n",
              "    .dataframe thead th {\n",
              "        text-align: right;\n",
              "    }\n",
              "</style>\n",
              "<table border=\"1\" class=\"dataframe\">\n",
              "  <thead>\n",
              "    <tr style=\"text-align: right;\">\n",
              "      <th></th>\n",
              "      <th>count</th>\n",
              "      <th>mean</th>\n",
              "      <th>std</th>\n",
              "      <th>min</th>\n",
              "      <th>25%</th>\n",
              "      <th>50%</th>\n",
              "      <th>75%</th>\n",
              "      <th>max</th>\n",
              "    </tr>\n",
              "    <tr>\n",
              "      <th>work_year</th>\n",
              "      <th></th>\n",
              "      <th></th>\n",
              "      <th></th>\n",
              "      <th></th>\n",
              "      <th></th>\n",
              "      <th></th>\n",
              "      <th></th>\n",
              "      <th></th>\n",
              "    </tr>\n",
              "  </thead>\n",
              "  <tbody>\n",
              "    <tr>\n",
              "      <th>2020</th>\n",
              "      <td>21.0</td>\n",
              "      <td>7164.0</td>\n",
              "      <td>6786.0</td>\n",
              "      <td>1805.0</td>\n",
              "      <td>3516.0</td>\n",
              "      <td>5227.0</td>\n",
              "      <td>8750.0</td>\n",
              "      <td>34333.0</td>\n",
              "    </tr>\n",
              "    <tr>\n",
              "      <th>2021</th>\n",
              "      <td>44.0</td>\n",
              "      <td>5851.0</td>\n",
              "      <td>3820.0</td>\n",
              "      <td>238.0</td>\n",
              "      <td>2732.0</td>\n",
              "      <td>5602.0</td>\n",
              "      <td>8410.0</td>\n",
              "      <td>13750.0</td>\n",
              "    </tr>\n",
              "    <tr>\n",
              "      <th>2022</th>\n",
              "      <td>65.0</td>\n",
              "      <td>10947.0</td>\n",
              "      <td>4649.0</td>\n",
              "      <td>1536.0</td>\n",
              "      <td>7962.0</td>\n",
              "      <td>11250.0</td>\n",
              "      <td>14166.0</td>\n",
              "      <td>21666.0</td>\n",
              "    </tr>\n",
              "  </tbody>\n",
              "</table>\n",
              "</div>"
            ],
            "text/plain": [
              "           count     mean     std     min     25%      50%      75%      max\n",
              "work_year                                                                   \n",
              "2020        21.0   7164.0  6786.0  1805.0  3516.0   5227.0   8750.0  34333.0\n",
              "2021        44.0   5851.0  3820.0   238.0  2732.0   5602.0   8410.0  13750.0\n",
              "2022        65.0  10947.0  4649.0  1536.0  7962.0  11250.0  14166.0  21666.0"
            ]
          },
          "execution_count": 41,
          "metadata": {},
          "output_type": "execute_result"
        }
      ],
      "source": [
        "ds.groupby('work_year')['monthly_salary'].describe().round()"
      ]
    },
    {
      "attachments": {},
      "cell_type": "markdown",
      "metadata": {},
      "source": [
        "**Вывод:** рост заработной платы специалиста Data Scientist наблюдается только с 2021 по 2022 год. Для того чтобы проверить являются ли эти различия статестически значимы, проведём статестическое тестирование в следующем разделе."
      ]
    },
    {
      "attachments": {},
      "cell_type": "markdown",
      "metadata": {},
      "source": [
        "### Вопрос 2. Как соотносятся зарплаты *Data Scientist* и *Data Engineer* в 2022 году?"
      ]
    },
    {
      "cell_type": "code",
      "execution_count": 42,
      "metadata": {},
      "outputs": [
        {
          "data": {
            "text/html": [
              "<div>\n",
              "<style scoped>\n",
              "    .dataframe tbody tr th:only-of-type {\n",
              "        vertical-align: middle;\n",
              "    }\n",
              "\n",
              "    .dataframe tbody tr th {\n",
              "        vertical-align: top;\n",
              "    }\n",
              "\n",
              "    .dataframe thead th {\n",
              "        text-align: right;\n",
              "    }\n",
              "</style>\n",
              "<table border=\"1\" class=\"dataframe\">\n",
              "  <thead>\n",
              "    <tr style=\"text-align: right;\">\n",
              "      <th></th>\n",
              "      <th>monthly_salary</th>\n",
              "      <th>work_year</th>\n",
              "      <th>job_title</th>\n",
              "    </tr>\n",
              "  </thead>\n",
              "  <tbody>\n",
              "    <tr>\n",
              "      <th>289</th>\n",
              "      <td>11250</td>\n",
              "      <td>2022</td>\n",
              "      <td>Data Engineer</td>\n",
              "    </tr>\n",
              "    <tr>\n",
              "      <th>292</th>\n",
              "      <td>10833</td>\n",
              "      <td>2022</td>\n",
              "      <td>Data Scientist</td>\n",
              "    </tr>\n",
              "    <tr>\n",
              "      <th>293</th>\n",
              "      <td>7500</td>\n",
              "      <td>2022</td>\n",
              "      <td>Data Scientist</td>\n",
              "    </tr>\n",
              "    <tr>\n",
              "      <th>294</th>\n",
              "      <td>14166</td>\n",
              "      <td>2022</td>\n",
              "      <td>Data Engineer</td>\n",
              "    </tr>\n",
              "    <tr>\n",
              "      <th>295</th>\n",
              "      <td>12500</td>\n",
              "      <td>2022</td>\n",
              "      <td>Data Engineer</td>\n",
              "    </tr>\n",
              "    <tr>\n",
              "      <th>...</th>\n",
              "      <td>...</td>\n",
              "      <td>...</td>\n",
              "      <td>...</td>\n",
              "    </tr>\n",
              "    <tr>\n",
              "      <th>593</th>\n",
              "      <td>12500</td>\n",
              "      <td>2022</td>\n",
              "      <td>Data Scientist</td>\n",
              "    </tr>\n",
              "    <tr>\n",
              "      <th>598</th>\n",
              "      <td>13333</td>\n",
              "      <td>2022</td>\n",
              "      <td>Data Scientist</td>\n",
              "    </tr>\n",
              "    <tr>\n",
              "      <th>599</th>\n",
              "      <td>10833</td>\n",
              "      <td>2022</td>\n",
              "      <td>Data Scientist</td>\n",
              "    </tr>\n",
              "    <tr>\n",
              "      <th>602</th>\n",
              "      <td>12833</td>\n",
              "      <td>2022</td>\n",
              "      <td>Data Engineer</td>\n",
              "    </tr>\n",
              "    <tr>\n",
              "      <th>603</th>\n",
              "      <td>10500</td>\n",
              "      <td>2022</td>\n",
              "      <td>Data Engineer</td>\n",
              "    </tr>\n",
              "  </tbody>\n",
              "</table>\n",
              "<p>144 rows × 3 columns</p>\n",
              "</div>"
            ],
            "text/plain": [
              "     monthly_salary  work_year       job_title\n",
              "289           11250       2022   Data Engineer\n",
              "292           10833       2022  Data Scientist\n",
              "293            7500       2022  Data Scientist\n",
              "294           14166       2022   Data Engineer\n",
              "295           12500       2022   Data Engineer\n",
              "..              ...        ...             ...\n",
              "593           12500       2022  Data Scientist\n",
              "598           13333       2022  Data Scientist\n",
              "599           10833       2022  Data Scientist\n",
              "602           12833       2022   Data Engineer\n",
              "603           10500       2022   Data Engineer\n",
              "\n",
              "[144 rows x 3 columns]"
            ]
          },
          "execution_count": 42,
          "metadata": {},
          "output_type": "execute_result"
        }
      ],
      "source": [
        "# Отфильтруем нужные данные\n",
        "de_ds_22 = df_salaries.loc[(df_salaries['work_year'] == 2022), [\n",
        "    'monthly_salary', 'work_year', 'job_title']]\n",
        "\n",
        "de_ds_22 = de_ds_22.loc[(de_ds_22['job_title'] == 'Data Engineer') |\n",
        "                        (de_ds_22['job_title'] == 'Data Scientist')]\n",
        "\n",
        "de_ds_22"
      ]
    },
    {
      "cell_type": "code",
      "execution_count": 43,
      "metadata": {},
      "outputs": [
        {
          "data": {
            "image/png": "[encoded data removed]",
            "text/plain": [
              "<Figure size 640x480 with 1 Axes>"
            ]
          },
          "metadata": {},
          "output_type": "display_data"
        }
      ],
      "source": [
        "#  Построим график\n",
        "boxplot = sns.boxplot(\n",
        "    de_ds_22, x=de_ds_22['monthly_salary'], y=de_ds_22['job_title'])\n",
        "plt.title('Зарплаты Data Scientist и Data Engineer в 2022 году')\n",
        "plt.show()"
      ]
    },
    {
      "cell_type": "code",
      "execution_count": 44,
      "metadata": {},
      "outputs": [
        {
          "name": "stdout",
          "output_type": "stream",
          "text": [
            "Зарплаты Data Scientist и Data Engineer в 2022 году.\n"
          ]
        },
        {
          "data": {
            "text/html": [
              "<div>\n",
              "<style scoped>\n",
              "    .dataframe tbody tr th:only-of-type {\n",
              "        vertical-align: middle;\n",
              "    }\n",
              "\n",
              "    .dataframe tbody tr th {\n",
              "        vertical-align: top;\n",
              "    }\n",
              "\n",
              "    .dataframe thead th {\n",
              "        text-align: right;\n",
              "    }\n",
              "</style>\n",
              "<table border=\"1\" class=\"dataframe\">\n",
              "  <thead>\n",
              "    <tr style=\"text-align: right;\">\n",
              "      <th></th>\n",
              "      <th>count</th>\n",
              "      <th>mean</th>\n",
              "      <th>std</th>\n",
              "      <th>min</th>\n",
              "      <th>25%</th>\n",
              "      <th>50%</th>\n",
              "      <th>75%</th>\n",
              "      <th>max</th>\n",
              "    </tr>\n",
              "    <tr>\n",
              "      <th>job_title</th>\n",
              "      <th></th>\n",
              "      <th></th>\n",
              "      <th></th>\n",
              "      <th></th>\n",
              "      <th></th>\n",
              "      <th></th>\n",
              "      <th></th>\n",
              "      <th></th>\n",
              "    </tr>\n",
              "  </thead>\n",
              "  <tbody>\n",
              "    <tr>\n",
              "      <th>Data Engineer</th>\n",
              "      <td>79.0</td>\n",
              "      <td>10387.0</td>\n",
              "      <td>4821.0</td>\n",
              "      <td>2083.0</td>\n",
              "      <td>6543.0</td>\n",
              "      <td>9583.0</td>\n",
              "      <td>13336.0</td>\n",
              "      <td>27000.0</td>\n",
              "    </tr>\n",
              "    <tr>\n",
              "      <th>Data Scientist</th>\n",
              "      <td>65.0</td>\n",
              "      <td>10947.0</td>\n",
              "      <td>4649.0</td>\n",
              "      <td>1536.0</td>\n",
              "      <td>7962.0</td>\n",
              "      <td>11250.0</td>\n",
              "      <td>14166.0</td>\n",
              "      <td>21666.0</td>\n",
              "    </tr>\n",
              "  </tbody>\n",
              "</table>\n",
              "</div>"
            ],
            "text/plain": [
              "                count     mean     std     min     25%      50%      75%  \\\n",
              "job_title                                                                  \n",
              "Data Engineer    79.0  10387.0  4821.0  2083.0  6543.0   9583.0  13336.0   \n",
              "Data Scientist   65.0  10947.0  4649.0  1536.0  7962.0  11250.0  14166.0   \n",
              "\n",
              "                    max  \n",
              "job_title                \n",
              "Data Engineer   27000.0  \n",
              "Data Scientist  21666.0  "
            ]
          },
          "execution_count": 44,
          "metadata": {},
          "output_type": "execute_result"
        }
      ],
      "source": [
        "print('Зарплаты Data Scientist и Data Engineer в 2022 году.')\n",
        "de_ds_22.groupby('job_title')['monthly_salary'].describe().round()"
      ]
    },
    {
      "attachments": {},
      "cell_type": "markdown",
      "metadata": {},
      "source": [
        "**Вывод:** зарплаты *Data Scientist* в 2022 году, больше чем у *Data Engineer*.  Для того чтобы проверить являются ли эти различия статестически значимы, проведём статестическое тестирование в следующем разделе."
      ]
    },
    {
      "attachments": {},
      "cell_type": "markdown",
      "metadata": {},
      "source": [
        "### Вопрос 3. Как соотносятся зарплаты специалистов *Data Scientist* и *Data Engineer* в компаниях различных размеров?"
      ]
    },
    {
      "cell_type": "code",
      "execution_count": 45,
      "metadata": {},
      "outputs": [
        {
          "data": {
            "text/html": [
              "<div>\n",
              "<style scoped>\n",
              "    .dataframe tbody tr th:only-of-type {\n",
              "        vertical-align: middle;\n",
              "    }\n",
              "\n",
              "    .dataframe tbody tr th {\n",
              "        vertical-align: top;\n",
              "    }\n",
              "\n",
              "    .dataframe thead th {\n",
              "        text-align: right;\n",
              "    }\n",
              "</style>\n",
              "<table border=\"1\" class=\"dataframe\">\n",
              "  <thead>\n",
              "    <tr style=\"text-align: right;\">\n",
              "      <th></th>\n",
              "      <th>monthly_salary</th>\n",
              "      <th>company_size</th>\n",
              "      <th>job_title</th>\n",
              "      <th>work_year</th>\n",
              "    </tr>\n",
              "  </thead>\n",
              "  <tbody>\n",
              "    <tr>\n",
              "      <th>0</th>\n",
              "      <td>6652</td>\n",
              "      <td>L</td>\n",
              "      <td>Data Scientist</td>\n",
              "      <td>2020</td>\n",
              "    </tr>\n",
              "    <tr>\n",
              "      <th>7</th>\n",
              "      <td>2977</td>\n",
              "      <td>L</td>\n",
              "      <td>Data Scientist</td>\n",
              "      <td>2020</td>\n",
              "    </tr>\n",
              "    <tr>\n",
              "      <th>10</th>\n",
              "      <td>4276</td>\n",
              "      <td>S</td>\n",
              "      <td>Data Scientist</td>\n",
              "      <td>2020</td>\n",
              "    </tr>\n",
              "    <tr>\n",
              "      <th>11</th>\n",
              "      <td>3373</td>\n",
              "      <td>L</td>\n",
              "      <td>Data Scientist</td>\n",
              "      <td>2020</td>\n",
              "    </tr>\n",
              "    <tr>\n",
              "      <th>12</th>\n",
              "      <td>3326</td>\n",
              "      <td>M</td>\n",
              "      <td>Data Scientist</td>\n",
              "      <td>2020</td>\n",
              "    </tr>\n",
              "    <tr>\n",
              "      <th>...</th>\n",
              "      <td>...</td>\n",
              "      <td>...</td>\n",
              "      <td>...</td>\n",
              "      <td>...</td>\n",
              "    </tr>\n",
              "    <tr>\n",
              "      <th>593</th>\n",
              "      <td>12500</td>\n",
              "      <td>M</td>\n",
              "      <td>Data Scientist</td>\n",
              "      <td>2022</td>\n",
              "    </tr>\n",
              "    <tr>\n",
              "      <th>598</th>\n",
              "      <td>13333</td>\n",
              "      <td>M</td>\n",
              "      <td>Data Scientist</td>\n",
              "      <td>2022</td>\n",
              "    </tr>\n",
              "    <tr>\n",
              "      <th>599</th>\n",
              "      <td>10833</td>\n",
              "      <td>M</td>\n",
              "      <td>Data Scientist</td>\n",
              "      <td>2022</td>\n",
              "    </tr>\n",
              "    <tr>\n",
              "      <th>602</th>\n",
              "      <td>12833</td>\n",
              "      <td>M</td>\n",
              "      <td>Data Engineer</td>\n",
              "      <td>2022</td>\n",
              "    </tr>\n",
              "    <tr>\n",
              "      <th>603</th>\n",
              "      <td>10500</td>\n",
              "      <td>M</td>\n",
              "      <td>Data Engineer</td>\n",
              "      <td>2022</td>\n",
              "    </tr>\n",
              "  </tbody>\n",
              "</table>\n",
              "<p>251 rows × 4 columns</p>\n",
              "</div>"
            ],
            "text/plain": [
              "     monthly_salary company_size       job_title  work_year\n",
              "0              6652            L  Data Scientist       2020\n",
              "7              2977            L  Data Scientist       2020\n",
              "10             4276            S  Data Scientist       2020\n",
              "11             3373            L  Data Scientist       2020\n",
              "12             3326            M  Data Scientist       2020\n",
              "..              ...          ...             ...        ...\n",
              "593           12500            M  Data Scientist       2022\n",
              "598           13333            M  Data Scientist       2022\n",
              "599           10833            M  Data Scientist       2022\n",
              "602           12833            M   Data Engineer       2022\n",
              "603           10500            M   Data Engineer       2022\n",
              "\n",
              "[251 rows x 4 columns]"
            ]
          },
          "execution_count": 45,
          "metadata": {},
          "output_type": "execute_result"
        }
      ],
      "source": [
        "# Отфильтруем нужные данные\n",
        "de_ds_comp_size = df_salaries.loc[(df_salaries['job_title'] == 'Data Engineer') | (\n",
        "    df_salaries['job_title'] == 'Data Scientist'), ['monthly_salary', 'company_size', 'job_title', 'work_year']]\n",
        "\n",
        "de_ds_comp_size"
      ]
    },
    {
      "cell_type": "code",
      "execution_count": 46,
      "metadata": {},
      "outputs": [
        {
          "data": {
            "image/png": "[encoded data removed]",
            "text/plain": [
              "<Figure size 640x480 with 1 Axes>"
            ]
          },
          "metadata": {},
          "output_type": "display_data"
        }
      ],
      "source": [
        "#  Построим график\n",
        "boxtplot = sns.boxplot(de_ds_comp_size, x=de_ds_comp_size['monthly_salary'],\n",
        "                       y=de_ds_comp_size['company_size'], hue='job_title',\n",
        "                       order=['L', 'M', 'S'])\n",
        "plt.title('Зарплаты Data Scientist и Data Engineer от размера компании.')\n",
        "plt.show()"
      ]
    },
    {
      "cell_type": "code",
      "execution_count": 47,
      "metadata": {},
      "outputs": [
        {
          "name": "stdout",
          "output_type": "stream",
          "text": [
            "Зарплаты Data Scientist и Data Engineer от размера компании.\n"
          ]
        },
        {
          "data": {
            "text/html": [
              "<div>\n",
              "<style scoped>\n",
              "    .dataframe tbody tr th:only-of-type {\n",
              "        vertical-align: middle;\n",
              "    }\n",
              "\n",
              "    .dataframe tbody tr th {\n",
              "        vertical-align: top;\n",
              "    }\n",
              "\n",
              "    .dataframe thead th {\n",
              "        text-align: right;\n",
              "    }\n",
              "</style>\n",
              "<table border=\"1\" class=\"dataframe\">\n",
              "  <thead>\n",
              "    <tr style=\"text-align: right;\">\n",
              "      <th></th>\n",
              "      <th></th>\n",
              "      <th>count</th>\n",
              "      <th>mean</th>\n",
              "      <th>std</th>\n",
              "      <th>min</th>\n",
              "      <th>25%</th>\n",
              "      <th>50%</th>\n",
              "      <th>75%</th>\n",
              "      <th>max</th>\n",
              "    </tr>\n",
              "    <tr>\n",
              "      <th>company_size</th>\n",
              "      <th>job_title</th>\n",
              "      <th></th>\n",
              "      <th></th>\n",
              "      <th></th>\n",
              "      <th></th>\n",
              "      <th></th>\n",
              "      <th></th>\n",
              "      <th></th>\n",
              "      <th></th>\n",
              "    </tr>\n",
              "  </thead>\n",
              "  <tbody>\n",
              "    <tr>\n",
              "      <th rowspan=\"2\" valign=\"top\">L</th>\n",
              "      <th>Data Engineer</th>\n",
              "      <td>34.0</td>\n",
              "      <td>8073.0</td>\n",
              "      <td>4334.0</td>\n",
              "      <td>1666.0</td>\n",
              "      <td>4887.0</td>\n",
              "      <td>7762.0</td>\n",
              "      <td>9414.0</td>\n",
              "      <td>17425.0</td>\n",
              "    </tr>\n",
              "    <tr>\n",
              "      <th>Data Scientist</th>\n",
              "      <td>43.0</td>\n",
              "      <td>8562.0</td>\n",
              "      <td>6105.0</td>\n",
              "      <td>1116.0</td>\n",
              "      <td>3770.0</td>\n",
              "      <td>7561.0</td>\n",
              "      <td>11250.0</td>\n",
              "      <td>34333.0</td>\n",
              "    </tr>\n",
              "    <tr>\n",
              "      <th rowspan=\"2\" valign=\"top\">M</th>\n",
              "      <th>Data Engineer</th>\n",
              "      <td>81.0</td>\n",
              "      <td>9864.0</td>\n",
              "      <td>5019.0</td>\n",
              "      <td>333.0</td>\n",
              "      <td>6411.0</td>\n",
              "      <td>9208.0</td>\n",
              "      <td>13050.0</td>\n",
              "      <td>27000.0</td>\n",
              "    </tr>\n",
              "    <tr>\n",
              "      <th>Data Scientist</th>\n",
              "      <td>66.0</td>\n",
              "      <td>10006.0</td>\n",
              "      <td>4696.0</td>\n",
              "      <td>333.0</td>\n",
              "      <td>6666.0</td>\n",
              "      <td>9960.0</td>\n",
              "      <td>13125.0</td>\n",
              "      <td>21666.0</td>\n",
              "    </tr>\n",
              "    <tr>\n",
              "      <th rowspan=\"2\" valign=\"top\">S</th>\n",
              "      <th>Data Engineer</th>\n",
              "      <td>6.0</td>\n",
              "      <td>5528.0</td>\n",
              "      <td>2405.0</td>\n",
              "      <td>2792.0</td>\n",
              "      <td>3960.0</td>\n",
              "      <td>5458.0</td>\n",
              "      <td>6177.0</td>\n",
              "      <td>9583.0</td>\n",
              "    </tr>\n",
              "    <tr>\n",
              "      <th>Data Scientist</th>\n",
              "      <td>21.0</td>\n",
              "      <td>4327.0</td>\n",
              "      <td>2768.0</td>\n",
              "      <td>238.0</td>\n",
              "      <td>1805.0</td>\n",
              "      <td>4105.0</td>\n",
              "      <td>6875.0</td>\n",
              "      <td>8750.0</td>\n",
              "    </tr>\n",
              "  </tbody>\n",
              "</table>\n",
              "</div>"
            ],
            "text/plain": [
              "                             count     mean     std     min     25%     50%  \\\n",
              "company_size job_title                                                        \n",
              "L            Data Engineer    34.0   8073.0  4334.0  1666.0  4887.0  7762.0   \n",
              "             Data Scientist   43.0   8562.0  6105.0  1116.0  3770.0  7561.0   \n",
              "M            Data Engineer    81.0   9864.0  5019.0   333.0  6411.0  9208.0   \n",
              "             Data Scientist   66.0  10006.0  4696.0   333.0  6666.0  9960.0   \n",
              "S            Data Engineer     6.0   5528.0  2405.0  2792.0  3960.0  5458.0   \n",
              "             Data Scientist   21.0   4327.0  2768.0   238.0  1805.0  4105.0   \n",
              "\n",
              "                                 75%      max  \n",
              "company_size job_title                         \n",
              "L            Data Engineer    9414.0  17425.0  \n",
              "             Data Scientist  11250.0  34333.0  \n",
              "M            Data Engineer   13050.0  27000.0  \n",
              "             Data Scientist  13125.0  21666.0  \n",
              "S            Data Engineer    6177.0   9583.0  \n",
              "             Data Scientist   6875.0   8750.0  "
            ]
          },
          "execution_count": 47,
          "metadata": {},
          "output_type": "execute_result"
        }
      ],
      "source": [
        "print('Зарплаты Data Scientist и Data Engineer от размера компании.')\n",
        "de_ds_comp_size.groupby(['company_size', 'job_title'])[\n",
        "    'monthly_salary'].describe().round()"
      ]
    },
    {
      "attachments": {},
      "cell_type": "markdown",
      "metadata": {},
      "source": [
        "**Вывод:**\n",
        "- зарплаты *Data Scientist* и *Data Engineer* от размера компании различаются. Средний размер зарплаты в компаниях размера *M* выше чем в других, a зарплата специалистов в разных по размеру компаниях приблизительно одинаковая.  Для того чтобы проверить являются ли эти различия статестически значимы, проведём статестическое тестирование в следующем разделе."
      ]
    },
    {
      "attachments": {},
      "cell_type": "markdown",
      "metadata": {},
      "source": [
        "### 4. Есть ли связь между наличием должностей *Data Scientist* и *Data Engineer* и размером компании?\n",
        "\n",
        "Найдём коэффициет кореляции и построим графики."
      ]
    },
    {
      "cell_type": "code",
      "execution_count": 48,
      "metadata": {},
      "outputs": [
        {
          "data": {
            "image/png": "[encoded data removed]",
            "text/plain": [
              "<Figure size 640x480 with 1 Axes>"
            ]
          },
          "metadata": {},
          "output_type": "display_data"
        }
      ],
      "source": [
        "ax = sns.countplot(de_ds_comp_size, x=de_ds_comp_size['company_size'],\n",
        "                   hue='job_title', order=['S', 'M', 'L'])\n",
        "plt.title('Cвязь между наличием должностей Data Scientist и Data Engineer и размером компании.')\n",
        "# Для отображения значений на графике.\n",
        "for rect in ax.patches:\n",
        "    ax.text(rect.get_x()+rect.get_width()/2, rect.get_height()+0.75,\n",
        "            rect.get_height(), horizontalalignment='center', fontsize=11)\n",
        "\n",
        "plt.show()"
      ]
    },
    {
      "cell_type": "code",
      "execution_count": 49,
      "metadata": {},
      "outputs": [
        {
          "data": {
            "text/html": [
              "<div>\n",
              "<style scoped>\n",
              "    .dataframe tbody tr th:only-of-type {\n",
              "        vertical-align: middle;\n",
              "    }\n",
              "\n",
              "    .dataframe tbody tr th {\n",
              "        vertical-align: top;\n",
              "    }\n",
              "\n",
              "    .dataframe thead th {\n",
              "        text-align: right;\n",
              "    }\n",
              "</style>\n",
              "<table border=\"1\" class=\"dataframe\">\n",
              "  <thead>\n",
              "    <tr style=\"text-align: right;\">\n",
              "      <th>job_title</th>\n",
              "      <th>Data Engineer</th>\n",
              "      <th>Data Scientist</th>\n",
              "      <th>DE/DS соотношение</th>\n",
              "    </tr>\n",
              "    <tr>\n",
              "      <th>company_size</th>\n",
              "      <th></th>\n",
              "      <th></th>\n",
              "      <th></th>\n",
              "    </tr>\n",
              "  </thead>\n",
              "  <tbody>\n",
              "    <tr>\n",
              "      <th>L</th>\n",
              "      <td>34</td>\n",
              "      <td>43</td>\n",
              "      <td>0.79</td>\n",
              "    </tr>\n",
              "    <tr>\n",
              "      <th>M</th>\n",
              "      <td>81</td>\n",
              "      <td>66</td>\n",
              "      <td>1.23</td>\n",
              "    </tr>\n",
              "    <tr>\n",
              "      <th>S</th>\n",
              "      <td>6</td>\n",
              "      <td>21</td>\n",
              "      <td>0.29</td>\n",
              "    </tr>\n",
              "  </tbody>\n",
              "</table>\n",
              "</div>"
            ],
            "text/plain": [
              "job_title     Data Engineer  Data Scientist  DE/DS соотношение\n",
              "company_size                                                  \n",
              "L                        34              43               0.79\n",
              "M                        81              66               1.23\n",
              "S                         6              21               0.29"
            ]
          },
          "execution_count": 49,
          "metadata": {},
          "output_type": "execute_result"
        }
      ],
      "source": [
        "crosstab = pd.crosstab(\n",
        "    de_ds_comp_size['company_size'], de_ds_comp_size['job_title'])\n",
        "crosstab['DE/DS соотношение'] = round(\n",
        "    crosstab['Data Engineer']/crosstab['Data Scientist'], 2)\n",
        "crosstab"
      ]
    },
    {
      "attachments": {},
      "cell_type": "markdown",
      "metadata": {},
      "source": [
        "**Вывод:** \n",
        "- для больших компаний DE(Data Engineer) < DS(Data Scientist);\n",
        "- для средних компаний DE > DS;\n",
        "- для маленьких компаний DE < DS.\n",
        "\n",
        "Для того чтобы проверить являются ли эти различия статестически значимы, проведём статестическое тестирование в следующем разделе."
      ]
    },
    {
      "attachments": {},
      "cell_type": "markdown",
      "metadata": {},
      "source": [
        "### II.2. Статистический анализ данных"
      ]
    },
    {
      "attachments": {},
      "cell_type": "markdown",
      "metadata": {},
      "source": [
        "Для статестического анализа напишим три функции:\n",
        "\n",
        "1. Функция <font color='green'><i>decision_normality()</i></font> - проверяет данные на нормальность  и делает вывод, данные распределены нормально или нет.\n",
        "\n",
        "2. Функция <font color='green'><i>decision_variance()</i></font> проверяет данные на равенство дисперсий и делает вывод, дисперсии равны или нет.\n",
        "\n",
        "3. Функция <font color='green'><i>decision_hypothesis()</i></font> - проверяет данные по гипотизе и делает вывод, существует зависимость между признаками или нет, т.е. принимаем альтернативную или отклоняем."
      ]
    },
    {
      "cell_type": "code",
      "execution_count": 50,
      "metadata": {},
      "outputs": [],
      "source": [
        "# функция для принятия решения о нормальности\n",
        "def decision_normality(p):\n",
        "    print('p-value = {:.3f}'.format(p))\n",
        "    if p <= alpha:\n",
        "        print('''p-значение меньше, чем заданный уровень значимости {:.2f}.\n",
        "            Распределение отлично от нормального'''.format(alpha))\n",
        "    else:\n",
        "        print('''p-значение больше, чем заданный уровень значимости {:.2f}\n",
        "            Распределение является нормальным'''.format(alpha))\n",
        "\n",
        "# функция для принятия решений о равенстве дисперсий\n",
        "\n",
        "\n",
        "def decision_variance(p):\n",
        "    print('p-value = {:.3f}'.format(p))\n",
        "    if p <= alpha:\n",
        "        print('''Дисперсии не одинаковы.''')\n",
        "    else:\n",
        "        print('''Дисперсии одинаковы.''')\n",
        "\n",
        "# функция для принятия решения об отклонении нулевой гипотезы\n",
        "\n",
        "\n",
        "def decision_hypothesis(p):\n",
        "    print('p-value = {:.3f}'.format(p))\n",
        "    if p <= alpha:\n",
        "        print('''p-значение меньше, чем заданный уровень значимости {:.2f}.\n",
        "            Отвергаем нулевую гипотезу в пользу альтернативной.'''\n",
        "              .format(alpha))\n",
        "    else:\n",
        "        print('''p-значение больше, чем заданный уровень значимости {:.2f}.\n",
        "            У нас нет оснований отвергнуть нулевую гипотезу.'''.format(alpha))"
      ]
    },
    {
      "attachments": {},
      "cell_type": "markdown",
      "metadata": {},
      "source": [
        "Сформулируем гипотизы на вопросы и проведём статестическое тестирование:"
      ]
    },
    {
      "attachments": {},
      "cell_type": "markdown",
      "metadata": {},
      "source": [
        "#### **Вопрос 1**. Наблюдается ли ежегодный рост зарплат у специалистов *Data Scientist*?\n"
      ]
    },
    {
      "cell_type": "code",
      "execution_count": 51,
      "metadata": {},
      "outputs": [
        {
          "name": "stdout",
          "output_type": "stream",
          "text": [
            "Опистельная таблица заработной платы Data Scientista по годам.\n"
          ]
        },
        {
          "data": {
            "text/html": [
              "<div>\n",
              "<style scoped>\n",
              "    .dataframe tbody tr th:only-of-type {\n",
              "        vertical-align: middle;\n",
              "    }\n",
              "\n",
              "    .dataframe tbody tr th {\n",
              "        vertical-align: top;\n",
              "    }\n",
              "\n",
              "    .dataframe thead th {\n",
              "        text-align: right;\n",
              "    }\n",
              "</style>\n",
              "<table border=\"1\" class=\"dataframe\">\n",
              "  <thead>\n",
              "    <tr style=\"text-align: right;\">\n",
              "      <th></th>\n",
              "      <th>count</th>\n",
              "      <th>mean</th>\n",
              "      <th>std</th>\n",
              "      <th>min</th>\n",
              "      <th>25%</th>\n",
              "      <th>50%</th>\n",
              "      <th>75%</th>\n",
              "      <th>max</th>\n",
              "    </tr>\n",
              "    <tr>\n",
              "      <th>work_year</th>\n",
              "      <th></th>\n",
              "      <th></th>\n",
              "      <th></th>\n",
              "      <th></th>\n",
              "      <th></th>\n",
              "      <th></th>\n",
              "      <th></th>\n",
              "      <th></th>\n",
              "    </tr>\n",
              "  </thead>\n",
              "  <tbody>\n",
              "    <tr>\n",
              "      <th>2020</th>\n",
              "      <td>21.0</td>\n",
              "      <td>7164.0</td>\n",
              "      <td>6786.0</td>\n",
              "      <td>1805.0</td>\n",
              "      <td>3516.0</td>\n",
              "      <td>5227.0</td>\n",
              "      <td>8750.0</td>\n",
              "      <td>34333.0</td>\n",
              "    </tr>\n",
              "    <tr>\n",
              "      <th>2021</th>\n",
              "      <td>44.0</td>\n",
              "      <td>5851.0</td>\n",
              "      <td>3820.0</td>\n",
              "      <td>238.0</td>\n",
              "      <td>2732.0</td>\n",
              "      <td>5602.0</td>\n",
              "      <td>8410.0</td>\n",
              "      <td>13750.0</td>\n",
              "    </tr>\n",
              "    <tr>\n",
              "      <th>2022</th>\n",
              "      <td>65.0</td>\n",
              "      <td>10947.0</td>\n",
              "      <td>4649.0</td>\n",
              "      <td>1536.0</td>\n",
              "      <td>7962.0</td>\n",
              "      <td>11250.0</td>\n",
              "      <td>14166.0</td>\n",
              "      <td>21666.0</td>\n",
              "    </tr>\n",
              "  </tbody>\n",
              "</table>\n",
              "</div>"
            ],
            "text/plain": [
              "           count     mean     std     min     25%      50%      75%      max\n",
              "work_year                                                                   \n",
              "2020        21.0   7164.0  6786.0  1805.0  3516.0   5227.0   8750.0  34333.0\n",
              "2021        44.0   5851.0  3820.0   238.0  2732.0   5602.0   8410.0  13750.0\n",
              "2022        65.0  10947.0  4649.0  1536.0  7962.0  11250.0  14166.0  21666.0"
            ]
          },
          "execution_count": 51,
          "metadata": {},
          "output_type": "execute_result"
        }
      ],
      "source": [
        "# Отфильтруем только значения для Data Scientist.\n",
        "ds = df_salaries[df_salaries['job_title'] == 'Data Scientist']\n",
        "\n",
        "ds_agg = ds.groupby('work_year')['monthly_salary'].describe().round()\n",
        "print('Опистельная таблица заработной платы Data Scientista по годам.')\n",
        "ds_agg"
      ]
    },
    {
      "attachments": {},
      "cell_type": "markdown",
      "metadata": {},
      "source": [
        "Из имеющихся данных мы видим, что в столбце **count** за 2020 год всего 21 значение, тогда как за 2022год 65 значений. Если вырованять по годам число значений, а недостатющие заполнить средним, то при ипользовании тестов для 2х или 3х групп мы получим некоректный вывод по гипотизе. Следовательно мы используем тесты для одной группы и сравним со средним значением заработной платы к предыдущему году."
      ]
    },
    {
      "attachments": {},
      "cell_type": "markdown",
      "metadata": {},
      "source": [
        "**Сформулируем нулевую и альтернативные гипотезы**\n",
        "\n",
        "*Нулевая гипотеза* ($H_0$): размер заработной платы в 2021 ($μ_1$) статистически меньше либо равен среднему размеру заработной платы в 2020 = 7164 долларов.\n",
        "\n",
        "$ H_0 : μ_1 <= 7164 $\n",
        "\n",
        "*Альтернативная гипотеза* ($H_1$): размер заработной платы в 2021 ($μ_1$) статистически больше среднего размера заработной платы в 2021 = 7164 долларов.\n",
        "\n",
        "$ H_1 : μ_1 > 7164 $\n",
        "\n",
        "Такая гипотиза будет проверяться между средним размером заработной платы в 2021 и выборкой за 2022 год. "
      ]
    },
    {
      "attachments": {},
      "cell_type": "markdown",
      "metadata": {},
      "source": [
        "**Проверка на нормальность**\n",
        "\n",
        "С помощью теста Шапиро-Уилка проверим, распределён ли признак нормально. Напомним гипотезы теста Шапиро-Уилка:\n",
        "\n",
        "*Нулевая гипотеза* ($H_0$): распределение данные является нормальным.\n",
        "\n",
        "*Альтернативная гипотеза* ($H_1$): распределение данных отлично от нормального."
      ]
    },
    {
      "cell_type": "code",
      "execution_count": 52,
      "metadata": {},
      "outputs": [
        {
          "name": "stdout",
          "output_type": "stream",
          "text": [
            "Для 2021:\n",
            "p-value = 0.107\n",
            "p-значение больше, чем заданный уровень значимости 0.05\n",
            "            Распределение является нормальным\n",
            "Для 2022:\n",
            "p-value = 0.676\n",
            "p-значение больше, чем заданный уровень значимости 0.05\n",
            "            Распределение является нормальным\n"
          ]
        }
      ],
      "source": [
        "# Зададим уровень с которым будем сравнивать\n",
        "salary_20_m = ds_agg['mean'].iloc[0]\n",
        "salary_21_m = ds_agg['mean'].iloc[1]\n",
        "\n",
        "# Создадим выборку зарплат по годам для Data Scientist\n",
        "salary_21 = ds[ds['work_year'] == 2021]['monthly_salary']\n",
        "salary_22 = ds[ds['work_year'] == 2022]['monthly_salary']\n",
        "\n",
        "# Проводим тест Шапиро-Уилка на нормальность распределения по годам.\n",
        "print('Для 2021:')\n",
        "result = stats.shapiro(salary_21)\n",
        "decision_normality(result[1])\n",
        "\n",
        "print('Для 2022:')\n",
        "result = stats.shapiro(salary_22)\n",
        "decision_normality(result[1])"
      ]
    },
    {
      "attachments": {},
      "cell_type": "markdown",
      "metadata": {},
      "source": [
        "**Выберем подходящий статистический тест**\n",
        "\n",
        "Для выбора нужного теста воспользуемся алгоритмом выбора теста. Для этого ответим на следующие вопросы:\n",
        "* Какой тип у признака «monthly_salary»? — Количественный.\n",
        "* Сколько сравниваемых групп? — Одна.\n",
        "* Группы зависимы? — Нет.\n",
        "* Признак распределён по нормальному закону? — Да.\n",
        "\n",
        "Чтобы проверить нашу гипотезу, можно использовать *одновыборочный тест t-критерий* для сравнения распределений с заданым уровнем.\n",
        "\n",
        "**Проведём тест**\n",
        "\n"
      ]
    },
    {
      "cell_type": "code",
      "execution_count": 53,
      "metadata": {},
      "outputs": [
        {
          "name": "stdout",
          "output_type": "stream",
          "text": [
            "2021:\n",
            "p-value = 0.986\n",
            "p-значение больше, чем заданный уровень значимости 0.05.\n",
            "            У нас нет оснований отвергнуть нулевую гипотезу.\n",
            "2022:\n",
            "p-value = 0.000\n",
            "p-значение меньше, чем заданный уровень значимости 0.05.\n",
            "            Отвергаем нулевую гипотезу в пользу альтернативной.\n"
          ]
        }
      ],
      "source": [
        "# проводим тест\n",
        "_, p = stats.ttest_1samp(salary_21, popmean=salary_20_m, alternative='greater')\n",
        "print('2021:')\n",
        "decision_hypothesis(p)\n",
        "\n",
        "_, p = stats.ttest_1samp(salary_22, popmean=salary_21_m, alternative='greater')\n",
        "print('2022:')\n",
        "decision_hypothesis(p)"
      ]
    },
    {
      "attachments": {},
      "cell_type": "markdown",
      "metadata": {},
      "source": [
        "**Вывод по 1-му вопросу:** \n",
        "* заработная плата Data Scientist в 2021 году по сравнению с средним значением в 2020 годом не измениласть;\n",
        "* заработная плата Data Scientist в 2022 больше, чем с среднияя ЗП в 2021 году;\n",
        "* ежегодного роста зарплат у специалистов *Data Scientist* не происходит."
      ]
    },
    {
      "attachments": {},
      "cell_type": "markdown",
      "metadata": {},
      "source": [
        "#### **Вопрос 2**. Как соотносятся зарплаты *Data Scientist* и *Data Engineer* в 2022 году?"
      ]
    },
    {
      "cell_type": "code",
      "execution_count": 54,
      "metadata": {},
      "outputs": [
        {
          "name": "stdout",
          "output_type": "stream",
          "text": [
            "Значения ЗП за 2022 год:\n"
          ]
        },
        {
          "data": {
            "text/html": [
              "<div>\n",
              "<style scoped>\n",
              "    .dataframe tbody tr th:only-of-type {\n",
              "        vertical-align: middle;\n",
              "    }\n",
              "\n",
              "    .dataframe tbody tr th {\n",
              "        vertical-align: top;\n",
              "    }\n",
              "\n",
              "    .dataframe thead th {\n",
              "        text-align: right;\n",
              "    }\n",
              "</style>\n",
              "<table border=\"1\" class=\"dataframe\">\n",
              "  <thead>\n",
              "    <tr style=\"text-align: right;\">\n",
              "      <th></th>\n",
              "      <th>count</th>\n",
              "      <th>mean</th>\n",
              "      <th>std</th>\n",
              "      <th>min</th>\n",
              "      <th>25%</th>\n",
              "      <th>50%</th>\n",
              "      <th>75%</th>\n",
              "      <th>max</th>\n",
              "    </tr>\n",
              "    <tr>\n",
              "      <th>job_title</th>\n",
              "      <th></th>\n",
              "      <th></th>\n",
              "      <th></th>\n",
              "      <th></th>\n",
              "      <th></th>\n",
              "      <th></th>\n",
              "      <th></th>\n",
              "      <th></th>\n",
              "    </tr>\n",
              "  </thead>\n",
              "  <tbody>\n",
              "    <tr>\n",
              "      <th>Data Engineer</th>\n",
              "      <td>79.0</td>\n",
              "      <td>10387.0</td>\n",
              "      <td>4821.0</td>\n",
              "      <td>2083.0</td>\n",
              "      <td>6543.0</td>\n",
              "      <td>9583.0</td>\n",
              "      <td>13336.0</td>\n",
              "      <td>27000.0</td>\n",
              "    </tr>\n",
              "    <tr>\n",
              "      <th>Data Scientist</th>\n",
              "      <td>65.0</td>\n",
              "      <td>10947.0</td>\n",
              "      <td>4649.0</td>\n",
              "      <td>1536.0</td>\n",
              "      <td>7962.0</td>\n",
              "      <td>11250.0</td>\n",
              "      <td>14166.0</td>\n",
              "      <td>21666.0</td>\n",
              "    </tr>\n",
              "  </tbody>\n",
              "</table>\n",
              "</div>"
            ],
            "text/plain": [
              "                count     mean     std     min     25%      50%      75%  \\\n",
              "job_title                                                                  \n",
              "Data Engineer    79.0  10387.0  4821.0  2083.0  6543.0   9583.0  13336.0   \n",
              "Data Scientist   65.0  10947.0  4649.0  1536.0  7962.0  11250.0  14166.0   \n",
              "\n",
              "                    max  \n",
              "job_title                \n",
              "Data Engineer   27000.0  \n",
              "Data Scientist  21666.0  "
            ]
          },
          "execution_count": 54,
          "metadata": {},
          "output_type": "execute_result"
        }
      ],
      "source": [
        "# Создадим таблицу по ЗП Data Scientist и Data Engineer за 2022 год.\n",
        "de_ds_22 = df_salaries[((df_salaries['job_title'] == 'Data Scientist')\n",
        "                       |(df_salaries['job_title'] == 'Data Engineer'))\n",
        "                       &(df_salaries['work_year'] == 2022)]\n",
        "\n",
        "de_ds_22_agg =  de_ds_22.groupby('job_title')['monthly_salary'].describe().round()\n",
        "print('Значения ЗП за 2022 год:')\n",
        "de_ds_22_agg"
      ]
    },
    {
      "attachments": {},
      "cell_type": "markdown",
      "metadata": {},
      "source": [
        "Выборка данных по ЗП *Data Scientist* и *Data Engineer* различны. Выравняем данные дополнив их средним значением."
      ]
    },
    {
      "cell_type": "code",
      "execution_count": 55,
      "metadata": {},
      "outputs": [
        {
          "data": {
            "text/html": [
              "<div>\n",
              "<style scoped>\n",
              "    .dataframe tbody tr th:only-of-type {\n",
              "        vertical-align: middle;\n",
              "    }\n",
              "\n",
              "    .dataframe tbody tr th {\n",
              "        vertical-align: top;\n",
              "    }\n",
              "\n",
              "    .dataframe thead th {\n",
              "        text-align: right;\n",
              "    }\n",
              "</style>\n",
              "<table border=\"1\" class=\"dataframe\">\n",
              "  <thead>\n",
              "    <tr style=\"text-align: right;\">\n",
              "      <th></th>\n",
              "      <th>DE_salary</th>\n",
              "      <th>DS_salary</th>\n",
              "    </tr>\n",
              "  </thead>\n",
              "  <tbody>\n",
              "    <tr>\n",
              "      <th>0</th>\n",
              "      <td>11250</td>\n",
              "      <td>10833.0</td>\n",
              "    </tr>\n",
              "    <tr>\n",
              "      <th>1</th>\n",
              "      <td>14166</td>\n",
              "      <td>7500.0</td>\n",
              "    </tr>\n",
              "    <tr>\n",
              "      <th>2</th>\n",
              "      <td>12500</td>\n",
              "      <td>11385.0</td>\n",
              "    </tr>\n",
              "    <tr>\n",
              "      <th>3</th>\n",
              "      <td>4362</td>\n",
              "      <td>8280.0</td>\n",
              "    </tr>\n",
              "    <tr>\n",
              "      <th>4</th>\n",
              "      <td>20166</td>\n",
              "      <td>9815.0</td>\n",
              "    </tr>\n",
              "    <tr>\n",
              "      <th>...</th>\n",
              "      <td>...</td>\n",
              "      <td>...</td>\n",
              "    </tr>\n",
              "    <tr>\n",
              "      <th>74</th>\n",
              "      <td>2083</td>\n",
              "      <td>10947.0</td>\n",
              "    </tr>\n",
              "    <tr>\n",
              "      <th>75</th>\n",
              "      <td>18342</td>\n",
              "      <td>10947.0</td>\n",
              "    </tr>\n",
              "    <tr>\n",
              "      <th>76</th>\n",
              "      <td>13340</td>\n",
              "      <td>10947.0</td>\n",
              "    </tr>\n",
              "    <tr>\n",
              "      <th>77</th>\n",
              "      <td>12833</td>\n",
              "      <td>10947.0</td>\n",
              "    </tr>\n",
              "    <tr>\n",
              "      <th>78</th>\n",
              "      <td>10500</td>\n",
              "      <td>10947.0</td>\n",
              "    </tr>\n",
              "  </tbody>\n",
              "</table>\n",
              "<p>79 rows × 2 columns</p>\n",
              "</div>"
            ],
            "text/plain": [
              "    DE_salary  DS_salary\n",
              "0       11250    10833.0\n",
              "1       14166     7500.0\n",
              "2       12500    11385.0\n",
              "3        4362     8280.0\n",
              "4       20166     9815.0\n",
              "..        ...        ...\n",
              "74       2083    10947.0\n",
              "75      18342    10947.0\n",
              "76      13340    10947.0\n",
              "77      12833    10947.0\n",
              "78      10500    10947.0\n",
              "\n",
              "[79 rows x 2 columns]"
            ]
          },
          "execution_count": 55,
          "metadata": {},
          "output_type": "execute_result"
        }
      ],
      "source": [
        "a = de_ds_22[de_ds_22['job_title']=='Data Engineer']['monthly_salary']\n",
        "b = de_ds_22[de_ds_22['job_title']=='Data Scientist']['monthly_salary']\n",
        "\n",
        "a.name='DE_salary'\n",
        "b.name='DS_salary'\n",
        "\n",
        "a.reset_index(drop=True,inplace=True)\n",
        "b.reset_index(drop=True,inplace=True)\n",
        "\n",
        "concat_table = pd.concat([a,b],axis=1)\n",
        "values = {'DS_salary':concat_table['DS_salary'].mean().round()}\n",
        "concat_table=concat_table.fillna(values)\n",
        "concat_table"
      ]
    },
    {
      "attachments": {},
      "cell_type": "markdown",
      "metadata": {},
      "source": [
        "Теперь у  нас есть одинаковая выбока данных по зарплате *Data Scientist* и *Data Engineer* в 2022 году. \n",
        "\n",
        "**Сформулируем нулевую и альтернативные гипотезы**\n",
        "\n",
        "*Нулевая гипотеза* ($H_0$): ЗП *Data Scientist*($μ_1$) и *Data Engineer*($μ_2$) в 2022 году статистически равны друг другу.\n",
        "\n",
        "$ H_0 : μ_1 = μ_2 $\n",
        "\n",
        "*Альтернативная гипотеза* ($H_1$): ЗП *Data Scientist*($μ_1$) и *Data Engineer*($μ_2$) в 2022 году статистически не равны друг другу.\n",
        "\n",
        "$ H_1 : μ_1 \\neq  μ_2 $"
      ]
    },
    {
      "attachments": {},
      "cell_type": "markdown",
      "metadata": {},
      "source": [
        "**Проверка на нормальность**\n",
        "\n",
        "С помощью теста Шапиро-Уилка проверим, распределён ли признак нормально."
      ]
    },
    {
      "cell_type": "code",
      "execution_count": 56,
      "metadata": {},
      "outputs": [
        {
          "name": "stdout",
          "output_type": "stream",
          "text": [
            "ЗП Data Engineer в 22:\n",
            "p-value = 0.007\n",
            "p-значение меньше, чем заданный уровень значимости 0.05.\n",
            "            Распределение отлично от нормального\n",
            "ЗП Data Scientist в 22:\n",
            "p-value = 0.205\n",
            "p-значение больше, чем заданный уровень значимости 0.05\n",
            "            Распределение является нормальным\n"
          ]
        }
      ],
      "source": [
        "# Проводим тест Шапиро-Уилка на нормальность распределения по годам.\n",
        "print('ЗП Data Engineer в 22:')\n",
        "result = stats.shapiro(concat_table['DE_salary'])\n",
        "decision_normality(result[1])\n",
        "\n",
        "print('ЗП Data Scientist в 22:')\n",
        "result = stats.shapiro(concat_table['DS_salary'])\n",
        "decision_normality(result[1])"
      ]
    },
    {
      "attachments": {},
      "cell_type": "markdown",
      "metadata": {},
      "source": [
        "**Выберем подходящий статистический тест**\n",
        "\n",
        "Для выбора нужного теста воспользуемся алгоритмом выбора теста. Для этого ответим на следующие вопросы:\n",
        "* Какой тип у признака «Размер заработной платы»? — Количественный.\n",
        "* Сколько сравниваемых групп? — Две.\n",
        "* Группы зависимы? — Нет.\n",
        "* Признак распределён по нормальному закону? — Нет.\n",
        "* Дисперсии равны или нет? т.к. признак распределён не по нормальному закону, нет смысла сравнивать дисперсии.\n",
        "\n",
        "Чтобы проверить нашу гипотезу, можно использовать непараметричский тест U-критерий Манна-Уитни библиотеки *scipy.stats.mannwhitneyu*.\n",
        "\n",
        "**Проведём тест**"
      ]
    },
    {
      "cell_type": "code",
      "execution_count": 57,
      "metadata": {},
      "outputs": [
        {
          "name": "stdout",
          "output_type": "stream",
          "text": [
            "ЗП Data Scientist и Data Engineer в 2022 году:\n",
            "p-value = 0.258\n",
            "p-значение больше, чем заданный уровень значимости 0.05.\n",
            "            У нас нет оснований отвергнуть нулевую гипотезу.\n"
          ]
        }
      ],
      "source": [
        "# проводим тест\n",
        "_, p = stats.mannwhitneyu(\n",
        "    concat_table['DE_salary'], concat_table['DS_salary'], alternative='two-sided')\n",
        "print('ЗП Data Scientist и Data Engineer в 2022 году:')\n",
        "decision_hypothesis(p)"
      ]
    },
    {
      "attachments": {},
      "cell_type": "markdown",
      "metadata": {},
      "source": [
        "**Вывод по 2-му вопросу:** \n",
        "* заработная плата Data Scientist и *Data Engineer* в 2022 году статестически равны."
      ]
    },
    {
      "attachments": {},
      "cell_type": "markdown",
      "metadata": {},
      "source": [
        "#### **Вопрос 3**. Как соотносятся зарплаты специалистов *Data Scientist* и *Data Engineer* в компаниях различных размеров?\n",
        "\n",
        "Типы компаний по размеру:\n",
        "* S — менее 50 сотрудников (небольшая компания);\n",
        "* M — от 50 до 250 сотрудников (средняя компания);\n",
        "* L — более 250 сотрудников (крупная компания)\n",
        "\n",
        "Предварительно графически мы выяснили, ЗП *Data Scientist* и *Data Engineer* в компаниях различных размеров отличаются, проведём тест на статестичскую значимость нашей гипотизы."
      ]
    },
    {
      "attachments": {},
      "cell_type": "markdown",
      "metadata": {},
      "source": [
        "**Сформулируем нулевую и альтернативные гипотезы**\n",
        "\n",
        "*Нулевая гипотеза* ($H_0$): ЗП *Data Scientist* и *Data Engineer* в компаниях различных размеров статистически равны друг другу, где $μ_1$ - S (небольшая компания), $μ_2$ - M (средняя компания) и  $μ_3$ - L (крупная компания)\n",
        "\n",
        "$ H_0 : μ_1 = μ_2 = μ_3 $\n",
        "\n",
        "*Альтернативная гипотеза* ($H_1$): ЗП *Data Scientist* и *Data Engineer* в компаниях различных размеров статистически не равны друг другу.\n",
        "\n",
        "$ H_1 : μ_1 \\neq  μ_2 \\neq  μ_3 $\n"
      ]
    },
    {
      "cell_type": "code",
      "execution_count": 58,
      "metadata": {},
      "outputs": [
        {
          "name": "stdout",
          "output_type": "stream",
          "text": [
            "Всего значений ЗП Data Scientist и Data Engineer:\n"
          ]
        },
        {
          "data": {
            "text/plain": [
              "M    147\n",
              "L     77\n",
              "S     27\n",
              "Name: company_size, dtype: int64"
            ]
          },
          "execution_count": 58,
          "metadata": {},
          "output_type": "execute_result"
        }
      ],
      "source": [
        "print('Всего значений ЗП Data Scientist и Data Engineer:')\n",
        "de_ds_comp_size['company_size'].value_counts()"
      ]
    },
    {
      "cell_type": "code",
      "execution_count": 59,
      "metadata": {},
      "outputs": [
        {
          "name": "stdout",
          "output_type": "stream",
          "text": [
            "Число значений ЗП Data Scientist от размера компании:\n",
            "M    66\n",
            "L    43\n",
            "S    21\n",
            "Name: company_size, dtype: int64\n",
            "\n",
            "Число значений ЗП Data Engineer от размера компании:\n",
            "M    81\n",
            "L    34\n",
            "S     6\n",
            "Name: company_size, dtype: int64\n"
          ]
        }
      ],
      "source": [
        "ds = de_ds_comp_size[de_ds_comp_size['job_title'] == 'Data Scientist']\n",
        "\n",
        "print(f'''Число значений ЗП Data Scientist от размера компании:\n",
        "{ds['company_size'].value_counts()}\\n''')\n",
        "\n",
        "de = de_ds_comp_size[de_ds_comp_size['job_title'] == 'Data Engineer']\n",
        "\n",
        "print(f'''Число значений ЗП Data Engineer от размера компании:\n",
        "{de['company_size'].value_counts()}''')"
      ]
    },
    {
      "cell_type": "markdown",
      "metadata": {},
      "source": [
        "Так как вариации ЗП у *Data Engineer* в малых компаниях *S* числено мала мы будем и игнорировать её проводя статестический анализ и будем рассматривать соотношение только для компаний с размером *М* и *L*.\n",
        "\n",
        "Заполним недостоющие данные и приведём к общему максимальному значению по выборке. Для Data Scientist max_ds = 66, для Data Engineer max_de = 81.  Напишем функицию **increase_sample** *наращивание выборки через интерполяцию* и применим её."
      ]
    },
    {
      "cell_type": "code",
      "execution_count": 60,
      "metadata": {},
      "outputs": [],
      "source": [
        "def increase_sample(data, n, vis=False):\n",
        "    \"\"\"Наращивание выборки через интерполяцию.\n",
        "\n",
        "    Args:\n",
        "        data (_list_): начальный список значений\n",
        "        n (_int_): число значений к которому нужно прийти\n",
        "        vis (_bool_): визуализации, по умолчанию нет\n",
        "    Returns:\n",
        "        _array_: _увеличеный список значений_\n",
        "    \"\"\"\n",
        "    # шкала по размеру желаемого кол-ва наблюдений\n",
        "    x = list(range(n))\n",
        "\n",
        "    # шкала по размеру имеющегося кол-ва наблюдений\n",
        "    xp = np.linspace(0, n-1, num=len(data))\n",
        "\n",
        "    # данные и метод\n",
        "    fp = data\n",
        "    data_interp = np.interp(x, xp, fp)\n",
        "\n",
        "    # визуализация\n",
        "    if vis:\n",
        "        plt.scatter(x, data_interp)  # новые точки на графике\n",
        "        plt.scatter(xp, data)        # старые точки на графике\n",
        "        \n",
        "    return data_interp"
      ]
    },
    {
      "cell_type": "code",
      "execution_count": 61,
      "metadata": {},
      "outputs": [
        {
          "name": "stdout",
          "output_type": "stream",
          "text": [
            "Для наглядности как измениться выборка для ЗП Data Scientist\n",
            "с размером компании L. Оранжевые точки значения - до, зелёные - добавочные.\n"
          ]
        },
        {
          "data": {
            "image/png": "[encoded data removed]",
            "text/plain": [
              "<Figure size 640x480 with 1 Axes>"
            ]
          },
          "metadata": {},
          "output_type": "display_data"
        }
      ],
      "source": [
        "# Для Data Scientist\n",
        "\n",
        "# Вариация значений по ЗП от размера компаний.\n",
        "ds_M = list(ds['monthly_salary'][ds['company_size'] == 'M'])\n",
        "ds_L = list(ds['monthly_salary'][ds['company_size'] == 'L'])\n",
        "ds_S = list(ds['monthly_salary'][ds['company_size'] == 'S'])\n",
        "\n",
        "de_M = list(de['monthly_salary'][de['company_size'] == 'M'])\n",
        "de_L = list(de['monthly_salary'][de['company_size'] == 'L'])\n",
        "\n",
        "# желаемое число наблюдений\n",
        "max_ds = 66\n",
        "max_de = 81\n",
        "\n",
        "print(f'''Для наглядности как измениться выборка для ЗП Data Scientist\n",
        "с размером компании L. Оранжевые точки значения - до, зелёные - добавочные.''')\n",
        "inc_ds_L = increase_sample(ds_L, max_ds, vis=True).astype(int)\n",
        "inc_ds_S = increase_sample(ds_S, max_ds).astype(int)\n",
        "inc_de_L = increase_sample(de_L, max_de).astype(int)"
      ]
    },
    {
      "cell_type": "markdown",
      "metadata": {},
      "source": [
        "**Проверка на нормальность**\n",
        "\n",
        "С помощью теста Шапиро-Уилка проверим, распределён ли признак нормально."
      ]
    },
    {
      "cell_type": "code",
      "execution_count": 62,
      "metadata": {},
      "outputs": [
        {
          "name": "stdout",
          "output_type": "stream",
          "text": [
            "Для ЗП Data Scientis:\n",
            "M:\n",
            "p-value = 0.896\n",
            "p-значение больше, чем заданный уровень значимости 0.05\n",
            "            Распределение является нормальным\n",
            "L:\n",
            "p-value = 0.000\n",
            "p-значение меньше, чем заданный уровень значимости 0.05.\n",
            "            Распределение отлично от нормального\n",
            "S:\n",
            "p-value = 0.047\n",
            "p-значение меньше, чем заданный уровень значимости 0.05.\n",
            "            Распределение отлично от нормального\n",
            "\n",
            "Для ЗП Data Engineer\n",
            "M:\n",
            "p-value = 0.085\n",
            "p-значение больше, чем заданный уровень значимости 0.05\n",
            "            Распределение является нормальным\n",
            "L:\n",
            "p-value = 0.016\n",
            "p-значение меньше, чем заданный уровень значимости 0.05.\n",
            "            Распределение отлично от нормального\n"
          ]
        }
      ],
      "source": [
        "# Проводим тест Шапиро-Уилка на нормальность распределения.\n",
        "print('Для ЗП Data Scientis:')\n",
        "print('M:')\n",
        "result = stats.shapiro(ds_M)\n",
        "decision_normality(result[1])\n",
        "print('L:')\n",
        "result = stats.shapiro(inc_ds_L)\n",
        "decision_normality(result[1])\n",
        "print('S:')\n",
        "result = stats.shapiro(inc_ds_S)\n",
        "decision_normality(result[1])\n",
        "\n",
        "\n",
        "print('\\nДля ЗП Data Engineer')\n",
        "print('M:')\n",
        "result = stats.shapiro(de_M)\n",
        "decision_normality(result[1])\n",
        "print('L:')\n",
        "result = stats.shapiro(inc_de_L)\n",
        "decision_normality(result[1])"
      ]
    },
    {
      "cell_type": "markdown",
      "metadata": {},
      "source": [
        "**Выберем подходящий статистический тест**\n",
        "\n",
        "Для выбора нужного теста воспользуемся алгоритмом выбора теста. Для этого ответим на следующие вопросы.\n",
        "\n",
        "*Data Scientist*:\n",
        "* Какой тип у признака «monthly_salary»? — Количественный.\n",
        "* Сколько сравниваемых групп? — Три.\n",
        "* Группы зависимы? — Нет.\n",
        "* Признак распределён по нормальному закону? — Нет. \n",
        "\n",
        "Для проверки нашей гипотезы можно использовать критерий Крассела Уолиса.\n",
        "\n",
        "*Data Engineer*:\n",
        "* Какой тип у признака «monthly_salary»? — Количественный.\n",
        "* Сколько сравниваемых групп? — Две.\n",
        "* Группы зависимы? — Нет.\n",
        "* Признак распределён по нормальному закону? — Нет. \n",
        "\n",
        "Для проверки нашей гипотезы можно использовать U-критерий Манна-Уитни.\n",
        "\n",
        "**Проведём тест**"
      ]
    },
    {
      "cell_type": "code",
      "execution_count": 63,
      "metadata": {},
      "outputs": [
        {
          "name": "stdout",
          "output_type": "stream",
          "text": [
            "Data Scientist в компаниях с размером M и L, и S:\n",
            "p-value = 0.000\n",
            "p-значение меньше, чем заданный уровень значимости 0.05.\n",
            "            Отвергаем нулевую гипотезу в пользу альтернативной.\n",
            "\n",
            "Data Engineer в компаниях с размером M и L:\n",
            "p-value = 0.030\n",
            "p-значение меньше, чем заданный уровень значимости 0.05.\n",
            "            Отвергаем нулевую гипотезу в пользу альтернативной.\n"
          ]
        }
      ],
      "source": [
        "# проводим тест\n",
        "_, p = stats.kruskal(inc_ds_L, ds_M, inc_ds_S)\n",
        "print('Data Scientist в компаниях с размером M и L, и S:')\n",
        "decision_hypothesis(p)\n",
        "\n",
        "_, p = stats.mannwhitneyu(de_M, inc_de_L, alternative='two-sided')\n",
        "print('\\nData Engineer в компаниях с размером M и L:')\n",
        "decision_hypothesis(p)"
      ]
    },
    {
      "cell_type": "markdown",
      "metadata": {},
      "source": [
        "**Вывод по 3-му вопросу:**\n",
        "* Размер компании влияет на заработную плату *Data Scientist* и *Data Engineer*.\n"
      ]
    },
    {
      "cell_type": "markdown",
      "metadata": {},
      "source": [
        "#### **Вопрос 4**. Есть ли связь между наличием должностей *Data Scientist* и *Data Engineer* и размером компании?"
      ]
    },
    {
      "cell_type": "code",
      "execution_count": 64,
      "metadata": {},
      "outputs": [
        {
          "data": {
            "text/html": [
              "<div>\n",
              "<style scoped>\n",
              "    .dataframe tbody tr th:only-of-type {\n",
              "        vertical-align: middle;\n",
              "    }\n",
              "\n",
              "    .dataframe tbody tr th {\n",
              "        vertical-align: top;\n",
              "    }\n",
              "\n",
              "    .dataframe thead th {\n",
              "        text-align: right;\n",
              "    }\n",
              "</style>\n",
              "<table border=\"1\" class=\"dataframe\">\n",
              "  <thead>\n",
              "    <tr style=\"text-align: right;\">\n",
              "      <th></th>\n",
              "      <th>monthly_salary</th>\n",
              "      <th>company_size</th>\n",
              "      <th>job_title</th>\n",
              "      <th>work_year</th>\n",
              "    </tr>\n",
              "  </thead>\n",
              "  <tbody>\n",
              "    <tr>\n",
              "      <th>0</th>\n",
              "      <td>6652</td>\n",
              "      <td>L</td>\n",
              "      <td>Data Scientist</td>\n",
              "      <td>2020</td>\n",
              "    </tr>\n",
              "    <tr>\n",
              "      <th>7</th>\n",
              "      <td>2977</td>\n",
              "      <td>L</td>\n",
              "      <td>Data Scientist</td>\n",
              "      <td>2020</td>\n",
              "    </tr>\n",
              "    <tr>\n",
              "      <th>10</th>\n",
              "      <td>4276</td>\n",
              "      <td>S</td>\n",
              "      <td>Data Scientist</td>\n",
              "      <td>2020</td>\n",
              "    </tr>\n",
              "    <tr>\n",
              "      <th>11</th>\n",
              "      <td>3373</td>\n",
              "      <td>L</td>\n",
              "      <td>Data Scientist</td>\n",
              "      <td>2020</td>\n",
              "    </tr>\n",
              "    <tr>\n",
              "      <th>12</th>\n",
              "      <td>3326</td>\n",
              "      <td>M</td>\n",
              "      <td>Data Scientist</td>\n",
              "      <td>2020</td>\n",
              "    </tr>\n",
              "    <tr>\n",
              "      <th>...</th>\n",
              "      <td>...</td>\n",
              "      <td>...</td>\n",
              "      <td>...</td>\n",
              "      <td>...</td>\n",
              "    </tr>\n",
              "    <tr>\n",
              "      <th>593</th>\n",
              "      <td>12500</td>\n",
              "      <td>M</td>\n",
              "      <td>Data Scientist</td>\n",
              "      <td>2022</td>\n",
              "    </tr>\n",
              "    <tr>\n",
              "      <th>598</th>\n",
              "      <td>13333</td>\n",
              "      <td>M</td>\n",
              "      <td>Data Scientist</td>\n",
              "      <td>2022</td>\n",
              "    </tr>\n",
              "    <tr>\n",
              "      <th>599</th>\n",
              "      <td>10833</td>\n",
              "      <td>M</td>\n",
              "      <td>Data Scientist</td>\n",
              "      <td>2022</td>\n",
              "    </tr>\n",
              "    <tr>\n",
              "      <th>602</th>\n",
              "      <td>12833</td>\n",
              "      <td>M</td>\n",
              "      <td>Data Engineer</td>\n",
              "      <td>2022</td>\n",
              "    </tr>\n",
              "    <tr>\n",
              "      <th>603</th>\n",
              "      <td>10500</td>\n",
              "      <td>M</td>\n",
              "      <td>Data Engineer</td>\n",
              "      <td>2022</td>\n",
              "    </tr>\n",
              "  </tbody>\n",
              "</table>\n",
              "<p>251 rows × 4 columns</p>\n",
              "</div>"
            ],
            "text/plain": [
              "     monthly_salary company_size       job_title  work_year\n",
              "0              6652            L  Data Scientist       2020\n",
              "7              2977            L  Data Scientist       2020\n",
              "10             4276            S  Data Scientist       2020\n",
              "11             3373            L  Data Scientist       2020\n",
              "12             3326            M  Data Scientist       2020\n",
              "..              ...          ...             ...        ...\n",
              "593           12500            M  Data Scientist       2022\n",
              "598           13333            M  Data Scientist       2022\n",
              "599           10833            M  Data Scientist       2022\n",
              "602           12833            M   Data Engineer       2022\n",
              "603           10500            M   Data Engineer       2022\n",
              "\n",
              "[251 rows x 4 columns]"
            ]
          },
          "execution_count": 64,
          "metadata": {},
          "output_type": "execute_result"
        }
      ],
      "source": [
        "de_ds_comp_size"
      ]
    },
    {
      "cell_type": "markdown",
      "metadata": {},
      "source": [
        "Выведим наличие должностей в зависимости о размера компании."
      ]
    },
    {
      "cell_type": "code",
      "execution_count": 65,
      "metadata": {},
      "outputs": [
        {
          "data": {
            "text/html": [
              "<div>\n",
              "<style scoped>\n",
              "    .dataframe tbody tr th:only-of-type {\n",
              "        vertical-align: middle;\n",
              "    }\n",
              "\n",
              "    .dataframe tbody tr th {\n",
              "        vertical-align: top;\n",
              "    }\n",
              "\n",
              "    .dataframe thead th {\n",
              "        text-align: right;\n",
              "    }\n",
              "</style>\n",
              "<table border=\"1\" class=\"dataframe\">\n",
              "  <thead>\n",
              "    <tr style=\"text-align: right;\">\n",
              "      <th></th>\n",
              "      <th></th>\n",
              "      <th>company_size</th>\n",
              "    </tr>\n",
              "    <tr>\n",
              "      <th>job_title</th>\n",
              "      <th>company_size</th>\n",
              "      <th></th>\n",
              "    </tr>\n",
              "  </thead>\n",
              "  <tbody>\n",
              "    <tr>\n",
              "      <th rowspan=\"3\" valign=\"top\">Data Engineer</th>\n",
              "      <th>M</th>\n",
              "      <td>81</td>\n",
              "    </tr>\n",
              "    <tr>\n",
              "      <th>L</th>\n",
              "      <td>34</td>\n",
              "    </tr>\n",
              "    <tr>\n",
              "      <th>S</th>\n",
              "      <td>6</td>\n",
              "    </tr>\n",
              "    <tr>\n",
              "      <th rowspan=\"3\" valign=\"top\">Data Scientist</th>\n",
              "      <th>M</th>\n",
              "      <td>66</td>\n",
              "    </tr>\n",
              "    <tr>\n",
              "      <th>L</th>\n",
              "      <td>43</td>\n",
              "    </tr>\n",
              "    <tr>\n",
              "      <th>S</th>\n",
              "      <td>21</td>\n",
              "    </tr>\n",
              "  </tbody>\n",
              "</table>\n",
              "</div>"
            ],
            "text/plain": [
              "                             company_size\n",
              "job_title      company_size              \n",
              "Data Engineer  M                       81\n",
              "               L                       34\n",
              "               S                        6\n",
              "Data Scientist M                       66\n",
              "               L                       43\n",
              "               S                       21"
            ]
          },
          "execution_count": 65,
          "metadata": {},
          "output_type": "execute_result"
        }
      ],
      "source": [
        "a = de_ds_comp_size.groupby(by='job_title')[\n",
        "    'company_size'].value_counts().to_frame()\n",
        "a"
      ]
    },
    {
      "cell_type": "markdown",
      "metadata": {},
      "source": [
        "**Вывод по 4-му вопросу**: \n",
        "* Мы не можем провести статестический анализ между наличием должностей *Data Scientist* и *Data Engineer* и размером компании, для этого нехватает данных. У нас есть информация за 3 года, мы можем разбить и построить таблицу как изменялось соотношение специальностей в разных по размеру компаниях, но этого будет мало, чтобы сделать какой либо статестически обоснованный вывод."
      ]
    },
    {
      "cell_type": "markdown",
      "metadata": {},
      "source": [
        "#### **Дополнительное исследование:**\n",
        "**Вопрос 5.** Есть ли зависимось уровня заработной платы специалиста *Data Scientist* в  зависимости от опыта работ (занимаемой должности)? "
      ]
    },
    {
      "cell_type": "markdown",
      "metadata": {},
      "source": [
        "Значения уровней *опыта работ*: \n",
        "1. EN — Entry-level/Junior (начальный);\n",
        "2. MI — Mid-level/Intermediate (средний);\n",
        "3. SE — Senior-level/Expert (эксперт);\n",
        "4. EX — Executive-level/Director (директор).\n",
        "\n",
        "Предварительно графически мы выяснили,что ЗП *Data Scientist* в зависимости от опыта работ с каждым уровнем выше, проведём тест на статестичскую значимость нашей гипотизы."
      ]
    },
    {
      "cell_type": "markdown",
      "metadata": {},
      "source": [
        "**Сформулируем нулевую и альтернативные гипотезы**\n",
        "\n",
        "*Нулевая гипотеза* ($H_0$): ЗП *Data Scientist* в зависимости от уровня опыта работы не отличается, где $μ_1$ - EN (Entry-level), $μ_2$ - MI (Mid-level) и  $μ_3$ - SE (Senior-level), $μ_4$ - EX (Executive-level).\n",
        "\n",
        "$ H_0 : μ_1 = μ_2 = μ_3 $\n",
        "\n",
        "*Альтернативная гипотеза* ($H_1$): ЗП *Data Scientist* в зависимости от уровня опыта работы статистически не равны друг другу, т.е. каждый следующий уровень выше другого.\n",
        "\n",
        "$ H_1 : μ_1 <  μ_2 < μ_3 < μ_4 $"
      ]
    },
    {
      "cell_type": "markdown",
      "metadata": {},
      "source": [
        "Сделаем необходимую выборку, где:\n",
        "\n",
        "- *en* - список значений ЗП, для начального уровня;\n",
        "- *mi* - список значений ЗП, для среднего уровня;\n",
        "- *se* - список значений ЗП, для экспертного уровня.\n",
        "- *ex* - список значений ЗП, для уровня директор."
      ]
    },
    {
      "cell_type": "code",
      "execution_count": 66,
      "metadata": {},
      "outputs": [],
      "source": [
        "# Сделаем необходимую выборку.\n",
        "en = list(df_salaries[df_salaries['experience_level']\n",
        "          == 'EN'].loc[:, 'monthly_salary'])\n",
        "mi = list(df_salaries[df_salaries['experience_level']\n",
        "          == 'MI'].loc[:, 'monthly_salary'])\n",
        "se = list(df_salaries[df_salaries['experience_level']\n",
        "          == 'SE'].loc[:, 'monthly_salary'])\n",
        "ex = list(df_salaries[df_salaries['experience_level']\n",
        "          == 'EX'].loc[:, 'monthly_salary'])"
      ]
    },
    {
      "cell_type": "markdown",
      "metadata": {},
      "source": [
        "Рассмотрим сгруппированую таблицу по уровню опыта работы "
      ]
    },
    {
      "cell_type": "code",
      "execution_count": 67,
      "metadata": {},
      "outputs": [
        {
          "data": {
            "text/html": [
              "<div>\n",
              "<style scoped>\n",
              "    .dataframe tbody tr th:only-of-type {\n",
              "        vertical-align: middle;\n",
              "    }\n",
              "\n",
              "    .dataframe tbody tr th {\n",
              "        vertical-align: top;\n",
              "    }\n",
              "\n",
              "    .dataframe thead th {\n",
              "        text-align: right;\n",
              "    }\n",
              "</style>\n",
              "<table border=\"1\" class=\"dataframe\">\n",
              "  <thead>\n",
              "    <tr style=\"text-align: right;\">\n",
              "      <th></th>\n",
              "      <th>count</th>\n",
              "      <th>mean</th>\n",
              "      <th>std</th>\n",
              "      <th>min</th>\n",
              "      <th>25%</th>\n",
              "      <th>50%</th>\n",
              "      <th>75%</th>\n",
              "      <th>max</th>\n",
              "    </tr>\n",
              "    <tr>\n",
              "      <th>experience_level</th>\n",
              "      <th></th>\n",
              "      <th></th>\n",
              "      <th></th>\n",
              "      <th></th>\n",
              "      <th></th>\n",
              "      <th></th>\n",
              "      <th></th>\n",
              "      <th></th>\n",
              "    </tr>\n",
              "  </thead>\n",
              "  <tbody>\n",
              "    <tr>\n",
              "      <th>EN</th>\n",
              "      <td>88</td>\n",
              "      <td>5136</td>\n",
              "      <td>3699</td>\n",
              "      <td>333</td>\n",
              "      <td>2291</td>\n",
              "      <td>4708</td>\n",
              "      <td>7118</td>\n",
              "      <td>20833</td>\n",
              "    </tr>\n",
              "    <tr>\n",
              "      <th>EX</th>\n",
              "      <td>26</td>\n",
              "      <td>16615</td>\n",
              "      <td>9756</td>\n",
              "      <td>5811</td>\n",
              "      <td>10833</td>\n",
              "      <td>14286</td>\n",
              "      <td>19478</td>\n",
              "      <td>50000</td>\n",
              "    </tr>\n",
              "    <tr>\n",
              "      <th>MI</th>\n",
              "      <td>208</td>\n",
              "      <td>7315</td>\n",
              "      <td>5343</td>\n",
              "      <td>238</td>\n",
              "      <td>3930</td>\n",
              "      <td>6411</td>\n",
              "      <td>9339</td>\n",
              "      <td>37500</td>\n",
              "    </tr>\n",
              "    <tr>\n",
              "      <th>SE</th>\n",
              "      <td>243</td>\n",
              "      <td>11530</td>\n",
              "      <td>4996</td>\n",
              "      <td>1575</td>\n",
              "      <td>8294</td>\n",
              "      <td>11250</td>\n",
              "      <td>14323</td>\n",
              "      <td>34333</td>\n",
              "    </tr>\n",
              "  </tbody>\n",
              "</table>\n",
              "</div>"
            ],
            "text/plain": [
              "                  count   mean   std   min    25%    50%    75%    max\n",
              "experience_level                                                      \n",
              "EN                   88   5136  3699   333   2291   4708   7118  20833\n",
              "EX                   26  16615  9756  5811  10833  14286  19478  50000\n",
              "MI                  208   7315  5343   238   3930   6411   9339  37500\n",
              "SE                  243  11530  4996  1575   8294  11250  14323  34333"
            ]
          },
          "execution_count": 67,
          "metadata": {},
          "output_type": "execute_result"
        }
      ],
      "source": [
        "table = df_salaries.groupby('experience_level')[\n",
        "    'monthly_salary'].describe().astype('int')\n",
        "table"
      ]
    },
    {
      "cell_type": "markdown",
      "metadata": {},
      "source": [
        "В таблице выше в столбце **count** показано число профессий всех уровней, он отличны друг от друга. У группы SE в столбце *count* наибольшее число значение. Воспользуемся функицией **increase_sample** *наращивание выборки через интерполяцию* и выравняем значение к max = 243."
      ]
    },
    {
      "cell_type": "code",
      "execution_count": 68,
      "metadata": {},
      "outputs": [
        {
          "name": "stdout",
          "output_type": "stream",
          "text": [
            "теперь EN = 243\n",
            "теперь MI = 243\n",
            "теперь EX = 243\n"
          ]
        }
      ],
      "source": [
        "# n - необходимое число примеров\n",
        "n = 243\n",
        "en_inc = increase_sample(en, n)\n",
        "print(f'теперь EN = {len(en_inc)}')\n",
        "mi_inc = increase_sample(mi, n)\n",
        "print(f'теперь MI = {len(mi_inc)}')\n",
        "ex_inc = increase_sample(ex, n)\n",
        "print(f'теперь EX = {len(ex_inc)}')"
      ]
    },
    {
      "cell_type": "markdown",
      "metadata": {},
      "source": [
        "Теперь размер выборки у каждого уровня опыт одинаковый как у наибольшего SE из них."
      ]
    },
    {
      "cell_type": "markdown",
      "metadata": {},
      "source": [
        "**Проверка на нормальность**\n",
        "\n",
        "С помощью теста Шапиро-Уилка проверим, распределён ли признак нормально."
      ]
    },
    {
      "cell_type": "code",
      "execution_count": 69,
      "metadata": {},
      "outputs": [
        {
          "name": "stdout",
          "output_type": "stream",
          "text": [
            "EN:\n",
            "p-value = 0.000\n",
            "p-значение меньше, чем заданный уровень значимости 0.05.\n",
            "            Распределение отлично от нормального\n",
            "MI:\n",
            "p-value = 0.000\n",
            "p-значение меньше, чем заданный уровень значимости 0.05.\n",
            "            Распределение отлично от нормального\n",
            "SE:\n",
            "p-value = 0.000\n",
            "p-значение меньше, чем заданный уровень значимости 0.05.\n",
            "            Распределение отлично от нормального\n",
            "EX:\n",
            "p-value = 0.000\n",
            "p-значение меньше, чем заданный уровень значимости 0.05.\n",
            "            Распределение отлично от нормального\n"
          ]
        }
      ],
      "source": [
        "# Проводим тест Шапиро-Уилка на нормальность распределения.\n",
        "print('EN:')\n",
        "result = stats.shapiro(en_inc)\n",
        "decision_normality(result[1])\n",
        "\n",
        "print('MI:')\n",
        "result = stats.shapiro(mi_inc)\n",
        "decision_normality(result[1])\n",
        "\n",
        "print('SE:')\n",
        "result = stats.shapiro(se)\n",
        "decision_normality(result[1])\n",
        "\n",
        "print('EX:')\n",
        "result = stats.shapiro(ex_inc)\n",
        "decision_normality(result[1])"
      ]
    },
    {
      "cell_type": "markdown",
      "metadata": {},
      "source": [
        "**Выберем подходящий статистический тест**\n",
        "\n",
        "Для всех уровней *experience_level* значения одинаковы:\n",
        "* Какой тип у признака «monthly_salary»? — Количественный.\n",
        "* Сколько сравниваемых групп? — Две.\n",
        "* Группы зависимы? — Нет.\n",
        "* Признак распределён по нормальному закону? — Нет. \n",
        "\n",
        "Для проверки нашей гипотезы можно использовать U-критерий Манна-Уитни.\n",
        "\n",
        "**Проведём тест**"
      ]
    },
    {
      "cell_type": "code",
      "execution_count": 70,
      "metadata": {},
      "outputs": [
        {
          "name": "stdout",
          "output_type": "stream",
          "text": [
            "\n",
            " Сравним уровени с опытом работы EN и MI:\n",
            "p-value = 0.000\n",
            "p-значение меньше, чем заданный уровень значимости 0.05.\n",
            "            Отвергаем нулевую гипотезу в пользу альтернативной.\n",
            "\n",
            " Сравним уровени с опытом работы MI и EX:\n",
            "p-value = 0.000\n",
            "p-значение меньше, чем заданный уровень значимости 0.05.\n",
            "            Отвергаем нулевую гипотезу в пользу альтернативной.\n",
            "\n",
            " Сравним уровени с опытом работы SE и EX:\n",
            "p-value = 0.000\n",
            "p-значение меньше, чем заданный уровень значимости 0.05.\n",
            "            Отвергаем нулевую гипотезу в пользу альтернативной.\n"
          ]
        }
      ],
      "source": [
        "# Сравним EN(начльный) с MI(средним) уровнем.\n",
        "_, p = stats.mannwhitneyu(en_inc, mi_inc, alternative='less')\n",
        "print('\\n Сравним уровени с опытом работы EN и MI:')\n",
        "decision_hypothesis(p)\n",
        "\n",
        "# Сравним MI(средний) с SE('экспертным') уровнем.\n",
        "_, p = stats.mannwhitneyu(mi_inc, se, alternative='less')\n",
        "print('\\n Сравним уровени с опытом работы MI и EX:')\n",
        "decision_hypothesis(p)\n",
        "\n",
        "# Сравним SE('экспертный') с EX('директор') уровнем.\n",
        "_, p = stats.mannwhitneyu(se, ex_inc, alternative='less')\n",
        "print('\\n Сравним уровени с опытом работы SE и EX:')\n",
        "decision_hypothesis(p)"
      ]
    },
    {
      "cell_type": "markdown",
      "metadata": {},
      "source": [
        "**Вывод по 5-му вопросу**: \n",
        "* Признак *experience_level* влияет на ЗП Data Scientist. Каждый и последущий уровень опыта работы больше другого начиная EN с начального и заканчивая директором EX, это потверждено как графическим так и статестическим способом. "
      ]
    },
    {
      "cell_type": "markdown",
      "metadata": {},
      "source": [
        "**Вопрос 6.** Есть ли зависимость заработой платы от типа удалённости работы?\n",
        "\n",
        "Значения типов удалённости:\n",
        "\n",
        "- 0 — удалённой работы нет (менее 20 %);\n",
        "- 50 — частично удалённая работа;\n",
        "- 100 — полностью удалённая работа (более 80 %).\n",
        "\n",
        "Предварительно графически мы выяснили,что ЗП *Data Scientist* в зависимости от опыта работ с каждым уровнем выше, проведём тест на статестичскую значимость нашей гипотизы."
      ]
    },
    {
      "cell_type": "markdown",
      "metadata": {},
      "source": [
        "**Сформулируем нулевую и альтернативные гипотезы**\n",
        "\n",
        "*Нулевая гипотеза* ($H_0$): ЗП *Data Scientist* в зависимости от типа удалённости не отличается, где $μ_1$ - $0$ (удалённой работы нет), $μ_2$ - $50$ (частично удалённая) и  $μ_3$ - $100$ (полностью удалённая).\n",
        "\n",
        "$ H_0 : μ_1 = μ_2 = μ_3 $\n",
        "\n",
        "*Альтернативная гипотеза* ($H_1$): ЗП *Data Scientist* в зависимости от типа удалённости работы статистически не равны друг другу.\n",
        "\n",
        "$ H_1 : μ_1 \\neq  μ_2 \\neq μ_3 $"
      ]
    },
    {
      "cell_type": "markdown",
      "metadata": {},
      "source": [
        "Сделаем необходимую выборку, где:\n",
        "\n",
        "- *rr_0* - список значений ЗП, где удалённой работы нет;\n",
        "- *rr_50* - список значений ЗП, где частично удалённая работа;\n",
        "- *rr_100* - список значений ЗП, где полностью удалённая работа."
      ]
    },
    {
      "cell_type": "code",
      "execution_count": 71,
      "metadata": {},
      "outputs": [],
      "source": [
        "# Сделаем необходимую выборку.\n",
        "rr_0 = list(df_salaries[df_salaries['remote_ratio']\n",
        "            == 0].loc[:, 'monthly_salary'])\n",
        "rr_50 = list(df_salaries[df_salaries['remote_ratio']\n",
        "            == 50].loc[:, 'monthly_salary'])\n",
        "rr_100 = list(df_salaries[df_salaries['remote_ratio']\n",
        "            == 100].loc[:, 'monthly_salary'])"
      ]
    },
    {
      "cell_type": "code",
      "execution_count": 72,
      "metadata": {},
      "outputs": [
        {
          "data": {
            "text/html": [
              "<div>\n",
              "<style scoped>\n",
              "    .dataframe tbody tr th:only-of-type {\n",
              "        vertical-align: middle;\n",
              "    }\n",
              "\n",
              "    .dataframe tbody tr th {\n",
              "        vertical-align: top;\n",
              "    }\n",
              "\n",
              "    .dataframe thead th {\n",
              "        text-align: right;\n",
              "    }\n",
              "</style>\n",
              "<table border=\"1\" class=\"dataframe\">\n",
              "  <thead>\n",
              "    <tr style=\"text-align: right;\">\n",
              "      <th></th>\n",
              "      <th>count</th>\n",
              "      <th>mean</th>\n",
              "      <th>std</th>\n",
              "      <th>min</th>\n",
              "      <th>25%</th>\n",
              "      <th>50%</th>\n",
              "      <th>75%</th>\n",
              "      <th>max</th>\n",
              "    </tr>\n",
              "    <tr>\n",
              "      <th>remote_ratio</th>\n",
              "      <th></th>\n",
              "      <th></th>\n",
              "      <th></th>\n",
              "      <th></th>\n",
              "      <th></th>\n",
              "      <th></th>\n",
              "      <th></th>\n",
              "      <th></th>\n",
              "    </tr>\n",
              "  </thead>\n",
              "  <tbody>\n",
              "    <tr>\n",
              "      <th>0</th>\n",
              "      <td>121</td>\n",
              "      <td>8815</td>\n",
              "      <td>5699</td>\n",
              "      <td>238</td>\n",
              "      <td>5166</td>\n",
              "      <td>8179</td>\n",
              "      <td>11333</td>\n",
              "      <td>37500</td>\n",
              "    </tr>\n",
              "    <tr>\n",
              "      <th>50</th>\n",
              "      <td>98</td>\n",
              "      <td>6726</td>\n",
              "      <td>4803</td>\n",
              "      <td>450</td>\n",
              "      <td>4166</td>\n",
              "      <td>5667</td>\n",
              "      <td>8326</td>\n",
              "      <td>35250</td>\n",
              "    </tr>\n",
              "    <tr>\n",
              "      <th>100</th>\n",
              "      <td>346</td>\n",
              "      <td>10063</td>\n",
              "      <td>6244</td>\n",
              "      <td>333</td>\n",
              "      <td>5833</td>\n",
              "      <td>9225</td>\n",
              "      <td>13312</td>\n",
              "      <td>50000</td>\n",
              "    </tr>\n",
              "  </tbody>\n",
              "</table>\n",
              "</div>"
            ],
            "text/plain": [
              "              count   mean   std  min   25%   50%    75%    max\n",
              "remote_ratio                                                   \n",
              "0               121   8815  5699  238  5166  8179  11333  37500\n",
              "50               98   6726  4803  450  4166  5667   8326  35250\n",
              "100             346  10063  6244  333  5833  9225  13312  50000"
            ]
          },
          "execution_count": 72,
          "metadata": {},
          "output_type": "execute_result"
        }
      ],
      "source": [
        "table = df_salaries.groupby('remote_ratio')[\n",
        "    'monthly_salary'].describe().astype('int')\n",
        "table"
      ]
    },
    {
      "cell_type": "markdown",
      "metadata": {},
      "source": [
        "В таблице выше в столбце **count** показано число профессий всех уровней по типу удалённости. Они отличны друг от друга. Воспользуемся функицией **increase_sample** *наращивание выборки через интерполяцию* и выравняем значение к общему значению максимальному значению 346."
      ]
    },
    {
      "cell_type": "code",
      "execution_count": 73,
      "metadata": {},
      "outputs": [
        {
          "name": "stdout",
          "output_type": "stream",
          "text": [
            "теперь remote_ratio_0 = 346\n",
            "теперь remote_ratio_50 = 346\n"
          ]
        }
      ],
      "source": [
        "# n - необходимое число примеров\n",
        "n = 346\n",
        "rr_0_inc = increase_sample(rr_0, n)\n",
        "print(f'теперь remote_ratio_0 = {len(rr_0_inc)}')\n",
        "rr_50_inc = increase_sample(rr_50, n)\n",
        "print(f'теперь remote_ratio_50 = {len(rr_50_inc)}')"
      ]
    },
    {
      "cell_type": "markdown",
      "metadata": {},
      "source": [
        "Теперь размер выборки у каждого уровня опыт одинаковый как у наибольшего SE из них."
      ]
    },
    {
      "cell_type": "markdown",
      "metadata": {},
      "source": [
        "**Проверка на нормальность**\n",
        "\n",
        "С помощью теста Шапиро-Уилка проверим, распределён ли признак нормально."
      ]
    },
    {
      "cell_type": "code",
      "execution_count": 74,
      "metadata": {},
      "outputs": [
        {
          "name": "stdout",
          "output_type": "stream",
          "text": [
            "remote_ratio_0:\n",
            "p-value = 0.000\n",
            "p-значение меньше, чем заданный уровень значимости 0.05.\n",
            "            Распределение отлично от нормального\n",
            "remote_ratio_50:\n",
            "p-value = 0.000\n",
            "p-значение меньше, чем заданный уровень значимости 0.05.\n",
            "            Распределение отлично от нормального\n",
            "remote_ratio_100:\n",
            "p-value = 0.000\n",
            "p-значение меньше, чем заданный уровень значимости 0.05.\n",
            "            Распределение отлично от нормального\n"
          ]
        }
      ],
      "source": [
        "# Проводим тест Шапиро-Уилка на нормальность распределения.\n",
        "print('remote_ratio_0:')\n",
        "result = stats.shapiro(rr_0_inc)\n",
        "decision_normality(result[1])\n",
        "print('remote_ratio_50:')\n",
        "result = stats.shapiro(rr_50_inc)\n",
        "decision_normality(result[1])\n",
        "print('remote_ratio_100:')\n",
        "result = stats.shapiro(rr_100)\n",
        "decision_normality(result[1])"
      ]
    },
    {
      "cell_type": "markdown",
      "metadata": {},
      "source": [
        "**Выберем подходящий статистический тест**\n",
        "\n",
        "Для всех уровней *remote_ratio* значения одинаковы:\n",
        "* Какой тип у признака «monthly_salary»? — Количественный.\n",
        "* Сколько сравниваемых групп? — Три.\n",
        "* Группы зависимы? — Нет.\n",
        "* Признак распределён по нормальному закону? — Нет. \n",
        "\n",
        "Для проверки нашей гипотезы можно использовать U-критерий Манна-Уитни.\n",
        "\n",
        "**Проведём тест**"
      ]
    },
    {
      "cell_type": "code",
      "execution_count": 75,
      "metadata": {},
      "outputs": [
        {
          "name": "stdout",
          "output_type": "stream",
          "text": [
            "ЗП Data Scientist в компаниях с разным типом удалённости:\n",
            "p-value = 0.000\n",
            "p-значение меньше, чем заданный уровень значимости 0.05.\n",
            "            Отвергаем нулевую гипотезу в пользу альтернативной.\n"
          ]
        }
      ],
      "source": [
        "# проводим тест\n",
        "_, p = stats.kruskal(rr_0_inc, rr_50_inc, rr_100)\n",
        "print('ЗП Data Scientist в компаниях с разным типом удалённости:')\n",
        "decision_hypothesis(p)"
      ]
    },
    {
      "cell_type": "markdown",
      "metadata": {},
      "source": [
        "**Вывод по 6-му вопросу**: \n",
        "* Признак *remote_ratio* влияет на ЗП Data Scientist, это потверждено как графическим так и статестическим способом."
      ]
    },
    {
      "cell_type": "markdown",
      "metadata": {},
      "source": [
        "## Итоговые результаты исследования\n",
        "\n",
        "**Основное исследование:**\n",
        "\n",
        "*   Ежегодного роста зарплат у специалистов *Data Scientist* не происходит.\n",
        "*   Заработная плата Data Scientist и *Data Engineer* в 2022 году статестически равны.\n",
        "*   Размер компании влияет на заработную плату *Data Scientist* и *Data Engineer*.\n",
        "*   Мало данных, чтобы установить связь между наличием должностей *Data Scientist* и *Data Engineer* и размером компании.\n",
        "\n",
        "**Дополнительтное исследование:**\n",
        "\n",
        "* Признак *experience_level* влияет на ЗП *Data Scientist*.\n",
        "* Признак *remote_ratio* влияет на ЗП *Data Scientist*, это потверждено как графическим так и статестическим способом."
      ]
    }
  ],
  "metadata": {
    "colab": {
      "provenance": []
    },
    "kernelspec": {
      "display_name": "Python 3.10.8 ('base')",
      "language": "python",
      "name": "python3"
    },
    "language_info": {
      "codemirror_mode": {
        "name": "ipython",
        "version": 3
      },
      "file_extension": ".py",
      "mimetype": "text/x-python",
      "name": "python",
      "nbconvert_exporter": "python",
      "pygments_lexer": "ipython3",
      "version": "3.9.10"
    },
    "vscode": {
      "interpreter": {
        "hash": "86c56a74836ad344b00594bf6f38fa6a676a207ceefe20d101fbc465800ccb8d"
      }
    }
  },
  "nbformat": 4,
  "nbformat_minor": 0
}
